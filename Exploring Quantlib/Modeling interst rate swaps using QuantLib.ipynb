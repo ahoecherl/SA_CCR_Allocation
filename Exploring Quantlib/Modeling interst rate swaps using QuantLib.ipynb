{
 "cells": [
  {
   "cell_type": "code",
   "execution_count": 1,
   "metadata": {
    "collapsed": true,
    "pycharm": {
     "is_executing": false
    }
   },
   "outputs": [],
   "source": [
    "import QuantLib as ql\n",
    "calculation_date = ql.Date (20, ql.October, 2015)\n",
    "ql.Settings.instance().evaluationDate = calculation_date"
   ]
  },
  {
   "cell_type": "code",
   "execution_count": 3,
   "outputs": [],
   "source": [
    "risk_free_rate = 0.01\n",
    "libor_rate = 0.02\n",
    "day_count = ql.Actual365Fixed()\n",
    "\n",
    "discount_curve = ql.YieldTermStructureHandle(ql.FlatForward(calculation_date, risk_free_rate, day_count))\n",
    "\n",
    "libor_curve = ql.YieldTermStructureHandle(ql.FlatForward(calculation_date, libor_rate, day_count))\n",
    "\n",
    "#libor3M_index = ql.Euribor3M(libor_curve)\n",
    "libor3M_index = ql.USDLibor(ql.Period(3, ql.Months), libor_curve)"
   ],
   "metadata": {
    "collapsed": false,
    "pycharm": {
     "name": "#%%\n",
     "is_executing": false
    }
   }
  },
  {
   "cell_type": "code",
   "execution_count": 4,
   "outputs": [],
   "source": [
    "calendar = ql.UnitedStates()\n",
    "settle_date = calendar.advance(calculation_date, 5, ql.Days)\n",
    "maturity_date = calendar.advance(settle_date, 10, ql.Years)\n",
    "\n",
    "fixed_leg_tenor = ql.Period(6, ql.Months)\n",
    "fixed_schedule = ql.Schedule(settle_date, maturity_date, fixed_leg_tenor, calendar, ql.ModifiedFollowing, ql.ModifiedFollowing, ql.DateGeneration.Forward, False)\n",
    "\n",
    "float_leg_tenor = ql.Period(3, ql.Months)\n",
    "float_schedule = ql.Schedule(settle_date, maturity_date, float_leg_tenor, calendar, ql.ModifiedFollowing, ql.ModifiedFollowing, ql.DateGeneration.Forward, False)"
   ],
   "metadata": {
    "collapsed": false,
    "pycharm": {
     "name": "#%%\n",
     "is_executing": false
    }
   }
  },
  {
   "cell_type": "code",
   "execution_count": 5,
   "outputs": [],
   "source": [
    "notional = 10000000\n",
    "fixed_rate = 0.025\n",
    "fixed_leg_daycount = ql.Actual360()\n",
    "float_spread = 0.004\n",
    "float_leg_daycount = ql.Actual360()\n",
    "\n",
    "ir_swap = ql.VanillaSwap(ql.VanillaSwap.Payer, notional, fixed_schedule, fixed_rate, fixed_leg_daycount, float_schedule, libor3M_index, float_spread, float_leg_daycount)"
   ],
   "metadata": {
    "collapsed": false,
    "pycharm": {
     "name": "#%%\n",
     "is_executing": false
    }
   }
  },
  {
   "cell_type": "code",
   "execution_count": null,
   "outputs": [],
   "source": [
    "swap_engine = ql.DiscountingSwapEngine(discount_curve)\n",
    "ir_swap.setPricingEngine(swap_engine)\n"
   ],
   "metadata": {
    "collapsed": false,
    "pycharm": {
     "name": "#%%\n"
    }
   }
  }
 ],
 "metadata": {
  "kernelspec": {
   "display_name": "Python 3",
   "language": "python",
   "name": "python3"
  },
  "language_info": {
   "codemirror_mode": {
    "name": "ipython",
    "version": 2
   },
   "file_extension": ".py",
   "mimetype": "text/x-python",
   "name": "python",
   "nbconvert_exporter": "python",
   "pygments_lexer": "ipython2",
   "version": "2.7.6"
  },
  "pycharm": {
   "stem_cell": {
    "cell_type": "raw",
    "source": [],
    "metadata": {
     "collapsed": false
    }
   }
  }
 },
 "nbformat": 4,
 "nbformat_minor": 0
}