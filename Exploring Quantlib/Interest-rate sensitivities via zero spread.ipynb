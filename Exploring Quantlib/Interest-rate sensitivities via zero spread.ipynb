{
 "cells": [
  {
   "cell_type": "code",
   "execution_count": 1,
   "metadata": {
    "collapsed": true,
    "pycharm": {
     "is_executing": false
    }
   },
   "outputs": [],
   "source": [
    "import QuantLib as ql\n",
    "today = ql.Date(8, ql.March, 2016)\n",
    "ql.Settings.instance().evaluationDate = today\n"
   ]
  },
  {
   "cell_type": "code",
   "execution_count": 4,
   "outputs": [],
   "source": [
    "%matplotlib inline\n",
    "from matplotlib.ticker import FuncFormatter\n",
    "import numpy as np\n",
    "from quantlibpythoncookbook_extras import utils\n",
    "\n",
    "def plot_curves(*curves):\n",
    "    fix, ax = utils.plot()\n",
    "    ax.yaxis.set_major_formatter(FuncFormatter(lambda r, pos: utils.format_rate(r)))\n",
    "    ax.set_xlim(0,15)\n",
    "    ax.set_xticks([0,5,10,15])\n",
    "    times = np.linspace(0.0, 15.0, 400)\n",
    "    for curve, style in curves:\n",
    "        rates = [curve.zeroRate(t, ql.Continuous).rate() for t in times]\n",
    "        ax.plot(times, rates, style)\n",
    "        \n",
    "def plot_curve(curve):\n",
    "    plot_curves((curve,'-'))"
   ],
   "metadata": {
    "collapsed": false,
    "pycharm": {
     "name": "#%%\n",
     "is_executing": false
    }
   }
  },
  {
   "cell_type": "code",
   "execution_count": null,
   "outputs": [],
   "source": [
    "quotes = [ql.SimpleQuote(0.312/100)]\n",
    "helpers = [\n",
    "    ql.DepositRateHelper(ql.QuoteHandle(quotes[0]),\n",
    "                         ql.Period(6, ql.Months),3,\n",
    "                         ql.TARGET(), ql.Following,\n",
    "                         False, ql.Actual360())]\n",
    "\n",
    "for rate, months_to_start in [(0.293, 1), (0.272, 2), (0.260, 3),\n",
    "                              (0.256, 4), (0.252, 5), (0.248, 6),\n",
    "                              (0.254, 7), (0.261, 8), (0.267, 9),\n",
    "                              (0.279, 10), (0.291, 11), (0.303, 12),\n",
    "                              (0.318, 13), (0.335, 14), (0.352, 15),\n",
    "                              (0.371, 16), (0.389, 17), (0.409, 18)]:\n",
    "    quotes.append(ql.SimpleQuote(rate/100))\n",
    "    helpers.append(ql.FraRateHelper(ql.QuoteHandle(quotes[-1]),\n",
    "                                 months_to_start, ql.Euribor6M()))\n",
    "\n",
    "for rate, tenor in [(0.424, 3), (0.576, 4), (0.762, 5), (0.954, 6),\n",
    "                    (1.135, 7), (1.303, 8), (1.452, 9), (1.584, 10),\n",
    "                    (1.809, 12), (2.037, 15), (2.187, 20), (2.234, 25),\n",
    "                    (2.256, 30), (2.295, 35), (2.348, 40), (2.421, 50),\n",
    "                    (2.463, 60)]:\n",
    "    quotes.append(ql.SimpleQuote(rate/100))\n",
    "    helpers.append(ql.SwapRateHelper(ql.QuoteHandle(quotes[-1]),\n",
    "                                     ql.Period(tenor, ql.Years), ql.TARGET(),\n",
    "                                     ql.Annual, ql.Unadjusted,\n",
    "                                     ql.Thirty360(ql.Thirty360.BondBasis),\n",
    "                                     ql.Euribor6M()))\n"
   ],
   "metadata": {
    "collapsed": false,
    "pycharm": {
     "name": "#%%\n"
    }
   }
  }
 ],
 "metadata": {
  "kernelspec": {
   "display_name": "Python 3",
   "language": "python",
   "name": "python3"
  },
  "language_info": {
   "codemirror_mode": {
    "name": "ipython",
    "version": 2
   },
   "file_extension": ".py",
   "mimetype": "text/x-python",
   "name": "python",
   "nbconvert_exporter": "python",
   "pygments_lexer": "ipython2",
   "version": "2.7.6"
  },
  "pycharm": {
   "stem_cell": {
    "cell_type": "raw",
    "source": [],
    "metadata": {
     "collapsed": false
    }
   }
  }
 },
 "nbformat": 4,
 "nbformat_minor": 0
}