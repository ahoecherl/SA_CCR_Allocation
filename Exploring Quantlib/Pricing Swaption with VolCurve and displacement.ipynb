{
 "cells": [
  {
   "cell_type": "markdown",
   "metadata": {
    "collapsed": true,
    "pycharm": {
     "name": "#%% md\n"
    }
   },
   "source": [
    "## Swaption with volatility curve and displacement\n",
    "\n",
    "Currently, we are using a volatility matrix object for swaption pricing with the blackswaption pricer. However, we ran into an issue with negative interest rates as they are common. The black swaption pricer does offer a possibility to use an offset that could remedy the issue this is however only compatible with using a single volatility. Additionally, ISDA-SIMM does actually not require two or threedimensional volatility object for interest rate volatilities but only a one dimensional curve.\n",
    "\n",
    "For these two reasons we are trying to use a BlackVolatilityCurve object and to manually extract a single volatility from this curve to use in the black swaption pricer. This should enable us to use the black swaption pricer and to with offset and to also comply with the ISDA-SIMM requirements."
   ]
  },
  {
   "cell_type": "markdown",
   "source": [
    "In a first step we create our volatility object. In line with ISDA-SIMM we create a single curve with 12 vertices per currency."
   ],
   "metadata": {
    "collapsed": false,
    "pycharm": {
     "name": "#%% md\n"
    }
   }
  },
  {
   "cell_type": "code",
   "execution_count": null,
   "outputs": [],
   "source": [
    "import QuantLib as ql\n",
    "\n",
    "USD = {ql.Period(2, ql.Weeks): ql.SimpleQuote(-0.36503 / 100),\n",
    "             ql.Period(1, ql.Months): ql.SimpleQuote(-0.3650 / 100),\n",
    "             ql.Period(3, ql.Months): ql.SimpleQuote(-0.36521 / 100),\n",
    "             ql.Period(6, ql.Months): ql.SimpleQuote(-0.36754 / 100),\n",
    "             ql.Period(1, ql.Years): ql.SimpleQuote(-0.37488 / 100),\n",
    "             ql.Period(2, ql.Years): ql.SimpleQuote(-0.36102 / 100),\n",
    "             ql.Period(3, ql.Years): ql.SimpleQuote(-0.31511 / 100),\n",
    "             ql.Period(5, ql.Years): ql.SimpleQuote(-0.17438 / 100),\n",
    "             ql.Period(10, ql.Years): ql.SimpleQuote(0.28879 / 100),\n",
    "             ql.Period(15, ql.Years): ql.SimpleQuote(0.62908 / 100),\n",
    "             ql.Period(20, ql.Years): ql.SimpleQuote(0.82255 / 100),\n",
    "             ql.Period(30, ql.Years): ql.SimpleQuote(0.92238 / 100)}\n"
   ],
   "metadata": {
    "collapsed": false,
    "pycharm": {
     "name": "#%%\n"
    }
   }
  }
 ],
 "metadata": {
  "kernelspec": {
   "display_name": "Python 3",
   "language": "python",
   "name": "python3"
  },
  "language_info": {
   "codemirror_mode": {
    "name": "ipython",
    "version": 2
   },
   "file_extension": ".py",
   "mimetype": "text/x-python",
   "name": "python",
   "nbconvert_exporter": "python",
   "pygments_lexer": "ipython2",
   "version": "2.7.6"
  }
 },
 "nbformat": 4,
 "nbformat_minor": 0
}