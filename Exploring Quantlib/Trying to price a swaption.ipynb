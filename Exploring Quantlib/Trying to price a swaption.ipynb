{
 "cells": [
  {
   "cell_type": "code",
   "execution_count": 1,
   "metadata": {
    "collapsed": true,
    "pycharm": {
     "is_executing": false
    }
   },
   "outputs": [],
   "source": [
    "import QuantLib as ql\n",
    "from Enums import Currency, SwapDirection\n",
    "from instruments.interestRateInstrument.interestRateSwap import InterestRateSwap\n",
    "from instruments.interestRateInstrument.swaption import Swaption\n",
    "from marketdata import init_marketdata"
   ]
  },
  {
   "cell_type": "code",
   "execution_count": 4,
   "outputs": [],
   "source": [
    "irs = InterestRateSwap(notional = 1000000, \n",
    "                       currency = Currency.USD, \n",
    "                       timeToSwapStart=2, \n",
    "                       timeToSwapEnd=11, \n",
    "                       swapDirection=SwapDirection.RECEIVER,\n",
    "                       fixed_rate=0.025, \n",
    "                       float_spread = 0.004)"
   ],
   "metadata": {
    "collapsed": false,
    "pycharm": {
     "name": "#%%\n",
     "is_executing": false
    }
   }
  },
  {
   "cell_type": "code",
   "execution_count": 10,
   "outputs": [],
   "source": [
    "exerciseDate = init_marketdata.today + ql.Period(1, ql.Years)\n",
    "exercise = ql.EuropeanExercise(exerciseDate)\n",
    "swaption = ql.Swaption(irs.ql_swap, exercise)"
   ],
   "metadata": {
    "collapsed": false,
    "pycharm": {
     "name": "#%%\n",
     "is_executing": false
    }
   }
  },
  {
   "cell_type": "code",
   "execution_count": 12,
   "outputs": [],
   "source": [
    "from marketdata.util import today, calendar, day_count, business_day_convention\n",
    "yts = ql.FlatForward(today, ql.QuoteHandle(ql.SimpleQuote(0.02)), day_count)\n",
    "yts_handle = ql.YieldTermStructureHandle(yts)"
   ],
   "metadata": {
    "collapsed": false,
    "pycharm": {
     "name": "#%%\n",
     "is_executing": false
    }
   }
  },
  {
   "cell_type": "markdown",
   "source": [
    "Pricing swaption using Black 76 and a single quote volatility"
   ],
   "metadata": {
    "collapsed": false,
    "pycharm": {
     "name": "#%% md\n"
    }
   }
  },
  {
   "cell_type": "code",
   "execution_count": null,
   "outputs": [],
   "source": [
    "vol_handle = ql.QuoteHandle(ql.SimpleQuote(0.2))\n",
    "single_quote_engine = ql.BlackSwaptionEngine(yts_handle, vol_handle)"
   ],
   "metadata": {
    "collapsed": false,
    "pycharm": {
     "name": "#%%\n"
    }
   }
  },
  {
   "cell_type": "code",
   "execution_count": 14,
   "outputs": [],
   "source": [
    "swaption.setPricingEngine(single_quote_engine)"
   ],
   "metadata": {
    "collapsed": false,
    "pycharm": {
     "name": "#%%\n",
     "is_executing": false
    }
   }
  },
  {
   "cell_type": "code",
   "execution_count": 15,
   "outputs": [
    {
     "data": {
      "text/plain": "15971.59884786479"
     },
     "metadata": {},
     "output_type": "execute_result",
     "execution_count": 15
    }
   ],
   "source": [
    "swaption.NPV()"
   ],
   "metadata": {
    "collapsed": false,
    "pycharm": {
     "name": "#%%\n",
     "is_executing": false
    }
   }
  },
  {
   "cell_type": "markdown",
   "source": [
    "Pricing swaption using Black 76 and a ``ConstantSwaptionVolatility``"
   ],
   "metadata": {
    "collapsed": false,
    "pycharm": {
     "name": "#%% md\n"
    }
   }
  },
  {
   "cell_type": "code",
   "execution_count": 27,
   "outputs": [],
   "source": [
    "flat_surface_handle = ql.SwaptionVolatilityStructureHandle(ql.ConstantSwaptionVolatility(today, calendar, business_day_convention, ql.QuoteHandle(ql.SimpleQuote(0.2)), day_count))\n",
    "flat_surface_engine = ql.BlackSwaptionEngine(yts_handle, flat_surface_handle)"
   ],
   "metadata": {
    "collapsed": false,
    "pycharm": {
     "name": "#%%\n",
     "is_executing": false
    }
   }
  },
  {
   "cell_type": "code",
   "execution_count": 28,
   "outputs": [
    {
     "data": {
      "text/plain": "15971.59884786479"
     },
     "metadata": {},
     "output_type": "execute_result",
     "execution_count": 28
    }
   ],
   "source": [
    "swaption.setPricingEngine(flat_surface_engine)\n",
    "swaption.NPV()"
   ],
   "metadata": {
    "collapsed": false,
    "pycharm": {
     "name": "#%%\n",
     "is_executing": false
    }
   }
  },
  {
   "cell_type": "markdown",
   "source": [
    "Pricing swaption using Black 76 and a Swaption Vol Surface"
   ],
   "metadata": {
    "collapsed": false,
    "pycharm": {
     "name": "#%% md\n"
    }
   }
  },
  {
   "cell_type": "code",
   "execution_count": null,
   "outputs": [],
   "source": [],
   "metadata": {
    "collapsed": false,
    "pycharm": {
     "name": "#%%\n"
    }
   }
  }
 ],
 "metadata": {
  "kernelspec": {
   "display_name": "Python 3",
   "language": "python",
   "name": "python3"
  },
  "language_info": {
   "codemirror_mode": {
    "name": "ipython",
    "version": 2
   },
   "file_extension": ".py",
   "mimetype": "text/x-python",
   "name": "python",
   "nbconvert_exporter": "python",
   "pygments_lexer": "ipython2",
   "version": "2.7.6"
  },
  "pycharm": {
   "stem_cell": {
    "cell_type": "raw",
    "source": [],
    "metadata": {
     "collapsed": false
    }
   }
  }
 },
 "nbformat": 4,
 "nbformat_minor": 0
}