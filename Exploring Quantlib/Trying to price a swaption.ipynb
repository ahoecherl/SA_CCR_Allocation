{
 "cells": [
  {
   "cell_type": "code",
   "execution_count": 1,
   "metadata": {
    "collapsed": true,
    "pycharm": {
     "is_executing": false
    }
   },
   "outputs": [],
   "source": [
    "import QuantLib as ql\n",
    "from utilities.Enums import Currency, SwapDirection\n",
    "from instruments.interestRateInstrument.interestRateSwap import InterestRateSwap\n",
    "from instruments.interestRateInstrument.swaption import Swaption\n",
    "from marketdata import init_marketdata"
   ]
  },
  {
   "cell_type": "code",
   "execution_count": 2,
   "outputs": [],
   "source": [
    "irs = InterestRateSwap(notional = 1000000, \n",
    "                       currency = Currency.USD, \n",
    "                       timeToSwapStart=2, \n",
    "                       timeToSwapEnd=11, \n",
    "                       swapDirection=SwapDirection.RECEIVER,\n",
    "                       fixed_rate=0.025, \n",
    "                       float_spread = 0.004)"
   ],
   "metadata": {
    "collapsed": false,
    "pycharm": {
     "name": "#%%\n",
     "is_executing": false
    }
   }
  },
  {
   "cell_type": "code",
   "execution_count": 3,
   "outputs": [],
   "source": [
    "exerciseDate = init_marketdata.today + ql.Period(1, ql.Years)\n",
    "exercise = ql.EuropeanExercise(exerciseDate)\n",
    "swaption = ql.Swaption(irs.ql_swap, exercise)"
   ],
   "metadata": {
    "collapsed": false,
    "pycharm": {
     "name": "#%%\n",
     "is_executing": false
    }
   }
  },
  {
   "cell_type": "code",
   "execution_count": 4,
   "outputs": [],
   "source": [
    "from marketdata.util import today, calendar, day_count, business_day_convention\n",
    "yts = ql.FlatForward(today, ql.QuoteHandle(ql.SimpleQuote(0.02)), day_count)\n",
    "yts_handle = ql.YieldTermStructureHandle(yts)"
   ],
   "metadata": {
    "collapsed": false,
    "pycharm": {
     "name": "#%%\n",
     "is_executing": false
    }
   }
  },
  {
   "cell_type": "markdown",
   "source": [
    "Pricing swaption using Black 76 and a single quote volatility"
   ],
   "metadata": {
    "collapsed": false,
    "pycharm": {
     "name": "#%% md\n"
    }
   }
  },
  {
   "cell_type": "code",
   "execution_count": 5,
   "outputs": [],
   "source": [
    "vol_handle = ql.QuoteHandle(ql.SimpleQuote(0.2))\n",
    "single_quote_engine = ql.BlackSwaptionEngine(yts_handle, vol_handle)"
   ],
   "metadata": {
    "collapsed": false,
    "pycharm": {
     "name": "#%%\n",
     "is_executing": false
    }
   }
  },
  {
   "cell_type": "code",
   "execution_count": 6,
   "outputs": [],
   "source": [
    "swaption.setPricingEngine(single_quote_engine)"
   ],
   "metadata": {
    "collapsed": false,
    "pycharm": {
     "name": "#%%\n",
     "is_executing": false
    }
   }
  },
  {
   "cell_type": "code",
   "execution_count": 7,
   "outputs": [
    {
     "data": {
      "text/plain": "15971.59884786479"
     },
     "metadata": {},
     "output_type": "execute_result",
     "execution_count": 7
    }
   ],
   "source": [
    "swaption.NPV()"
   ],
   "metadata": {
    "collapsed": false,
    "pycharm": {
     "name": "#%%\n",
     "is_executing": false
    }
   }
  },
  {
   "cell_type": "markdown",
   "source": [
    "Pricing swaption using Black 76 and a ``ConstantSwaptionVolatility``"
   ],
   "metadata": {
    "collapsed": false,
    "pycharm": {
     "name": "#%% md\n"
    }
   }
  },
  {
   "cell_type": "code",
   "execution_count": 8,
   "outputs": [],
   "source": [
    "flat_surface_handle = ql.SwaptionVolatilityStructureHandle(ql.ConstantSwaptionVolatility(today, calendar, business_day_convention, ql.QuoteHandle(ql.SimpleQuote(0.2)), day_count))\n",
    "flat_surface_engine = ql.BlackSwaptionEngine(yts_handle, flat_surface_handle)"
   ],
   "metadata": {
    "collapsed": false,
    "pycharm": {
     "name": "#%%\n",
     "is_executing": false
    }
   }
  },
  {
   "cell_type": "code",
   "execution_count": 9,
   "outputs": [
    {
     "data": {
      "text/plain": "15971.59884786479"
     },
     "metadata": {},
     "output_type": "execute_result",
     "execution_count": 9
    }
   ],
   "source": [
    "swaption.setPricingEngine(flat_surface_engine)\n",
    "swaption.NPV()"
   ],
   "metadata": {
    "collapsed": false,
    "pycharm": {
     "name": "#%%\n",
     "is_executing": false
    }
   }
  },
  {
   "cell_type": "markdown",
   "source": [
    "Pricing swaption using Black 76 and a Swaption Vol Surface"
   ],
   "metadata": {
    "collapsed": false,
    "pycharm": {
     "name": "#%% md\n"
    }
   }
  },
  {
   "cell_type": "code",
   "execution_count": 10,
   "outputs": [],
   "source": [
    "optionTenors = [ql.Period(1, ql.Months),\n",
    "                ql.Period(3, ql.Months),\n",
    "                ql.Period(6, ql.Months),\n",
    "                ql.Period(1, ql.Years),\n",
    "                ql.Period(2, ql.Years)]\n",
    "swapTenors = [ql.Period(1, ql.Months),\n",
    "              ql.Period(2, ql.Months),\n",
    "              ql.Period(3, ql.Months),\n",
    "              ql.Period(20, ql.Years)]\n",
    "vols = [[ql.QuoteHandle(ql.SimpleQuote(0.2)),\n",
    "         ql.QuoteHandle(ql.SimpleQuote(0.2)),\n",
    "         ql.QuoteHandle(ql.SimpleQuote(0.2)),\n",
    "         ql.QuoteHandle(ql.SimpleQuote(0.2))],\n",
    "        [ql.QuoteHandle(ql.SimpleQuote(0.3)),\n",
    "         ql.QuoteHandle(ql.SimpleQuote(0.3)),\n",
    "         ql.QuoteHandle(ql.SimpleQuote(0.3)),\n",
    "         ql.QuoteHandle(ql.SimpleQuote(0.3))],\n",
    "        [ql.QuoteHandle(ql.SimpleQuote(0.4)),\n",
    "         ql.QuoteHandle(ql.SimpleQuote(0.4)),\n",
    "         ql.QuoteHandle(ql.SimpleQuote(0.4)),\n",
    "         ql.QuoteHandle(ql.SimpleQuote(0.4))],\n",
    "        [ql.QuoteHandle(ql.SimpleQuote(0.5)),\n",
    "         ql.QuoteHandle(ql.SimpleQuote(0.5)),\n",
    "         ql.QuoteHandle(ql.SimpleQuote(0.5)),\n",
    "         ql.QuoteHandle(ql.SimpleQuote(0.5))],\n",
    "        [ql.QuoteHandle(ql.SimpleQuote(0.6)),\n",
    "         ql.QuoteHandle(ql.SimpleQuote(0.6)),\n",
    "         ql.QuoteHandle(ql.SimpleQuote(0.6)),\n",
    "         ql.QuoteHandle(ql.SimpleQuote(0.6))],\n",
    "        ]\n",
    "swaptionVolatilityMatrix = ql.SwaptionVolatilityMatrix(calendar, business_day_convention, optionTenors, swapTenors, vols, day_count)"
   ],
   "metadata": {
    "collapsed": false,
    "pycharm": {
     "name": "#%%\n",
     "is_executing": false
    }
   }
  },
  {
   "cell_type": "code",
   "execution_count": 11,
   "outputs": [],
   "source": [
    "real_surface_handle = ql.SwaptionVolatilityStructureHandle(swaptionVolatilityMatrix)\n",
    "real_surface_engine = ql.BlackSwaptionEngine(yts_handle, real_surface_handle)"
   ],
   "metadata": {
    "collapsed": false,
    "pycharm": {
     "name": "#%%\n",
     "is_executing": false
    }
   }
  },
  {
   "cell_type": "code",
   "execution_count": 12,
   "outputs": [
    {
     "data": {
      "text/plain": "32575.562556741268"
     },
     "metadata": {},
     "output_type": "execute_result",
     "execution_count": 12
    }
   ],
   "source": [
    "swaption.setPricingEngine(real_surface_engine)\n",
    "swaption.NPV()"
   ],
   "metadata": {
    "collapsed": false,
    "pycharm": {
     "name": "#%%\n",
     "is_executing": false
    }
   }
  },
  {
   "cell_type": "code",
   "execution_count": null,
   "outputs": [],
   "source": [],
   "metadata": {
    "collapsed": false,
    "pycharm": {
     "name": "#%%"
    }
   }
  }
 ],
 "metadata": {
  "kernelspec": {
   "display_name": "Python 3",
   "language": "python",
   "name": "python3"
  },
  "language_info": {
   "codemirror_mode": {
    "name": "ipython",
    "version": 2
   },
   "file_extension": ".py",
   "mimetype": "text/x-python",
   "name": "python",
   "nbconvert_exporter": "python",
   "pygments_lexer": "ipython2",
   "version": "2.7.6"
  },
  "pycharm": {
   "stem_cell": {
    "cell_type": "raw",
    "source": [],
    "metadata": {
     "collapsed": false
    }
   }
  }
 },
 "nbformat": 4,
 "nbformat_minor": 0
}