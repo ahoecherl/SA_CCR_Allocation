{
 "cells": [
  {
   "cell_type": "code",
   "execution_count": 1,
   "metadata": {
    "collapsed": true,
    "pycharm": {
     "is_executing": false
    }
   },
   "outputs": [],
   "source": [
    "import QuantLib as ql"
   ]
  },
  {
   "cell_type": "code",
   "execution_count": 2,
   "outputs": [],
   "source": [
    "ql.Settings.instance().evaluationDate = ql.Date(3, ql.October, 2014)"
   ],
   "metadata": {
    "collapsed": false,
    "pycharm": {
     "name": "#%%\n",
     "is_executing": false
    }
   }
  },
  {
   "cell_type": "code",
   "execution_count": 3,
   "outputs": [],
   "source": [
    "helpers = [ql.SwapRateHelper(ql.QuoteHandle(ql.SimpleQuote(rate/100.0)),\n",
    "                             ql.Period(*tenor), ql.TARGET(),\n",
    "                             ql.Annual, ql.Unadjusted,\n",
    "                             ql.Thirty360(),\n",
    "                             ql.Euribor6M())\n",
    "           for tenor, rate in [((2, ql.Years), 0.201),\n",
    "                               ((3, ql.Years), 0.258),\n",
    "                               ((5, ql.Years), 0.464),\n",
    "                               ((10, ql.Years), 1.151),\n",
    "                               ((15, ql.Years), 1.588)]]\n",
    "\n",
    "curve1 = ql.PiecewiseFlatForward(0, ql.TARGET(), helpers, ql.Actual360())\n",
    "\n",
    "dates, rates = zip(*curve1.nodes())"
   ],
   "metadata": {
    "collapsed": false,
    "pycharm": {
     "name": "#%%\n",
     "is_executing": false
    }
   }
  },
  {
   "cell_type": "code",
   "execution_count": 4,
   "outputs": [],
   "source": [
    "curve1 = ql.PiecewiseFlatForward(0, ql.TARGET(), helpers, ql.Actual360())\n",
    "\n",
    "dates, rates = zip(*curve1.nodes())"
   ],
   "metadata": {
    "collapsed": false,
    "pycharm": {
     "name": "#%%\n",
     "is_executing": false
    }
   }
  },
  {
   "cell_type": "code",
   "execution_count": 5,
   "outputs": [
    {
     "data": {
      "text/plain": "((Date(3,10,2014), 0.0019777694879293093),\n (Date(7,10,2016), 0.0019777694879293093),\n (Date(9,10,2017), 0.0036475517704509294),\n (Date(7,10,2019), 0.007660760701876805),\n (Date(7,10,2024), 0.018414773669420893),\n (Date(8,10,2029), 0.025311634328221498))"
     },
     "metadata": {},
     "output_type": "execute_result",
     "execution_count": 5
    }
   ],
   "source": [
    "curve1.nodes()"
   ],
   "metadata": {
    "collapsed": false,
    "pycharm": {
     "name": "#%%\n",
     "is_executing": false
    }
   }
  },
  {
   "cell_type": "code",
   "execution_count": 6,
   "outputs": [],
   "source": [
    "curve2 = ql.ForwardCurve(dates, rates, ql.Actual360())"
   ],
   "metadata": {
    "collapsed": false,
    "pycharm": {
     "name": "#%%\n",
     "is_executing": false
    }
   }
  },
  {
   "cell_type": "code",
   "execution_count": 7,
   "outputs": [
    {
     "name": "stdout",
     "text": [
      "October 3rd, 2014 to October 8th, 2029\n",
      "October 3rd, 2014 to October 8th, 2029\n"
     ],
     "output_type": "stream"
    }
   ],
   "source": [
    "print(\"{0} to {1}\".format(curve1.referenceDate(), curve1.maxDate()))\n",
    "print(\"{0} to {1}\".format(curve2.referenceDate(), curve2.maxDate()))"
   ],
   "metadata": {
    "collapsed": false,
    "pycharm": {
     "name": "#%%\n",
     "is_executing": false
    }
   }
  },
  {
   "cell_type": "code",
   "execution_count": 8,
   "outputs": [
    {
     "name": "stdout",
     "text": [
      "0.452196 % Actual/360 continuous compounding\n",
      "0.452196 % Actual/360 continuous compounding\n"
     ],
     "output_type": "stream"
    }
   ],
   "source": [
    "print(curve1.zeroRate(5, ql.Continuous))\n",
    "print(curve2.zeroRate(5, ql.Continuous))"
   ],
   "metadata": {
    "collapsed": false,
    "pycharm": {
     "name": "#%%\n",
     "is_executing": false
    }
   }
  },
  {
   "cell_type": "code",
   "execution_count": 9,
   "outputs": [
    {
     "name": "stdout",
     "text": [
      "0.452196 % Actual/360 continuous compounding\n",
      "0.452196 % Actual/360 continuous compounding\n"
     ],
     "output_type": "stream"
    }
   ],
   "source": [
    "print(curve1.zeroRate(ql.Date(7, ql.September, 2019),\n",
    "                      ql.Actual360(), ql.Continuous))\n",
    "print(curve2.zeroRate(ql.Date(7, ql.September, 2019),\n",
    "                      ql.Actual360(), ql.Continuous))"
   ],
   "metadata": {
    "collapsed": false,
    "pycharm": {
     "name": "#%%\n",
     "is_executing": false
    }
   }
  },
  {
   "cell_type": "code",
   "execution_count": 10,
   "outputs": [],
   "source": [
    "%matplotlib inline\n",
    "from quantlibpythoncookbook_extras import utils\n",
    "from matplotlib.ticker import FuncFormatter\n",
    "import numpy as np"
   ],
   "metadata": {
    "collapsed": false,
    "pycharm": {
     "name": "#%%\n",
     "is_executing": false
    }
   }
  },
  {
   "cell_type": "code",
   "execution_count": 11,
   "outputs": [
    {
     "data": {
      "text/plain": "<Figure size 864x576 with 1 Axes>",
      "image/png": "[encoded data removed]"
     },
     "metadata": {
      "needs_background": "light"
     },
     "output_type": "display_data"
    }
   ],
   "source": [
    "times = np.linspace(0.0, 15.0, 400)\n",
    "rates = [ curve1.zeroRate(t, ql.Continuous).rate() for t in times ]\n",
    "_, ax = utils.plot()\n",
    "ax.yaxis.set_major_formatter(\n",
    "    FuncFormatter(lambda r,pos: utils.format_rate(r,2)))\n",
    "ax.plot(times, rates);"
   ],
   "metadata": {
    "collapsed": false,
    "pycharm": {
     "name": "#%%\n",
     "is_executing": false
    }
   }
  },
  {
   "cell_type": "code",
   "execution_count": 12,
   "outputs": [],
   "source": [
    "ql.Settings.instance().evaluationDate = ql.Date(19, ql.September, 2014)"
   ],
   "metadata": {
    "collapsed": false,
    "pycharm": {
     "name": "#%%\n",
     "is_executing": false
    }
   }
  },
  {
   "cell_type": "code",
   "execution_count": 13,
   "outputs": [
    {
     "name": "stdout",
     "text": [
      "September 19th, 2014 to September 24th, 2029\n",
      "October 3rd, 2014 to October 8th, 2029\n"
     ],
     "output_type": "stream"
    }
   ],
   "source": [
    "print(\"{0} to {1}\".format(curve1.referenceDate(), curve1.maxDate()))\n",
    "print(\"{0} to {1}\".format(curve2.referenceDate(), curve2.maxDate()))"
   ],
   "metadata": {
    "collapsed": false,
    "pycharm": {
     "name": "#%%\n",
     "is_executing": false
    }
   }
  },
  {
   "cell_type": "code",
   "execution_count": 14,
   "outputs": [
    {
     "name": "stdout",
     "text": [
      "0.452196 % Actual/360 continuous compounding\n",
      "0.452196 % Actual/360 continuous compounding\n"
     ],
     "output_type": "stream"
    }
   ],
   "source": [
    "print(curve1.zeroRate(5, ql.Continuous))\n",
    "print(curve2.zeroRate(5, ql.Continuous))"
   ],
   "metadata": {
    "collapsed": false,
    "pycharm": {
     "name": "#%%\n",
     "is_executing": false
    }
   }
  },
  {
   "cell_type": "code",
   "execution_count": 15,
   "outputs": [
    {
     "name": "stdout",
     "text": [
      "0.454618 % Actual/360 continuous compounding\n",
      "0.452196 % Actual/360 continuous compounding\n"
     ],
     "output_type": "stream"
    }
   ],
   "source": [
    "print(curve1.zeroRate(ql.Date(7, ql.September, 2019),\n",
    "                      ql.Actual360(), ql.Continuous))\n",
    "print(curve2.zeroRate(ql.Date(7, ql.September, 2019),\n",
    "                      ql.Actual360(), ql.Continuous))"
   ],
   "metadata": {
    "collapsed": false,
    "pycharm": {
     "name": "#%%\n",
     "is_executing": false
    }
   }
  },
  {
   "cell_type": "code",
   "execution_count": 16,
   "outputs": [],
   "source": [
    "def make_observer(i):\n",
    "    def say():\n",
    "        s = \"Observer %d notified\" % i\n",
    "        print('-'*len(s))\n",
    "        print(s)\n",
    "        print('-'*len(s))\n",
    "    return ql.Observer(say)\n",
    "\n",
    "obs1 = make_observer(1)\n",
    "obs2 = make_observer(2)"
   ],
   "metadata": {
    "collapsed": false,
    "pycharm": {
     "name": "#%%\n",
     "is_executing": false
    }
   }
  },
  {
   "cell_type": "code",
   "execution_count": 17,
   "outputs": [],
   "source": [
    "q1 = ql.SimpleQuote(1.0)\n",
    "obs1.registerWith(q1)\n",
    "\n",
    "q2 = ql.SimpleQuote(2.0)\n",
    "obs2.registerWith(q2)\n",
    "\n",
    "q3 = ql.SimpleQuote(3.0)\n",
    "obs1.registerWith(q3)\n",
    "obs2.registerWith(q3)"
   ],
   "metadata": {
    "collapsed": false,
    "pycharm": {
     "name": "#%%\n",
     "is_executing": false
    }
   }
  },
  {
   "cell_type": "code",
   "execution_count": 18,
   "outputs": [
    {
     "name": "stdout",
     "text": [
      "-------------------\n",
      "Observer 1 notified\n",
      "-------------------\n"
     ],
     "output_type": "stream"
    }
   ],
   "source": [
    "q1.setValue(1.5)"
   ],
   "metadata": {
    "collapsed": false,
    "pycharm": {
     "name": "#%%\n",
     "is_executing": false
    }
   }
  },
  {
   "cell_type": "code",
   "execution_count": 19,
   "outputs": [
    {
     "name": "stdout",
     "text": [
      "-------------------\n",
      "Observer 2 notified\n",
      "-------------------\n"
     ],
     "output_type": "stream"
    }
   ],
   "source": [
    "q2.setValue(1.9)"
   ],
   "metadata": {
    "collapsed": false,
    "pycharm": {
     "name": "#%%\n",
     "is_executing": false
    }
   }
  },
  {
   "cell_type": "code",
   "execution_count": 20,
   "outputs": [
    {
     "name": "stdout",
     "text": [
      "-------------------\n",
      "Observer 2 notified\n",
      "-------------------\n",
      "-------------------\n",
      "Observer 1 notified\n",
      "-------------------\n"
     ],
     "output_type": "stream"
    }
   ],
   "source": [
    "q3.setValue(3.1)"
   ],
   "metadata": {
    "collapsed": false,
    "pycharm": {
     "name": "#%%\n",
     "is_executing": false
    }
   }
  },
  {
   "cell_type": "code",
   "execution_count": 21,
   "outputs": [],
   "source": [
    "obs1.registerWith(curve1)\n",
    "obs2.registerWith(curve2)"
   ],
   "metadata": {
    "collapsed": false,
    "pycharm": {
     "name": "#%%\n",
     "is_executing": false
    }
   }
  },
  {
   "cell_type": "code",
   "execution_count": 31,
   "outputs": [],
   "source": [
    "ql.Settings.instance().evaluationDate = ql.Date(23, ql.September, 2014)"
   ],
   "metadata": {
    "collapsed": false,
    "pycharm": {
     "name": "#%%\n",
     "is_executing": false
    }
   }
  },
  {
   "cell_type": "code",
   "execution_count": 32,
   "outputs": [],
   "source": [
    "ql.Settings.instance().evaluationDate = ql.Date(1, ql.September, 2014)\n"
   ],
   "metadata": {
    "collapsed": false,
    "pycharm": {
     "name": "#%%\n",
     "is_executing": false
    }
   }
  },
  {
   "cell_type": "code",
   "execution_count": 29,
   "outputs": [
    {
     "name": "stdout",
     "text": [
      "0.454579 % Actual/360 continuous compounding\n"
     ],
     "output_type": "stream"
    }
   ],
   "source": [
    "print(curve1.zeroRate(ql.Date(7, ql.September, 2019),\n",
    "                      ql.Actual360(), ql.Continuous))"
   ],
   "metadata": {
    "collapsed": false,
    "pycharm": {
     "name": "#%%\n",
     "is_executing": false
    }
   }
  },
  {
   "cell_type": "code",
   "execution_count": null,
   "outputs": [],
   "source": [
    "\n"
   ],
   "metadata": {
    "collapsed": false,
    "pycharm": {
     "name": "#%%\n"
    }
   }
  }
 ],
 "metadata": {
  "kernelspec": {
   "display_name": "Python 3",
   "language": "python",
   "name": "python3"
  },
  "language_info": {
   "codemirror_mode": {
    "name": "ipython",
    "version": 2
   },
   "file_extension": ".py",
   "mimetype": "text/x-python",
   "name": "python",
   "nbconvert_exporter": "python",
   "pygments_lexer": "ipython2",
   "version": "2.7.6"
  },
  "pycharm": {
   "stem_cell": {
    "cell_type": "raw",
    "source": [],
    "metadata": {
     "collapsed": false
    }
   }
  }
 },
 "nbformat": 4,
 "nbformat_minor": 0
}