{
 "cells": [
  {
   "cell_type": "code",
   "execution_count": 1,
   "metadata": {
    "collapsed": true,
    "pycharm": {
     "is_executing": false
    }
   },
   "outputs": [],
   "source": [
    "import QuantLib as ql"
   ]
  },
  {
   "cell_type": "code",
   "execution_count": 2,
   "outputs": [],
   "source": [
    "today = ql.Date(8, ql.October, 2014)\n",
    "ql.Settings.instance().evaluationDate = today"
   ],
   "metadata": {
    "collapsed": false,
    "pycharm": {
     "name": "#%%\n",
     "is_executing": false
    }
   }
  },
  {
   "cell_type": "code",
   "execution_count": 3,
   "outputs": [],
   "source": [
    "option = ql.BarrierOption(ql.Barrier.UpIn,\n",
    "                          120,\n",
    "                          0.0,\n",
    "                          ql.PlainVanillaPayoff(ql.Option.Call, 100),\n",
    "                          ql.EuropeanExercise(ql.Date(8, ql.January, 2015)))"
   ],
   "metadata": {
    "collapsed": false,
    "pycharm": {
     "name": "#%%\n",
     "is_executing": false
    }
   }
  },
  {
   "cell_type": "code",
   "execution_count": 4,
   "outputs": [],
   "source": [
    "u = ql.SimpleQuote(100)\n",
    "r = ql.SimpleQuote(0.01)\n",
    "sigma = ql.SimpleQuote(0.2)"
   ],
   "metadata": {
    "collapsed": false,
    "pycharm": {
     "name": "#%%\n",
     "is_executing": false
    }
   }
  },
  {
   "cell_type": "code",
   "execution_count": 5,
   "outputs": [],
   "source": [
    "riskFreeCurve = ql.FlatForward(0, ql.TARGET(), ql.QuoteHandle(r), ql.Actual360())\n",
    "volatility = ql.BlackConstantVol(0, ql.TARGET(), ql.QuoteHandle(sigma), ql.Actual360())"
   ],
   "metadata": {
    "collapsed": false,
    "pycharm": {
     "name": "#%%\n",
     "is_executing": false
    }
   }
  },
  {
   "cell_type": "code",
   "execution_count": 6,
   "outputs": [],
   "source": [
    "process = ql.BlackScholesProcess(ql.QuoteHandle(u), ql.YieldTermStructureHandle(riskFreeCurve), ql.BlackVolTermStructureHandle(volatility))\n",
    "\n"
   ],
   "metadata": {
    "collapsed": false,
    "pycharm": {
     "name": "#%%\n",
     "is_executing": false
    }
   }
  },
  {
   "cell_type": "code",
   "execution_count": 7,
   "outputs": [
    {
     "name": "stdout",
     "text": [
      "1.3657980739109867\n"
     ],
     "output_type": "stream"
    }
   ],
   "source": [
    "option.setPricingEngine(ql.AnalyticBarrierEngine(process))\n",
    "print(option.NPV())"
   ],
   "metadata": {
    "collapsed": false,
    "pycharm": {
     "name": "#%%\n",
     "is_executing": false
    }
   }
  },
  {
   "cell_type": "code",
   "execution_count": 8,
   "outputs": [
    {
     "traceback": [
      "\u001b[1;31m---------------------------------------------------------------------------\u001b[0m",
      "\u001b[1;31mRuntimeError\u001b[0m                              Traceback (most recent call last)",
      "\u001b[1;32m<ipython-input-8-8c9a146f80e3>\u001b[0m in \u001b[0;36m<module>\u001b[1;34m\u001b[0m\n\u001b[1;32m----> 1\u001b[1;33m \u001b[0mprint\u001b[0m\u001b[1;33m(\u001b[0m\u001b[0moption\u001b[0m\u001b[1;33m.\u001b[0m\u001b[0mdelta\u001b[0m\u001b[1;33m(\u001b[0m\u001b[1;33m)\u001b[0m\u001b[1;33m)\u001b[0m\u001b[1;33m\u001b[0m\u001b[0m\n\u001b[0m\u001b[0;32m      2\u001b[0m \u001b[1;33m\u001b[0m\u001b[0m\n",
      "\u001b[1;32mc:\\users\\d91097\\pythonvenvs\\sa_ccr_allocation\\lib\\site-packages\\QuantLib\\QuantLib.py\u001b[0m in \u001b[0;36mdelta\u001b[1;34m(self)\u001b[0m\n\u001b[0;32m  10479\u001b[0m \u001b[1;33m\u001b[0m\u001b[0m\n\u001b[0;32m  10480\u001b[0m     \u001b[1;32mdef\u001b[0m \u001b[0mdelta\u001b[0m\u001b[1;33m(\u001b[0m\u001b[0mself\u001b[0m\u001b[1;33m)\u001b[0m\u001b[1;33m:\u001b[0m\u001b[1;33m\u001b[0m\u001b[0m\n\u001b[1;32m> 10481\u001b[1;33m         \u001b[1;32mreturn\u001b[0m \u001b[0m_QuantLib\u001b[0m\u001b[1;33m.\u001b[0m\u001b[0mOneAssetOption_delta\u001b[0m\u001b[1;33m(\u001b[0m\u001b[0mself\u001b[0m\u001b[1;33m)\u001b[0m\u001b[1;33m\u001b[0m\u001b[0m\n\u001b[0m\u001b[0;32m  10482\u001b[0m \u001b[1;33m\u001b[0m\u001b[0m\n\u001b[0;32m  10483\u001b[0m     \u001b[1;32mdef\u001b[0m \u001b[0mdeltaForward\u001b[0m\u001b[1;33m(\u001b[0m\u001b[0mself\u001b[0m\u001b[1;33m)\u001b[0m\u001b[1;33m:\u001b[0m\u001b[1;33m\u001b[0m\u001b[0m\n",
      "\u001b[1;31mRuntimeError\u001b[0m: delta not provided"
     ],
     "ename": "RuntimeError",
     "evalue": "delta not provided",
     "output_type": "error"
    }
   ],
   "source": [
    "print(option.delta())"
   ],
   "metadata": {
    "collapsed": false,
    "pycharm": {
     "name": "#%%\n",
     "is_executing": false
    }
   }
  },
  {
   "cell_type": "code",
   "execution_count": 9,
   "outputs": [
    {
     "name": "stdout",
     "text": [
      "1.3657980739109867\n"
     ],
     "output_type": "stream"
    }
   ],
   "source": [
    "u0 = u.value(); h=0.01\n",
    "P0 = option.NPV(); print(P0)"
   ],
   "metadata": {
    "collapsed": false,
    "pycharm": {
     "name": "#%%\n",
     "is_executing": false
    }
   }
  },
  {
   "cell_type": "code",
   "execution_count": 10,
   "outputs": [
    {
     "name": "stdout",
     "text": [
      "1.3688112201958083\n"
     ],
     "output_type": "stream"
    }
   ],
   "source": [
    "u.setValue(u0+h)\n",
    "P_plus = option.NPV(); print(P_plus)"
   ],
   "metadata": {
    "collapsed": false,
    "pycharm": {
     "name": "#%%\n",
     "is_executing": false
    }
   }
  },
  {
   "cell_type": "code",
   "execution_count": 11,
   "outputs": [
    {
     "name": "stdout",
     "text": [
      "1.3627900998610207\n"
     ],
     "output_type": "stream"
    }
   ],
   "source": [
    "u.setValue(u0-h)\n",
    "P_minus = option.NPV(); print(P_minus)"
   ],
   "metadata": {
    "collapsed": false,
    "pycharm": {
     "name": "#%%\n",
     "is_executing": false
    }
   }
  },
  {
   "cell_type": "code",
   "execution_count": 12,
   "outputs": [],
   "source": [
    "u.setValue(u0)\n"
   ],
   "metadata": {
    "collapsed": false,
    "pycharm": {
     "name": "#%%\n",
     "is_executing": false
    }
   }
  },
  {
   "cell_type": "code",
   "execution_count": 13,
   "outputs": [
    {
     "name": "stdout",
     "text": [
      "0.3010560167393761\n",
      "0.05172234855521651\n"
     ],
     "output_type": "stream"
    }
   ],
   "source": [
    "Delta = (P_plus - P_minus)/(2*h)\n",
    "Gamma = (P_plus -2*P0 +P_minus)/(h*h)\n",
    "print(Delta)\n",
    "print(Gamma)"
   ],
   "metadata": {
    "collapsed": false,
    "pycharm": {
     "name": "#%%\n",
     "is_executing": false
    }
   }
  },
  {
   "cell_type": "code",
   "execution_count": 16,
   "outputs": [
    {
     "name": "stdout",
     "text": [
      "6.531038494277386\n"
     ],
     "output_type": "stream"
    }
   ],
   "source": [
    "r0 = r.value(); h = 0.0001\n",
    "r.setValue(r0+h); P_plus=option.NPV()\n",
    "r.setValue(r0)\n",
    "Rho = (P_plus - P0)/h; print(Rho)"
   ],
   "metadata": {
    "collapsed": false,
    "pycharm": {
     "name": "#%%\n",
     "is_executing": false
    }
   }
  },
  {
   "cell_type": "code",
   "execution_count": 17,
   "outputs": [
    {
     "name": "stdout",
     "text": [
      "26.52519924198904\n"
     ],
     "output_type": "stream"
    }
   ],
   "source": [
    "sigma0 = sigma.value(); h = 0.0001\n",
    "sigma.setValue(sigma0+h); P_plus = option.NPV()\n",
    "sigma.setValue(sigma0)\n",
    "Vega = (P_plus - P0)/h; print(Vega)"
   ],
   "metadata": {
    "collapsed": false,
    "pycharm": {
     "name": "#%%\n",
     "is_executing": false
    }
   }
  },
  {
   "cell_type": "code",
   "execution_count": 18,
   "outputs": [
    {
     "name": "stdout",
     "text": [
      "-10.770888399441302\n"
     ],
     "output_type": "stream"
    }
   ],
   "source": [
    "ql.Settings.instance().evaluationDate = today+1\n",
    "P1 = option.NPV()\n",
    "h = 1/365\n",
    "Theta = (P1-P0)/h; print(Theta)"
   ],
   "metadata": {
    "collapsed": false,
    "pycharm": {
     "name": "#%%\n",
     "is_executing": false
    }
   }
  }
 ],
 "metadata": {
  "kernelspec": {
   "display_name": "Python 3",
   "language": "python",
   "name": "python3"
  },
  "language_info": {
   "codemirror_mode": {
    "name": "ipython",
    "version": 2
   },
   "file_extension": ".py",
   "mimetype": "text/x-python",
   "name": "python",
   "nbconvert_exporter": "python",
   "pygments_lexer": "ipython2",
   "version": "2.7.6"
  },
  "pycharm": {
   "stem_cell": {
    "cell_type": "raw",
    "source": [],
    "metadata": {
     "collapsed": false
    }
   }
  }
 },
 "nbformat": 4,
 "nbformat_minor": 0
}