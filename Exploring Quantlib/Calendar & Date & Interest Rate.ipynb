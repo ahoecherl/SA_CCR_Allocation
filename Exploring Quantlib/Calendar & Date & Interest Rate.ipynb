{
 "cells": [
  {
   "cell_type": "code",
   "execution_count": 1,
   "metadata": {
    "pycharm": {
     "is_executing": false
    }
   },
   "outputs": [],
   "source": [
    "import QuantLib as ql\n",
    "import pandas as pd"
   ]
  },
  {
   "cell_type": "markdown",
   "source": [
    "## Calendar and schedules"
   ],
   "metadata": {
    "collapsed": false,
    "pycharm": {
     "name": "#%% md\n"
    }
   }
  },
  {
   "cell_type": "code",
   "execution_count": 2,
   "metadata": {
    "pycharm": {
     "is_executing": false,
     "name": "#%%\n"
    }
   },
   "outputs": [
    {
     "name": "stdout",
     "output_type": "stream",
     "text": [
      "March 31st, 2015\n"
     ]
    }
   ],
   "source": [
    "date = ql.Date(31, 3, 2015)\n",
    "print(date)"
   ]
  },
  {
   "cell_type": "code",
   "execution_count": 4,
   "metadata": {
    "pycharm": {
     "name": "#%%"
    }
   },
   "outputs": [
    {
     "data": {
      "text/plain": [
       "True"
      ]
     },
     "execution_count": 4,
     "metadata": {},
     "output_type": "execute_result"
    }
   ],
   "source": [
    "date.weekday() == ql.Tuesday"
   ]
  },
  {
   "cell_type": "code",
   "execution_count": 5,
   "metadata": {},
   "outputs": [
    {
     "data": {
      "text/plain": [
       "QuantLib.QuantLib.Date"
      ]
     },
     "execution_count": 5,
     "metadata": {},
     "output_type": "execute_result"
    }
   ],
   "source": [
    "type(date+1)"
   ]
  },
  {
   "cell_type": "code",
   "execution_count": 6,
   "metadata": {},
   "outputs": [],
   "source": [
    "date = date + ql.Period(1, ql.Weeks)"
   ]
  },
  {
   "cell_type": "code",
   "execution_count": 7,
   "metadata": {},
   "outputs": [
    {
     "data": {
      "text/plain": [
       "Date(7,4,2015)"
      ]
     },
     "execution_count": 7,
     "metadata": {},
     "output_type": "execute_result"
    }
   ],
   "source": [
    "date"
   ]
  },
  {
   "cell_type": "code",
   "execution_count": 10,
   "metadata": {},
   "outputs": [],
   "source": [
    "date = ql.Date(31, 3, 2015)\n",
    "us_calendar = ql.UnitedStates()\n",
    "italy_calendar = ql.Italy()"
   ]
  },
  {
   "cell_type": "code",
   "execution_count": 11,
   "metadata": {},
   "outputs": [
    {
     "name": "stdout",
     "output_type": "stream",
     "text": [
      "Add 60 days: May 30th, 2015\n",
      "Add 60 business days in US: June 24th, 2015\n",
      "Add 60 business days in Italy: June 26th, 2015\n"
     ]
    }
   ],
   "source": [
    "period = ql.Period(60, ql.Days)\n",
    "raw_date = date + period\n",
    "us_date = us_calendar.advance(date, period)\n",
    "italy_date = italy_calendar.advance(date, period)\n",
    "\n",
    "print(\"Add 60 days: {0}\".format(raw_date))\n",
    "print(\"Add 60 business days in US: {0}\".format(us_date))\n",
    "print(\"Add 60 business days in Italy: {0}\".format(italy_date))"
   ]
  },
  {
   "cell_type": "code",
   "execution_count": 13,
   "metadata": {},
   "outputs": [
    {
     "name": "stdout",
     "output_type": "stream",
     "text": [
      "60\n",
      "60\n"
     ]
    }
   ],
   "source": [
    "us_busdays = us_calendar.businessDaysBetween(date, us_date)\n",
    "italy_busdays = italy_calendar.businessDaysBetween(date, italy_date)\n",
    "print(us_busdays)\n",
    "print(italy_busdays)"
   ]
  },
  {
   "cell_type": "code",
   "execution_count": 14,
   "metadata": {},
   "outputs": [],
   "source": [
    "joint_calendar = ql.JointCalendar(us_calendar, italy_calendar)"
   ]
  },
  {
   "cell_type": "code",
   "execution_count": 15,
   "metadata": {},
   "outputs": [
    {
     "name": "stdout",
     "output_type": "stream",
     "text": [
      "June 29th, 2015\n"
     ]
    }
   ],
   "source": [
    "joint_date = joint_calendar.advance(date, period)\n",
    "joint_busdays = joint_calendar.businessDaysBetween(date, joint_date)\n",
    "\n",
    "print(joint_date)"
   ]
  },
  {
   "cell_type": "code",
   "execution_count": 9,
   "metadata": {
    "pycharm": {
     "is_executing": false
    }
   },
   "outputs": [
    {
     "data": {
      "text/plain": "                   date\n0   February 17th, 2015\n1       March 2nd, 2015\n2       April 1st, 2015\n3         May 1st, 2015\n4        June 1st, 2015\n5        July 1st, 2015\n6      August 3rd, 2015\n7   September 1st, 2015\n8     October 1st, 2015\n9    November 2nd, 2015\n10   December 1st, 2015\n11    January 4th, 2016",
      "text/html": "<div>\n<style scoped>\n    .dataframe tbody tr th:only-of-type {\n        vertical-align: middle;\n    }\n\n    .dataframe tbody tr th {\n        vertical-align: top;\n    }\n\n    .dataframe thead th {\n        text-align: right;\n    }\n</style>\n<table border=\"1\" class=\"dataframe\">\n  <thead>\n    <tr style=\"text-align: right;\">\n      <th></th>\n      <th>date</th>\n    </tr>\n  </thead>\n  <tbody>\n    <tr>\n      <th>0</th>\n      <td>February 17th, 2015</td>\n    </tr>\n    <tr>\n      <th>1</th>\n      <td>March 2nd, 2015</td>\n    </tr>\n    <tr>\n      <th>2</th>\n      <td>April 1st, 2015</td>\n    </tr>\n    <tr>\n      <th>3</th>\n      <td>May 1st, 2015</td>\n    </tr>\n    <tr>\n      <th>4</th>\n      <td>June 1st, 2015</td>\n    </tr>\n    <tr>\n      <th>5</th>\n      <td>July 1st, 2015</td>\n    </tr>\n    <tr>\n      <th>6</th>\n      <td>August 3rd, 2015</td>\n    </tr>\n    <tr>\n      <th>7</th>\n      <td>September 1st, 2015</td>\n    </tr>\n    <tr>\n      <th>8</th>\n      <td>October 1st, 2015</td>\n    </tr>\n    <tr>\n      <th>9</th>\n      <td>November 2nd, 2015</td>\n    </tr>\n    <tr>\n      <th>10</th>\n      <td>December 1st, 2015</td>\n    </tr>\n    <tr>\n      <th>11</th>\n      <td>January 4th, 2016</td>\n    </tr>\n  </tbody>\n</table>\n</div>"
     },
     "metadata": {},
     "output_type": "execute_result",
     "execution_count": 9
    }
   ],
   "source": [
    "effective_date = ql.Date(15,2,2015)\n",
    "termination_date = ql.Date(1,1,2016)\n",
    "tenor = ql.Period(ql.Monthly)\n",
    "calendar = ql.UnitedStates()\n",
    "business_convention = ql.Following\n",
    "termination_business_convention = ql.Following\n",
    "date_generation = ql.DateGeneration.Backward\n",
    "end_of_month = False\n",
    "\n",
    "schedule = ql.Schedule(effective_date,\n",
    "                      termination_date,\n",
    "                      tenor,\n",
    "                      calendar,\n",
    "                      business_convention,\n",
    "                      termination_business_convention,\n",
    "                      date_generation,\n",
    "                      end_of_month)\n",
    "\n",
    "pd.DataFrame({'date': list(schedule)})"
   ]
  },
  {
   "cell_type": "code",
   "execution_count": 7,
   "metadata": {
    "pycharm": {
     "is_executing": false
    }
   },
   "outputs": [
    {
     "data": {
      "text/plain": "                   date\n0     January 2nd, 2015\n1    January 15th, 2015\n2    February 2nd, 2015\n3       March 2nd, 2015\n4       April 1st, 2015\n5         May 1st, 2015\n6        June 1st, 2015\n7        July 1st, 2015\n8      August 3rd, 2015\n9   September 1st, 2015\n10    October 1st, 2015\n11   November 2nd, 2015\n12   December 1st, 2015\n13    January 4th, 2016",
      "text/html": "<div>\n<style scoped>\n    .dataframe tbody tr th:only-of-type {\n        vertical-align: middle;\n    }\n\n    .dataframe tbody tr th {\n        vertical-align: top;\n    }\n\n    .dataframe thead th {\n        text-align: right;\n    }\n</style>\n<table border=\"1\" class=\"dataframe\">\n  <thead>\n    <tr style=\"text-align: right;\">\n      <th></th>\n      <th>date</th>\n    </tr>\n  </thead>\n  <tbody>\n    <tr>\n      <th>0</th>\n      <td>January 2nd, 2015</td>\n    </tr>\n    <tr>\n      <th>1</th>\n      <td>January 15th, 2015</td>\n    </tr>\n    <tr>\n      <th>2</th>\n      <td>February 2nd, 2015</td>\n    </tr>\n    <tr>\n      <th>3</th>\n      <td>March 2nd, 2015</td>\n    </tr>\n    <tr>\n      <th>4</th>\n      <td>April 1st, 2015</td>\n    </tr>\n    <tr>\n      <th>5</th>\n      <td>May 1st, 2015</td>\n    </tr>\n    <tr>\n      <th>6</th>\n      <td>June 1st, 2015</td>\n    </tr>\n    <tr>\n      <th>7</th>\n      <td>July 1st, 2015</td>\n    </tr>\n    <tr>\n      <th>8</th>\n      <td>August 3rd, 2015</td>\n    </tr>\n    <tr>\n      <th>9</th>\n      <td>September 1st, 2015</td>\n    </tr>\n    <tr>\n      <th>10</th>\n      <td>October 1st, 2015</td>\n    </tr>\n    <tr>\n      <th>11</th>\n      <td>November 2nd, 2015</td>\n    </tr>\n    <tr>\n      <th>12</th>\n      <td>December 1st, 2015</td>\n    </tr>\n    <tr>\n      <th>13</th>\n      <td>January 4th, 2016</td>\n    </tr>\n  </tbody>\n</table>\n</div>"
     },
     "metadata": {},
     "output_type": "execute_result",
     "execution_count": 7
    }
   ],
   "source": [
    "#short stub in the front\n",
    "effective_date = ql.Date(1,1,2015)\n",
    "termination_date = ql.Date(1,1,2016)\n",
    "first_date = ql.Date(15,1,2015)\n",
    "schedule = ql.Schedule(effective_date,\n",
    "                      termination_date,\n",
    "                      tenor,\n",
    "                      calendar,\n",
    "                      business_convention,\n",
    "                      termination_business_convention,\n",
    "                      ql.DateGeneration.Backward,\n",
    "                      end_of_month,\n",
    "                      first_date)\n",
    "\n",
    "pd.DataFrame({'date': list(schedule)})"
   ]
  },
  {
   "cell_type": "code",
   "execution_count": 8,
   "metadata": {
    "pycharm": {
     "is_executing": false
    }
   },
   "outputs": [
    {
     "data": {
      "text/plain": "                   date\n0     January 2nd, 2015\n1    February 2nd, 2015\n2       March 2nd, 2015\n3       April 1st, 2015\n4         May 1st, 2015\n5        June 1st, 2015\n6        July 1st, 2015\n7      August 3rd, 2015\n8   September 1st, 2015\n9     October 1st, 2015\n10   November 2nd, 2015\n11   December 1st, 2015\n12  December 15th, 2015\n13    January 4th, 2016",
      "text/html": "<div>\n<style scoped>\n    .dataframe tbody tr th:only-of-type {\n        vertical-align: middle;\n    }\n\n    .dataframe tbody tr th {\n        vertical-align: top;\n    }\n\n    .dataframe thead th {\n        text-align: right;\n    }\n</style>\n<table border=\"1\" class=\"dataframe\">\n  <thead>\n    <tr style=\"text-align: right;\">\n      <th></th>\n      <th>date</th>\n    </tr>\n  </thead>\n  <tbody>\n    <tr>\n      <th>0</th>\n      <td>January 2nd, 2015</td>\n    </tr>\n    <tr>\n      <th>1</th>\n      <td>February 2nd, 2015</td>\n    </tr>\n    <tr>\n      <th>2</th>\n      <td>March 2nd, 2015</td>\n    </tr>\n    <tr>\n      <th>3</th>\n      <td>April 1st, 2015</td>\n    </tr>\n    <tr>\n      <th>4</th>\n      <td>May 1st, 2015</td>\n    </tr>\n    <tr>\n      <th>5</th>\n      <td>June 1st, 2015</td>\n    </tr>\n    <tr>\n      <th>6</th>\n      <td>July 1st, 2015</td>\n    </tr>\n    <tr>\n      <th>7</th>\n      <td>August 3rd, 2015</td>\n    </tr>\n    <tr>\n      <th>8</th>\n      <td>September 1st, 2015</td>\n    </tr>\n    <tr>\n      <th>9</th>\n      <td>October 1st, 2015</td>\n    </tr>\n    <tr>\n      <th>10</th>\n      <td>November 2nd, 2015</td>\n    </tr>\n    <tr>\n      <th>11</th>\n      <td>December 1st, 2015</td>\n    </tr>\n    <tr>\n      <th>12</th>\n      <td>December 15th, 2015</td>\n    </tr>\n    <tr>\n      <th>13</th>\n      <td>January 4th, 2016</td>\n    </tr>\n  </tbody>\n</table>\n</div>"
     },
     "metadata": {},
     "output_type": "execute_result",
     "execution_count": 8
    }
   ],
   "source": [
    "#short stub at the back\n",
    "effective_date = ql.Date(1,1,2015)\n",
    "termination_date = ql.Date(1,1,2016)\n",
    "penultimate_date = ql.Date(15,12,2015)\n",
    "schedule = ql.Schedule(effective_date,\n",
    "                       termination_date,\n",
    "                       tenor,\n",
    "                       calendar,\n",
    "                       business_convention,\n",
    "                       termination_business_convention,\n",
    "                       ql.DateGeneration.Forward,\n",
    "                       end_of_month,\n",
    "                       ql.Date(),\n",
    "                       penultimate_date)\n",
    "\n",
    "pd.DataFrame({'date': list(schedule)})"
   ]
  },
  {
   "cell_type": "code",
   "execution_count": 18,
   "outputs": [
    {
     "data": {
      "text/plain": "                   date\n0   December 15th, 2014\n1    February 2nd, 2015\n2       March 2nd, 2015\n3       April 1st, 2015\n4         May 1st, 2015\n5        June 1st, 2015\n6        July 1st, 2015\n7      August 3rd, 2015\n8   September 1st, 2015\n9     October 1st, 2015\n10   November 2nd, 2015\n11   December 1st, 2015\n12    January 4th, 2016",
      "text/html": "<div>\n<style scoped>\n    .dataframe tbody tr th:only-of-type {\n        vertical-align: middle;\n    }\n\n    .dataframe tbody tr th {\n        vertical-align: top;\n    }\n\n    .dataframe thead th {\n        text-align: right;\n    }\n</style>\n<table border=\"1\" class=\"dataframe\">\n  <thead>\n    <tr style=\"text-align: right;\">\n      <th></th>\n      <th>date</th>\n    </tr>\n  </thead>\n  <tbody>\n    <tr>\n      <th>0</th>\n      <td>December 15th, 2014</td>\n    </tr>\n    <tr>\n      <th>1</th>\n      <td>February 2nd, 2015</td>\n    </tr>\n    <tr>\n      <th>2</th>\n      <td>March 2nd, 2015</td>\n    </tr>\n    <tr>\n      <th>3</th>\n      <td>April 1st, 2015</td>\n    </tr>\n    <tr>\n      <th>4</th>\n      <td>May 1st, 2015</td>\n    </tr>\n    <tr>\n      <th>5</th>\n      <td>June 1st, 2015</td>\n    </tr>\n    <tr>\n      <th>6</th>\n      <td>July 1st, 2015</td>\n    </tr>\n    <tr>\n      <th>7</th>\n      <td>August 3rd, 2015</td>\n    </tr>\n    <tr>\n      <th>8</th>\n      <td>September 1st, 2015</td>\n    </tr>\n    <tr>\n      <th>9</th>\n      <td>October 1st, 2015</td>\n    </tr>\n    <tr>\n      <th>10</th>\n      <td>November 2nd, 2015</td>\n    </tr>\n    <tr>\n      <th>11</th>\n      <td>December 1st, 2015</td>\n    </tr>\n    <tr>\n      <th>12</th>\n      <td>January 4th, 2016</td>\n    </tr>\n  </tbody>\n</table>\n</div>"
     },
     "metadata": {},
     "output_type": "execute_result",
     "execution_count": 18
    }
   ],
   "source": [
    "#long stub in the front\n",
    "\n",
    "first_date = ql.Date(1,2,2015)\n",
    "effective_date = ql.Date(15,12,2014)\n",
    "termination_date = ql.Date(1,1,2016)\n",
    "schedule = ql.Schedule(effective_date,\n",
    "                       termination_date,\n",
    "                       tenor,\n",
    "                       calendar,\n",
    "                       business_convention,\n",
    "                       termination_business_convention,\n",
    "                       ql.DateGeneration.Backward,\n",
    "                       end_of_month,\n",
    "                       first_date)\n",
    "\n",
    "pd.DataFrame({'date': list(schedule)})"
   ],
   "metadata": {
    "collapsed": false,
    "pycharm": {
     "name": "#%%\n",
     "is_executing": false
    }
   }
  },
  {
   "cell_type": "code",
   "execution_count": 20,
   "outputs": [
    {
     "data": {
      "text/plain": "                   date\n0     January 2nd, 2015\n1    February 2nd, 2015\n2       March 2nd, 2015\n3       April 1st, 2015\n4         May 1st, 2015\n5        June 1st, 2015\n6        July 1st, 2015\n7      August 3rd, 2015\n8   September 1st, 2015\n9     October 1st, 2015\n10   November 2nd, 2015\n11   December 1st, 2015\n12   January 15th, 2016",
      "text/html": "<div>\n<style scoped>\n    .dataframe tbody tr th:only-of-type {\n        vertical-align: middle;\n    }\n\n    .dataframe tbody tr th {\n        vertical-align: top;\n    }\n\n    .dataframe thead th {\n        text-align: right;\n    }\n</style>\n<table border=\"1\" class=\"dataframe\">\n  <thead>\n    <tr style=\"text-align: right;\">\n      <th></th>\n      <th>date</th>\n    </tr>\n  </thead>\n  <tbody>\n    <tr>\n      <th>0</th>\n      <td>January 2nd, 2015</td>\n    </tr>\n    <tr>\n      <th>1</th>\n      <td>February 2nd, 2015</td>\n    </tr>\n    <tr>\n      <th>2</th>\n      <td>March 2nd, 2015</td>\n    </tr>\n    <tr>\n      <th>3</th>\n      <td>April 1st, 2015</td>\n    </tr>\n    <tr>\n      <th>4</th>\n      <td>May 1st, 2015</td>\n    </tr>\n    <tr>\n      <th>5</th>\n      <td>June 1st, 2015</td>\n    </tr>\n    <tr>\n      <th>6</th>\n      <td>July 1st, 2015</td>\n    </tr>\n    <tr>\n      <th>7</th>\n      <td>August 3rd, 2015</td>\n    </tr>\n    <tr>\n      <th>8</th>\n      <td>September 1st, 2015</td>\n    </tr>\n    <tr>\n      <th>9</th>\n      <td>October 1st, 2015</td>\n    </tr>\n    <tr>\n      <th>10</th>\n      <td>November 2nd, 2015</td>\n    </tr>\n    <tr>\n      <th>11</th>\n      <td>December 1st, 2015</td>\n    </tr>\n    <tr>\n      <th>12</th>\n      <td>January 15th, 2016</td>\n    </tr>\n  </tbody>\n</table>\n</div>"
     },
     "metadata": {},
     "output_type": "execute_result",
     "execution_count": 20
    }
   ],
   "source": [
    "#long stub at the back\n",
    "effective_date = ql.Date(1,1,2015)\n",
    "penultimate_date = ql.Date(1,12,2015)\n",
    "termination_date = ql.Date(15,1,2016)\n",
    "schedule = ql.Schedule(effective_date,\n",
    "                       termination_date,\n",
    "                       tenor,\n",
    "                       calendar,\n",
    "                       business_convention,\n",
    "                       termination_business_convention,\n",
    "                       ql.DateGeneration.Forward,\n",
    "                       end_of_month,\n",
    "                       ql.Date(),\n",
    "                       penultimate_date)\n",
    "\n",
    "pd.DataFrame({'date': list(schedule)})"
   ],
   "metadata": {
    "collapsed": false,
    "pycharm": {
     "name": "#%%\n",
     "is_executing": false
    }
   }
  },
  {
   "cell_type": "markdown",
   "source": [
    "## Interest Rate"
   ],
   "metadata": {
    "collapsed": false,
    "pycharm": {
     "name": "#%% md\n"
    }
   }
  },
  {
   "cell_type": "code",
   "execution_count": 21,
   "outputs": [
    {
     "name": "stdout",
     "text": [
      "5.000000 % Actual/Actual (ISDA) Annual compounding\n"
     ],
     "output_type": "stream"
    }
   ],
   "source": [
    "annual_rate = 0.05\n",
    "day_count = ql.ActualActual()\n",
    "compound_type = ql.Compounded\n",
    "frequency = ql.Annual\n",
    "\n",
    "interest_rate = ql.InterestRate(annual_rate,\n",
    "                                day_count,\n",
    "                                compound_type,\n",
    "                                frequency)\n",
    "print(interest_rate)"
   ],
   "metadata": {
    "collapsed": false,
    "pycharm": {
     "name": "#%%\n",
     "is_executing": false
    }
   }
  },
  {
   "cell_type": "code",
   "execution_count": 22,
   "outputs": [
    {
     "name": "stdout",
     "text": [
      "1.1025\n",
      "1.1025\n"
     ],
     "output_type": "stream"
    }
   ],
   "source": [
    "t = 2.0\n",
    "print(interest_rate.compoundFactor(t))\n",
    "print((1+annual_rate)*(1.0+annual_rate))"
   ],
   "metadata": {
    "collapsed": false,
    "pycharm": {
     "name": "#%%\n",
     "is_executing": false
    }
   }
  },
  {
   "cell_type": "code",
   "execution_count": 25,
   "outputs": [
    {
     "name": "stdout",
     "text": [
      "0.9070294784580498\n",
      "0.9070294784580498\n"
     ],
     "output_type": "stream"
    }
   ],
   "source": [
    "print(interest_rate.discountFactor(t))\n",
    "print(1.0/interest_rate.compoundFactor(t))"
   ],
   "metadata": {
    "collapsed": false,
    "pycharm": {
     "name": "#%%\n",
     "is_executing": false
    }
   }
  },
  {
   "cell_type": "code",
   "execution_count": 27,
   "outputs": [
    {
     "name": "stdout",
     "text": [
      "4.939015 % Actual/Actual (ISDA) Semiannual compounding\n"
     ],
     "output_type": "stream"
    }
   ],
   "source": [
    "new_frequency = ql.Semiannual\n",
    "new_interest_rate = interest_rate.equivalentRate(compound_type, new_frequency, t)\n",
    "\n",
    "print(new_interest_rate)"
   ],
   "metadata": {
    "collapsed": false,
    "pycharm": {
     "name": "#%%\n",
     "is_executing": false
    }
   }
  },
  {
   "cell_type": "code",
   "execution_count": 28,
   "outputs": [
    {
     "name": "stdout",
     "text": [
      "0.9070294784580498\n",
      "0.9070294784580495\n"
     ],
     "output_type": "stream"
    }
   ],
   "source": [
    "print(interest_rate.discountFactor(t))\n",
    "print(new_interest_rate.discountFactor(t))"
   ],
   "metadata": {
    "collapsed": false,
    "pycharm": {
     "name": "#%%\n",
     "is_executing": false
    }
   }
  }
 ],
 "metadata": {
  "kernelspec": {
   "display_name": "Python 3",
   "language": "python",
   "name": "python3"
  },
  "language_info": {
   "codemirror_mode": {
    "name": "ipython",
    "version": 3
   },
   "file_extension": ".py",
   "mimetype": "text/x-python",
   "name": "python",
   "nbconvert_exporter": "python",
   "pygments_lexer": "ipython3",
   "version": "3.6.5"
  },
  "pycharm": {
   "stem_cell": {
    "cell_type": "raw",
    "source": [],
    "metadata": {
     "collapsed": false
    }
   }
  }
 },
 "nbformat": 4,
 "nbformat_minor": 1
}