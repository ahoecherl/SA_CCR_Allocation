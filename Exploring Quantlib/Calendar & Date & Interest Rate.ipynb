{
 "cells": [
  {
   "cell_type": "code",
   "execution_count": 1,
   "metadata": {
    "pycharm": {
     "is_executing": false
    }
   },
   "outputs": [],
   "source": [
    "import QuantLib as ql\n",
    "import pandas as pd"
   ]
  },
  {
   "cell_type": "markdown",
   "source": [
    "## Calendar and schedules"
   ],
   "metadata": {
    "collapsed": false,
    "pycharm": {
     "name": "#%% md\n"
    }
   }
  },
  {
   "cell_type": "code",
   "execution_count": 2,
   "metadata": {
    "pycharm": {
     "is_executing": false,
     "name": "#%%\n"
    }
   },
   "outputs": [
    {
     "name": "stdout",
     "text": [
      "March 31st, 2015\n"
     ],
     "output_type": "stream"
    }
   ],
   "source": [
    "date = ql.Date(31, 3, 2015)\n",
    "print(date)"
   ]
  },
  {
   "cell_type": "code",
   "execution_count": 3,
   "metadata": {
    "pycharm": {
     "name": "#%%",
     "is_executing": false
    }
   },
   "outputs": [
    {
     "data": {
      "text/plain": "True"
     },
     "metadata": {},
     "output_type": "execute_result",
     "execution_count": 3
    }
   ],
   "source": [
    "date.weekday() == ql.Tuesday"
   ]
  },
  {
   "cell_type": "code",
   "execution_count": 4,
   "metadata": {
    "pycharm": {
     "is_executing": false
    }
   },
   "outputs": [
    {
     "data": {
      "text/plain": "QuantLib.QuantLib.Date"
     },
     "metadata": {},
     "output_type": "execute_result",
     "execution_count": 4
    }
   ],
   "source": [
    "type(date+1)"
   ]
  },
  {
   "cell_type": "code",
   "execution_count": 5,
   "metadata": {
    "pycharm": {
     "is_executing": false
    }
   },
   "outputs": [],
   "source": [
    "date = date + ql.Period(1, ql.Weeks)"
   ]
  },
  {
   "cell_type": "code",
   "execution_count": 6,
   "metadata": {
    "pycharm": {
     "is_executing": false
    }
   },
   "outputs": [
    {
     "data": {
      "text/plain": "Date(7,4,2015)"
     },
     "metadata": {},
     "output_type": "execute_result",
     "execution_count": 6
    }
   ],
   "source": [
    "date"
   ]
  },
  {
   "cell_type": "code",
   "execution_count": 7,
   "metadata": {
    "pycharm": {
     "is_executing": false
    }
   },
   "outputs": [],
   "source": [
    "date = ql.Date(31, 3, 2015)\n",
    "us_calendar = ql.UnitedStates()\n",
    "italy_calendar = ql.Italy()"
   ]
  },
  {
   "cell_type": "code",
   "execution_count": 8,
   "metadata": {
    "pycharm": {
     "is_executing": false
    }
   },
   "outputs": [
    {
     "name": "stdout",
     "text": [
      "Add 60 days: May 30th, 2015\n",
      "Add 60 business days in US: June 24th, 2015\n",
      "Add 60 business days in Italy: June 26th, 2015\n"
     ],
     "output_type": "stream"
    }
   ],
   "source": [
    "period = ql.Period(60, ql.Days)\n",
    "raw_date = date + period\n",
    "us_date = us_calendar.advance(date, period)\n",
    "italy_date = italy_calendar.advance(date, period)\n",
    "\n",
    "print(\"Add 60 days: {0}\".format(raw_date))\n",
    "print(\"Add 60 business days in US: {0}\".format(us_date))\n",
    "print(\"Add 60 business days in Italy: {0}\".format(italy_date))"
   ]
  },
  {
   "cell_type": "code",
   "execution_count": 9,
   "metadata": {
    "pycharm": {
     "is_executing": false
    }
   },
   "outputs": [
    {
     "name": "stdout",
     "text": [
      "60\n",
      "60\n"
     ],
     "output_type": "stream"
    }
   ],
   "source": [
    "us_busdays = us_calendar.businessDaysBetween(date, us_date)\n",
    "italy_busdays = italy_calendar.businessDaysBetween(date, italy_date)\n",
    "print(us_busdays)\n",
    "print(italy_busdays)"
   ]
  },
  {
   "cell_type": "code",
   "execution_count": 10,
   "metadata": {
    "pycharm": {
     "is_executing": false
    }
   },
   "outputs": [],
   "source": [
    "joint_calendar = ql.JointCalendar(us_calendar, italy_calendar)"
   ]
  },
  {
   "cell_type": "code",
   "execution_count": 11,
   "metadata": {
    "pycharm": {
     "is_executing": false
    }
   },
   "outputs": [
    {
     "name": "stdout",
     "text": [
      "June 29th, 2015\n"
     ],
     "output_type": "stream"
    }
   ],
   "source": [
    "joint_date = joint_calendar.advance(date, period)\n",
    "joint_busdays = joint_calendar.businessDaysBetween(date, joint_date)\n",
    "\n",
    "print(joint_date)"
   ]
  },
  {
   "cell_type": "code",
   "execution_count": 12,
   "metadata": {
    "pycharm": {
     "is_executing": false
    }
   },
   "outputs": [
    {
     "data": {
      "text/plain": "                   date\n0   February 17th, 2015\n1       March 2nd, 2015\n2       April 1st, 2015\n3         May 1st, 2015\n4        June 1st, 2015\n5        July 1st, 2015\n6      August 3rd, 2015\n7   September 1st, 2015\n8     October 1st, 2015\n9    November 2nd, 2015\n10   December 1st, 2015\n11    January 4th, 2016",
      "text/html": "<div>\n<style scoped>\n    .dataframe tbody tr th:only-of-type {\n        vertical-align: middle;\n    }\n\n    .dataframe tbody tr th {\n        vertical-align: top;\n    }\n\n    .dataframe thead th {\n        text-align: right;\n    }\n</style>\n<table border=\"1\" class=\"dataframe\">\n  <thead>\n    <tr style=\"text-align: right;\">\n      <th></th>\n      <th>date</th>\n    </tr>\n  </thead>\n  <tbody>\n    <tr>\n      <th>0</th>\n      <td>February 17th, 2015</td>\n    </tr>\n    <tr>\n      <th>1</th>\n      <td>March 2nd, 2015</td>\n    </tr>\n    <tr>\n      <th>2</th>\n      <td>April 1st, 2015</td>\n    </tr>\n    <tr>\n      <th>3</th>\n      <td>May 1st, 2015</td>\n    </tr>\n    <tr>\n      <th>4</th>\n      <td>June 1st, 2015</td>\n    </tr>\n    <tr>\n      <th>5</th>\n      <td>July 1st, 2015</td>\n    </tr>\n    <tr>\n      <th>6</th>\n      <td>August 3rd, 2015</td>\n    </tr>\n    <tr>\n      <th>7</th>\n      <td>September 1st, 2015</td>\n    </tr>\n    <tr>\n      <th>8</th>\n      <td>October 1st, 2015</td>\n    </tr>\n    <tr>\n      <th>9</th>\n      <td>November 2nd, 2015</td>\n    </tr>\n    <tr>\n      <th>10</th>\n      <td>December 1st, 2015</td>\n    </tr>\n    <tr>\n      <th>11</th>\n      <td>January 4th, 2016</td>\n    </tr>\n  </tbody>\n</table>\n</div>"
     },
     "metadata": {},
     "output_type": "execute_result",
     "execution_count": 12
    }
   ],
   "source": [
    "effective_date = ql.Date(15,2,2015)\n",
    "termination_date = ql.Date(1,1,2016)\n",
    "tenor = ql.Period(ql.Monthly)\n",
    "calendar = ql.UnitedStates()\n",
    "business_convention = ql.Following\n",
    "termination_business_convention = ql.Following\n",
    "date_generation = ql.DateGeneration.Backward\n",
    "end_of_month = False\n",
    "\n",
    "schedule = ql.Schedule(effective_date,\n",
    "                      termination_date,\n",
    "                      tenor,\n",
    "                      calendar,\n",
    "                      business_convention,\n",
    "                      termination_business_convention,\n",
    "                      date_generation,\n",
    "                      end_of_month)\n",
    "\n",
    "pd.DataFrame({'date': list(schedule)})"
   ]
  },
  {
   "cell_type": "code",
   "execution_count": 13,
   "metadata": {
    "pycharm": {
     "is_executing": false
    }
   },
   "outputs": [
    {
     "data": {
      "text/plain": "                   date\n0     January 2nd, 2015\n1    January 15th, 2015\n2    February 2nd, 2015\n3       March 2nd, 2015\n4       April 1st, 2015\n5         May 1st, 2015\n6        June 1st, 2015\n7        July 1st, 2015\n8      August 3rd, 2015\n9   September 1st, 2015\n10    October 1st, 2015\n11   November 2nd, 2015\n12   December 1st, 2015\n13    January 4th, 2016",
      "text/html": "<div>\n<style scoped>\n    .dataframe tbody tr th:only-of-type {\n        vertical-align: middle;\n    }\n\n    .dataframe tbody tr th {\n        vertical-align: top;\n    }\n\n    .dataframe thead th {\n        text-align: right;\n    }\n</style>\n<table border=\"1\" class=\"dataframe\">\n  <thead>\n    <tr style=\"text-align: right;\">\n      <th></th>\n      <th>date</th>\n    </tr>\n  </thead>\n  <tbody>\n    <tr>\n      <th>0</th>\n      <td>January 2nd, 2015</td>\n    </tr>\n    <tr>\n      <th>1</th>\n      <td>January 15th, 2015</td>\n    </tr>\n    <tr>\n      <th>2</th>\n      <td>February 2nd, 2015</td>\n    </tr>\n    <tr>\n      <th>3</th>\n      <td>March 2nd, 2015</td>\n    </tr>\n    <tr>\n      <th>4</th>\n      <td>April 1st, 2015</td>\n    </tr>\n    <tr>\n      <th>5</th>\n      <td>May 1st, 2015</td>\n    </tr>\n    <tr>\n      <th>6</th>\n      <td>June 1st, 2015</td>\n    </tr>\n    <tr>\n      <th>7</th>\n      <td>July 1st, 2015</td>\n    </tr>\n    <tr>\n      <th>8</th>\n      <td>August 3rd, 2015</td>\n    </tr>\n    <tr>\n      <th>9</th>\n      <td>September 1st, 2015</td>\n    </tr>\n    <tr>\n      <th>10</th>\n      <td>October 1st, 2015</td>\n    </tr>\n    <tr>\n      <th>11</th>\n      <td>November 2nd, 2015</td>\n    </tr>\n    <tr>\n      <th>12</th>\n      <td>December 1st, 2015</td>\n    </tr>\n    <tr>\n      <th>13</th>\n      <td>January 4th, 2016</td>\n    </tr>\n  </tbody>\n</table>\n</div>"
     },
     "metadata": {},
     "output_type": "execute_result",
     "execution_count": 13
    }
   ],
   "source": [
    "#short stub in the front\n",
    "effective_date = ql.Date(1,1,2015)\n",
    "termination_date = ql.Date(1,1,2016)\n",
    "first_date = ql.Date(15,1,2015)\n",
    "schedule = ql.Schedule(effective_date,\n",
    "                      termination_date,\n",
    "                      tenor,\n",
    "                      calendar,\n",
    "                      business_convention,\n",
    "                      termination_business_convention,\n",
    "                      ql.DateGeneration.Backward,\n",
    "                      end_of_month,\n",
    "                      first_date)\n",
    "\n",
    "pd.DataFrame({'date': list(schedule)})"
   ]
  },
  {
   "cell_type": "code",
   "execution_count": 14,
   "metadata": {
    "pycharm": {
     "is_executing": false
    }
   },
   "outputs": [
    {
     "data": {
      "text/plain": "                   date\n0     January 2nd, 2015\n1    February 2nd, 2015\n2       March 2nd, 2015\n3       April 1st, 2015\n4         May 1st, 2015\n5        June 1st, 2015\n6        July 1st, 2015\n7      August 3rd, 2015\n8   September 1st, 2015\n9     October 1st, 2015\n10   November 2nd, 2015\n11   December 1st, 2015\n12  December 15th, 2015\n13    January 4th, 2016",
      "text/html": "<div>\n<style scoped>\n    .dataframe tbody tr th:only-of-type {\n        vertical-align: middle;\n    }\n\n    .dataframe tbody tr th {\n        vertical-align: top;\n    }\n\n    .dataframe thead th {\n        text-align: right;\n    }\n</style>\n<table border=\"1\" class=\"dataframe\">\n  <thead>\n    <tr style=\"text-align: right;\">\n      <th></th>\n      <th>date</th>\n    </tr>\n  </thead>\n  <tbody>\n    <tr>\n      <th>0</th>\n      <td>January 2nd, 2015</td>\n    </tr>\n    <tr>\n      <th>1</th>\n      <td>February 2nd, 2015</td>\n    </tr>\n    <tr>\n      <th>2</th>\n      <td>March 2nd, 2015</td>\n    </tr>\n    <tr>\n      <th>3</th>\n      <td>April 1st, 2015</td>\n    </tr>\n    <tr>\n      <th>4</th>\n      <td>May 1st, 2015</td>\n    </tr>\n    <tr>\n      <th>5</th>\n      <td>June 1st, 2015</td>\n    </tr>\n    <tr>\n      <th>6</th>\n      <td>July 1st, 2015</td>\n    </tr>\n    <tr>\n      <th>7</th>\n      <td>August 3rd, 2015</td>\n    </tr>\n    <tr>\n      <th>8</th>\n      <td>September 1st, 2015</td>\n    </tr>\n    <tr>\n      <th>9</th>\n      <td>October 1st, 2015</td>\n    </tr>\n    <tr>\n      <th>10</th>\n      <td>November 2nd, 2015</td>\n    </tr>\n    <tr>\n      <th>11</th>\n      <td>December 1st, 2015</td>\n    </tr>\n    <tr>\n      <th>12</th>\n      <td>December 15th, 2015</td>\n    </tr>\n    <tr>\n      <th>13</th>\n      <td>January 4th, 2016</td>\n    </tr>\n  </tbody>\n</table>\n</div>"
     },
     "metadata": {},
     "output_type": "execute_result",
     "execution_count": 14
    }
   ],
   "source": [
    "#short stub at the back\n",
    "effective_date = ql.Date(1,1,2015)\n",
    "termination_date = ql.Date(1,1,2016)\n",
    "penultimate_date = ql.Date(15,12,2015)\n",
    "schedule = ql.Schedule(effective_date,\n",
    "                       termination_date,\n",
    "                       tenor,\n",
    "                       calendar,\n",
    "                       business_convention,\n",
    "                       termination_business_convention,\n",
    "                       ql.DateGeneration.Forward,\n",
    "                       end_of_month,\n",
    "                       ql.Date(),\n",
    "                       penultimate_date)\n",
    "\n",
    "pd.DataFrame({'date': list(schedule)})"
   ]
  },
  {
   "cell_type": "code",
   "execution_count": 15,
   "outputs": [
    {
     "data": {
      "text/plain": "                   date\n0   December 15th, 2014\n1    February 2nd, 2015\n2       March 2nd, 2015\n3       April 1st, 2015\n4         May 1st, 2015\n5        June 1st, 2015\n6        July 1st, 2015\n7      August 3rd, 2015\n8   September 1st, 2015\n9     October 1st, 2015\n10   November 2nd, 2015\n11   December 1st, 2015\n12    January 4th, 2016",
      "text/html": "<div>\n<style scoped>\n    .dataframe tbody tr th:only-of-type {\n        vertical-align: middle;\n    }\n\n    .dataframe tbody tr th {\n        vertical-align: top;\n    }\n\n    .dataframe thead th {\n        text-align: right;\n    }\n</style>\n<table border=\"1\" class=\"dataframe\">\n  <thead>\n    <tr style=\"text-align: right;\">\n      <th></th>\n      <th>date</th>\n    </tr>\n  </thead>\n  <tbody>\n    <tr>\n      <th>0</th>\n      <td>December 15th, 2014</td>\n    </tr>\n    <tr>\n      <th>1</th>\n      <td>February 2nd, 2015</td>\n    </tr>\n    <tr>\n      <th>2</th>\n      <td>March 2nd, 2015</td>\n    </tr>\n    <tr>\n      <th>3</th>\n      <td>April 1st, 2015</td>\n    </tr>\n    <tr>\n      <th>4</th>\n      <td>May 1st, 2015</td>\n    </tr>\n    <tr>\n      <th>5</th>\n      <td>June 1st, 2015</td>\n    </tr>\n    <tr>\n      <th>6</th>\n      <td>July 1st, 2015</td>\n    </tr>\n    <tr>\n      <th>7</th>\n      <td>August 3rd, 2015</td>\n    </tr>\n    <tr>\n      <th>8</th>\n      <td>September 1st, 2015</td>\n    </tr>\n    <tr>\n      <th>9</th>\n      <td>October 1st, 2015</td>\n    </tr>\n    <tr>\n      <th>10</th>\n      <td>November 2nd, 2015</td>\n    </tr>\n    <tr>\n      <th>11</th>\n      <td>December 1st, 2015</td>\n    </tr>\n    <tr>\n      <th>12</th>\n      <td>January 4th, 2016</td>\n    </tr>\n  </tbody>\n</table>\n</div>"
     },
     "metadata": {},
     "output_type": "execute_result",
     "execution_count": 15
    }
   ],
   "source": [
    "#long stub in the front\n",
    "\n",
    "first_date = ql.Date(1,2,2015)\n",
    "effective_date = ql.Date(15,12,2014)\n",
    "termination_date = ql.Date(1,1,2016)\n",
    "schedule = ql.Schedule(effective_date,\n",
    "                       termination_date,\n",
    "                       tenor,\n",
    "                       calendar,\n",
    "                       business_convention,\n",
    "                       termination_business_convention,\n",
    "                       ql.DateGeneration.Backward,\n",
    "                       end_of_month,\n",
    "                       first_date)\n",
    "\n",
    "pd.DataFrame({'date': list(schedule)})"
   ],
   "metadata": {
    "collapsed": false,
    "pycharm": {
     "name": "#%%\n",
     "is_executing": false
    }
   }
  },
  {
   "cell_type": "code",
   "execution_count": 16,
   "outputs": [
    {
     "data": {
      "text/plain": "                   date\n0     January 2nd, 2015\n1    February 2nd, 2015\n2       March 2nd, 2015\n3       April 1st, 2015\n4         May 1st, 2015\n5        June 1st, 2015\n6        July 1st, 2015\n7      August 3rd, 2015\n8   September 1st, 2015\n9     October 1st, 2015\n10   November 2nd, 2015\n11   December 1st, 2015\n12   January 15th, 2016",
      "text/html": "<div>\n<style scoped>\n    .dataframe tbody tr th:only-of-type {\n        vertical-align: middle;\n    }\n\n    .dataframe tbody tr th {\n        vertical-align: top;\n    }\n\n    .dataframe thead th {\n        text-align: right;\n    }\n</style>\n<table border=\"1\" class=\"dataframe\">\n  <thead>\n    <tr style=\"text-align: right;\">\n      <th></th>\n      <th>date</th>\n    </tr>\n  </thead>\n  <tbody>\n    <tr>\n      <th>0</th>\n      <td>January 2nd, 2015</td>\n    </tr>\n    <tr>\n      <th>1</th>\n      <td>February 2nd, 2015</td>\n    </tr>\n    <tr>\n      <th>2</th>\n      <td>March 2nd, 2015</td>\n    </tr>\n    <tr>\n      <th>3</th>\n      <td>April 1st, 2015</td>\n    </tr>\n    <tr>\n      <th>4</th>\n      <td>May 1st, 2015</td>\n    </tr>\n    <tr>\n      <th>5</th>\n      <td>June 1st, 2015</td>\n    </tr>\n    <tr>\n      <th>6</th>\n      <td>July 1st, 2015</td>\n    </tr>\n    <tr>\n      <th>7</th>\n      <td>August 3rd, 2015</td>\n    </tr>\n    <tr>\n      <th>8</th>\n      <td>September 1st, 2015</td>\n    </tr>\n    <tr>\n      <th>9</th>\n      <td>October 1st, 2015</td>\n    </tr>\n    <tr>\n      <th>10</th>\n      <td>November 2nd, 2015</td>\n    </tr>\n    <tr>\n      <th>11</th>\n      <td>December 1st, 2015</td>\n    </tr>\n    <tr>\n      <th>12</th>\n      <td>January 15th, 2016</td>\n    </tr>\n  </tbody>\n</table>\n</div>"
     },
     "metadata": {},
     "output_type": "execute_result",
     "execution_count": 16
    }
   ],
   "source": [
    "#long stub at the back\n",
    "effective_date = ql.Date(1,1,2015)\n",
    "penultimate_date = ql.Date(1,12,2015)\n",
    "termination_date = ql.Date(15,1,2016)\n",
    "schedule = ql.Schedule(effective_date,\n",
    "                       termination_date,\n",
    "                       tenor,\n",
    "                       calendar,\n",
    "                       business_convention,\n",
    "                       termination_business_convention,\n",
    "                       ql.DateGeneration.Forward,\n",
    "                       end_of_month,\n",
    "                       ql.Date(),\n",
    "                       penultimate_date)\n",
    "\n",
    "pd.DataFrame({'date': list(schedule)})"
   ],
   "metadata": {
    "collapsed": false,
    "pycharm": {
     "name": "#%%\n",
     "is_executing": false
    }
   }
  },
  {
   "cell_type": "markdown",
   "source": [
    "## Interest Rate"
   ],
   "metadata": {
    "collapsed": false,
    "pycharm": {
     "name": "#%% md\n"
    }
   }
  },
  {
   "cell_type": "code",
   "execution_count": 17,
   "outputs": [
    {
     "name": "stdout",
     "text": [
      "5.000000 % Actual/Actual (ISDA) Annual compounding\n"
     ],
     "output_type": "stream"
    }
   ],
   "source": [
    "annual_rate = 0.05\n",
    "day_count = ql.ActualActual()\n",
    "compound_type = ql.Compounded\n",
    "frequency = ql.Annual\n",
    "\n",
    "interest_rate = ql.InterestRate(annual_rate,\n",
    "                                day_count,\n",
    "                                compound_type,\n",
    "                                frequency)\n",
    "print(interest_rate)"
   ],
   "metadata": {
    "collapsed": false,
    "pycharm": {
     "name": "#%%\n",
     "is_executing": false
    }
   }
  },
  {
   "cell_type": "code",
   "execution_count": 18,
   "outputs": [
    {
     "name": "stdout",
     "text": [
      "1.1025\n",
      "1.1025\n"
     ],
     "output_type": "stream"
    }
   ],
   "source": [
    "t = 2.0\n",
    "print(interest_rate.compoundFactor(t))\n",
    "print((1+annual_rate)*(1.0+annual_rate))"
   ],
   "metadata": {
    "collapsed": false,
    "pycharm": {
     "name": "#%%\n",
     "is_executing": false
    }
   }
  },
  {
   "cell_type": "code",
   "execution_count": 19,
   "outputs": [
    {
     "name": "stdout",
     "text": [
      "0.9070294784580498\n",
      "0.9070294784580498\n"
     ],
     "output_type": "stream"
    }
   ],
   "source": [
    "print(interest_rate.discountFactor(t))\n",
    "print(1.0/interest_rate.compoundFactor(t))"
   ],
   "metadata": {
    "collapsed": false,
    "pycharm": {
     "name": "#%%\n",
     "is_executing": false
    }
   }
  },
  {
   "cell_type": "code",
   "execution_count": 20,
   "outputs": [
    {
     "name": "stdout",
     "text": [
      "4.939015 % Actual/Actual (ISDA) Semiannual compounding\n"
     ],
     "output_type": "stream"
    }
   ],
   "source": [
    "new_frequency = ql.Semiannual\n",
    "new_interest_rate = interest_rate.equivalentRate(compound_type, new_frequency, t)\n",
    "\n",
    "print(new_interest_rate)"
   ],
   "metadata": {
    "collapsed": false,
    "pycharm": {
     "name": "#%%\n",
     "is_executing": false
    }
   }
  },
  {
   "cell_type": "code",
   "execution_count": 21,
   "outputs": [
    {
     "name": "stdout",
     "text": [
      "0.9070294784580498\n",
      "0.9070294784580495\n"
     ],
     "output_type": "stream"
    }
   ],
   "source": [
    "print(interest_rate.discountFactor(t))\n",
    "print(new_interest_rate.discountFactor(t))"
   ],
   "metadata": {
    "collapsed": false,
    "pycharm": {
     "name": "#%%\n",
     "is_executing": false
    }
   }
  },
  {
   "cell_type": "code",
   "execution_count": 22,
   "outputs": [],
   "source": [
    "p = ql.Period(3, ql.Years)"
   ],
   "metadata": {
    "collapsed": false,
    "pycharm": {
     "name": "#%%\n",
     "is_executing": false
    }
   }
  },
  {
   "cell_type": "code",
   "execution_count": 23,
   "outputs": [
    {
     "data": {
      "text/plain": "3"
     },
     "metadata": {},
     "output_type": "execute_result",
     "execution_count": 23
    }
   ],
   "source": [
    "p.units()\n",
    "\n"
   ],
   "metadata": {
    "collapsed": false,
    "pycharm": {
     "name": "#%%\n",
     "is_executing": false
    }
   }
  },
  {
   "cell_type": "code",
   "execution_count": 24,
   "outputs": [
    {
     "data": {
      "text/plain": "<bound method Period.length of Period(\"3Y\")>"
     },
     "metadata": {},
     "output_type": "execute_result",
     "execution_count": 24
    }
   ],
   "source": [
    "p.length"
   ],
   "metadata": {
    "collapsed": false,
    "pycharm": {
     "name": "#%%\n",
     "is_executing": false
    }
   }
  },
  {
   "cell_type": "code",
   "execution_count": 25,
   "outputs": [],
   "source": [
    "q2 = ql.Period(2, ql.Years)"
   ],
   "metadata": {
    "collapsed": false,
    "pycharm": {
     "name": "#%%\n",
     "is_executing": false
    }
   }
  },
  {
   "cell_type": "code",
   "execution_count": 26,
   "outputs": [
    {
     "traceback": [
      "\u001b[1;31m---------------------------------------------------------------------------\u001b[0m",
      "\u001b[1;31mTypeError\u001b[0m                                 Traceback (most recent call last)",
      "\u001b[1;32m<ipython-input-26-9a20d375daf6>\u001b[0m in \u001b[0;36m<module>\u001b[1;34m\u001b[0m\n\u001b[1;32m----> 1\u001b[1;33m \u001b[0mp\u001b[0m\u001b[1;33m+\u001b[0m\u001b[0mq2\u001b[0m\u001b[1;33m\u001b[0m\u001b[0m\n\u001b[0m\u001b[0;32m      2\u001b[0m \u001b[1;33m\u001b[0m\u001b[0m\n",
      "\u001b[1;31mTypeError\u001b[0m: unsupported operand type(s) for +: 'Period' and 'Period'"
     ],
     "ename": "TypeError",
     "evalue": "unsupported operand type(s) for +: 'Period' and 'Period'",
     "output_type": "error"
    }
   ],
   "source": [
    "p+q2"
   ],
   "metadata": {
    "collapsed": false,
    "pycharm": {
     "name": "#%%\n",
     "is_executing": false
    }
   }
  },
  {
   "cell_type": "code",
   "execution_count": 27,
   "outputs": [
    {
     "data": {
      "text/plain": "Period(\"9Y\")"
     },
     "metadata": {},
     "output_type": "execute_result",
     "execution_count": 27
    }
   ],
   "source": [
    "3*p"
   ],
   "metadata": {
    "collapsed": false,
    "pycharm": {
     "name": "#%%\n",
     "is_executing": false
    }
   }
  },
  {
   "cell_type": "code",
   "execution_count": 28,
   "outputs": [
    {
     "traceback": [
      "\u001b[1;31m---------------------------------------------------------------------------\u001b[0m",
      "\u001b[1;31mTypeError\u001b[0m                                 Traceback (most recent call last)",
      "\u001b[1;32m<ipython-input-28-543e0e154e17>\u001b[0m in \u001b[0;36m<module>\u001b[1;34m\u001b[0m\n\u001b[1;32m----> 1\u001b[1;33m \u001b[0mp\u001b[0m\u001b[1;33m/\u001b[0m\u001b[1;36m250\u001b[0m\u001b[1;33m\u001b[0m\u001b[0m\n\u001b[0m\u001b[0;32m      2\u001b[0m \u001b[1;33m\u001b[0m\u001b[0m\n",
      "\u001b[1;31mTypeError\u001b[0m: unsupported operand type(s) for /: 'Period' and 'int'"
     ],
     "ename": "TypeError",
     "evalue": "unsupported operand type(s) for /: 'Period' and 'int'",
     "output_type": "error"
    }
   ],
   "source": [
    "p/250"
   ],
   "metadata": {
    "collapsed": false,
    "pycharm": {
     "name": "#%%\n",
     "is_executing": false
    }
   }
  },
  {
   "cell_type": "code",
   "execution_count": 29,
   "outputs": [
    {
     "data": {
      "text/plain": "9"
     },
     "metadata": {},
     "output_type": "execute_result",
     "execution_count": 29
    }
   ],
   "source": [
    "3*ql.Years"
   ],
   "metadata": {
    "collapsed": false,
    "pycharm": {
     "name": "#%%\n",
     "is_executing": false
    }
   }
  },
  {
   "cell_type": "code",
   "execution_count": 31,
   "outputs": [
    {
     "data": {
      "text/plain": "9"
     },
     "metadata": {},
     "output_type": "execute_result",
     "execution_count": 31
    }
   ],
   "source": [
    "p.length()*p.units()"
   ],
   "metadata": {
    "collapsed": false,
    "pycharm": {
     "name": "#%%\n",
     "is_executing": false
    }
   }
  },
  {
   "cell_type": "code",
   "execution_count": 32,
   "outputs": [],
   "source": [
    "q = ql.Period(3, ql.Weeks)"
   ],
   "metadata": {
    "collapsed": false,
    "pycharm": {
     "name": "#%%\n",
     "is_executing": false
    }
   }
  },
  {
   "cell_type": "code",
   "execution_count": 33,
   "outputs": [
    {
     "data": {
      "text/plain": "3"
     },
     "metadata": {},
     "output_type": "execute_result",
     "execution_count": 33
    }
   ],
   "source": [
    "q.length()*q.units()"
   ],
   "metadata": {
    "collapsed": false,
    "pycharm": {
     "name": "#%%\n",
     "is_executing": false
    }
   }
  },
  {
   "cell_type": "code",
   "execution_count": null,
   "outputs": [],
   "source": [
    "\n"
   ],
   "metadata": {
    "collapsed": false,
    "pycharm": {
     "name": "#%%\n"
    }
   }
  }
 ],
 "metadata": {
  "kernelspec": {
   "display_name": "Python 3",
   "language": "python",
   "name": "python3"
  },
  "language_info": {
   "codemirror_mode": {
    "name": "ipython",
    "version": 3
   },
   "file_extension": ".py",
   "mimetype": "text/x-python",
   "name": "python",
   "nbconvert_exporter": "python",
   "pygments_lexer": "ipython3",
   "version": "3.6.5"
  },
  "pycharm": {
   "stem_cell": {
    "cell_type": "raw",
    "source": [],
    "metadata": {
     "collapsed": false
    }
   }
  }
 },
 "nbformat": 4,
 "nbformat_minor": 1
}