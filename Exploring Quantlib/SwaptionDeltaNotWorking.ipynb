{
 "cells": [
  {
   "cell_type": "markdown",
   "metadata": {
    "collapsed": true,
    "pycharm": {
     "name": "#%% md\n"
    }
   },
   "source": [
    "## Minimal example for swaption delta\n",
    "\n",
    "I try to calculate the DV01 of a swap and swaption to the interest rate. I have observed that for unknown reasons the Swap does have a DV01 whereas the Swaption calculates to a DV01 of 0. This doesn't make any sense in my opinion."
   ]
  },
  {
   "cell_type": "markdown",
   "source": [
    "#### Set up market data \n",
    "I'm working in a single curve environment with a flat interest rate curve. I also work with a single volatility value that represents the entire swaption vola surface."
   ],
   "metadata": {
    "collapsed": false
   }
  },
  {
   "cell_type": "code",
   "execution_count": 1,
   "outputs": [],
   "source": [
    "from typing import List\n",
    "import QuantLib as ql\n",
    "\n",
    "today = ql.Date(10, ql.May, 2019)\n",
    "ql.Settings.instance().evaluationDate = today"
   ],
   "metadata": {
    "collapsed": false,
    "pycharm": {
     "name": "#%%\n",
     "is_executing": false
    }
   }
  },
  {
   "cell_type": "code",
   "execution_count": 2,
   "outputs": [],
   "source": [
    "day_count = ql.Actual360()\n",
    "calendar = ql.TARGET()\n",
    "business_day_convention = ql.ModifiedFollowing\n",
    "date_generation = ql.DateGeneration.Forward\n",
    "end_of_month = False"
   ],
   "metadata": {
    "collapsed": false,
    "pycharm": {
     "name": "#%%\n",
     "is_executing": false
    }
   }
  },
  {
   "cell_type": "code",
   "execution_count": 3,
   "outputs": [],
   "source": [
    "flat_ois_quote = ql.SimpleQuote(0.04)\n",
    "flat_ois_quote_handle = ql.QuoteHandle(flat_ois_quote)\n",
    "ois_curve_handle = ql.YieldTermStructureHandle(ql.FlatForward(today, flat_ois_quote_handle, day_count))\n",
    "\n",
    "index = ql.Euribor3M(ois_curve_handle)"
   ],
   "metadata": {
    "collapsed": false,
    "pycharm": {
     "name": "#%%\n",
     "is_executing": false
    }
   }
  },
  {
   "cell_type": "code",
   "execution_count": 4,
   "outputs": [],
   "source": [
    "ir_vol_quote = ql.SimpleQuote(0.2)\n",
    "ir_vol_handle = ql.QuoteHandle(ir_vol_quote)"
   ],
   "metadata": {
    "collapsed": false,
    "pycharm": {
     "name": "#%%\n",
     "is_executing": false
    }
   }
  },
  {
   "cell_type": "markdown",
   "source": [
    "#### Creating a forward starting Swap\n",
    "\n",
    "I'm creating a forward starting swap that can be evaluated on its own and serves as underlying for the swaption. The swap is at par.\n",
    "Right now the only way I'm aware of to create a par swap is to create an equivalent dummy swap with a dummy fixed rate, extract its fair rate and then create a new par swap with the fair rate as its fixed rate."
   ],
   "metadata": {
    "collapsed": false
   }
  },
  {
   "cell_type": "code",
   "execution_count": 4,
   "outputs": [],
   "source": [
    "notional = 1000000\n",
    "tts = 1  # time to start in years\n",
    "ttm = 2  # time to maturity in years\n",
    "dummy_fixed_rate = 0.02\n",
    "\n",
    "start_date = calendar.advance(today, tts, ql.Years)\n",
    "maturity_date = calendar.advance(today, ttm, ql.Years)"
   ],
   "metadata": {
    "collapsed": false,
    "pycharm": {
     "name": "#%%\n",
     "is_executing": false
    }
   }
  },
  {
   "cell_type": "code",
   "execution_count": 6,
   "outputs": [],
   "source": [
    "# Creating the float leg schedule\n",
    "float_leg_tenor = ql.Period(3, ql.Months)\n",
    "float_schedule = ql.Schedule(start_date, maturity_date, float_leg_tenor, calendar, business_day_convention, business_day_convention, date_generation, end_of_month)"
   ],
   "metadata": {
    "collapsed": false,
    "pycharm": {
     "name": "#%%\n",
     "is_executing": false
    }
   }
  },
  {
   "cell_type": "code",
   "execution_count": 7,
   "outputs": [],
   "source": [
    "# Creating the fixed leg schedule\n",
    "fixed_leg_tenor = ql.Period(3, ql.Months)\n",
    "fixed_schedule = ql.Schedule(start_date, maturity_date, fixed_leg_tenor, calendar, business_day_convention, business_day_convention, date_generation, end_of_month)"
   ],
   "metadata": {
    "collapsed": false,
    "pycharm": {
     "name": "#%%\n",
     "is_executing": false
    }
   }
  },
  {
   "cell_type": "code",
   "execution_count": 8,
   "outputs": [],
   "source": [
    "# Creating the super simple single curve pricing engine\n",
    "pricing_engine = ql.DiscountingSwapEngine(ois_curve_handle)"
   ],
   "metadata": {
    "collapsed": false,
    "pycharm": {
     "name": "#%%\n",
     "is_executing": false
    }
   }
  },
  {
   "cell_type": "code",
   "execution_count": 9,
   "outputs": [
    {
     "name": "stdout",
     "text": [
      "0.040203012205051666\n",
      "-19122.912717654242\n"
     ],
     "output_type": "stream"
    }
   ],
   "source": [
    "#creating the dummy swap and calculating its fair rate\n",
    "direction = ql.VanillaSwap.Receiver\n",
    "dummy_swap = ql.VanillaSwap(direction, notional, fixed_schedule, dummy_fixed_rate, day_count, float_schedule, index, spread=0, floatingDayCount=day_count)\n",
    "dummy_swap.setPricingEngine(pricing_engine)\n",
    "fair_rate = dummy_swap.fairRate()\n",
    "print(fair_rate)\n",
    "print(dummy_swap.NPV())"
   ],
   "metadata": {
    "collapsed": false,
    "pycharm": {
     "name": "#%%\n",
     "is_executing": false
    }
   }
  },
  {
   "cell_type": "code",
   "execution_count": 10,
   "outputs": [
    {
     "name": "stdout",
     "text": [
      "7.275957614183426e-12\n"
     ],
     "output_type": "stream"
    }
   ],
   "source": [
    "#creating the real swap using the calculated fair rate\n",
    "swap = ql.VanillaSwap(direction, notional, fixed_schedule, fair_rate, day_count, float_schedule, index, spread=0, floatingDayCount=day_count)\n",
    "swap.setPricingEngine(pricing_engine)\n",
    "print(swap.NPV())"
   ],
   "metadata": {
    "collapsed": false,
    "pycharm": {
     "name": "#%%\n",
     "is_executing": false
    }
   }
  },
  {
   "cell_type": "markdown",
   "source": [
    "#### Creating the Swaption\n",
    "The swaptions exercise date is on the start date of the forward starting swap that is the swaptions underlying."
   ],
   "metadata": {
    "collapsed": false
   }
  },
  {
   "cell_type": "code",
   "execution_count": 11,
   "outputs": [
    {
     "name": "stdout",
     "text": [
      "3035.3261267062176\n"
     ],
     "output_type": "stream"
    }
   ],
   "source": [
    "swaption_pricing_engine = ql.BlackSwaptionEngine(ois_curve_handle, ir_vol_handle)\n",
    "exerciseDate = today+ ql.Period(1, ql.Years)\n",
    "exercise = ql.EuropeanExercise(exerciseDate)\n",
    "swaption = ql.Swaption(swap, exercise)\n",
    "swaption.setPricingEngine(swaption_pricing_engine)\n",
    "print(swaption.NPV())"
   ],
   "metadata": {
    "collapsed": false,
    "pycharm": {
     "name": "#%%\n",
     "is_executing": false
    }
   }
  },
  {
   "cell_type": "markdown",
   "source": [
    "#### Finite difference calculator\n",
    "To facilitate sensitivity calculation I set up a quick utility function that calculates a sensitivity with finite differences."
   ],
   "metadata": {
    "collapsed": false
   }
  },
  {
   "cell_type": "code",
   "execution_count": 12,
   "outputs": [],
   "source": [
    "def fd_sensitivity(quotes: List[ql.SimpleQuote], instrument: ql.Instrument):\n",
    "    abs_bump = 0.0001\n",
    "    p0 = instrument.NPV()\n",
    "    origVals = []\n",
    "    for quote in quotes:\n",
    "        origVals.append(quote.value())\n",
    "        quote.setValue(quote.value()+abs_bump)\n",
    "    p1 = instrument.NPV()\n",
    "    finite_difference = (p1-p0)/abs_bump\n",
    "    origVals.reverse()\n",
    "    for quote in quotes:\n",
    "        quote.setValue(origVals.pop())\n",
    "    return finite_difference"
   ],
   "metadata": {
    "collapsed": false,
    "pycharm": {
     "name": "#%%\n",
     "is_executing": false
    }
   }
  },
  {
   "cell_type": "markdown",
   "source": [
    "#### Calculating Swap Delta"
   ],
   "metadata": {
    "collapsed": false
   }
  },
  {
   "cell_type": "code",
   "execution_count": 14,
   "outputs": [
    {
     "name": "stdout",
     "text": [
      "-956017.1435484517\n"
     ],
     "output_type": "stream"
    }
   ],
   "source": [
    "print(fd_sensitivity([flat_ois_quote], swap))"
   ],
   "metadata": {
    "collapsed": false,
    "pycharm": {
     "name": "#%%\n",
     "is_executing": false
    }
   }
  },
  {
   "cell_type": "markdown",
   "source": [
    "#### Calculating Swaption Delta"
   ],
   "metadata": {
    "collapsed": false,
    "pycharm": {
     "name": "#%% md\n"
    }
   }
  },
  {
   "cell_type": "code",
   "execution_count": 15,
   "outputs": [
    {
     "name": "stdout",
     "text": [
      "-442505.598476323\n"
     ],
     "output_type": "stream"
    }
   ],
   "source": [
    "print(fd_sensitivity([flat_ois_quote], swaption))\n"
   ],
   "metadata": {
    "collapsed": false,
    "pycharm": {
     "name": "#%%\n",
     "is_executing": false
    }
   }
  }
 ],
 "metadata": {
  "kernelspec": {
   "display_name": "Python 3",
   "language": "python",
   "name": "python3"
  },
  "language_info": {
   "codemirror_mode": {
    "name": "ipython",
    "version": 2
   },
   "file_extension": ".py",
   "mimetype": "text/x-python",
   "name": "python",
   "nbconvert_exporter": "python",
   "pygments_lexer": "ipython2",
   "version": "2.7.6"
  },
  "pycharm": {
   "stem_cell": {
    "cell_type": "raw",
    "source": [],
    "metadata": {
     "collapsed": false
    }
   }
  }
 },
 "nbformat": 4,
 "nbformat_minor": 0
}