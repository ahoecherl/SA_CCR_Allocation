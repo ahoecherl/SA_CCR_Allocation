{
 "cells": [
  {
   "cell_type": "markdown",
   "metadata": {
    "collapsed": true,
    "pycharm": {
     "name": "#%% md\n"
    }
   },
   "source": [
    "## OIS Bootstrap\n",
    "\n",
    "The goal of this notebook is to bootstrap an OIS Zero Curve from Swap par quotes. Afterwards, I want to validate the created curve by manually creating an OIS Swap, use the bootstrapped curve to price it and to hit the par quote which I have put in in the first place. I.e. I want to perform a round trip pricing validation of my bootstrapped curve."
   ]
  },
  {
   "cell_type": "code",
   "execution_count": 1,
   "outputs": [],
   "source": [
    "# initiating\n",
    "\n",
    "import QuantLib as ql\n",
    "\n",
    "today = ql.Date(10, ql.May, 2019)\n",
    "ql.Settings.instance().evaluationDate = today"
   ],
   "metadata": {
    "collapsed": false,
    "pycharm": {
     "name": "#%%\n"
    }
   }
  },
  {
   "cell_type": "code",
   "execution_count": 2,
   "outputs": [],
   "source": [
    "# Par Quotes used as input\n",
    "\n",
    "swap_quotes = {ql.Period(2, ql.Weeks): ql.SimpleQuote(-0.36503/100),\n",
    "               ql.Period(1, ql.Months): ql.SimpleQuote(-0.3650/100),\n",
    "               ql.Period(3, ql.Months): ql.SimpleQuote(-0.36521/100),\n",
    "               ql.Period(6, ql.Months): ql.SimpleQuote(-0.36754/100),\n",
    "               ql.Period(1, ql.Years): ql.SimpleQuote(-0.37488/100),\n",
    "               ql.Period(2, ql.Years): ql.SimpleQuote(-0.36102/100),\n",
    "               ql.Period(3, ql.Years): ql.SimpleQuote(-0.31511/100),\n",
    "               ql.Period(10, ql.Years): ql.SimpleQuote(0.28879/100),\n",
    "               ql.Period(15, ql.Years): ql.SimpleQuote(0.62908/100),\n",
    "               ql.Period(20, ql.Years): ql.SimpleQuote(0.82255/100),\n",
    "               ql.Period(30, ql.Years): ql.SimpleQuote(0.92238/100)}"
   ],
   "metadata": {
    "collapsed": false,
    "pycharm": {
     "name": "#%%\n"
    }
   }
  },
  {
   "cell_type": "markdown",
   "source": [
    "As described in the Quantlib Cookbook we can use the OISRateHelper to automatically create a bunch of OvernightIndexedSwaps from these quotes. To my understanding most properties (fixing rolling etc) of these swaps are implied by the used index - in this case the EONIA index."
   ],
   "metadata": {
    "collapsed": false,
    "pycharm": {
     "name": "#%% md\n"
    }
   }
  },
  {
   "cell_type": "code",
   "execution_count": 3,
   "outputs": [],
   "source": [
    "eonia_index = ql.Eonia()\n",
    "\n",
    "helpers = []\n",
    "for tenor, quote in swap_quotes.items():\n",
    "    helpers.append(ql.OISRateHelper(0, tenor, ql.QuoteHandle(quote), eonia_index))"
   ],
   "metadata": {
    "collapsed": false,
    "pycharm": {
     "name": "#%%\n"
    }
   }
  },
  {
   "cell_type": "markdown",
   "source": [
    "Again as described in the Cookbook we are using the PiecewiseLogCubicDiscount method to bootstrap and interpolate a curve out of the swaps created by the OISRateHelper. Unfortunately, PiecwiseLogCubicDiscount does not appear to exist as a class in C++ QuantLib. It is probably a special case of some other class but I'm therefore struggling to find documentation on its properties and methods."
   ],
   "metadata": {
    "collapsed": false,
    "pycharm": {
     "name": "#%% md\n"
    }
   }
  },
  {
   "cell_type": "code",
   "execution_count": 4,
   "outputs": [],
   "source": [
    "eonia_curve = ql.PiecewiseLogCubicDiscount(0, ql.TARGET(), helpers, ql.Actual360())\n",
    "eonia_curve.enableExtrapolation()"
   ],
   "metadata": {
    "collapsed": false,
    "pycharm": {
     "name": "#%%\n"
    }
   }
  },
  {
   "cell_type": "markdown",
   "source": [
    "After this, the object can create nice looking curves as can be seen when plotting a Zero and 1D Forward Curve from it:"
   ],
   "metadata": {
    "collapsed": false,
    "pycharm": {
     "name": "#%% md\n"
    }
   }
  },
  {
   "cell_type": "code",
   "execution_count": 5,
   "outputs": [],
   "source": [
    "end= today+ql.Period(30, ql.Years)\n",
    "dates= [ql.Date(serial) for serial in range((today+ql.Period(4, ql.Days)).serialNumber(), end.serialNumber()+1)]\n",
    "forward_rates = [eonia_curve.forwardRate(d, ql.TARGET().advance(d,1,ql.Days), ql.Actual360(), ql.Simple).rate() for d in dates]\n",
    "zero_rates = [eonia_curve.zeroRate(d, ql.Actual360(), ql.Simple).rate() for d in dates]"
   ],
   "metadata": {
    "collapsed": false,
    "pycharm": {
     "name": "#%%\n"
    }
   }
  },
  {
   "cell_type": "code",
   "execution_count": 6,
   "outputs": [
    {
     "data": {
      "text/plain": "<Figure size 864x576 with 1 Axes>",
      "image/png": "[encoded data removed]"
     },
     "metadata": {
      "needs_background": "light"
     },
     "output_type": "display_data"
    }
   ],
   "source": [
    "from quantlibpythoncookbook_extras import utils\n",
    "\n",
    "_, ax = utils.plot()\n",
    "utils.highlight_x_axis(ax)\n",
    "utils.plot_curve(ax, dates, [(forward_rates, '-')], format_rates=True)\n",
    "utils.plot_curve(ax, dates, [(zero_rates, '.')], format_rates=True)"
   ],
   "metadata": {
    "collapsed": false,
    "pycharm": {
     "name": "#%%\n"
    }
   }
  },
  {
   "cell_type": "markdown",
   "source": [
    "Next, I want to manually create an OvernightIndexedSwap that matches one that QuantLib has 'automatically' created to build the curve. I'm choosing the 1 Year OIS Swap - the Swap on position 4 of the helper array."
   ],
   "metadata": {
    "collapsed": false,
    "pycharm": {
     "name": "#%% md\n"
    }
   }
  },
  {
   "cell_type": "code",
   "execution_count": 7,
   "outputs": [
    {
     "name": "stdout",
     "output_type": "stream",
     "text": [
      "May 11th, 2020\n",
      "May 11th, 2020\n"
     ]
    }
   ],
   "source": [
    "reference_swap = helpers[4].swap()\n",
    "reference_fixed_leg = reference_swap.fixedLeg()\n",
    "print(reference_fixed_leg[0].date())\n",
    "reference_overnight_leg = reference_swap.overnightLeg()\n",
    "print(reference_overnight_leg[0].date())\n",
    "testType = reference_swap.type()"
   ],
   "metadata": {
    "collapsed": false,
    "pycharm": {
     "name": "#%%\n"
    }
   }
  },
  {
   "cell_type": "markdown",
   "source": [
    "I can ask the swap for its fair rate and see that it is the same as the input quote. I'm not sure where the pricing engine is coming from that this swap is using to be honest."
   ],
   "metadata": {
    "collapsed": false
   }
  },
  {
   "cell_type": "code",
   "execution_count": 8,
   "outputs": [
    {
     "name": "stdout",
     "output_type": "stream",
     "text": [
      "-0.0037487999999999333\n",
      "-0.0037488\n"
     ]
    }
   ],
   "source": [
    "print(reference_swap.fairRate())\n",
    "print(swap_quotes[ql.Period(1, ql.Years)].value())"
   ],
   "metadata": {
    "collapsed": false,
    "pycharm": {
     "name": "#%%\n"
    }
   }
  },
  {
   "cell_type": "markdown",
   "source": [
    "Now i can change the pricing engine and associate the created eonia index with the created yield curve"
   ],
   "metadata": {
    "collapsed": false,
    "pycharm": {
     "name": "#%% md\n"
    }
   }
  },
  {
   "cell_type": "code",
   "execution_count": 9,
   "outputs": [],
   "source": [
    "pricing_engine = ql.DiscountingSwapEngine(ql.YieldTermStructureHandle(eonia_curve))\n",
    "eonia_index = ql.Eonia(ql.YieldTermStructureHandle(eonia_curve))"
   ],
   "metadata": {
    "collapsed": false,
    "pycharm": {
     "name": "#%%\n"
    }
   }
  },
  {
   "cell_type": "markdown",
   "source": [
    "Next, I'm creating an equivalent OIS manually."
   ],
   "metadata": {
    "collapsed": false,
    "pycharm": {
     "name": "#%% md\n"
    }
   }
  },
  {
   "cell_type": "code",
   "execution_count": 10,
   "outputs": [],
   "source": [
    "nominal = 1.0\n",
    "fixedRate = 0.00\n",
    "dc = ql.Actual360()\n",
    "type = ql.OvernightIndexedSwap.Payer\n",
    "test_schedule = ql.Schedule (today, ql.Date(11, ql.May, 2020), ql.Period(1, ql.Years), ql.TARGET(), ql.ModifiedFollowing, ql.ModifiedFollowing, ql.DateGeneration.Forward, False)\n",
    "test_schedule2 = ql.Schedule([ql.Date(13, ql.May, 2020)], ql.TARGET())\n",
    "test_ois = ql.OvernightIndexedSwap(type, nominal, test_schedule, fixedRate, dc, eonia_index)"
   ],
   "metadata": {
    "collapsed": false,
    "pycharm": {
     "name": "#%%\n"
    }
   }
  },
  {
   "cell_type": "markdown",
   "source": [
    "Now, to calculate this swap's par rate for comparison, I do need to attach a pricing engine to this trade. Here I'am currently getting stuck. I can't figure out how to create a pricing engine from my PiecewiseLogCubicDiscount object."
   ],
   "metadata": {
    "collapsed": false,
    "pycharm": {
     "name": "#%% md\n"
    }
   }
  },
  {
   "cell_type": "code",
   "execution_count": 11,
   "outputs": [],
   "source": [
    "test_ois.setPricingEngine(pricing_engine)\n"
   ],
   "metadata": {
    "collapsed": false,
    "pycharm": {
     "name": "#%%\n"
    }
   }
  },
  {
   "cell_type": "code",
   "execution_count": 12,
   "outputs": [
    {
     "data": {
      "text/plain": "-0.0037487999999999333"
     },
     "execution_count": 12,
     "metadata": {},
     "output_type": "execute_result"
    }
   ],
   "source": [
    "test_ois.fairRate()\n"
   ],
   "metadata": {
    "collapsed": false,
    "pycharm": {
     "name": "#%% \n"
    }
   }
  },
  {
   "cell_type": "markdown",
   "source": [
    "Try to use this pricing engine on the original swap instead."
   ],
   "metadata": {
    "collapsed": false,
    "pycharm": {
     "name": "#%% md\n"
    }
   }
  },
  {
   "cell_type": "code",
   "execution_count": 13,
   "outputs": [
    {
     "data": {
      "text/plain": "-0.0037487999999999333"
     },
     "execution_count": 13,
     "metadata": {},
     "output_type": "execute_result"
    }
   ],
   "source": [
    "reference_swap.setPricingEngine(pricing_engine)\n",
    "reference_swap.fairRate()"
   ],
   "metadata": {
    "collapsed": false,
    "pycharm": {
     "name": "#%%\n"
    }
   }
  },
  {
   "cell_type": "markdown",
   "source": [
    "That worked out! Just for reference below you can see the payment structure of the two swaps."
   ],
   "metadata": {
    "collapsed": false,
    "pycharm": {
     "name": "#%% md\n"
    }
   }
  },
  {
   "cell_type": "code",
   "execution_count": 14,
   "outputs": [
    {
     "name": "stdout",
     "output_type": "stream",
     "text": [
      "May 11th, 2020\n",
      "May 11th, 2020\n",
      "-0.0038216933333332648\n",
      "-0.0038216933333332648\n"
     ]
    }
   ],
   "source": [
    "reference_overnight_leg = reference_swap.overnightLeg()\n",
    "test_overnight_leg = test_ois.overnightLeg()\n",
    "\n",
    "print(reference_overnight_leg[0].date())\n",
    "print(test_overnight_leg[0].date())\n",
    "\n",
    "\n",
    "print(reference_overnight_leg[0].amount())\n",
    "print(test_overnight_leg[0].amount())"
   ],
   "metadata": {
    "collapsed": false,
    "pycharm": {
     "name": "#%%\n"
    }
   }
  },
  {
   "cell_type": "markdown",
   "source": [
    "Let's try again for a two day swap to better understand the Period that the OISHelper uses."
   ],
   "metadata": {
    "collapsed": false,
    "pycharm": {
     "name": "#%% md\n",
     "is_executing": false
    }
   }
  },
  {
   "cell_type": "code",
   "execution_count": 15,
   "outputs": [
    {
     "name": "stdout",
     "output_type": "stream",
     "text": [
      "-0.0038216933333332648\n",
      "May 11th, 2020\n",
      "-0.0035095142103226395\n",
      "May 10th, 2021\n"
     ]
    }
   ],
   "source": [
    "reference_swap = helpers[5].swap()\n",
    "reference_overnight_leg = reference_swap.overnightLeg()\n",
    "for cashflow in reference_overnight_leg:\n",
    "    print(cashflow.amount())\n",
    "    print(cashflow.date())"
   ],
   "metadata": {
    "collapsed": false,
    "pycharm": {
     "name": "#%%\n"
    }
   }
  },
  {
   "cell_type": "code",
   "execution_count": 16,
   "outputs": [],
   "source": [
    "nominal = 1.0\n",
    "fixedRate = 0.00\n",
    "dc = ql.Actual360()\n",
    "type = ql.OvernightIndexedSwap.Payer\n",
    "test_schedule = ql.Schedule (today, ql.Date(10, ql.May, 2021), ql.Period(1, ql.Years), ql.TARGET(), ql.ModifiedFollowing, ql.ModifiedFollowing, ql.DateGeneration.Forward, False)\n",
    "test_ois = ql.OvernightIndexedSwap(type, nominal, test_schedule, fixedRate, dc, eonia_index)"
   ],
   "metadata": {
    "collapsed": false,
    "pycharm": {
     "name": "#%%\n"
    }
   }
  },
  {
   "cell_type": "code",
   "execution_count": 17,
   "outputs": [
    {
     "name": "stdout",
     "output_type": "stream",
     "text": [
      "-0.0038216933333332648\n",
      "May 11th, 2020\n",
      "-0.0035095142103226395\n",
      "May 10th, 2021\n"
     ]
    }
   ],
   "source": [
    "test_overnight_leg = test_ois.overnightLeg()\n",
    "for cashflow in test_overnight_leg:\n",
    "    print(cashflow.amount())\n",
    "    print(cashflow.date())"
   ],
   "metadata": {
    "collapsed": false,
    "pycharm": {
     "name": "#%%\n"
    }
   }
  },
  {
   "cell_type": "code",
   "execution_count": 18,
   "outputs": [
    {
     "name": "stdout",
     "output_type": "stream",
     "text": [
      "-0.0036102000000882554\n",
      "-0.0036102000000882554\n"
     ]
    }
   ],
   "source": [
    "test_ois.setPricingEngine(pricing_engine)\n",
    "print(reference_swap.fairRate())\n",
    "print(test_ois.fairRate())"
   ],
   "metadata": {
    "collapsed": false,
    "pycharm": {
     "name": "#%%\n"
    }
   }
  },
  {
   "cell_type": "markdown",
   "source": [
    "Yes - seems to work :)"
   ],
   "metadata": {
    "collapsed": false,
    "pycharm": {
     "name": "#%% md\n"
    }
   }
  }
 ],
 "metadata": {
  "kernelspec": {
   "display_name": "Python 3",
   "language": "python",
   "name": "python3"
  },
  "language_info": {
   "codemirror_mode": {
    "name": "ipython",
    "version": 2
   },
   "file_extension": ".py",
   "mimetype": "text/x-python",
   "name": "python",
   "nbconvert_exporter": "python",
   "pygments_lexer": "ipython2",
   "version": "2.7.6"
  }
 },
 "nbformat": 4,
 "nbformat_minor": 0
}