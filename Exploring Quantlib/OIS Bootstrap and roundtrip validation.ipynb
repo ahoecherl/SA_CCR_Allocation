{
 "cells": [
  {
   "cell_type": "markdown",
   "metadata": {
    "collapsed": true,
    "pycharm": {
     "name": "#%% md\n"
    }
   },
   "source": [
    "## OIS Bootstrap\n",
    "\n",
    "The goal of this notebook is to bootstrap an OIS Zero Curve from Swap par quotes. Afterwards, I want to validate the created curve by manually creating an OIS Swap, use the bootstrapped curve to price it and to hit the par quote which I have put in in the first place. I.e. I want to perform a round trip pricing validation of my bootstrapped curve."
   ]
  },
  {
   "cell_type": "code",
   "execution_count": 1,
   "outputs": [],
   "source": [
    "# initiating\n",
    "\n",
    "import QuantLib as ql\n",
    "\n",
    "today = ql.Date(10, ql.May, 2019)\n",
    "ql.Settings.instance().evaluationDate = today"
   ],
   "metadata": {
    "collapsed": false,
    "pycharm": {
     "name": "#%%\n",
     "is_executing": false
    }
   }
  },
  {
   "cell_type": "code",
   "execution_count": 2,
   "outputs": [],
   "source": [
    "# Par Quotes used as input\n",
    "\n",
    "swap_quotes = {ql.Period(2, ql.Weeks): ql.SimpleQuote(-0.36503/100),\n",
    "               ql.Period(1, ql.Months): ql.SimpleQuote(-0.3650/100),\n",
    "               ql.Period(3, ql.Months): ql.SimpleQuote(-0.36521/100),\n",
    "               ql.Period(6, ql.Months): ql.SimpleQuote(-0.36754/100),\n",
    "               ql.Period(1, ql.Years): ql.SimpleQuote(-0.37488/100),\n",
    "               ql.Period(3, ql.Years): ql.SimpleQuote(-0.31511/100),\n",
    "               ql.Period(10, ql.Years): ql.SimpleQuote(0.28879/100),\n",
    "               ql.Period(15, ql.Years): ql.SimpleQuote(0.62908/100),\n",
    "               ql.Period(20, ql.Years): ql.SimpleQuote(0.82255/100),\n",
    "               ql.Period(30, ql.Years): ql.SimpleQuote(0.92238/100)}"
   ],
   "metadata": {
    "collapsed": false,
    "pycharm": {
     "name": "#%%\n",
     "is_executing": false
    }
   }
  },
  {
   "cell_type": "markdown",
   "source": [
    "As described in the Quantlib Cookbook we can use the OISRateHelper to automatically create a bunch of OvernightIndexedSwaps from these quotes. To my understanding most properties (fixing rolling etc) of these swaps are implied by the used index - in this case the EONIA index."
   ],
   "metadata": {
    "collapsed": false,
    "pycharm": {
     "name": "#%% md\n"
    }
   }
  },
  {
   "cell_type": "code",
   "execution_count": 3,
   "outputs": [],
   "source": [
    "eonia_index = ql.Eonia()\n",
    "\n",
    "helpers = []\n",
    "for tenor, quote in swap_quotes.items():\n",
    "    helpers.append(ql.OISRateHelper(0, tenor, ql.QuoteHandle(quote), eonia_index))"
   ],
   "metadata": {
    "collapsed": false,
    "pycharm": {
     "name": "#%%\n",
     "is_executing": false
    }
   }
  },
  {
   "cell_type": "markdown",
   "source": [
    "Again as described in the Cookbook we are using the PiecewiseLogCubicDiscount method to bootstrap and interpolate a curve out of the swaps created by the OISRateHelper. Unfortunately, PiecwiseLogCubicDiscount does not appear to exist as a class in C++ QuantLib. It is probably a special case of some other class but I'm therefore struggling to find documentation on its properties and methods."
   ],
   "metadata": {
    "collapsed": false,
    "pycharm": {
     "name": "#%% md\n"
    }
   }
  },
  {
   "cell_type": "code",
   "execution_count": 4,
   "outputs": [],
   "source": [
    "eonia_curve = ql.PiecewiseLogCubicDiscount(0, ql.TARGET(), helpers, ql.Actual360())\n",
    "eonia_curve.enableExtrapolation()"
   ],
   "metadata": {
    "collapsed": false,
    "pycharm": {
     "name": "#%%\n",
     "is_executing": false
    }
   }
  },
  {
   "cell_type": "markdown",
   "source": [
    "After this, the object can create nice looking curves as can be seen when plotting a Zero and 1D Forward Curve from it:"
   ],
   "metadata": {
    "collapsed": false,
    "pycharm": {
     "name": "#%% md\n"
    }
   }
  },
  {
   "cell_type": "code",
   "execution_count": 5,
   "outputs": [],
   "source": [
    "end= today+ql.Period(30, ql.Years)\n",
    "dates= [ql.Date(serial) for serial in range(today.serialNumber(), end.serialNumber()+1)]\n",
    "forward_rates = [eonia_curve.forwardRate(d, ql.TARGET().advance(d,1,ql.Days), ql.Actual360(), ql.Simple).rate() for d in dates]\n",
    "zero_rates = [eonia_curve.zeroRate(d, ql.Actual360(), ql.Simple).rate() for d in dates]"
   ],
   "metadata": {
    "collapsed": false,
    "pycharm": {
     "name": "#%%\n",
     "is_executing": false
    }
   }
  },
  {
   "cell_type": "code",
   "execution_count": 6,
   "outputs": [
    {
     "data": {
      "text/plain": "<Figure size 864x576 with 1 Axes>",
      "image/png": "[encoded data removed]"
     },
     "metadata": {
      "needs_background": "light"
     },
     "output_type": "display_data"
    }
   ],
   "source": [
    "from quantlibpythoncookbook_extras import utils\n",
    "\n",
    "_, ax = utils.plot()\n",
    "utils.highlight_x_axis(ax)\n",
    "utils.plot_curve(ax, dates, [(forward_rates, '-')], format_rates=True)\n",
    "utils.plot_curve(ax, dates, [(zero_rates, '.')], format_rates=True)"
   ],
   "metadata": {
    "collapsed": false,
    "pycharm": {
     "name": "#%%\n",
     "is_executing": false
    }
   }
  },
  {
   "cell_type": "markdown",
   "source": [
    "Next, I want to manually create an OvernightIndexedSwap that matches one that QuantLib has 'automatically' created to build the curve. I'm choosing the 1 Year OIS Swap - the Swap on position 4 of the helper array."
   ],
   "metadata": {
    "collapsed": false,
    "pycharm": {
     "name": "#%% md\n"
    }
   }
  },
  {
   "cell_type": "code",
   "execution_count": 7,
   "outputs": [
    {
     "name": "stdout",
     "text": [
      "May 11th, 2020\n",
      "May 11th, 2020\n"
     ],
     "output_type": "stream"
    }
   ],
   "source": [
    "reference_swap = helpers[4].swap()\n",
    "reference_fixed_leg = reference_swap.fixedLeg()\n",
    "print(reference_fixed_leg[0].date())\n",
    "reference_overnight_leg = reference_swap.overnightLeg()\n",
    "print(reference_overnight_leg[0].date())\n",
    "testType = reference_swap.type()"
   ],
   "metadata": {
    "collapsed": false,
    "pycharm": {
     "name": "#%%\n",
     "is_executing": false
    }
   }
  },
  {
   "cell_type": "markdown",
   "source": [
    "I can ask the swap for its fair rate and see that it is the same as the input quote. I'm not sure where the pricing engine is coming from that this swap is using to be honest."
   ],
   "metadata": {
    "collapsed": false
   }
  },
  {
   "cell_type": "code",
   "execution_count": 8,
   "outputs": [
    {
     "name": "stdout",
     "text": [
      "-0.0037487999999999333\n",
      "-0.0037488\n"
     ],
     "output_type": "stream"
    }
   ],
   "source": [
    "print(reference_swap.fairRate())\n",
    "print(swap_quotes[ql.Period(1, ql.Years)].value())"
   ],
   "metadata": {
    "collapsed": false,
    "pycharm": {
     "name": "#%%\n",
     "is_executing": false
    }
   }
  },
  {
   "cell_type": "markdown",
   "source": [
    "Next, I'm creating an equivalent OIS manually."
   ],
   "metadata": {
    "collapsed": false,
    "pycharm": {
     "name": "#%% md\n"
    }
   }
  },
  {
   "cell_type": "code",
   "execution_count": 9,
   "outputs": [],
   "source": [
    "nominal = 100.0\n",
    "fixedRate = 0.01\n",
    "dc = ql.Actual360()\n",
    "type = ql.OvernightIndexedSwap.Payer\n",
    "test_schedule = ql.Schedule (today, ql.Date(11, ql.May, 2020), ql.Period(1, ql.Days), ql.TARGET(), ql.ModifiedFollowing, ql.ModifiedFollowing, ql.DateGeneration.Forward, False)\n",
    "test_ois = ql.OvernightIndexedSwap(type, nominal, test_schedule, fixedRate, dc, eonia_index)"
   ],
   "metadata": {
    "collapsed": false,
    "pycharm": {
     "name": "#%%\n",
     "is_executing": false
    }
   }
  },
  {
   "cell_type": "markdown",
   "source": [
    "Now, to calculate this swap's par rate for comparison, I do need to attach a pricing engine to this trade. Here I'am currently getting stuck. I can't figure out how to create a pricing engine from my PiecewiseLogCubicDiscount object."
   ],
   "metadata": {
    "collapsed": false,
    "pycharm": {
     "name": "#%% md\n"
    }
   }
  },
  {
   "cell_type": "code",
   "execution_count": 10,
   "outputs": [
    {
     "traceback": [
      "\u001b[1;31m---------------------------------------------------------------------------\u001b[0m",
      "\u001b[1;31mRuntimeError\u001b[0m                              Traceback (most recent call last)",
      "\u001b[1;32m<ipython-input-10-913c83d98274>\u001b[0m in \u001b[0;36m<module>\u001b[1;34m\u001b[0m\n\u001b[0;32m      1\u001b[0m \u001b[0mpricing_engine\u001b[0m \u001b[1;33m=\u001b[0m \u001b[0mql\u001b[0m\u001b[1;33m.\u001b[0m\u001b[0mDiscountingSwapEngine\u001b[0m\u001b[1;33m(\u001b[0m\u001b[0mql\u001b[0m\u001b[1;33m.\u001b[0m\u001b[0mYieldTermStructureHandle\u001b[0m\u001b[1;33m(\u001b[0m\u001b[0meonia_curve\u001b[0m\u001b[1;33m)\u001b[0m\u001b[1;33m)\u001b[0m\u001b[1;33m\u001b[0m\u001b[0m\n\u001b[0;32m      2\u001b[0m \u001b[0mtest_ois\u001b[0m\u001b[1;33m.\u001b[0m\u001b[0msetPricingEngine\u001b[0m\u001b[1;33m(\u001b[0m\u001b[0mpricing_engine\u001b[0m\u001b[1;33m)\u001b[0m\u001b[1;33m\u001b[0m\u001b[0m\n\u001b[1;32m----> 3\u001b[1;33m \u001b[0mtest_ois\u001b[0m\u001b[1;33m.\u001b[0m\u001b[0mfairRate\u001b[0m\u001b[1;33m(\u001b[0m\u001b[1;33m)\u001b[0m\u001b[1;33m\u001b[0m\u001b[0m\n\u001b[0m\u001b[0;32m      4\u001b[0m \u001b[1;33m\u001b[0m\u001b[0m\n\u001b[0;32m      5\u001b[0m \u001b[1;33m\u001b[0m\u001b[0m\n",
      "\u001b[1;32mc:\\users\\d91097\\pythonvenvs\\sa_ccr_allocation\\lib\\site-packages\\QuantLib\\QuantLib.py\u001b[0m in \u001b[0;36mfairRate\u001b[1;34m(self)\u001b[0m\n\u001b[0;32m  14082\u001b[0m \u001b[1;33m\u001b[0m\u001b[0m\n\u001b[0;32m  14083\u001b[0m     \u001b[1;32mdef\u001b[0m \u001b[0mfairRate\u001b[0m\u001b[1;33m(\u001b[0m\u001b[0mself\u001b[0m\u001b[1;33m)\u001b[0m\u001b[1;33m:\u001b[0m\u001b[1;33m\u001b[0m\u001b[0m\n\u001b[1;32m> 14084\u001b[1;33m         \u001b[1;32mreturn\u001b[0m \u001b[0m_QuantLib\u001b[0m\u001b[1;33m.\u001b[0m\u001b[0mOvernightIndexedSwap_fairRate\u001b[0m\u001b[1;33m(\u001b[0m\u001b[0mself\u001b[0m\u001b[1;33m)\u001b[0m\u001b[1;33m\u001b[0m\u001b[0m\n\u001b[0m\u001b[0;32m  14085\u001b[0m \u001b[1;33m\u001b[0m\u001b[0m\n\u001b[0;32m  14086\u001b[0m     \u001b[1;32mdef\u001b[0m \u001b[0movernightLegBPS\u001b[0m\u001b[1;33m(\u001b[0m\u001b[0mself\u001b[0m\u001b[1;33m)\u001b[0m\u001b[1;33m:\u001b[0m\u001b[1;33m\u001b[0m\u001b[0m\n",
      "\u001b[1;31mRuntimeError\u001b[0m: 2nd leg: null term structure set to this instance of EoniaON Actual/360"
     ],
     "ename": "RuntimeError",
     "evalue": "2nd leg: null term structure set to this instance of EoniaON Actual/360",
     "output_type": "error"
    }
   ],
   "source": [
    "pricing_engine = ql.DiscountingSwapEngine(ql.YieldTermStructureHandle(eonia_curve))\n",
    "test_ois.setPricingEngine(pricing_engine)\n",
    "test_ois.fairRate()\n"
   ],
   "metadata": {
    "collapsed": false,
    "pycharm": {
     "name": "#%%\n",
     "is_executing": false
    }
   }
  },
  {
   "cell_type": "markdown",
   "source": [
    "Try to use this pricing engine on the original swap instead."
   ],
   "metadata": {
    "collapsed": false,
    "pycharm": {
     "name": "#%% md\n"
    }
   }
  },
  {
   "cell_type": "code",
   "execution_count": null,
   "outputs": [],
   "source": [
    "reference_swap.setPricingEngine(pricing_engine)\n",
    "reference_swap.fairRate()"
   ],
   "metadata": {
    "collapsed": false,
    "pycharm": {
     "name": "#%%\n",
     "is_executing": false
    }
   }
  },
  {
   "cell_type": "markdown",
   "source": [
    "PiecewiseLogCubicDiscount does not appear to be a YieldTermStructure and since it is also not documented I don't know how to extract a YieldTermStructure from it. Especially, I want to still keep the dependency of the curve to the original quotes to make it simple to calculate par sensitivities."
   ],
   "metadata": {
    "collapsed": false,
    "pycharm": {
     "name": "#%% md\n"
    }
   }
  },
  {
   "cell_type": "code",
   "execution_count": null,
   "outputs": [],
   "source": [
    "dates, rates = zip(*eonia_curve.nodes())\n",
    "\n",
    "dummy_TS=ql.DiscountCurve(dates, rates, ql.Actual360())\n",
    "pricing_engine = ql.DiscountingSwapEngine(dummy_TS)"
   ],
   "metadata": {
    "collapsed": false,
    "pycharm": {
     "name": "#%%\n",
     "is_executing": false
    }
   }
  }
 ],
 "metadata": {
  "kernelspec": {
   "display_name": "Python 3",
   "language": "python",
   "name": "python3"
  },
  "language_info": {
   "codemirror_mode": {
    "name": "ipython",
    "version": 2
   },
   "file_extension": ".py",
   "mimetype": "text/x-python",
   "name": "python",
   "nbconvert_exporter": "python",
   "pygments_lexer": "ipython2",
   "version": "2.7.6"
  },
  "pycharm": {
   "stem_cell": {
    "cell_type": "raw",
    "source": [],
    "metadata": {
     "collapsed": false
    }
   }
  }
 },
 "nbformat": 4,
 "nbformat_minor": 0
}