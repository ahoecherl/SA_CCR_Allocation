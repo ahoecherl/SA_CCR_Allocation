{
 "cells": [
  {
   "cell_type": "markdown",
   "metadata": {
    "collapsed": true,
    "pycharm": {
     "name": "#%% md\n"
    }
   },
   "source": [
    "Import and initializing market data"
   ]
  },
  {
   "cell_type": "code",
   "execution_count": 1,
   "outputs": [],
   "source": [
    "from instruments.interestRateInstrument.interestRateSwap import InterestRateSwap\n",
    "from instruments.interestRateInstrument.swaption import Swaption\n",
    "from marketdata import init_marketdata\n",
    "\n"
   ],
   "metadata": {
    "collapsed": false,
    "pycharm": {
     "name": "#%%\n",
     "is_executing": false
    }
   }
  },
  {
   "cell_type": "code",
   "execution_count": 2,
   "outputs": [],
   "source": [
    "from marketdata.interestRateCurves import flat_ois_quote\n",
    "from marketdata.swaptionVolatility import vols, parallelshift"
   ],
   "metadata": {
    "collapsed": false,
    "pycharm": {
     "name": "#%%\n",
     "is_executing": false
    }
   }
  },
  {
   "cell_type": "markdown",
   "source": [
    "Create a swaption"
   ],
   "metadata": {
    "collapsed": false
   }
  },
  {
   "cell_type": "code",
   "execution_count": 3,
   "outputs": [
    {
     "name": "stdout",
     "text": [
      "1228.1266753088182\n"
     ],
     "output_type": "stream"
    }
   ],
   "source": [
    "from utilities.Enums import Currency, SwapDirection, TradeDirection\n",
    "fw_swap = InterestRateSwap(notional=1000000, currency=Currency.USD, timeToSwapStart_in_days=1 * 360,\n",
    "                               timeToSwapEnd_in_days=3 * 360, swapDirection=SwapDirection.PAYER)\n",
    "fair_rate = fw_swap.ql_swap.fairRate()\n",
    "swaption = Swaption(underlyingSwap=fw_swap,\n",
    "                    optionMaturity_in_days=1 * 360,\n",
    "                    tradeDirection=TradeDirection.SHORT,\n",
    "                    strikeFixedRate=fair_rate)\n",
    "p0 = swaption.get_price()\n",
    "print(p0)\n"
   ],
   "metadata": {
    "collapsed": false,
    "pycharm": {
     "name": "#%%\n",
     "is_executing": false
    }
   }
  },
  {
   "cell_type": "code",
   "execution_count": 4,
   "outputs": [
    {
     "name": "stdout",
     "text": [
      "2.0359650889952263\n"
     ],
     "output_type": "stream"
    }
   ],
   "source": [
    "parallelshift(vols, 0.0001)\n",
    "p1 = swaption.get_price()\n",
    "DV01 = p1-p0\n",
    "print(DV01)"
   ],
   "metadata": {
    "collapsed": false,
    "pycharm": {
     "name": "#%%\n",
     "is_executing": false
    }
   }
  },
  {
   "cell_type": "code",
   "execution_count": 5,
   "outputs": [
    {
     "data": {
      "text/plain": "True"
     },
     "metadata": {},
     "output_type": "execute_result",
     "execution_count": 5
    }
   ],
   "source": [
    "parallelshift(vols, -0.0001)\n",
    "p2 = swaption.get_price()\n",
    "p0==p2"
   ],
   "metadata": {
    "collapsed": false,
    "pycharm": {
     "name": "#%%\n",
     "is_executing": false
    }
   }
  },
  {
   "cell_type": "markdown",
   "source": [
    "Now let's look into the swaption delta which should be quite straight forward\n",
    "\n"
   ],
   "metadata": {
    "collapsed": false
   }
  },
  {
   "cell_type": "code",
   "execution_count": 6,
   "outputs": [
    {
     "name": "stdout",
     "text": [
      "0.0\n"
     ],
     "output_type": "stream"
    }
   ],
   "source": [
    "p0 = swaption.get_price()\n",
    "\n",
    "from marketdata.interestRateCurves import flat_ois_quote\n",
    "\n",
    "flat_ois_quote.setValue(flat_ois_quote.value()+0.0001)\n",
    "\n",
    "p1 = swaption.get_price()\n",
    "DV01 = p1-p0\n",
    "print(DV01)"
   ],
   "metadata": {
    "collapsed": false,
    "pycharm": {
     "name": "#%%\n",
     "is_executing": false
    }
   }
  },
  {
   "cell_type": "code",
   "execution_count": 7,
   "outputs": [
    {
     "data": {
      "text/plain": "True"
     },
     "metadata": {},
     "output_type": "execute_result",
     "execution_count": 7
    }
   ],
   "source": [
    "flat_ois_quote.setValue(flat_ois_quote.value()-0.0001)\n",
    "p2 = swaption.get_price()\n",
    "p2==p0\n",
    "\n"
   ],
   "metadata": {
    "collapsed": false,
    "pycharm": {
     "name": "#%%\n",
     "is_executing": false
    }
   }
  },
  {
   "cell_type": "markdown",
   "source": [
    "let's try again by just evaluating the underlying swap"
   ],
   "metadata": {
    "collapsed": false
   }
  },
  {
   "cell_type": "code",
   "execution_count": 8,
   "outputs": [
    {
     "name": "stdout",
     "text": [
      "1.6423768546810606\n"
     ],
     "output_type": "stream"
    }
   ],
   "source": [
    "swap = swaption.underlying_swap\n",
    "\n",
    "p0 = swap.get_price()\n",
    "flat_ois_quote.setValue(flat_ois_quote.value()+0.0001)\n",
    "p1 = swap.get_price()\n",
    "print(p1-p0)\n",
    "flat_ois_quote.setValue(flat_ois_quote.value()-0.0001)"
   ],
   "metadata": {
    "collapsed": false,
    "pycharm": {
     "name": "#%%\n",
     "is_executing": false
    }
   }
  },
  {
   "cell_type": "code",
   "execution_count": 9,
   "outputs": [],
   "source": [
    "ps0 = swaption.underlying_swap.get_price()\n",
    "po0 = swaption.get_price()\n",
    "\n",
    "flat_ois_quote.setValue(flat_ois_quote.value()+0.0001)\n",
    "\n",
    "ps1 = swaption.underlying_swap.get_price()\n",
    "po1 = swaption.get_price()"
   ],
   "metadata": {
    "collapsed": false,
    "pycharm": {
     "name": "#%%\n",
     "is_executing": false
    }
   }
  },
  {
   "cell_type": "markdown",
   "source": [
    "Swap DV01"
   ],
   "metadata": {
    "collapsed": false,
    "pycharm": {
     "name": "#%% md\n"
    }
   }
  },
  {
   "cell_type": "code",
   "execution_count": 10,
   "outputs": [
    {
     "name": "stdout",
     "text": [
      "1.6423768546810606\n"
     ],
     "output_type": "stream"
    }
   ],
   "source": [
    "print(ps1-ps0)"
   ],
   "metadata": {
    "collapsed": false,
    "pycharm": {
     "name": "#%%\n",
     "is_executing": false
    }
   }
  },
  {
   "cell_type": "markdown",
   "source": [
    "Swaption DV01"
   ],
   "metadata": {
    "collapsed": false
   }
  },
  {
   "cell_type": "code",
   "execution_count": 11,
   "outputs": [
    {
     "name": "stdout",
     "text": [
      "0.0\n"
     ],
     "output_type": "stream"
    }
   ],
   "source": [
    "print(po1-po0)"
   ],
   "metadata": {
    "collapsed": false,
    "pycharm": {
     "name": "#%%\n",
     "is_executing": false
    }
   }
  },
  {
   "cell_type": "code",
   "execution_count": 12,
   "outputs": [
    {
     "data": {
      "text/plain": "0.02407922157050632"
     },
     "metadata": {},
     "output_type": "execute_result",
     "execution_count": 12
    }
   ],
   "source": [
    "swaption.ql_underlying_swap.fairRate()\n"
   ],
   "metadata": {
    "collapsed": false,
    "pycharm": {
     "name": "#%%\n",
     "is_executing": false
    }
   }
  }
 ],
 "metadata": {
  "kernelspec": {
   "display_name": "Python 3",
   "language": "python",
   "name": "python3"
  },
  "language_info": {
   "codemirror_mode": {
    "name": "ipython",
    "version": 2
   },
   "file_extension": ".py",
   "mimetype": "text/x-python",
   "name": "python",
   "nbconvert_exporter": "python",
   "pygments_lexer": "ipython2",
   "version": "2.7.6"
  },
  "pycharm": {
   "stem_cell": {
    "cell_type": "raw",
    "source": [],
    "metadata": {
     "collapsed": false
    }
   }
  }
 },
 "nbformat": 4,
 "nbformat_minor": 0
}