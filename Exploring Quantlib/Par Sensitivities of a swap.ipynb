{
 "cells": [
  {
   "cell_type": "markdown",
   "metadata": {
    "collapsed": true,
    "pycharm": {
     "name": "#%% md\n"
    }
   },
   "source": [
    "### Par Sensitivities of a Swap\n",
    "\n",
    "In this notebook we are trying to calculate par sensitivities of a swap compared to zero rate sensitivities.\n",
    "We will do this with an OIS and an 6M Euribor fixed float swap.\n",
    "\n",
    "How we are building up the curves has been explored in further detail in the OIS Bootstrap and EURIBOR Bootstrap notebooks."
   ]
  },
  {
   "cell_type": "code",
   "execution_count": 1,
   "outputs": [],
   "source": [
    "# initiating\n",
    "from typing import List\n",
    "\n",
    "import QuantLib as ql\n",
    "\n",
    "today = ql.Date(10, ql.May, 2019)\n",
    "ql.Settings.instance().evaluationDate = today"
   ],
   "metadata": {
    "collapsed": false,
    "pycharm": {
     "name": "#%%\n"
    }
   }
  },
  {
   "cell_type": "markdown",
   "source": [
    "The OIS curve is built from and a couple of overnight indexed swaps. We do not include the money market quote because according to ISDA-SIMM the first sensitivity should be against the 2W quote and we would need to remap sensitivities against the fixing to this 2W quote if we did include it."
   ],
   "metadata": {
    "collapsed": false,
    "pycharm": {
     "name": "#%% md\n"
    }
   }
  },
  {
   "cell_type": "code",
   "execution_count": 2,
   "outputs": [],
   "source": [
    "# OIS Par Quotes used as input\n",
    "\n",
    "ois_quotes = {ql.Period(2, ql.Weeks): ql.SimpleQuote(-0.36503/100),\n",
    "               ql.Period(1, ql.Months): ql.SimpleQuote(-0.3650/100),\n",
    "               ql.Period(3, ql.Months): ql.SimpleQuote(-0.36521/100),\n",
    "               ql.Period(6, ql.Months): ql.SimpleQuote(-0.36754/100),\n",
    "               ql.Period(1, ql.Years): ql.SimpleQuote(-0.37488/100),\n",
    "               ql.Period(2, ql.Years): ql.SimpleQuote(-0.36102/100),\n",
    "               ql.Period(3, ql.Years): ql.SimpleQuote(-0.31511/100),\n",
    "               ql.Period(5, ql.Years): ql.SimpleQuote(-0.17438/100),\n",
    "               ql.Period(10, ql.Years): ql.SimpleQuote(0.28879/100),\n",
    "               ql.Period(15, ql.Years): ql.SimpleQuote(0.62908/100),\n",
    "               ql.Period(20, ql.Years): ql.SimpleQuote(0.82255/100),\n",
    "               ql.Period(30, ql.Years): ql.SimpleQuote(0.92238/100)}"
   ],
   "metadata": {
    "collapsed": false,
    "pycharm": {
     "name": "#%%\n"
    }
   }
  },
  {
   "cell_type": "code",
   "execution_count": 3,
   "outputs": [],
   "source": [
    "eonia_index = ql.Eonia()\n",
    "\n",
    "ois_helpers = []\n",
    "\n",
    "#create and add the OISs from the quotes\n",
    "for tenor, quote in ois_quotes.items():\n",
    "    ois_helpers.append(ql.OISRateHelper(2, tenor, ql.QuoteHandle(quote), eonia_index))\n",
    "\n",
    "eonia_curve = ql.PiecewiseFlatForward(2, ql.TARGET(), ois_helpers, ql.Actual360())\n",
    "eonia_curve.enableExtrapolation()"
   ],
   "metadata": {
    "collapsed": false,
    "pycharm": {
     "name": "#%%\n"
    }
   }
  },
  {
   "cell_type": "markdown",
   "source": [
    "The EURIBOR 6M curve is built from today's 6M fixing and a couple of fixed float swap quotes."
   ],
   "metadata": {
    "collapsed": false,
    "pycharm": {
     "name": "#%% md\n"
    }
   }
  },
  {
   "cell_type": "code",
   "execution_count": 4,
   "outputs": [],
   "source": [
    "euribor_money_market = ql.SimpleQuote(-0.231/100)\n",
    "\n",
    "euribor_helpers = []\n",
    "\n",
    "euribor_helpers += [ql.DepositRateHelper(ql.QuoteHandle(euribor_money_market), ql.Period(6, ql.Months),2, ql.TARGET(), ql.ModifiedFollowing, False, ql.Actual360())]\n",
    "\n",
    "euribor_swap_quotes = {ql.Period(1, ql.Years): ql.SimpleQuote(-0.2355/100),\n",
    "                  ql.Period(2, ql.Years): ql.SimpleQuote(-0.20860/100),\n",
    "                  ql.Period(3, ql.Years): ql.SimpleQuote(-0.1525/100),\n",
    "                  ql.Period(5, ql.Years): ql.SimpleQuote(-0.17438/100),\n",
    "                  ql.Period(10, ql.Years): ql.SimpleQuote(0.28879/100),\n",
    "                  ql.Period(15, ql.Years): ql.SimpleQuote(0.62908/100),\n",
    "                  ql.Period(20, ql.Years): ql.SimpleQuote(0.82255/100),\n",
    "                  ql.Period(30, ql.Years): ql.SimpleQuote(0.92238/100)}"
   ],
   "metadata": {
    "collapsed": false,
    "pycharm": {
     "name": "#%%\n"
    }
   }
  },
  {
   "cell_type": "code",
   "execution_count": 5,
   "outputs": [],
   "source": [
    "for tenor, quote in euribor_swap_quotes.items():\n",
    "    euribor_helpers.append(ql.SwapRateHelper(ql.QuoteHandle(quote),\n",
    "                                             tenor,\n",
    "                                             ql.TARGET(),\n",
    "                                             ql.Annual,\n",
    "                                             ql.Following,\n",
    "                                             ql.Actual360(),\n",
    "                                             ql.Euribor6M(),\n",
    "                                             ql.QuoteHandle(),\n",
    "                                             ql.Period(0, ql.Days),\n",
    "                                             ql.YieldTermStructureHandle(eonia_curve)))"
   ],
   "metadata": {
    "collapsed": false,
    "pycharm": {
     "name": "#%%\n"
    }
   }
  },
  {
   "cell_type": "code",
   "execution_count": 6,
   "outputs": [],
   "source": [
    "euribor6m_curve = ql.PiecewiseFlatForward(2, ql.TARGET(), euribor_helpers, ql.Actual360())\n",
    "euribor6m_curve.enableExtrapolation()"
   ],
   "metadata": {
    "collapsed": false,
    "pycharm": {
     "name": "#%%\n"
    }
   }
  },
  {
   "cell_type": "code",
   "execution_count": 7,
   "outputs": [],
   "source": [
    "pricing_engine_eonia = ql.DiscountingSwapEngine(ql.YieldTermStructureHandle(eonia_curve))\n",
    "pricing_engine_euribor_6m = ql.DiscountingSwapEngine(ql.YieldTermStructureHandle(euribor6m_curve))"
   ],
   "metadata": {
    "collapsed": false,
    "pycharm": {
     "name": "#%%\n"
    }
   }
  },
  {
   "cell_type": "markdown",
   "source": [
    "Finally, we need to reinitate our two Indexes with their newly created term structures."
   ],
   "metadata": {
    "collapsed": false,
    "pycharm": {
     "name": "#%% md\n"
    }
   }
  },
  {
   "cell_type": "code",
   "execution_count": 8,
   "outputs": [],
   "source": [
    "eonia_index = ql.Eonia(ql.YieldTermStructureHandle(eonia_curve))\n",
    "euribor6m_index = ql.Euribor6M(ql.YieldTermStructureHandle(euribor6m_curve))"
   ],
   "metadata": {
    "collapsed": false,
    "pycharm": {
     "name": "#%%\n"
    }
   }
  },
  {
   "cell_type": "markdown",
   "source": [
    "We can plot the two created curves.\n",
    "\n",
    "First the forward and zero curve for EONIA:"
   ],
   "metadata": {
    "collapsed": false,
    "pycharm": {
     "name": "#%% md\n"
    }
   }
  },
  {
   "cell_type": "code",
   "execution_count": 9,
   "outputs": [
    {
     "data": {
      "text/plain": "<Figure size 864x576 with 1 Axes>",
      "image/png": "[encoded data removed]"
     },
     "metadata": {
      "needs_background": "light"
     },
     "output_type": "display_data"
    }
   ],
   "source": [
    "from quantlibpythoncookbook_extras import utils\n",
    "\n",
    "end= today+ql.Period(30, ql.Years)\n",
    "dates= [ql.Date(serial) for serial in range(ql.TARGET().advance(today, 2, ql.Days).serialNumber(), end.serialNumber()+1)]\n",
    "forward_rates = [eonia_curve.forwardRate(d, ql.TARGET().advance(d,1,ql.Days), ql.Actual360(), ql.Continuous).rate() for d in dates]\n",
    "zero_rates = [eonia_curve.zeroRate(d, ql.Actual360(), ql.Continuous).rate() for d in dates]\n",
    "\n",
    "_, ax = utils.plot()\n",
    "utils.highlight_x_axis(ax)\n",
    "utils.plot_curve(ax, dates, [(forward_rates, '-')], format_rates=True)\n",
    "utils.plot_curve(ax, dates, [(zero_rates, '.')], format_rates=True)"
   ],
   "metadata": {
    "collapsed": false,
    "pycharm": {
     "name": "#%%\n"
    }
   }
  },
  {
   "cell_type": "markdown",
   "source": [
    "Now the 6M forward and zero curve for the 6M EURIBOR:"
   ],
   "metadata": {
    "collapsed": false,
    "pycharm": {
     "name": "#%% md\n"
    }
   }
  },
  {
   "cell_type": "code",
   "execution_count": 10,
   "outputs": [
    {
     "data": {
      "text/plain": "<Figure size 864x576 with 1 Axes>",
      "image/png": "[encoded data removed]"
     },
     "metadata": {
      "needs_background": "light"
     },
     "output_type": "display_data"
    }
   ],
   "source": [
    "forward_rates = [euribor6m_curve.forwardRate(d, ql.TARGET().advance(d,6,ql.Months), ql.Actual360(), ql.Simple).rate() for d in dates]\n",
    "zero_rates = [euribor6m_curve.zeroRate(d, ql.Actual360(), ql.Simple).rate() for d in dates]\n",
    "\n",
    "_, ax = utils.plot()\n",
    "utils.highlight_x_axis(ax)\n",
    "utils.plot_curve(ax, dates, [(forward_rates, '-')], format_rates=True)\n",
    "utils.plot_curve(ax, dates, [(zero_rates, '.')], format_rates=True)"
   ],
   "metadata": {
    "collapsed": false,
    "pycharm": {
     "name": "#%%\n"
    }
   }
  },
  {
   "cell_type": "markdown",
   "source": [
    "Now we create a 2-year Eonia fixed float OIS and a 3-year Euribor 6M fixed float swap. Our goal is to check what happens to the price of these trades, when we bump our input quotes."
   ],
   "metadata": {
    "collapsed": false,
    "pycharm": {
     "name": "#%% md\n"
    }
   }
  },
  {
   "cell_type": "code",
   "execution_count": 11,
   "outputs": [
    {
     "name": "stdout",
     "output_type": "stream",
     "text": [
      "-0.003610199999999955\n",
      "-0.7371737070033431\n"
     ]
    }
   ],
   "source": [
    "# Creation of test OIS\n",
    "\n",
    "nominal = 100\n",
    "fixedRate = 0.00\n",
    "dc = ql.Actual360()\n",
    "type = ql.OvernightIndexedSwap.Payer\n",
    "test_schedule = ql.Schedule (ql.TARGET().advance(today, 2, ql.Days), ql.Date(14, ql.May, 2021), ql.Period(1, ql.Years), ql.TARGET(), ql.ModifiedFollowing, ql.ModifiedFollowing, ql.DateGeneration.Forward, False)\n",
    "test_ois = ql.OvernightIndexedSwap(type, nominal, test_schedule, fixedRate, dc, eonia_index)\n",
    "\n",
    "test_ois.setPricingEngine(pricing_engine_eonia)\n",
    "\n",
    "print(test_ois.fairRate())\n",
    "print(test_ois.NPV())"
   ],
   "metadata": {
    "collapsed": false,
    "pycharm": {
     "name": "#%%\n"
    }
   }
  },
  {
   "cell_type": "code",
   "execution_count": 12,
   "outputs": [
    {
     "name": "stdout",
     "output_type": "stream",
     "text": [
      "-0.0015267561865329648\n",
      "-0.46741898823535055\n"
     ]
    }
   ],
   "source": [
    "# Creation of test Euribor 6M Swap\n",
    "\n",
    "nominal = 100\n",
    "fixedRate = 0\n",
    "dc = ql.Actual360()\n",
    "type = ql.VanillaSwap.Payer\n",
    "index = ql.Euribor6M(ql.YieldTermStructureHandle(euribor6m_curve))\n",
    "float_schedule = ql.Schedule(ql.TARGET().advance(today, 2, ql.Days), ql.Date(16, ql.May, 2022), ql.Period(6, ql.Months), ql.TARGET(), ql.ModifiedFollowing, ql.ModifiedFollowing, ql.DateGeneration.Forward, False)\n",
    "fixed_schedule = ql.Schedule(ql.TARGET().advance(today, 2, ql.Days), ql.Date(16, ql.May, 2022), ql.Period(1, ql.Years), ql.TARGET(), ql.ModifiedFollowing, ql.ModifiedFollowing, ql.DateGeneration.Forward, False)\n",
    "\n",
    "test_swap = ql.VanillaSwap(type, nominal, fixed_schedule, fixedRate, ql.Actual360(), float_schedule, index, 0, ql.Actual360())\n",
    "\n",
    "test_swap.setPricingEngine(pricing_engine_euribor_6m)\n",
    "\n",
    "print(test_swap.fairRate())\n",
    "print(test_swap.NPV())"
   ],
   "metadata": {
    "collapsed": false,
    "pycharm": {
     "name": "#%%\n"
    }
   }
  },
  {
   "cell_type": "markdown",
   "source": [
    "For convenience we create a quick finite difference sensitivity calculation utility function."
   ],
   "metadata": {
    "collapsed": false,
    "pycharm": {
     "name": "#%% md\n"
    }
   }
  },
  {
   "cell_type": "code",
   "execution_count": 13,
   "outputs": [],
   "source": [
    "def fd_simple_quotes(quotes: List[ql.SimpleQuote], instrument):\n",
    "    abs_bump = 0.000025\n",
    "    p0 = instrument.NPV()\n",
    "    origVals = []\n",
    "    for quote in quotes:\n",
    "        origVals.append(quote.value())\n",
    "        quote.setValue(quote.value()+abs_bump)\n",
    "    p1 = instrument.NPV()\n",
    "    finite_difference = (p1-p0)/abs_bump\n",
    "    origVals.reverse()\n",
    "    for quote in quotes:\n",
    "        quote.setValue(origVals.pop())\n",
    "    return finite_difference"
   ],
   "metadata": {
    "collapsed": false,
    "pycharm": {
     "name": "#%%\n"
    }
   }
  },
  {
   "cell_type": "markdown",
   "source": [
    "Now we calculate the par sensitivities of our OIS swap."
   ],
   "metadata": {
    "collapsed": false,
    "pycharm": {
     "name": "#%% md\n"
    }
   }
  },
  {
   "cell_type": "code",
   "execution_count": 14,
   "outputs": [
    {
     "name": "stdout",
     "output_type": "stream",
     "text": [
      "OIS 2W par sensitivity of the OIS is 0.0000.\n",
      "OIS 1M par sensitivity of the OIS is 0.0000.\n",
      "OIS 3M par sensitivity of the OIS is -0.0000.\n",
      "OIS 6M par sensitivity of the OIS is -0.0000.\n",
      "OIS 1Y par sensitivity of the OIS is 0.3774.\n",
      "OIS 2Y par sensitivity of the OIS is 204.9369.\n",
      "OIS 3Y par sensitivity of the OIS is 0.0000.\n",
      "OIS 5Y par sensitivity of the OIS is 0.0000.\n",
      "OIS 10Y par sensitivity of the OIS is 0.0000.\n",
      "OIS 15Y par sensitivity of the OIS is 0.0000.\n",
      "OIS 20Y par sensitivity of the OIS is 0.0000.\n",
      "OIS 30Y par sensitivity of the OIS is 0.0000.\n"
     ]
    }
   ],
   "source": [
    "for period, quote in ois_quotes.items():\n",
    "    delta = fd_simple_quotes([quote], test_ois)\n",
    "    print('OIS %s par sensitivity of the OIS is %.4f.' % (period.__str__(), delta))"
   ],
   "metadata": {
    "collapsed": false,
    "pycharm": {
     "name": "#%%\n"
    }
   }
  },
  {
   "cell_type": "markdown",
   "source": [
    "New let's calculate sensitivities to the OIS curve of our EURIBOR 6M Swap"
   ],
   "metadata": {
    "collapsed": false,
    "pycharm": {
     "name": "#%% md\n"
    }
   }
  },
  {
   "cell_type": "code",
   "execution_count": 15,
   "outputs": [
    {
     "name": "stdout",
     "output_type": "stream",
     "text": [
      "OIS 2W par sensitivty of the EURIBOR 6M swap is 0.0000.\n",
      "OIS 1M par sensitivty of the EURIBOR 6M swap is 0.0000.\n",
      "OIS 3M par sensitivty of the EURIBOR 6M swap is 0.0000.\n",
      "OIS 6M par sensitivty of the EURIBOR 6M swap is -0.0607.\n",
      "OIS 1Y par sensitivty of the EURIBOR 6M swap is -0.0120.\n",
      "OIS 2Y par sensitivty of the EURIBOR 6M swap is 0.0133.\n",
      "OIS 3Y par sensitivty of the EURIBOR 6M swap is 0.3803.\n",
      "OIS 5Y par sensitivty of the EURIBOR 6M swap is 0.0000.\n",
      "OIS 10Y par sensitivty of the EURIBOR 6M swap is 0.0000.\n",
      "OIS 15Y par sensitivty of the EURIBOR 6M swap is 0.0000.\n",
      "OIS 20Y par sensitivty of the EURIBOR 6M swap is 0.0000.\n",
      "OIS 30Y par sensitivty of the EURIBOR 6M swap is 0.0000.\n"
     ]
    }
   ],
   "source": [
    "for period, quote in ois_quotes.items():\n",
    "    delta = fd_simple_quotes([quote], test_swap)\n",
    "    print('OIS %s par sensitivty of the EURIBOR 6M swap is %.4f.' % (period.__str__(),delta))"
   ],
   "metadata": {
    "collapsed": false,
    "pycharm": {
     "name": "#%%\n"
    }
   }
  },
  {
   "cell_type": "markdown",
   "source": [
    "Now let's calculate sensitivities to the EURIBOR 6M Swap of our EURIBOR 6M Swap"
   ],
   "metadata": {
    "collapsed": false,
    "pycharm": {
     "name": "#%% md\n"
    }
   }
  },
  {
   "cell_type": "code",
   "execution_count": 16,
   "outputs": [
    {
     "name": "stdout",
     "output_type": "stream",
     "text": [
      "EURIBOR 6M 6M par sensitivity of the EURIBOR 6M swap is 0.0971.\n",
      "EURIBOR 6M 1Y par sensitivty of the EURIBOR 6M swap is 0.2982.\n",
      "EURIBOR 6M 2Y par sensitivty of the EURIBOR 6M swap is 0.6687.\n",
      "EURIBOR 6M 3Y par sensitivty of the EURIBOR 6M swap is 305.8225.\n",
      "EURIBOR 6M 5Y par sensitivty of the EURIBOR 6M swap is 0.0000.\n",
      "EURIBOR 6M 10Y par sensitivty of the EURIBOR 6M swap is 0.0000.\n",
      "EURIBOR 6M 15Y par sensitivty of the EURIBOR 6M swap is 0.0000.\n",
      "EURIBOR 6M 20Y par sensitivty of the EURIBOR 6M swap is 0.0000.\n",
      "EURIBOR 6M 30Y par sensitivty of the EURIBOR 6M swap is 0.0000.\n"
     ]
    }
   ],
   "source": [
    "delta = fd_simple_quotes([euribor_money_market], test_swap)\n",
    "print('EURIBOR 6M 6M par sensitivity of the EURIBOR 6M swap is %.4f.' % delta)\n",
    "for period, quote in euribor_swap_quotes.items():\n",
    "    delta = fd_simple_quotes([quote], test_swap)\n",
    "    print('EURIBOR 6M %s par sensitivty of the EURIBOR 6M swap is %.4f.' % (period.__str__(),delta))"
   ],
   "metadata": {
    "collapsed": false,
    "pycharm": {
     "name": "#%%\n"
    }
   }
  },
  {
   "cell_type": "markdown",
   "source": [
    "Checking if payment schedule of the swaps used for bootstrapping the curve and of the test swaps that were set up do aligns. If they do align, this should minimize interpolation effects."
   ],
   "metadata": {
    "collapsed": false,
    "pycharm": {
     "name": "#%% md\n"
    }
   }
  },
  {
   "cell_type": "code",
   "execution_count": 17,
   "outputs": [
    {
     "name": "stdout",
     "output_type": "stream",
     "text": [
      "May 14th, 2020\n",
      "May 14th, 2021\n",
      "May 16th, 2022\n",
      "May 14th, 2020\n",
      "May 14th, 2021\n"
     ]
    }
   ],
   "source": [
    "reference_ois = ois_helpers[6].swap()\n",
    "for cashflow in reference_ois.overnightLeg():\n",
    "    print(cashflow.date())\n",
    "for cashflow in test_ois.overnightLeg():\n",
    "    print(cashflow.date())"
   ],
   "metadata": {
    "collapsed": false,
    "pycharm": {
     "name": "#%%\n"
    }
   }
  },
  {
   "cell_type": "code",
   "execution_count": 18,
   "outputs": [
    {
     "name": "stdout",
     "output_type": "stream",
     "text": [
      "November 14th, 2019\n",
      "May 14th, 2020\n",
      "November 16th, 2020\n",
      "May 14th, 2021\n",
      "November 15th, 2021\n",
      "May 16th, 2022\n",
      "November 14th, 2019\n",
      "May 14th, 2020\n",
      "November 16th, 2020\n",
      "May 14th, 2021\n",
      "November 15th, 2021\n",
      "May 16th, 2022\n"
     ]
    }
   ],
   "source": [
    "reference_swap = euribor_helpers[3].swap()\n",
    "for cashflow in reference_swap.floatingLeg():\n",
    "    print(cashflow.date())\n",
    "for cashflow in test_swap.floatingLeg():\n",
    "    print(cashflow.date())\n",
    "\n"
   ],
   "metadata": {
    "collapsed": false,
    "pycharm": {
     "name": "#%%\n"
    }
   }
  }
 ],
 "metadata": {
  "kernelspec": {
   "display_name": "Python 3",
   "language": "python",
   "name": "python3"
  },
  "language_info": {
   "codemirror_mode": {
    "name": "ipython",
    "version": 2
   },
   "file_extension": ".py",
   "mimetype": "text/x-python",
   "name": "python",
   "nbconvert_exporter": "python",
   "pygments_lexer": "ipython2",
   "version": "2.7.6"
  }
 },
 "nbformat": 4,
 "nbformat_minor": 0
}