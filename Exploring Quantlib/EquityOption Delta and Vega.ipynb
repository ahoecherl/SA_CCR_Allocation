{
 "cells": [
  {
   "cell_type": "code",
   "execution_count": 1,
   "metadata": {
    "collapsed": true,
    "pycharm": {
     "is_executing": false
    }
   },
   "outputs": [
    {
     "name": "stdout",
     "text": [
      "4.58793065386484\n"
     ],
     "output_type": "stream"
    }
   ],
   "source": [
    "from instruments.equity_instruments.equityOption import EquityOption\n",
    "from utilities.Enums import Stock, TradeType, TradeDirection\n",
    "option = EquityOption(notional=1, K=40, mat_in_days=360, tradeType=TradeType.CALL, tradeDirection=TradeDirection.LONG,\n",
    "                          underlying=Stock.ADS)\n",
    "print(option.get_price())"
   ]
  },
  {
   "cell_type": "code",
   "execution_count": 2,
   "outputs": [
    {
     "name": "stdout",
     "text": [
      "ADS\n"
     ],
     "output_type": "stream"
    }
   ],
   "source": [
    "from marketdata.EquitySpot import EquitySpot, Quotes\n",
    "\n",
    "p0 = option.get_price()\n",
    "underlying = option.underlying.name\n",
    "print(option.underlying.name)"
   ],
   "metadata": {
    "collapsed": false,
    "pycharm": {
     "name": "#%%\n",
     "is_executing": false
    }
   }
  },
  {
   "cell_type": "code",
   "execution_count": 3,
   "outputs": [
    {
     "name": "stdout",
     "text": [
      "0.2781777082963943\n"
     ],
     "output_type": "stream"
    }
   ],
   "source": [
    "origVal=Quotes[underlying].value()\n",
    "Quotes[underlying].setValue(Quotes[underlying].value()*1.01)\n",
    "p1 = option.get_price()\n",
    "DV01 = p1-p0\n",
    "print(DV01)\n",
    "Quotes[underlying].setValue(origVal)"
   ],
   "metadata": {
    "collapsed": false,
    "pycharm": {
     "name": "#%%\n",
     "is_executing": false
    }
   }
  },
  {
   "cell_type": "markdown",
   "source": [
    "let's try to calculate $\\rho$ sensitivity against the interest rate"
   ],
   "metadata": {
    "collapsed": false
   }
  },
  {
   "cell_type": "code",
   "execution_count": 4,
   "outputs": [
    {
     "name": "stdout",
     "text": [
      "0.0022848838512254943\n"
     ],
     "output_type": "stream"
    },
    {
     "data": {
      "text/plain": "True"
     },
     "metadata": {},
     "output_type": "execute_result",
     "execution_count": 4
    }
   ],
   "source": [
    "p0 = option.get_price()\n",
    "from marketdata.interestRateCurves import flat_ois_quote\n",
    "origVal = flat_ois_quote.value()\n",
    "flat_ois_quote.setValue(origVal+0.0001)\n",
    "p1 = option.get_price()\n",
    "DV01 = p1-p0\n",
    "print(DV01)\n",
    "flat_ois_quote.setValue(origVal)\n",
    "p0 == option.get_price()"
   ],
   "metadata": {
    "collapsed": false,
    "pycharm": {
     "name": "#%%\n",
     "is_executing": false
    }
   }
  },
  {
   "cell_type": "markdown",
   "source": [
    "Let's try to calculate vega - the sensitivity against the volatility of the underlying stock"
   ],
   "metadata": {
    "collapsed": false
   }
  },
  {
   "cell_type": "code",
   "execution_count": 5,
   "outputs": [
    {
     "name": "stdout",
     "text": [
      "15.50482942304754\n"
     ],
     "output_type": "stream"
    }
   ],
   "source": [
    "from marketdata.EquityVolatility import Quotes\n",
    "\n",
    "p0 = option.get_price()\n",
    "origVal = Quotes[underlying].value()\n",
    "Quotes[underlying].setValue(origVal+0.0001)\n",
    "p1 = option.get_price()\n",
    "sensi = (p1-p0)*10000\n",
    "print(sensi)\n",
    "Quotes[underlying].setValue(origVal)"
   ],
   "metadata": {
    "collapsed": false,
    "pycharm": {
     "name": "#%%\n",
     "is_executing": false
    }
   }
  },
  {
   "cell_type": "markdown",
   "source": [
    "let's now hold the freshly implemented sensitivity against it"
   ],
   "metadata": {
    "collapsed": false
   }
  },
  {
   "cell_type": "code",
   "execution_count": 6,
   "outputs": [
    {
     "data": {
      "text/plain": "0.6531935232079178"
     },
     "metadata": {},
     "output_type": "execute_result",
     "execution_count": 6
    }
   ],
   "source": [
    "option.get_delta()"
   ],
   "metadata": {
    "collapsed": false,
    "pycharm": {
     "name": "#%%\n",
     "is_executing": false
    }
   }
  },
  {
   "cell_type": "code",
   "execution_count": 7,
   "outputs": [
    {
     "data": {
      "text/plain": "15.50482942304754"
     },
     "metadata": {},
     "output_type": "execute_result",
     "execution_count": 7
    }
   ],
   "source": [
    "option.get_vega()"
   ],
   "metadata": {
    "collapsed": false,
    "pycharm": {
     "name": "#%%\n",
     "is_executing": false
    }
   }
  },
  {
   "cell_type": "code",
   "execution_count": 8,
   "outputs": [
    {
     "data": {
      "text/plain": "22.848838512254943"
     },
     "metadata": {},
     "output_type": "execute_result",
     "execution_count": 8
    }
   ],
   "source": [
    "option.get_rho()\n"
   ],
   "metadata": {
    "collapsed": false,
    "pycharm": {
     "name": "#%%\n",
     "is_executing": false
    }
   }
  }
 ],
 "metadata": {
  "kernelspec": {
   "display_name": "Python 3",
   "language": "python",
   "name": "python3"
  },
  "language_info": {
   "codemirror_mode": {
    "name": "ipython",
    "version": 2
   },
   "file_extension": ".py",
   "mimetype": "text/x-python",
   "name": "python",
   "nbconvert_exporter": "python",
   "pygments_lexer": "ipython2",
   "version": "2.7.6"
  },
  "pycharm": {
   "stem_cell": {
    "cell_type": "raw",
    "source": [],
    "metadata": {
     "collapsed": false
    }
   }
  }
 },
 "nbformat": 4,
 "nbformat_minor": 0
}