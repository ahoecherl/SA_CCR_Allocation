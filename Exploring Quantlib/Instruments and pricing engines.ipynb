{
 "cells": [
  {
   "cell_type": "code",
   "execution_count": null,
   "metadata": {
    "collapsed": true,
    "pycharm": {
     "is_executing": false
    }
   },
   "outputs": [],
   "source": [
    "import QuantLib as ql\n",
    "\n",
    "today = ql.Date(7, ql.March, 2014)\n",
    "ql.Settings.instance().evaluationDate = today\n",
    "\n",
    "option = ql.EuropeanOption(ql.PlainVanillaPayoff(ql.Option.Call, 100.0),\n",
    "                           ql.EuropeanExercise(ql.Date(7, ql.June, 2014)))"
   ]
  },
  {
   "cell_type": "code",
   "execution_count": null,
   "outputs": [],
   "source": [
    "u = ql.SimpleQuote(100.0)\n",
    "r = ql.SimpleQuote(0.01)\n",
    "sigma = ql.SimpleQuote(0.2)"
   ],
   "metadata": {
    "collapsed": false,
    "pycharm": {
     "name": "#%%\n",
     "is_executing": false
    }
   }
  },
  {
   "cell_type": "code",
   "execution_count": null,
   "outputs": [],
   "source": [
    "riskFreeCurve = ql.FlatForward(0, ql.TARGET(),\n",
    "                               ql.QuoteHandle(r), ql.Actual360())\n",
    "volatility = ql.BlackConstantVol(0, ql.TARGET(), ql.QuoteHandle(sigma), ql.Actual360())"
   ],
   "metadata": {
    "collapsed": false,
    "pycharm": {
     "name": "#%%\n",
     "is_executing": false
    }
   }
  },
  {
   "cell_type": "code",
   "execution_count": null,
   "outputs": [],
   "source": [
    "process = ql.BlackScholesProcess(ql.QuoteHandle(u),\n",
    "                                 ql.YieldTermStructureHandle(riskFreeCurve),\n",
    "                                 ql.BlackVolTermStructureHandle(volatility))"
   ],
   "metadata": {
    "collapsed": false,
    "pycharm": {
     "name": "#%%\n",
     "is_executing": false
    }
   }
  },
  {
   "cell_type": "code",
   "execution_count": null,
   "outputs": [],
   "source": [
    "engine = ql.AnalyticEuropeanEngine(process)\n",
    "\n",
    "option.setPricingEngine(engine)\n",
    "print(option.NPV())"
   ],
   "metadata": {
    "collapsed": false,
    "pycharm": {
     "name": "#%%\n",
     "is_executing": false
    }
   }
  },
  {
   "cell_type": "code",
   "execution_count": null,
   "outputs": [],
   "source": [
    "print(option.delta())\n",
    "print(option.gamma())\n",
    "print(option.vega())"
   ],
   "metadata": {
    "collapsed": false,
    "pycharm": {
     "name": "#%%\n",
     "is_executing": false
    }
   }
  },
  {
   "cell_type": "code",
   "execution_count": null,
   "outputs": [],
   "source": [
    "u.setValue(105)\n",
    "print(option.NPV())"
   ],
   "metadata": {
    "collapsed": false,
    "pycharm": {
     "name": "#%%\n",
     "is_executing": false
    }
   }
  },
  {
   "cell_type": "code",
   "execution_count": null,
   "outputs": [],
   "source": [
    "%matplotlib inline\n",
    "import numpy as np\n",
    "from IPython.display import display\n",
    "from quantlibpythoncookbook_extras import utils\n",
    "\n",
    "f, ax = utils.plot()\n",
    "xs = np.linspace(80,120,400)\n",
    "ys = []\n",
    "for x in xs:\n",
    "    u.setValue(x)\n",
    "    ys.append(option.NPV())\n",
    "ax.set_title('Option value')\n",
    "utils.highlight_x_axis(ax)\n",
    "ax.plot(xs, ys);"
   ],
   "metadata": {
    "collapsed": false,
    "pycharm": {
     "name": "#%%\n",
     "is_executing": false
    }
   }
  },
  {
   "cell_type": "code",
   "execution_count": null,
   "outputs": [],
   "source": [
    "u.setValue(105)\n",
    "r.setValue(0.01)\n",
    "sigma.setValue(0.2)\n",
    "\n",
    "print(option.NPV())"
   ],
   "metadata": {
    "collapsed": false,
    "pycharm": {
     "name": "#%%\n",
     "is_executing": false
    }
   }
  },
  {
   "cell_type": "code",
   "execution_count": null,
   "outputs": [],
   "source": [
    "r.setValue(0.03)\n",
    "print(option.NPV())"
   ],
   "metadata": {
    "collapsed": false,
    "pycharm": {
     "name": "#%%\n",
     "is_executing": false
    }
   }
  },
  {
   "cell_type": "code",
   "execution_count": null,
   "outputs": [],
   "source": [
    "sigma.setValue(0.25)\n",
    "print(option.NPV())"
   ],
   "metadata": {
    "collapsed": false,
    "pycharm": {
     "name": "#%%\n",
     "is_executing": false
    }
   }
  },
  {
   "cell_type": "code",
   "execution_count": null,
   "outputs": [],
   "source": [
    "u.setValue(105)\n",
    "r.setValue(0.01)\n",
    "sigma.setValue(0.2)\n",
    "print(option.NPV())"
   ],
   "metadata": {
    "collapsed": false,
    "pycharm": {
     "name": "#%%\n",
     "is_executing": false
    }
   }
  },
  {
   "cell_type": "code",
   "execution_count": null,
   "outputs": [],
   "source": [
    "ql.Settings.instance().evaluationDate = ql.Date(7, ql.April, 2014)\n",
    "\n",
    "print(option.NPV())"
   ],
   "metadata": {
    "collapsed": false,
    "pycharm": {
     "name": "#%%\n",
     "is_executing": false
    }
   }
  },
  {
   "cell_type": "code",
   "execution_count": null,
   "outputs": [],
   "source": [
    "ys = []\n",
    "for x in xs:\n",
    "    u.setValue(x)\n",
    "    ys.append(option.NPV())\n",
    "ax.plot(xs, ys, '--')\n",
    "display(f)"
   ],
   "metadata": {
    "collapsed": false,
    "pycharm": {
     "name": "#%%\n",
     "is_executing": false
    }
   }
  },
  {
   "cell_type": "code",
   "execution_count": null,
   "outputs": [],
   "source": [
    "ql.Settings.instance().evaluationDate = ql.Date(7, ql.June, 2014)\n",
    "print(option.NPV())"
   ],
   "metadata": {
    "collapsed": false,
    "pycharm": {
     "name": "#%%\n",
     "is_executing": false
    }
   }
  },
  {
   "cell_type": "code",
   "execution_count": null,
   "outputs": [],
   "source": [
    "ql.Settings.instance().evaluationDate = today\n",
    "u.setValue(105)\n",
    "r.setValue(0.01)\n",
    "sigma.setValue(0.2)\n",
    "print(option.NPV())"
   ],
   "metadata": {
    "collapsed": false,
    "pycharm": {
     "name": "#%%\n",
     "is_executing": false
    }
   }
  },
  {
   "cell_type": "code",
   "execution_count": null,
   "outputs": [],
   "source": [
    "model = ql.HestonModel(ql.HestonProcess(ql.YieldTermStructureHandle(riskFreeCurve),\n",
    "                                       ql.YieldTermStructureHandle(ql.FlatForward(0, ql.TARGET(), 0.0, ql.Actual360())),\n",
    "                                       ql.QuoteHandle(u),\n",
    "                                       0.04,0.1,0.01,0.05,-0.74))\n",
    "\n",
    "engine = ql.AnalyticHestonEngine(model)\n",
    "option.setPricingEngine(engine)\n",
    "\n",
    "print(option.NPV())"
   ],
   "metadata": {
    "collapsed": false,
    "pycharm": {
     "name": "#%%\n",
     "is_executing": false
    }
   }
  },
  {
   "cell_type": "code",
   "execution_count": null,
   "outputs": [],
   "source": [
    "engine = ql.MCEuropeanEngine(process, \"PseudoRandom\", timeSteps = 20, requiredSamples=250000)\n",
    "option.setPricingEngine(engine)"
   ],
   "metadata": {
    "collapsed": false,
    "pycharm": {
     "name": "#%%\n",
     "is_executing": false
    }
   }
  },
  {
   "cell_type": "code",
   "execution_count": null,
   "outputs": [],
   "source": [
    "%time print(option.NPV())"
   ],
   "metadata": {
    "collapsed": false,
    "pycharm": {
     "name": "#%%\n",
     "is_executing": false
    }
   }
  },
  {
   "cell_type": "code",
   "execution_count": null,
   "outputs": [],
   "source": [
    "%time print(option.NPV())\n",
    "\n",
    "u.setValue(104)"
   ],
   "metadata": {
    "collapsed": false,
    "pycharm": {
     "name": "#%%\n",
     "is_executing": false
    }
   }
  },
  {
   "cell_type": "code",
   "execution_count": null,
   "outputs": [],
   "source": [
    "%time print(option.NPV())"
   ],
   "metadata": {
    "collapsed": false,
    "pycharm": {
     "name": "#%%\n",
     "is_executing": false
    }
   }
  }
 ],
 "metadata": {
  "kernelspec": {
   "display_name": "Python 3",
   "language": "python",
   "name": "python3"
  },
  "language_info": {
   "codemirror_mode": {
    "name": "ipython",
    "version": 2
   },
   "file_extension": ".py",
   "mimetype": "text/x-python",
   "name": "python",
   "nbconvert_exporter": "python",
   "pygments_lexer": "ipython2",
   "version": "2.7.6"
  },
  "pycharm": {
   "stem_cell": {
    "cell_type": "raw",
    "source": [],
    "metadata": {
     "collapsed": false
    }
   }
  }
 },
 "nbformat": 4,
 "nbformat_minor": 0
}