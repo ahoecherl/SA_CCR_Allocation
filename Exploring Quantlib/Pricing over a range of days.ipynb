{
 "cells": [
  {
   "cell_type": "code",
   "execution_count": null,
   "metadata": {
    "collapsed": true,
    "pycharm": {
     "is_executing": false
    }
   },
   "outputs": [],
   "source": [
    "import QuantLib as ql\n",
    "import numpy as np\n",
    "np.random.seed(42)"
   ]
  },
  {
   "cell_type": "code",
   "execution_count": null,
   "outputs": [],
   "source": [
    "prices = {}"
   ],
   "metadata": {
    "collapsed": false,
    "pycharm": {
     "name": "#%%\n",
     "is_executing": false
    }
   }
  },
  {
   "cell_type": "code",
   "execution_count": null,
   "outputs": [],
   "source": [
    "start_date = ql.Date(8, ql.February, 2016)\n",
    "maturity_date = start_date + ql.Period(5, ql.Years)\n",
    "schedule = ql.Schedule(start_date, maturity_date,\n",
    "                       ql.Period(ql.Semiannual), ql.TARGET(),\n",
    "                       ql.Following, ql.Following,\n",
    "                       ql.DateGeneration.Backward, False)\n",
    "coupons = [0.01]*10\n",
    "bond = ql.FixedRateBond(3, 100, schedule, coupons, ql.Thirty360())"
   ],
   "metadata": {
    "collapsed": false,
    "pycharm": {
     "name": "#%%\n",
     "is_executing": false
    }
   }
  },
  {
   "cell_type": "code",
   "execution_count": null,
   "outputs": [],
   "source": [
    "today = ql.Date(9, ql.May, 2018)\n",
    "nodes = [ today + ql.Period(i, ql.Years) for i in range(11) ]\n",
    "rates = [ 0.007, 0.010, 0.012, 0.013, 0.014, 0.016, 0.017, 0.018, 0.020, 0.021, 0.022]\n",
    "discount_curve = ql.ZeroCurve(nodes, rates, ql.Actual360())"
   ],
   "metadata": {
    "collapsed": false,
    "pycharm": {
     "name": "#%%\n",
     "is_executing": false
    }
   }
  },
  {
   "cell_type": "code",
   "execution_count": null,
   "outputs": [],
   "source": [
    "discount_handle = ql.RelinkableYieldTermStructureHandle(discount_curve)\n",
    "bond.setPricingEngine(ql.DiscountingBondEngine(discount_handle))"
   ],
   "metadata": {
    "collapsed": false,
    "pycharm": {
     "name": "#%%\n",
     "is_executing": false
    }
   }
  },
  {
   "cell_type": "code",
   "execution_count": null,
   "outputs": [],
   "source": [
    "ql.Settings.instance().evaluationDate = today"
   ],
   "metadata": {
    "collapsed": false,
    "pycharm": {
     "name": "#%%\n",
     "is_executing": false
    }
   }
  },
  {
   "cell_type": "code",
   "execution_count": null,
   "outputs": [],
   "source": [
    "prices[today] = bond.cleanPrice()\n",
    "print(prices[today])"
   ],
   "metadata": {
    "collapsed": false,
    "pycharm": {
     "name": "#%%\n",
     "is_executing": false
    }
   }
  },
  {
   "cell_type": "code",
   "execution_count": null,
   "outputs": [],
   "source": [
    "calendar = ql.TARGET()\n",
    "yesterday = calendar.advance(today, -1, ql.Days)"
   ],
   "metadata": {
    "collapsed": false,
    "pycharm": {
     "name": "#%%\n",
     "is_executing": false
    }
   }
  },
  {
   "cell_type": "code",
   "execution_count": null,
   "outputs": [],
   "source": [
    "nodes = [ yesterday + ql.Period(i, ql.Years) for i in range(11)]\n",
    "base_rates = np.array(rates)\n",
    "rates = base_rates * np.random.normal(loc = 1.0, scale = 0.005, size=base_rates.shape)\n",
    "discount_curve = ql.ZeroCurve(nodes, list(rates), ql.Actual360())"
   ],
   "metadata": {
    "collapsed": false,
    "pycharm": {
     "name": "#%%\n",
     "is_executing": false
    }
   }
  },
  {
   "cell_type": "code",
   "execution_count": null,
   "outputs": [],
   "source": [
    "ql.Settings.instance().evaluationDate = yesterday\n",
    "discount_handle.linkTo(discount_curve)"
   ],
   "metadata": {
    "collapsed": false,
    "pycharm": {
     "name": "#%%\n",
     "is_executing": false
    }
   }
  },
  {
   "cell_type": "code",
   "execution_count": null,
   "outputs": [],
   "source": [
    "prices[yesterday] = bond.cleanPrice()\n",
    "print(prices[yesterday])"
   ],
   "metadata": {
    "collapsed": false,
    "pycharm": {
     "name": "#%%\n",
     "is_executing": false
    }
   }
  },
  {
   "cell_type": "code",
   "execution_count": null,
   "outputs": [],
   "source": [
    "first_date = calendar.advance(today, -1, ql.Years)\n",
    "date = calendar.advance(yesterday, -1, ql.Days)\n",
    "\n",
    "while date >= first_date:\n",
    "    nodes = [ date + ql.Period(i, ql.Years) for i in range(11) ]\n",
    "    rates = base_rates * np.random.normal(loc = 1, scale = 0.005, size = base_rates.shape)\n",
    "    discount_curve = ql.ZeroCurve(nodes, list(rates), ql.Actual360())\n",
    "    \n",
    "    ql.Settings.instance().evaluationDate = date\n",
    "    discount_handle.linkTo(discount_curve)\n",
    "    \n",
    "    prices[date] = bond.cleanPrice()\n",
    "    date = calendar.advance(date, -1, ql.Days)"
   ],
   "metadata": {
    "collapsed": false,
    "pycharm": {
     "name": "#%%\n",
     "is_executing": false
    }
   }
  },
  {
   "cell_type": "code",
   "execution_count": null,
   "outputs": [],
   "source": [
    "%matplotlib inline\n",
    "from quantlibpythoncookbook_extras import utils"
   ],
   "metadata": {
    "collapsed": false,
    "pycharm": {
     "name": "#%%\n",
     "is_executing": false
    }
   }
  },
  {
   "cell_type": "code",
   "execution_count": null,
   "outputs": [],
   "source": [
    "dates, values = zip(*sorted(prices.items()))\n",
    "\n",
    "fig, ax = utils.plot()\n",
    "ax.xaxis.set_major_formatter(utils.date_formatter())\n",
    "ax.plot_date([ utils.to_datetime(d) for d in dates ], values, '-');"
   ],
   "metadata": {
    "collapsed": false,
    "pycharm": {
     "name": "#%%\n",
     "is_executing": false
    }
   }
  },
  {
   "cell_type": "code",
   "execution_count": null,
   "outputs": [],
   "source": [
    "index = ql.Eonia()\n",
    "tenors = [ ql.Period(i, ql.Years) for i in range(1,11)]\n",
    "rates = [ 0.01, 0.012, 0.013, 0.014, 0.016, 0.017, 0.018, 0.020, 0.021, 0.022 ]\n",
    "quotes = []\n",
    "helpers = []\n",
    "for tenor, rate in zip(tenors, rates):\n",
    "    q = ql.SimpleQuote(rate)\n",
    "    h = ql.OISRateHelper(2, tenor, ql.QuoteHandle(q), index)\n",
    "    quotes.append(q)\n",
    "    helpers.append(h)\n",
    "\n",
    "risk_free_curve = ql.PiecewiseFlatForward(0, ql.TARGET(), helpers, ql.Actual360())\n",
    "\n",
    "spread = ql.SimpleQuote(0.01)\n",
    "discount_curve = ql.ZeroSpreadedTermStructure(ql.YieldTermStructureHandle(risk_free_curve),\n",
    "                                              ql.QuoteHandle(spread))\n",
    "\n",
    "prices = {}\n",
    "\n",
    "ql.Settings.instance().evaluationDate = today\n",
    "discount_handle.linkTo(discount_curve)\n",
    "\n",
    "prices[today] = bond.cleanPrice()\n",
    "print(prices[today])"
   ],
   "metadata": {
    "collapsed": false,
    "pycharm": {
     "name": "#%%\n",
     "is_executing": false
    }
   }
  },
  {
   "cell_type": "code",
   "execution_count": null,
   "outputs": [],
   "source": [
    "date = calendar.advance(today, -1, ql.Days)\n",
    "base_rates = np.array(rates)\n",
    "\n",
    "while date >= first_date:\n",
    "    rates = base_rates * np.random.normal(loc = 1.0, scale = 0.005, size = base_rates.shape)\n",
    "    \n",
    "    for q,r in zip(quotes, rates):\n",
    "        q.setValue(r)\n",
    "    spread.setValue(spread.value()*np.random.normal(loc= 1.0, scale= 0.005))\n",
    "    \n",
    "    ql.Settings.instance().evaluationDate = date\n",
    "    prices[date] = bond.cleanPrice()\n",
    "    date = calendar.advance(date, -1, ql.Days)"
   ],
   "metadata": {
    "collapsed": false,
    "pycharm": {
     "name": "#%%\n",
     "is_executing": false
    }
   }
  },
  {
   "cell_type": "code",
   "execution_count": null,
   "outputs": [],
   "source": [
    "dates, values = zip(*sorted(prices.items()))\n",
    "\n",
    "fig, ax = utils.plot()\n",
    "ax.xaxis.set_major_formatter(utils.date_formatter())\n",
    "ax.plot_date([utils.to_datetime(d) for d in dates ], values, '-');\n"
   ],
   "metadata": {
    "collapsed": false,
    "pycharm": {
     "name": "#%%\n",
     "is_executing": false
    }
   }
  },
  {
   "cell_type": "code",
   "execution_count": null,
   "outputs": [],
   "source": [
    "forecast_handle = ql.YieldTermStructureHandle(risk_free_curve)\n",
    "index = ql.Euribor6M(forecast_handle)\n",
    "\n",
    "bond = ql.FloatingRateBond(3, 100, schedule, index, ql.Thirty360())\n",
    "bond.setPricingEngine(ql.DiscountingBondEngine(discount_handle))"
   ],
   "metadata": {
    "collapsed": false,
    "pycharm": {
     "name": "#%%\n",
     "is_executing": false
    }
   }
  },
  {
   "cell_type": "code",
   "execution_count": null,
   "outputs": [],
   "source": [
    "ql.Settings.instance().evaluationDate = today\n",
    "for q, r in zip(quotes, base_rates):\n",
    "    q.setValue(r)\n",
    "spread.setValue(0.01)"
   ],
   "metadata": {
    "collapsed": false,
    "pycharm": {
     "name": "#%%\n",
     "is_executing": false
    }
   }
  },
  {
   "cell_type": "code",
   "execution_count": null,
   "outputs": [],
   "source": [
    "print(bond.cleanPrice())"
   ],
   "metadata": {
    "collapsed": false,
    "pycharm": {
     "name": "#%%\n",
     "is_executing": false
    }
   }
  },
  {
   "cell_type": "code",
   "execution_count": null,
   "outputs": [],
   "source": [
    "index.addFixing(ql.Date(6, ql.February, 2018), 0.005)\n",
    "\n",
    "print(bond.cleanPrice())"
   ],
   "metadata": {
    "collapsed": false,
    "pycharm": {
     "name": "#%%\n",
     "is_executing": false
    }
   }
  },
  {
   "cell_type": "code",
   "execution_count": null,
   "outputs": [],
   "source": [
    "ql.Settings.instance().evaluationDate = ql.Date(1, ql.March, 2018)\n",
    "print(bond.cleanPrice())\n",
    "\n",
    "ql.Settings.instance().evaluationDate = ql.Date(15, ql.February, 2018)\n",
    "print(bond.cleanPrice())"
   ],
   "metadata": {
    "collapsed": false,
    "pycharm": {
     "name": "#%%\n",
     "is_executing": false
    }
   }
  },
  {
   "cell_type": "code",
   "execution_count": null,
   "outputs": [],
   "source": [
    "asdf = bond.cashflows()"
   ],
   "metadata": {
    "collapsed": false,
    "pycharm": {
     "name": "#%%\n"
    }
   }
  },
  {
   "cell_type": "code",
   "execution_count": null,
   "outputs": [],
   "source": [
    "print(asdf[3].date())\n",
    "asdf[3].amount()"
   ],
   "metadata": {
    "collapsed": false,
    "pycharm": {
     "name": "#%%\n",
     "is_executing": false
    }
   }
  },
  {
   "cell_type": "code",
   "execution_count": null,
   "outputs": [],
   "source": [
    "ql.Settings.instance().evaluationDate = ql.Date(1, ql.February, 2018)\n",
    "index.addFixing(ql.Date(4, ql.August, 2017), 0.004)\n",
    "print(bond.cleanPrice())"
   ],
   "metadata": {
    "collapsed": false,
    "pycharm": {
     "name": "#%%\n",
     "is_executing": false
    }
   }
  },
  {
   "cell_type": "code",
   "execution_count": 65,
   "outputs": [
    {
     "name": "stdout",
     "text": [
      "97.2126812565699\n"
     ],
     "output_type": "stream"
    }
   ],
   "source": [
    "ql.Settings.instance().evaluationDate = ql.Date(1, ql.June, 2018)\n",
    "print(bond.cleanPrice())"
   ],
   "metadata": {
    "collapsed": false,
    "pycharm": {
     "name": "#%%\n",
     "is_executing": false
    }
   }
  },
  {
   "cell_type": "code",
   "execution_count": 66,
   "outputs": [
    {
     "traceback": [
      "\u001b[1;31m---------------------------------------------------------------------------\u001b[0m",
      "\u001b[1;31mRuntimeError\u001b[0m                              Traceback (most recent call last)",
      "\u001b[1;32m<ipython-input-66-6dab8e60db67>\u001b[0m in \u001b[0;36m<module>\u001b[1;34m\u001b[0m\n\u001b[0;32m      1\u001b[0m \u001b[0mql\u001b[0m\u001b[1;33m.\u001b[0m\u001b[0mSettings\u001b[0m\u001b[1;33m.\u001b[0m\u001b[0minstance\u001b[0m\u001b[1;33m(\u001b[0m\u001b[1;33m)\u001b[0m\u001b[1;33m.\u001b[0m\u001b[0mevaluationDate\u001b[0m \u001b[1;33m=\u001b[0m \u001b[0mql\u001b[0m\u001b[1;33m.\u001b[0m\u001b[0mDate\u001b[0m\u001b[1;33m(\u001b[0m\u001b[1;36m1\u001b[0m\u001b[1;33m,\u001b[0m \u001b[0mql\u001b[0m\u001b[1;33m.\u001b[0m\u001b[0mJune\u001b[0m\u001b[1;33m,\u001b[0m \u001b[1;36m2019\u001b[0m\u001b[1;33m)\u001b[0m\u001b[1;33m\u001b[0m\u001b[0m\n\u001b[0;32m      2\u001b[0m \u001b[1;33m\u001b[0m\u001b[0m\n\u001b[1;32m----> 3\u001b[1;33m \u001b[0mprint\u001b[0m\u001b[1;33m(\u001b[0m\u001b[0mbond\u001b[0m\u001b[1;33m.\u001b[0m\u001b[0mcleanPrice\u001b[0m\u001b[1;33m(\u001b[0m\u001b[1;33m)\u001b[0m\u001b[1;33m)\u001b[0m\u001b[1;33m\u001b[0m\u001b[0m\n\u001b[0m\u001b[0;32m      4\u001b[0m \u001b[1;33m\u001b[0m\u001b[0m\n\u001b[0;32m      5\u001b[0m \u001b[1;33m\u001b[0m\u001b[0m\n",
      "\u001b[1;32mc:\\users\\d91097\\pythonvenvs\\sa_ccr_allocation\\lib\\site-packages\\QuantLib\\QuantLib.py\u001b[0m in \u001b[0;36mcleanPrice\u001b[1;34m(self, *args)\u001b[0m\n\u001b[0;32m  15595\u001b[0m \u001b[1;33m\u001b[0m\u001b[0m\n\u001b[0;32m  15596\u001b[0m     \u001b[1;32mdef\u001b[0m \u001b[0mcleanPrice\u001b[0m\u001b[1;33m(\u001b[0m\u001b[0mself\u001b[0m\u001b[1;33m,\u001b[0m \u001b[1;33m*\u001b[0m\u001b[0margs\u001b[0m\u001b[1;33m)\u001b[0m\u001b[1;33m:\u001b[0m\u001b[1;33m\u001b[0m\u001b[0m\n\u001b[1;32m> 15597\u001b[1;33m         \u001b[1;32mreturn\u001b[0m \u001b[0m_QuantLib\u001b[0m\u001b[1;33m.\u001b[0m\u001b[0mBond_cleanPrice\u001b[0m\u001b[1;33m(\u001b[0m\u001b[0mself\u001b[0m\u001b[1;33m,\u001b[0m \u001b[1;33m*\u001b[0m\u001b[0margs\u001b[0m\u001b[1;33m)\u001b[0m\u001b[1;33m\u001b[0m\u001b[0m\n\u001b[0m\u001b[0;32m  15598\u001b[0m \u001b[1;33m\u001b[0m\u001b[0m\n\u001b[0;32m  15599\u001b[0m     \u001b[1;32mdef\u001b[0m \u001b[0mdirtyPrice\u001b[0m\u001b[1;33m(\u001b[0m\u001b[0mself\u001b[0m\u001b[1;33m,\u001b[0m \u001b[1;33m*\u001b[0m\u001b[0margs\u001b[0m\u001b[1;33m)\u001b[0m\u001b[1;33m:\u001b[0m\u001b[1;33m\u001b[0m\u001b[0m\n",
      "\u001b[1;31mRuntimeError\u001b[0m: Missing Euribor6M Actual/360 fixing for February 6th, 2019"
     ],
     "ename": "RuntimeError",
     "evalue": "Missing Euribor6M Actual/360 fixing for February 6th, 2019",
     "output_type": "error"
    }
   ],
   "source": [
    "ql.Settings.instance().evaluationDate = ql.Date(1, ql.June, 2019)\n",
    "\n",
    "print(bond.cleanPrice())\n",
    "\n"
   ],
   "metadata": {
    "collapsed": false,
    "pycharm": {
     "name": "#%%\n",
     "is_executing": false
    }
   }
  },
  {
   "cell_type": "code",
   "execution_count": 67,
   "outputs": [
    {
     "name": "stdout",
     "text": [
      "0.011387399107860378\n"
     ],
     "output_type": "stream"
    }
   ],
   "source": [
    "ql.Settings.instance().evaluationDate = ql.Date(1, ql.June, 2018)\n",
    "\n",
    "future_fixing = index.fixing(ql.Date(6, ql.February, 2019))\n",
    "print(future_fixing)\n",
    "index.addFixing(ql.Date(6, ql.February, 2019), future_fixing)"
   ],
   "metadata": {
    "collapsed": false,
    "pycharm": {
     "name": "#%%\n",
     "is_executing": false
    }
   }
  },
  {
   "cell_type": "code",
   "execution_count": 68,
   "outputs": [
    {
     "name": "stdout",
     "text": [
      "98.30830224923507\n"
     ],
     "output_type": "stream"
    }
   ],
   "source": [
    "ql.Settings.instance().evaluationDate = ql.Date(1, ql.June, 2019)\n",
    "print(bond.cleanPrice())"
   ],
   "metadata": {
    "collapsed": false,
    "pycharm": {
     "name": "#%%\n",
     "is_executing": false
    }
   }
  },
  {
   "cell_type": "code",
   "execution_count": 69,
   "outputs": [
    {
     "name": "stdout",
     "text": [
      "0.02\n"
     ],
     "output_type": "stream"
    }
   ],
   "source": [
    "index.addFixing(ql.Date(3, ql.February, 2021), 0.02)\n",
    "\n",
    "ql.Settings.instance().evaluationDate = ql.Date(1, ql.June, 2021)\n",
    "print(index.fixing(ql.Date(3, ql.February, 2021)))"
   ],
   "metadata": {
    "collapsed": false,
    "pycharm": {
     "name": "#%%\n",
     "is_executing": false
    }
   }
  },
  {
   "cell_type": "code",
   "execution_count": 70,
   "outputs": [
    {
     "name": "stdout",
     "text": [
      "0.011367299732914539\n"
     ],
     "output_type": "stream"
    }
   ],
   "source": [
    "ql.Settings.instance().evaluationDate = ql.Date(1, ql.June, 2020)\n",
    "print(index.fixing(ql.Date(3, ql.February, 2021)))"
   ],
   "metadata": {
    "collapsed": false,
    "pycharm": {
     "name": "#%%\n",
     "is_executing": false
    }
   }
  },
  {
   "cell_type": "code",
   "execution_count": null,
   "outputs": [],
   "source": [
    "\n"
   ],
   "metadata": {
    "collapsed": false,
    "pycharm": {
     "name": "#%%\n"
    }
   }
  }
 ],
 "metadata": {
  "kernelspec": {
   "display_name": "Python 3",
   "language": "python",
   "name": "python3"
  },
  "language_info": {
   "codemirror_mode": {
    "name": "ipython",
    "version": 2
   },
   "file_extension": ".py",
   "mimetype": "text/x-python",
   "name": "python",
   "nbconvert_exporter": "python",
   "pygments_lexer": "ipython2",
   "version": "2.7.6"
  },
  "pycharm": {
   "stem_cell": {
    "cell_type": "raw",
    "source": [],
    "metadata": {
     "collapsed": false
    }
   }
  }
 },
 "nbformat": 4,
 "nbformat_minor": 0
}