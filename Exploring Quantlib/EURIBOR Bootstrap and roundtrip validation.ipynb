{
 "cells": [
  {
   "cell_type": "markdown",
   "metadata": {
    "collapsed": true,
    "pycharm": {
     "name": "#%% md\n"
    }
   },
   "source": [
    "### Euribor bootstrap and roundtrip validation\n",
    "\n",
    "After having successfully bootstrapped an OIS curve we can use this curve to build up an EURIBOR curve.\n",
    "\n",
    "First we copy over what we did in notebook ``OIS Bootstrap`` to build our discount curve"
   ]
  },
  {
   "cell_type": "code",
   "execution_count": 1,
   "outputs": [],
   "source": [
    "# initiating\n",
    "\n",
    "import QuantLib as ql\n",
    "\n",
    "today = ql.Date(10, ql.May, 2019)\n",
    "ql.Settings.instance().evaluationDate = today"
   ],
   "metadata": {
    "collapsed": false,
    "pycharm": {
     "name": "#%%\n"
    }
   }
  },
  {
   "cell_type": "code",
   "execution_count": 2,
   "outputs": [],
   "source": [
    "# OIS Par Quotes used as input\n",
    "\n",
    "ois_quotes = {ql.Period(2, ql.Weeks): ql.SimpleQuote(-0.36503/100),\n",
    "               ql.Period(1, ql.Months): ql.SimpleQuote(-0.3650/100),\n",
    "               ql.Period(3, ql.Months): ql.SimpleQuote(-0.36521/100),\n",
    "               ql.Period(6, ql.Months): ql.SimpleQuote(-0.36754/100),\n",
    "               ql.Period(1, ql.Years): ql.SimpleQuote(-0.37488/100),\n",
    "               ql.Period(2, ql.Years): ql.SimpleQuote(-0.36102/100),\n",
    "               ql.Period(3, ql.Years): ql.SimpleQuote(-0.31511/100),\n",
    "               ql.Period(5, ql.Years): ql.SimpleQuote(-0.17438/100),\n",
    "               ql.Period(10, ql.Years): ql.SimpleQuote(0.28879/100),\n",
    "               ql.Period(15, ql.Years): ql.SimpleQuote(0.62908/100),\n",
    "               ql.Period(20, ql.Years): ql.SimpleQuote(0.82255/100),\n",
    "               ql.Period(30, ql.Years): ql.SimpleQuote(0.92238/100)}"
   ],
   "metadata": {
    "collapsed": false,
    "pycharm": {
     "name": "#%%\n"
    }
   }
  },
  {
   "cell_type": "code",
   "execution_count": 3,
   "outputs": [],
   "source": [
    "eonia_index = ql.Eonia()\n",
    "\n",
    "ois_helpers = []\n",
    "for tenor, quote in ois_quotes.items():\n",
    "    ois_helpers.append(ql.OISRateHelper(0, tenor, ql.QuoteHandle(quote), eonia_index))\n",
    "\n",
    "eonia_curve = ql.PiecewiseLogCubicDiscount(0, ql.TARGET(), ois_helpers, ql.Actual360())\n",
    "eonia_curve.enableExtrapolation()"
   ],
   "metadata": {
    "collapsed": false,
    "pycharm": {
     "name": "#%%\n"
    }
   }
  },
  {
   "cell_type": "markdown",
   "source": [
    "Now, whenever we need a Euro discount curve, we can work with ``ql.YieldTermStructureHandle(eonia_curve)``\n",
    "\n",
    "Next we take inspiration from the EURIBOR curve bootstrapping section of the Python cookbook. We are building the 6M EURIBOR curve and therefore its first point is the 6M point. This is a Money Market Quote. Afterwards, from 7M to 11M FRAs would be used to build the curve, but to 7 up to the 11M point are not needed for ISDA-SIMM therefore we skip right to the Swap quotes which are starting at 1Y and going up to 30Years."
   ],
   "metadata": {
    "collapsed": false,
    "pycharm": {
     "name": "#%% md\n"
    }
   }
  },
  {
   "cell_type": "code",
   "execution_count": 4,
   "outputs": [],
   "source": [
    "euribor_money_market = ql.SimpleQuote(-0.231/100)\n",
    "\n",
    "euribor_helpers = []\n",
    "\n",
    "euribor_helpers += [ql.DepositRateHelper(ql.QuoteHandle(euribor_money_market), ql.Period(6, ql.Months),2, ql.TARGET(), ql.ModifiedFollowing, False, ql.Actual360())]\n",
    "\n",
    "euribor_swap_quotes = {ql.Period(1, ql.Years): ql.SimpleQuote(-0.2355/100),\n",
    "                  ql.Period(2, ql.Years): ql.SimpleQuote(-0.20860/100),\n",
    "                  ql.Period(3, ql.Years): ql.SimpleQuote(-0.1525/100),\n",
    "                  ql.Period(5, ql.Years): ql.SimpleQuote(-0.17438/100),\n",
    "                  ql.Period(10, ql.Years): ql.SimpleQuote(0.28879/100),\n",
    "                  ql.Period(15, ql.Years): ql.SimpleQuote(0.62908/100),\n",
    "                  ql.Period(20, ql.Years): ql.SimpleQuote(0.82255/100),\n",
    "                  ql.Period(30, ql.Years): ql.SimpleQuote(0.92238/100)}"
   ],
   "metadata": {
    "collapsed": false,
    "pycharm": {
     "name": "#%%\n"
    }
   }
  },
  {
   "cell_type": "code",
   "execution_count": 5,
   "outputs": [],
   "source": [
    "for tenor, quote in euribor_swap_quotes.items():\n",
    "    euribor_helpers.append(ql.SwapRateHelper(ql.QuoteHandle(quote),\n",
    "                                             tenor,\n",
    "                                             ql.TARGET(),\n",
    "                                             ql.Annual,\n",
    "                                             ql.Following,\n",
    "                                             ql.Actual360(),\n",
    "                                             ql.Euribor6M(),\n",
    "                                             ql.QuoteHandle(),\n",
    "                                             ql.Period(0, ql.Days),\n",
    "                                             ql.YieldTermStructureHandle(eonia_curve)))"
   ],
   "metadata": {
    "collapsed": false,
    "pycharm": {
     "name": "#%%\n"
    }
   }
  },
  {
   "cell_type": "code",
   "execution_count": 6,
   "outputs": [],
   "source": [
    "euribor6m_curve = ql.PiecewiseLogCubicDiscount(2, ql.TARGET(), euribor_helpers, ql.Actual360())\n",
    "euribor6m_curve.enableExtrapolation()"
   ],
   "metadata": {
    "collapsed": false,
    "pycharm": {
     "name": "#%%\n"
    }
   }
  },
  {
   "cell_type": "code",
   "execution_count": 7,
   "outputs": [],
   "source": [
    "pricing_engine = ql.DiscountingSwapEngine(ql.YieldTermStructureHandle(eonia_curve))"
   ],
   "metadata": {
    "collapsed": false,
    "pycharm": {
     "name": "#%%\n"
    }
   }
  },
  {
   "cell_type": "code",
   "execution_count": 8,
   "outputs": [
    {
     "name": "stdout",
     "output_type": "stream",
     "text": [
      "November 14th, 2019\n",
      "May 14th, 2020\n",
      "November 16th, 2020\n",
      "May 14th, 2021\n",
      "November 15th, 2021\n",
      "May 16th, 2022\n",
      "May 14th, 2020\n",
      "May 14th, 2021\n",
      "May 16th, 2022\n"
     ]
    }
   ],
   "source": [
    "reference_swap = euribor_helpers[3].swap()\n",
    "for cashflow in reference_swap.floatingLeg():\n",
    "    print(cashflow.date())\n",
    "\n",
    "for cashflow in reference_swap.fixedLeg():\n",
    "    print(cashflow.date())"
   ],
   "metadata": {
    "collapsed": false,
    "pycharm": {
     "name": "#%%\n"
    }
   }
  },
  {
   "cell_type": "code",
   "execution_count": 9,
   "outputs": [],
   "source": [
    "nominal = 1\n",
    "fixedRate = 0\n",
    "dc = ql.Actual360()\n",
    "type = ql.VanillaSwap.Receiver\n",
    "index = ql.Euribor6M(ql.YieldTermStructureHandle(euribor6m_curve))\n",
    "float_schedule = ql.Schedule(ql.TARGET().advance(today, 2, ql.Days), ql.Date(16, ql.May, 2022), ql.Period(6, ql.Months), ql.TARGET(), ql.ModifiedFollowing, ql.ModifiedFollowing, ql.DateGeneration.Forward, False)\n",
    "fixed_schedule = ql.Schedule(ql.TARGET().advance(today, 2, ql.Days), ql.Date(16, ql.May, 2022), ql.Period(1, ql.Years), ql.TARGET(), ql.ModifiedFollowing, ql.ModifiedFollowing, ql.DateGeneration.Forward, False)"
   ],
   "metadata": {
    "collapsed": false,
    "pycharm": {
     "name": "#%%\n"
    }
   }
  },
  {
   "cell_type": "code",
   "execution_count": 10,
   "outputs": [],
   "source": [
    "test_swap = ql.VanillaSwap(type, nominal, fixed_schedule, fixedRate, ql.Actual360(), float_schedule, index, 0, ql.Actual360())"
   ],
   "metadata": {
    "collapsed": false,
    "pycharm": {
     "name": "#%%\n"
    }
   }
  },
  {
   "cell_type": "code",
   "execution_count": 11,
   "outputs": [
    {
     "name": "stdout",
     "output_type": "stream",
     "text": [
      "November 14th, 2019\n",
      "May 14th, 2020\n",
      "November 16th, 2020\n",
      "May 14th, 2021\n",
      "November 15th, 2021\n",
      "May 16th, 2022\n",
      "May 14th, 2020\n",
      "May 14th, 2021\n",
      "May 16th, 2022\n"
     ]
    }
   ],
   "source": [
    "for cashflow in test_swap.floatingLeg():\n",
    "    print(cashflow.date())\n",
    "\n",
    "for cashflow in test_swap.fixedLeg():\n",
    "    print(cashflow.date())\n",
    "\n",
    "test_swap.setPricingEngine(pricing_engine)"
   ],
   "metadata": {
    "collapsed": false,
    "pycharm": {
     "name": "#%%\n"
    }
   }
  },
  {
   "cell_type": "code",
   "execution_count": 12,
   "outputs": [
    {
     "name": "stdout",
     "output_type": "stream",
     "text": [
      "November 14th, 2019\n",
      "-0.11806666666666665\n",
      "May 14th, 2020\n",
      "0.1154437098233152\n",
      "November 16th, 2020\n",
      "-0.00011076951453814488\n",
      "May 14th, 2021\n",
      "-0.0017318578715532773\n",
      "November 15th, 2021\n",
      "-0.0003691437630104488\n",
      "May 16th, 2022\n",
      "-5.1282128125662574e-05\n",
      "November 14th, 2019\n",
      "-0.11806666666666665\n",
      "May 14th, 2020\n",
      "0.1154437098233152\n",
      "November 16th, 2020\n",
      "-0.00011076951453814488\n",
      "May 14th, 2021\n",
      "-0.0017318578715532773\n",
      "November 15th, 2021\n",
      "-0.0003691437630104488\n",
      "May 16th, 2022\n",
      "-5.1282128125662574e-05\n"
     ]
    }
   ],
   "source": [
    "for cashflow in test_swap.floatingLeg():\n",
    "    print(cashflow.date())\n",
    "    print(cashflow.amount())\n",
    "\n",
    "for cashflow in reference_swap.floatingLeg():\n",
    "    print(cashflow.date())\n",
    "    print(cashflow.amount())"
   ],
   "metadata": {
    "collapsed": false,
    "pycharm": {
     "name": "#%%\n"
    }
   }
  },
  {
   "cell_type": "code",
   "execution_count": 13,
   "outputs": [
    {
     "name": "stdout",
     "output_type": "stream",
     "text": [
      "May 14th, 2020\n",
      "0.0\n",
      "May 14th, 2021\n",
      "0.0\n",
      "May 16th, 2022\n",
      "0.0\n",
      "May 14th, 2020\n",
      "0.0\n",
      "May 14th, 2021\n",
      "0.0\n",
      "May 16th, 2022\n",
      "0.0\n"
     ]
    }
   ],
   "source": [
    "for cashflow in test_swap.fixedLeg():\n",
    "    print(cashflow.date())\n",
    "    print(cashflow.amount())\n",
    "\n",
    "for cashflow in reference_swap.fixedLeg():\n",
    "    print(cashflow.date())\n",
    "    print(cashflow.amount())"
   ],
   "metadata": {
    "collapsed": false,
    "pycharm": {
     "name": "#%%\n"
    }
   }
  },
  {
   "cell_type": "code",
   "execution_count": 14,
   "outputs": [
    {
     "name": "stdout",
     "output_type": "stream",
     "text": [
      "-0.0015249999999999574\n",
      "-0.0015249999999999999\n",
      "-0.0015249999999999574\n"
     ]
    }
   ],
   "source": [
    "print(test_swap.fairRate())\n",
    "print(euribor_swap_quotes[ql.Period(3, ql.Years)].value())\n",
    "print(reference_swap.fairRate())"
   ],
   "metadata": {
    "collapsed": false,
    "pycharm": {
     "name": "#%%\n"
    }
   }
  },
  {
   "cell_type": "markdown",
   "source": [
    "Roundtrip pricing worked out. Needed to adjust Business day convention and Day Count Convention of the SwapHelper to match.\n"
   ],
   "metadata": {
    "collapsed": false,
    "pycharm": {
     "name": "#%% md\n"
    }
   }
  }
 ],
 "metadata": {
  "kernelspec": {
   "display_name": "Python 3",
   "language": "python",
   "name": "python3"
  },
  "language_info": {
   "codemirror_mode": {
    "name": "ipython",
    "version": 2
   },
   "file_extension": ".py",
   "mimetype": "text/x-python",
   "name": "python",
   "nbconvert_exporter": "python",
   "pygments_lexer": "ipython2",
   "version": "2.7.6"
  }
 },
 "nbformat": 4,
 "nbformat_minor": 0
}