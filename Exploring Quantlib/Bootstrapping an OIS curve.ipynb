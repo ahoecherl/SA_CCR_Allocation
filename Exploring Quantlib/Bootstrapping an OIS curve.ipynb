{
 "cells": [
  {
   "cell_type": "markdown",
   "metadata": {
    "collapsed": true,
    "pycharm": {
     "name": "#%% md\n"
    }
   },
   "source": [
    "## Bootstrapping an OIS curve\n",
    "\n",
    "In this notebook we will try to bootstrap an OIS curve to satisfy the minimal requirement of ISDA-SIMM. By exactly matching\n",
    "the minimal requirement we do not introduce any added complexity that wouldn't increase the granularity of the risk model\n",
    "anyways.\n",
    "\n",
    "ISDA-SIMM has two requirements.\n",
    "1. We need par Sensitivities  - i.e. the quotes used for bootstrapping the curve need to be shifted and the curve\n",
    "re-bootstrapped to calculate sensitivities.\n",
    "\n",
    "2. The minimal tenors for which we need sensitivities are 2W, 1M, 3M, 6M, 1Y, 2Y, 3Y, 5Y, 10Y, 15Y, 20Y and 30Y\n",
    "\n",
    "Therefore we will bootstrap a curve using 11 swaps on exactly these vertexes.\n",
    "\n",
    "Our dummy quotes are the following:"
   ]
  },
  {
   "cell_type": "code",
   "execution_count": 1,
   "metadata": {
    "pycharm": {
     "is_executing": false,
     "name": "#%%\n"
    }
   },
   "outputs": [],
   "source": [
    "import QuantLib as ql\n",
    "\n",
    "today = ql.Date(10, ql.May, 2019)\n",
    "ql.Settings.instance().evaluationDate = today\n",
    "\n",
    "swap_quotes = {(2, ql.Weeks): ql.SimpleQuote(-0.36503/100),\n",
    "               (1, ql.Months): ql.SimpleQuote(-0.3650/100),\n",
    "               (3, ql.Months): ql.SimpleQuote(-0.36521/100),\n",
    "               (6, ql.Months): ql.SimpleQuote(-0.36754/100),\n",
    "               (1, ql.Years): ql.SimpleQuote(-0.37488/100),\n",
    "               (3, ql.Years): ql.SimpleQuote(-0.31511/100),\n",
    "               (10, ql.Years): ql.SimpleQuote(0.28879/100),\n",
    "               (15, ql.Years): ql.SimpleQuote(0.62908/100),\n",
    "               (20, ql.Years): ql.SimpleQuote(0.82255/100),\n",
    "               (30, ql.Years): ql.SimpleQuote(0.92238/100)}"
   ]
  },
  {
   "cell_type": "markdown",
   "metadata": {},
   "source": [
    "Next we need to create the swaps that are using these quotes. We will collect them in a helper array."
   ]
  },
  {
   "cell_type": "code",
   "execution_count": 2,
   "metadata": {
    "pycharm": {
     "is_executing": false,
     "name": "#%%\n"
    }
   },
   "outputs": [],
   "source": [
    "helpers = []\n",
    "\n",
    "for tenor, quote in swap_quotes.items():\n",
    "    helpers.append(ql.OISRateHelper(0, ql.Period(*tenor), ql.QuoteHandle(quote), ql.Eonia()))"
   ]
  },
  {
   "cell_type": "code",
   "execution_count": 3,
   "metadata": {
    "pycharm": {
     "is_executing": false,
     "name": "#%%\n"
    }
   },
   "outputs": [],
   "source": [
    "eonia_curve = ql.PiecewiseLogCubicDiscount(0, ql.TARGET(), helpers, ql.Actual360())\n",
    "\n",
    "eonia_curve.enableExtrapolation()"
   ]
  },
  {
   "cell_type": "code",
   "execution_count": 4,
   "outputs": [
    {
     "traceback": [
      "\u001b[1;31m---------------------------------------------------------------------------\u001b[0m",
      "\u001b[1;31mTypeError\u001b[0m                                 Traceback (most recent call last)",
      "\u001b[1;32m<ipython-input-4-f1b82b856b25>\u001b[0m in \u001b[0;36m<module>\u001b[1;34m\u001b[0m\n\u001b[0;32m      2\u001b[0m \u001b[0mdates\u001b[0m\u001b[1;33m=\u001b[0m \u001b[1;33m[\u001b[0m\u001b[0mql\u001b[0m\u001b[1;33m.\u001b[0m\u001b[0mDate\u001b[0m\u001b[1;33m(\u001b[0m\u001b[0mserial\u001b[0m\u001b[1;33m)\u001b[0m \u001b[1;32mfor\u001b[0m \u001b[0mserial\u001b[0m \u001b[1;32min\u001b[0m \u001b[0mrange\u001b[0m\u001b[1;33m(\u001b[0m\u001b[0mtoday\u001b[0m\u001b[1;33m.\u001b[0m\u001b[0mserialNumber\u001b[0m\u001b[1;33m(\u001b[0m\u001b[1;33m)\u001b[0m\u001b[1;33m,\u001b[0m \u001b[0mend\u001b[0m\u001b[1;33m.\u001b[0m\u001b[0mserialNumber\u001b[0m\u001b[1;33m(\u001b[0m\u001b[1;33m)\u001b[0m\u001b[1;33m+\u001b[0m\u001b[1;36m1\u001b[0m\u001b[1;33m)\u001b[0m\u001b[1;33m]\u001b[0m\u001b[1;33m\u001b[0m\u001b[0m\n\u001b[0;32m      3\u001b[0m \u001b[0mrates\u001b[0m \u001b[1;33m=\u001b[0m \u001b[1;33m[\u001b[0m\u001b[0meonia_curve\u001b[0m\u001b[1;33m.\u001b[0m\u001b[0mforwardRate\u001b[0m\u001b[1;33m(\u001b[0m\u001b[0md\u001b[0m\u001b[1;33m,\u001b[0m \u001b[0mql\u001b[0m\u001b[1;33m.\u001b[0m\u001b[0mTARGET\u001b[0m\u001b[1;33m(\u001b[0m\u001b[1;33m)\u001b[0m\u001b[1;33m.\u001b[0m\u001b[0madvance\u001b[0m\u001b[1;33m(\u001b[0m\u001b[0md\u001b[0m\u001b[1;33m,\u001b[0m\u001b[1;36m1\u001b[0m\u001b[1;33m,\u001b[0m\u001b[0mql\u001b[0m\u001b[1;33m.\u001b[0m\u001b[0mDays\u001b[0m\u001b[1;33m)\u001b[0m\u001b[1;33m,\u001b[0m \u001b[0mql\u001b[0m\u001b[1;33m.\u001b[0m\u001b[0mActual360\u001b[0m\u001b[1;33m(\u001b[0m\u001b[1;33m)\u001b[0m\u001b[1;33m,\u001b[0m \u001b[0mql\u001b[0m\u001b[1;33m.\u001b[0m\u001b[0mSimple\u001b[0m\u001b[1;33m)\u001b[0m\u001b[1;33m.\u001b[0m\u001b[0mrate\u001b[0m\u001b[1;33m(\u001b[0m\u001b[1;33m)\u001b[0m \u001b[1;32mfor\u001b[0m \u001b[0md\u001b[0m \u001b[1;32min\u001b[0m \u001b[0mdates\u001b[0m\u001b[1;33m]\u001b[0m\u001b[1;33m\u001b[0m\u001b[0m\n\u001b[1;32m----> 4\u001b[1;33m \u001b[0mzero_rates\u001b[0m \u001b[1;33m=\u001b[0m \u001b[1;33m[\u001b[0m\u001b[0meonia_curve\u001b[0m\u001b[1;33m.\u001b[0m\u001b[0mzeroRate\u001b[0m\u001b[1;33m(\u001b[0m\u001b[0md\u001b[0m\u001b[1;33m,\u001b[0m \u001b[0mql\u001b[0m\u001b[1;33m.\u001b[0m\u001b[0mTARGET\u001b[0m\u001b[1;33m(\u001b[0m\u001b[1;33m)\u001b[0m\u001b[1;33m.\u001b[0m\u001b[0madvance\u001b[0m\u001b[1;33m(\u001b[0m\u001b[0md\u001b[0m\u001b[1;33m,\u001b[0m \u001b[1;36m1\u001b[0m\u001b[1;33m,\u001b[0m \u001b[0mql\u001b[0m\u001b[1;33m.\u001b[0m\u001b[0mDays\u001b[0m\u001b[1;33m)\u001b[0m\u001b[1;33m,\u001b[0m \u001b[0mql\u001b[0m\u001b[1;33m.\u001b[0m\u001b[0mActual360\u001b[0m\u001b[1;33m(\u001b[0m\u001b[1;33m)\u001b[0m\u001b[1;33m,\u001b[0m \u001b[0mql\u001b[0m\u001b[1;33m.\u001b[0m\u001b[0mSimple\u001b[0m\u001b[1;33m)\u001b[0m\u001b[1;33m.\u001b[0m\u001b[0mrate\u001b[0m\u001b[1;33m(\u001b[0m\u001b[1;33m)\u001b[0m \u001b[1;32mfor\u001b[0m \u001b[0md\u001b[0m \u001b[1;32min\u001b[0m \u001b[0mdates\u001b[0m\u001b[1;33m]\u001b[0m\u001b[1;33m\u001b[0m\u001b[0m\n\u001b[0m\u001b[0;32m      5\u001b[0m \u001b[1;33m\u001b[0m\u001b[0m\n\u001b[0;32m      6\u001b[0m \u001b[1;33m\u001b[0m\u001b[0m\n",
      "\u001b[1;32m<ipython-input-4-f1b82b856b25>\u001b[0m in \u001b[0;36m<listcomp>\u001b[1;34m(.0)\u001b[0m\n\u001b[0;32m      2\u001b[0m \u001b[0mdates\u001b[0m\u001b[1;33m=\u001b[0m \u001b[1;33m[\u001b[0m\u001b[0mql\u001b[0m\u001b[1;33m.\u001b[0m\u001b[0mDate\u001b[0m\u001b[1;33m(\u001b[0m\u001b[0mserial\u001b[0m\u001b[1;33m)\u001b[0m \u001b[1;32mfor\u001b[0m \u001b[0mserial\u001b[0m \u001b[1;32min\u001b[0m \u001b[0mrange\u001b[0m\u001b[1;33m(\u001b[0m\u001b[0mtoday\u001b[0m\u001b[1;33m.\u001b[0m\u001b[0mserialNumber\u001b[0m\u001b[1;33m(\u001b[0m\u001b[1;33m)\u001b[0m\u001b[1;33m,\u001b[0m \u001b[0mend\u001b[0m\u001b[1;33m.\u001b[0m\u001b[0mserialNumber\u001b[0m\u001b[1;33m(\u001b[0m\u001b[1;33m)\u001b[0m\u001b[1;33m+\u001b[0m\u001b[1;36m1\u001b[0m\u001b[1;33m)\u001b[0m\u001b[1;33m]\u001b[0m\u001b[1;33m\u001b[0m\u001b[0m\n\u001b[0;32m      3\u001b[0m \u001b[0mrates\u001b[0m \u001b[1;33m=\u001b[0m \u001b[1;33m[\u001b[0m\u001b[0meonia_curve\u001b[0m\u001b[1;33m.\u001b[0m\u001b[0mforwardRate\u001b[0m\u001b[1;33m(\u001b[0m\u001b[0md\u001b[0m\u001b[1;33m,\u001b[0m \u001b[0mql\u001b[0m\u001b[1;33m.\u001b[0m\u001b[0mTARGET\u001b[0m\u001b[1;33m(\u001b[0m\u001b[1;33m)\u001b[0m\u001b[1;33m.\u001b[0m\u001b[0madvance\u001b[0m\u001b[1;33m(\u001b[0m\u001b[0md\u001b[0m\u001b[1;33m,\u001b[0m\u001b[1;36m1\u001b[0m\u001b[1;33m,\u001b[0m\u001b[0mql\u001b[0m\u001b[1;33m.\u001b[0m\u001b[0mDays\u001b[0m\u001b[1;33m)\u001b[0m\u001b[1;33m,\u001b[0m \u001b[0mql\u001b[0m\u001b[1;33m.\u001b[0m\u001b[0mActual360\u001b[0m\u001b[1;33m(\u001b[0m\u001b[1;33m)\u001b[0m\u001b[1;33m,\u001b[0m \u001b[0mql\u001b[0m\u001b[1;33m.\u001b[0m\u001b[0mSimple\u001b[0m\u001b[1;33m)\u001b[0m\u001b[1;33m.\u001b[0m\u001b[0mrate\u001b[0m\u001b[1;33m(\u001b[0m\u001b[1;33m)\u001b[0m \u001b[1;32mfor\u001b[0m \u001b[0md\u001b[0m \u001b[1;32min\u001b[0m \u001b[0mdates\u001b[0m\u001b[1;33m]\u001b[0m\u001b[1;33m\u001b[0m\u001b[0m\n\u001b[1;32m----> 4\u001b[1;33m \u001b[0mzero_rates\u001b[0m \u001b[1;33m=\u001b[0m \u001b[1;33m[\u001b[0m\u001b[0meonia_curve\u001b[0m\u001b[1;33m.\u001b[0m\u001b[0mzeroRate\u001b[0m\u001b[1;33m(\u001b[0m\u001b[0md\u001b[0m\u001b[1;33m,\u001b[0m \u001b[0mql\u001b[0m\u001b[1;33m.\u001b[0m\u001b[0mTARGET\u001b[0m\u001b[1;33m(\u001b[0m\u001b[1;33m)\u001b[0m\u001b[1;33m.\u001b[0m\u001b[0madvance\u001b[0m\u001b[1;33m(\u001b[0m\u001b[0md\u001b[0m\u001b[1;33m,\u001b[0m \u001b[1;36m1\u001b[0m\u001b[1;33m,\u001b[0m \u001b[0mql\u001b[0m\u001b[1;33m.\u001b[0m\u001b[0mDays\u001b[0m\u001b[1;33m)\u001b[0m\u001b[1;33m,\u001b[0m \u001b[0mql\u001b[0m\u001b[1;33m.\u001b[0m\u001b[0mActual360\u001b[0m\u001b[1;33m(\u001b[0m\u001b[1;33m)\u001b[0m\u001b[1;33m,\u001b[0m \u001b[0mql\u001b[0m\u001b[1;33m.\u001b[0m\u001b[0mSimple\u001b[0m\u001b[1;33m)\u001b[0m\u001b[1;33m.\u001b[0m\u001b[0mrate\u001b[0m\u001b[1;33m(\u001b[0m\u001b[1;33m)\u001b[0m \u001b[1;32mfor\u001b[0m \u001b[0md\u001b[0m \u001b[1;32min\u001b[0m \u001b[0mdates\u001b[0m\u001b[1;33m]\u001b[0m\u001b[1;33m\u001b[0m\u001b[0m\n\u001b[0m\u001b[0;32m      5\u001b[0m \u001b[1;33m\u001b[0m\u001b[0m\n\u001b[0;32m      6\u001b[0m \u001b[1;33m\u001b[0m\u001b[0m\n",
      "\u001b[1;32mc:\\users\\d91097\\pythonvenvs\\sa_ccr_allocation\\lib\\site-packages\\QuantLib\\QuantLib.py\u001b[0m in \u001b[0;36mzeroRate\u001b[1;34m(self, *args)\u001b[0m\n\u001b[0;32m   4951\u001b[0m \u001b[1;33m\u001b[0m\u001b[0m\n\u001b[0;32m   4952\u001b[0m     \u001b[1;32mdef\u001b[0m \u001b[0mzeroRate\u001b[0m\u001b[1;33m(\u001b[0m\u001b[0mself\u001b[0m\u001b[1;33m,\u001b[0m \u001b[1;33m*\u001b[0m\u001b[0margs\u001b[0m\u001b[1;33m)\u001b[0m\u001b[1;33m:\u001b[0m\u001b[1;33m\u001b[0m\u001b[0m\n\u001b[1;32m-> 4953\u001b[1;33m         \u001b[1;32mreturn\u001b[0m \u001b[0m_QuantLib\u001b[0m\u001b[1;33m.\u001b[0m\u001b[0mYieldTermStructure_zeroRate\u001b[0m\u001b[1;33m(\u001b[0m\u001b[0mself\u001b[0m\u001b[1;33m,\u001b[0m \u001b[1;33m*\u001b[0m\u001b[0margs\u001b[0m\u001b[1;33m)\u001b[0m\u001b[1;33m\u001b[0m\u001b[0m\n\u001b[0m\u001b[0;32m   4954\u001b[0m \u001b[1;33m\u001b[0m\u001b[0m\n\u001b[0;32m   4955\u001b[0m     \u001b[1;32mdef\u001b[0m \u001b[0mforwardRate\u001b[0m\u001b[1;33m(\u001b[0m\u001b[0mself\u001b[0m\u001b[1;33m,\u001b[0m \u001b[1;33m*\u001b[0m\u001b[0margs\u001b[0m\u001b[1;33m)\u001b[0m\u001b[1;33m:\u001b[0m\u001b[1;33m\u001b[0m\u001b[0m\n",
      "\u001b[1;31mTypeError\u001b[0m: Wrong number or type of arguments for overloaded function 'YieldTermStructure_zeroRate'.\n  Possible C/C++ prototypes are:\n    YieldTermStructure::zeroRate(Date const &,DayCounter const &,Compounding,Frequency,bool) const\n    YieldTermStructure::zeroRate(Date const &,DayCounter const &,Compounding,Frequency) const\n    YieldTermStructure::zeroRate(Date const &,DayCounter const &,Compounding) const\n    YieldTermStructure::zeroRate(Time,Compounding,Frequency,bool) const\n    YieldTermStructure::zeroRate(Time,Compounding,Frequency) const\n    YieldTermStructure::zeroRate(Time,Compounding) const\n"
     ],
     "ename": "TypeError",
     "evalue": "Wrong number or type of arguments for overloaded function 'YieldTermStructure_zeroRate'.\n  Possible C/C++ prototypes are:\n    YieldTermStructure::zeroRate(Date const &,DayCounter const &,Compounding,Frequency,bool) const\n    YieldTermStructure::zeroRate(Date const &,DayCounter const &,Compounding,Frequency) const\n    YieldTermStructure::zeroRate(Date const &,DayCounter const &,Compounding) const\n    YieldTermStructure::zeroRate(Time,Compounding,Frequency,bool) const\n    YieldTermStructure::zeroRate(Time,Compounding,Frequency) const\n    YieldTermStructure::zeroRate(Time,Compounding) const\n",
     "output_type": "error"
    }
   ],
   "source": [
    "end= today+ql.Period(30, ql.Years)\n",
    "dates= [ql.Date(serial) for serial in range(today.serialNumber(), end.serialNumber()+1)]\n",
    "rates = [eonia_curve.forwardRate(d, ql.TARGET().advance(d,1,ql.Days), ql.Actual360(), ql.Simple).rate() for d in dates]\n",
    "zero_rates = [eonia_curve.zeroRate(d, ql.TARGET().advance(d, 1, ql.Days), ql.Actual360(), ql.Simple).rate() for d in dates]\n"
   ],
   "metadata": {
    "collapsed": false,
    "pycharm": {
     "name": "#%%\n",
     "is_executing": false
    }
   }
  },
  {
   "cell_type": "code",
   "execution_count": 26,
   "outputs": [
    {
     "data": {
      "text/plain": "<Figure size 864x576 with 1 Axes>",
      "image/png": "[encoded data removed]"
     },
     "metadata": {
      "needs_background": "light"
     },
     "output_type": "display_data"
    }
   ],
   "source": [
    "from quantlibpythoncookbook_extras import utils\n",
    "\n",
    "_, ax = utils.plot()\n",
    "utils.highlight_x_axis(ax)\n",
    "utils.plot_curve(ax, dates, [(rates, '-')], format_rates=True)"
   ],
   "metadata": {
    "collapsed": false,
    "pycharm": {
     "name": "#%%\n",
     "is_executing": false
    }
   }
  },
  {
   "cell_type": "code",
   "execution_count": 28,
   "outputs": [
    {
     "data": {
      "text/plain": "<bound method InterestRate.rate of <QuantLib.QuantLib.InterestRate; proxy of <Swig Object of type 'InterestRate *' at 0x0000012C658C9990> >>"
     },
     "metadata": {},
     "output_type": "execute_result",
     "execution_count": 28
    }
   ],
   "source": [
    "forwardDate = today + ql.Period(1, ql.Years)\n",
    "zeroRate = eonia_curve.zeroRate(forwardDate, ql.Actual360(), ql.Simple)\n",
    "zeroRate.rate"
   ],
   "metadata": {
    "collapsed": false,
    "pycharm": {
     "name": "#%%\n",
     "is_executing": false
    }
   }
  },
  {
   "cell_type": "markdown",
   "source": [
    "Let's try to perform a roundtrip pricing."
   ],
   "metadata": {
    "collapsed": false,
    "pycharm": {
     "name": "#%% md\n",
     "is_executing": false
    }
   }
  },
  {
   "cell_type": "code",
   "execution_count": 80,
   "outputs": [
    {
     "name": "stdout",
     "text": [
      "May 11th, 2020\n",
      "May 11th, 2020\n"
     ],
     "output_type": "stream"
    },
    {
     "traceback": [
      "\u001b[1;31m---------------------------------------------------------------------------\u001b[0m",
      "\u001b[1;31mAttributeError\u001b[0m                            Traceback (most recent call last)",
      "\u001b[1;32m<ipython-input-80-529542597b09>\u001b[0m in \u001b[0;36m<module>\u001b[1;34m\u001b[0m\n\u001b[0;32m      5\u001b[0m \u001b[0mprint\u001b[0m\u001b[1;33m(\u001b[0m\u001b[0mreference_overnight_leg\u001b[0m\u001b[1;33m[\u001b[0m\u001b[1;36m0\u001b[0m\u001b[1;33m]\u001b[0m\u001b[1;33m.\u001b[0m\u001b[0mdate\u001b[0m\u001b[1;33m(\u001b[0m\u001b[1;33m)\u001b[0m\u001b[1;33m)\u001b[0m\u001b[1;33m\u001b[0m\u001b[0m\n\u001b[0;32m      6\u001b[0m \u001b[0mtestType\u001b[0m \u001b[1;33m=\u001b[0m \u001b[0mreference_swap\u001b[0m\u001b[1;33m.\u001b[0m\u001b[0mtype\u001b[0m\u001b[1;33m(\u001b[0m\u001b[1;33m)\u001b[0m\u001b[1;33m\u001b[0m\u001b[0m\n\u001b[1;32m----> 7\u001b[1;33m \u001b[0mreference_swap\u001b[0m\u001b[1;33m.\u001b[0m\u001b[0mpricingEngine\u001b[0m\u001b[1;33m(\u001b[0m\u001b[1;33m)\u001b[0m\u001b[1;33m\u001b[0m\u001b[0m\n\u001b[0m",
      "\u001b[1;31mAttributeError\u001b[0m: 'OvernightIndexedSwap' object has no attribute 'pricingEngine'"
     ],
     "ename": "AttributeError",
     "evalue": "'OvernightIndexedSwap' object has no attribute 'pricingEngine'",
     "output_type": "error"
    }
   ],
   "source": [
    "reference_swap = helpers[4].swap()\n",
    "reference_fixed_leg = reference_swap.fixedLeg()\n",
    "print(reference_fixed_leg[0].date())\n",
    "reference_overnight_leg = reference_swap.overnightLeg()\n",
    "print(reference_overnight_leg[0].date())\n",
    "testType = reference_swap.type()\n",
    "reference_swap.pricingEngine()"
   ],
   "metadata": {
    "collapsed": false,
    "pycharm": {
     "name": "#%%\n",
     "is_executing": false
    }
   }
  },
  {
   "cell_type": "code",
   "execution_count": 76,
   "outputs": [],
   "source": [
    "nominal = 100.0\n",
    "fixedRate = 0.01\n",
    "index = ql.Eonia()\n",
    "dc = ql.Actual360()\n",
    "type = ql.OvernightIndexedSwap.Receiver\n",
    "\n",
    "test_schedule1 = ql.Schedule (today, ql.Date(11, ql.May, 2020), ql.Period(1, ql.Days), ql.TARGET(), ql.ModifiedFollowing, ql.ModifiedFollowing, ql.DateGeneration.Forward, False)\n",
    "\n",
    "test_ois = ql.OvernightIndexedSwap(type, nominal, test_schedule1, fixedRate, dc, index)"
   ],
   "metadata": {
    "collapsed": false,
    "pycharm": {
     "name": "#%%\n",
     "is_executing": false
    }
   }
  },
  {
   "cell_type": "markdown",
   "source": [
    "Getting a yield curve out of it:"
   ],
   "metadata": {
    "collapsed": false,
    "pycharm": {
     "name": "#%% md\n",
     "is_executing": false
    }
   }
  },
  {
   "cell_type": "code",
   "execution_count": 84,
   "outputs": [
    {
     "data": {
      "text/plain": "1.0"
     },
     "metadata": {},
     "output_type": "execute_result",
     "execution_count": 84
    }
   ],
   "source": [
    "eonia_curve.discount(today)"
   ],
   "metadata": {
    "collapsed": false,
    "pycharm": {
     "name": "#%%\n",
     "is_executing": false
    }
   }
  },
  {
   "cell_type": "code",
   "execution_count": null,
   "outputs": [],
   "source": [
    "pricingEngine = ql.DiscountingSwapEngine(eonia_curve.discount(today))"
   ],
   "metadata": {
    "collapsed": false,
    "pycharm": {
     "name": "#%%\n"
    }
   }
  },
  {
   "cell_type": "code",
   "execution_count": 64,
   "outputs": [],
   "source": [
    "test2 = ql.OvernightIndexedSwap.Receiver\n",
    "sched = ql.Schedule([ql.Date(11, ql.May, 2020)])\n",
    "test_\n",
    "\n"
   ],
   "metadata": {
    "collapsed": false,
    "pycharm": {
     "name": "#%%\n",
     "is_executing": false
    }
   }
  }
 ],
 "metadata": {
  "kernelspec": {
   "display_name": "Python 3",
   "language": "python",
   "name": "python3"
  },
  "language_info": {
   "codemirror_mode": {
    "name": "ipython",
    "version": 3
   },
   "file_extension": ".py",
   "mimetype": "text/x-python",
   "name": "python",
   "nbconvert_exporter": "python",
   "pygments_lexer": "ipython3",
   "version": "3.6.5"
  },
  "pycharm": {
   "stem_cell": {
    "cell_type": "raw",
    "source": [],
    "metadata": {
     "collapsed": false
    }
   }
  }
 },
 "nbformat": 4,
 "nbformat_minor": 1
}