{
 "cells": [
  {
   "cell_type": "markdown",
   "metadata": {
    "collapsed": true,
    "pycharm": {
     "is_executing": false,
     "name": "#%% md\n"
    }
   },
   "source": [
    "# Calculation of ISDA-SIMM\n",
    "From a functional standpoint calculation of ISDA-SIMM should be separated into two steps\n",
    "\n",
    "1. The creation of CRIF file\n",
    "2. The calculation of the IM based on the CRIF file\n",
    "\n",
    "The CRIF is the common risk interchange format. It is essentially a file format for trade sensitivities. The creation of the ..."
   ]
  },
  {
   "cell_type": "markdown",
   "source": [
    "## IM-Calculation based on a CRIF\n",
    "The aggregation of sensitivities to the IM value is quite complex. Luckily, Acadiasoft has provided an open source library for this task. It can be found at:\n",
    "\n",
    "https://github.com/AcadiaSoft/simm-lib\n",
    "\n",
    " The library is written in Python and since it is technically challenging to integrate Python code with Java Code we have set up a REST API for the library."
   ],
   "metadata": {
    "collapsed": false,
    "pycharm": {
     "name": "#%% md\n"
    }
   }
  }
 ],
 "metadata": {
  "kernelspec": {
   "display_name": "Python 3",
   "language": "python",
   "name": "python3"
  },
  "language_info": {
   "codemirror_mode": {
    "name": "ipython",
    "version": 2
   },
   "file_extension": ".py",
   "mimetype": "text/x-python",
   "name": "python",
   "nbconvert_exporter": "python",
   "pygments_lexer": "ipython2",
   "version": "2.7.6"
  },
  "pycharm": {
   "stem_cell": {
    "cell_type": "raw",
    "source": [],
    "metadata": {
     "collapsed": false
    }
   }
  }
 },
 "nbformat": 4,
 "nbformat_minor": 0
}