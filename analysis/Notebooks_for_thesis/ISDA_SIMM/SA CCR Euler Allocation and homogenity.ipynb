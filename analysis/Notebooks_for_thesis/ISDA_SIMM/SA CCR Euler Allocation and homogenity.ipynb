{
 "cells": [
  {
   "cell_type": "markdown",
   "metadata": {
    "collapsed": true,
    "pycharm": {
     "name": "#%% md\n"
    }
   },
   "source": [
    "The first goal is to show that Euler allocation of a trivial one trade portfolio fails if a MTA is considered."
   ]
  },
  {
   "cell_type": "code",
   "execution_count": 1,
   "outputs": [],
   "source": [
    "import QuantLib as ql\n",
    "from collateralAgreement.collateralAgreement import CollateralAgreement\n",
    "from instruments.interestRateInstrument.irs import IRS\n",
    "from marketdata import init_marketdata\n",
    "from marketdata.interestRateIndices import InterestRateIndex\n",
    "from sa_ccr.sa_ccr import SA_CCR\n",
    "from utilities.Enums import SwapDirection\n"
   ],
   "metadata": {
    "collapsed": false,
    "pycharm": {
     "name": "#%%\n"
    }
   }
  },
  {
   "cell_type": "code",
   "execution_count": 2,
   "outputs": [
    {
     "data": {
      "text/plain": "200020000000.0"
     },
     "execution_count": 2,
     "metadata": {},
     "output_type": "execute_result"
    }
   ],
   "source": [
    "notional = 200000000000\n",
    "\n",
    "irs200 = IRS(notional = notional,\n",
    "          timeToSwapStart=ql.Period(2, ql.Days),\n",
    "          timeToSwapEnd=ql.Period(10, ql.Years),\n",
    "          swapDirection=SwapDirection.PAYER,\n",
    "          index = InterestRateIndex.USDLIBOR3M)\n",
    "\n",
    "irs20002 = irs200.get_bumped_copy(rel_bump_size=0.0001)\n",
    "irs20002.notional"
   ],
   "metadata": {
    "collapsed": false,
    "pycharm": {
     "name": "#%%\n"
    }
   }
  },
  {
   "cell_type": "code",
   "execution_count": 3,
   "outputs": [],
   "source": [
    "ca200 = CollateralAgreement(threshold=2000000000,\n",
    "                            mta=1000000000)\n",
    "ca200.link_sa_ccr_instance(SA_CCR(ca200))\n",
    "ca200.add_trades(irs200)\n",
    "ca200.set_start_collateral_amount(ca200.get_C())\n",
    "\n",
    "ca20002 = CollateralAgreement(threshold=2000000000,\n",
    "                            mta=1000000000)\n",
    "ca20002.link_sa_ccr_instance(SA_CCR(ca20002))\n",
    "ca20002.add_trades(irs20002)\n",
    "ca20002.set_start_collateral_amount(ca200.get_C())\n",
    "\n",
    "ca20002_nomta = CollateralAgreement(threshold=2000000000,\n",
    "                              mta=0)\n",
    "ca20002_nomta.link_sa_ccr_instance(SA_CCR(ca20002_nomta))\n",
    "ca20002_nomta.add_trades(irs20002)\n",
    "ca20002_nomta.set_start_collateral_amount(ca200.get_C())"
   ],
   "metadata": {
    "collapsed": false,
    "pycharm": {
     "name": "#%%\n"
    }
   }
  },
  {
   "cell_type": "code",
   "execution_count": 4,
   "outputs": [
    {
     "name": "stdout",
     "output_type": "stream",
     "text": [
      "9038157077.781658\n",
      "9038157077.781658\n",
      "9039060887.427877\n"
     ]
    }
   ],
   "source": [
    "print(ca200.get_C())\n",
    "print(ca20002.get_C())\n",
    "print(ca20002_nomta.get_C())"
   ],
   "metadata": {
    "collapsed": false,
    "pycharm": {
     "name": "#%%\n"
    }
   }
  },
  {
   "cell_type": "code",
   "execution_count": 5,
   "outputs": [
    {
     "name": "stdout",
     "output_type": "stream",
     "text": [
      "582881953.486618\n",
      "583024482.4241803\n",
      "582940242.2468798\n"
     ]
    }
   ],
   "source": [
    "print(ca200.get_sa_ccr_model().get_risk_measure())\n",
    "print(ca20002.get_sa_ccr_model().get_risk_measure())\n",
    "print(ca20002_nomta.get_sa_ccr_model().get_risk_measure())"
   ],
   "metadata": {
    "collapsed": false,
    "pycharm": {
     "name": "#%%\n"
    }
   }
  },
  {
   "cell_type": "code",
   "execution_count": 6,
   "outputs": [
    {
     "name": "stdout",
     "output_type": "stream",
     "text": [
      "582881953.486618\n",
      "582887602.6177406\n",
      "1425289375.6222725\n"
     ]
    }
   ],
   "source": [
    "alloc_mta = (ca20002.get_sa_ccr_model().get_risk_measure()-ca200.get_sa_ccr_model().get_risk_measure())/0.0001\n",
    "alloc_no_mta = (ca20002_nomta.get_sa_ccr_model().get_risk_measure()-ca200.get_sa_ccr_model().get_risk_measure())/0.0001\n",
    "\n",
    "print(ca200.get_sa_ccr_model().get_risk_measure())\n",
    "print(alloc_no_mta)\n",
    "print(alloc_mta)\n"
   ],
   "metadata": {
    "collapsed": false,
    "pycharm": {
     "name": "#%%\n"
    }
   }
  },
  {
   "cell_type": "markdown",
   "source": [
    "Now repeat the same thing for a 400Bn swap and see how SA-CCR fares if C is not homogenious anymore."
   ],
   "metadata": {
    "collapsed": false,
    "pycharm": {
     "name": "#%% md\n"
    }
   }
  },
  {
   "cell_type": "code",
   "execution_count": 7,
   "outputs": [
    {
     "data": {
      "text/plain": "400040000000.0"
     },
     "execution_count": 7,
     "metadata": {},
     "output_type": "execute_result"
    }
   ],
   "source": [
    "notional = 400000000000\n",
    "\n",
    "irs200 = IRS(notional = notional,\n",
    "          timeToSwapStart=ql.Period(2, ql.Days),\n",
    "          timeToSwapEnd=ql.Period(10, ql.Years),\n",
    "          swapDirection=SwapDirection.PAYER,\n",
    "          index = InterestRateIndex.USDLIBOR3M)\n",
    "\n",
    "irs20002 = irs200.get_bumped_copy(rel_bump_size=0.0001)\n",
    "irs20002.notional"
   ],
   "metadata": {
    "collapsed": false,
    "pycharm": {
     "name": "#%%\n"
    }
   }
  },
  {
   "cell_type": "code",
   "execution_count": 8,
   "outputs": [],
   "source": [
    "ca200 = CollateralAgreement(threshold=2000000000,\n",
    "                            mta=1000000000)\n",
    "ca200.link_sa_ccr_instance(SA_CCR(ca200))\n",
    "ca200.add_trades(irs200)\n",
    "ca200.set_start_collateral_amount(ca200.get_C())\n",
    "\n",
    "ca20002 = CollateralAgreement(threshold=2000000000,\n",
    "                            mta=1000000000)\n",
    "ca20002.link_sa_ccr_instance(SA_CCR(ca20002))\n",
    "ca20002.add_trades(irs20002)\n",
    "ca20002.set_start_collateral_amount(ca200.get_C())\n",
    "\n",
    "ca20002_nomta = CollateralAgreement(threshold=2000000000,\n",
    "                              mta=0)\n",
    "ca20002_nomta.link_sa_ccr_instance(SA_CCR(ca20002_nomta))\n",
    "ca20002_nomta.add_trades(irs20002)\n",
    "ca20002_nomta.set_start_collateral_amount(ca200.get_C())"
   ],
   "metadata": {
    "collapsed": false,
    "pycharm": {
     "name": "#%%\n"
    }
   }
  },
  {
   "cell_type": "code",
   "execution_count": 9,
   "outputs": [
    {
     "name": "stdout",
     "output_type": "stream",
     "text": [
      "22444385337.83273\n",
      "22444385337.83273\n",
      "22447752079.890312\n"
     ]
    }
   ],
   "source": [
    "print(ca200.get_C())\n",
    "print(ca20002.get_C())\n",
    "print(ca20002_nomta.get_C())"
   ],
   "metadata": {
    "collapsed": false,
    "pycharm": {
     "name": "#%%\n"
    }
   }
  },
  {
   "cell_type": "code",
   "execution_count": 10,
   "outputs": [
    {
     "name": "stdout",
     "output_type": "stream",
     "text": [
      "843530056.0916616\n",
      "843742923.3230021\n",
      "843550159.2245948\n"
     ]
    }
   ],
   "source": [
    "print(ca200.get_sa_ccr_model().get_risk_measure())\n",
    "print(ca20002.get_sa_ccr_model().get_risk_measure())\n",
    "print(ca20002_nomta.get_sa_ccr_model().get_risk_measure())"
   ],
   "metadata": {
    "collapsed": false,
    "pycharm": {
     "name": "#%%\n"
    }
   }
  },
  {
   "cell_type": "code",
   "execution_count": 11,
   "outputs": [
    {
     "name": "stdout",
     "output_type": "stream",
     "text": [
      "843530056.0916616\n",
      "201031329.3325901\n",
      "2128672313.4052753\n"
     ]
    }
   ],
   "source": [
    "alloc_mta = (ca20002.get_sa_ccr_model().get_risk_measure()-ca200.get_sa_ccr_model().get_risk_measure())/0.0001\n",
    "alloc_no_mta = (ca20002_nomta.get_sa_ccr_model().get_risk_measure()-ca200.get_sa_ccr_model().get_risk_measure())/0.0001\n",
    "\n",
    "print(ca200.get_sa_ccr_model().get_risk_measure())\n",
    "print(alloc_no_mta)\n",
    "print(alloc_mta)"
   ],
   "metadata": {
    "collapsed": false,
    "pycharm": {
     "name": "#%%\n"
    }
   }
  }
 ],
 "metadata": {
  "kernelspec": {
   "display_name": "Python 3",
   "language": "python",
   "name": "python3"
  },
  "language_info": {
   "codemirror_mode": {
    "name": "ipython",
    "version": 2
   },
   "file_extension": ".py",
   "mimetype": "text/x-python",
   "name": "python",
   "nbconvert_exporter": "python",
   "pygments_lexer": "ipython2",
   "version": "2.7.6"
  }
 },
 "nbformat": 4,
 "nbformat_minor": 0
}