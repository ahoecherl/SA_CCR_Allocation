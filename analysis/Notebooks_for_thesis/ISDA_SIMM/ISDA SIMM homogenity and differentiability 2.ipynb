{
 "cells": [
  {
   "cell_type": "code",
   "metadata": {
    "collapsed": true,
    "pycharm": {
     "name": "#%%\n"
    }
   },
   "source": [
    "from allocation.Enums import FdApproach\n",
    "from allocation.eulerAllocator import EulerAllocator\n",
    "from collateralAgreement.collateralAgreement import CollateralAgreement\n",
    "from instruments.interestRateInstrument.irs import IRS\n",
    "from marketdata.interestRateIndices import InterestRateIndex\n",
    "from sa_ccr.sa_ccr import SA_CCR\n",
    "import QuantLib as ql\n",
    "from marketdata import init_marketdata"
   ],
   "execution_count": 1,
   "outputs": []
  },
  {
   "cell_type": "code",
   "execution_count": 2,
   "outputs": [],
   "source": [
    "pf1 = CollateralAgreement()\n",
    "pf1.link_sa_ccr_instance(SA_CCR(pf1))\n",
    "pf1_bumped = CollateralAgreement()\n",
    "pf1_bumped.link_sa_ccr_instance(SA_CCR(pf1_bumped))\n",
    "pf1_bumped_rel = CollateralAgreement()\n",
    "pf1_bumped_rel.link_sa_ccr_instance(SA_CCR(pf1_bumped_rel))\n",
    "\n",
    "\n",
    "irs1 = IRS(notional = 20000000,\n",
    "           timeToSwapStart=ql.Period(2, ql.Days),\n",
    "           timeToSwapEnd=ql.Period(10, ql.Years),\n",
    "           index = InterestRateIndex.USDLIBOR3M)\n",
    "\n",
    "irs2 = IRS(notional = 400000000000,\n",
    "           timeToSwapStart=ql.Period(2, ql.Days),\n",
    "           timeToSwapEnd=ql.Period(10, ql.Years),\n",
    "           index = InterestRateIndex.USDLIBOR3M)\n",
    "\n",
    "irs1_abs_bumped = irs1.get_bumped_copy(rel_bump_size=0.000001, bump_approach=FdApproach.Relative)\n",
    "irs2_abs_bumped = irs2.get_bumped_copy(rel_bump_size=0.000001, bump_approach=FdApproach.Relative)\n",
    "\n",
    "# irs1_rel_bumped = irs1.get_bumped_copy()"
   ],
   "metadata": {
    "collapsed": false,
    "pycharm": {
     "name": "#%%\n"
    }
   }
  },
  {
   "cell_type": "code",
   "execution_count": 3,
   "outputs": [],
   "source": [
    "pf1.add_trades(irs1)\n",
    "irs_1_isda_simm = pf1.get_im_model().get_risk_measure()\n",
    "\n",
    "pf1_bumped.add_trades(irs1_abs_bumped)\n",
    "irs_1_bumped_isda_simm = pf1_bumped.get_im_model().get_risk_measure()\n",
    "\n",
    "euler_alloc_manuel_irs_1 = (irs_1_bumped_isda_simm-irs_1_isda_simm)/0.000001\n",
    "\n",
    "euler_alloc_manuel_irs_2 = ()\n",
    "\n",
    "# pf1_bumped_rel.add\n",
    "\n",
    "\n",
    "eulerAllocator_1 = EulerAllocator(pf1)\n",
    "allocated_irs_1 = eulerAllocator_1.allocate_im()"
   ],
   "metadata": {
    "collapsed": false,
    "pycharm": {
     "name": "#%%\n"
    }
   }
  }
 ],
 "metadata": {
  "kernelspec": {
   "display_name": "Python 3",
   "language": "python",
   "name": "python3"
  },
  "language_info": {
   "codemirror_mode": {
    "name": "ipython",
    "version": 2
   },
   "file_extension": ".py",
   "mimetype": "text/x-python",
   "name": "python",
   "nbconvert_exporter": "python",
   "pygments_lexer": "ipython2",
   "version": "2.7.6"
  }
 },
 "nbformat": 4,
 "nbformat_minor": 0
}