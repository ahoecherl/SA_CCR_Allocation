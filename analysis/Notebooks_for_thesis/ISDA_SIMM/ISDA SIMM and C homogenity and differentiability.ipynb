{
 "cells": [
  {
   "cell_type": "markdown",
   "metadata": {
    "collapsed": true,
    "pycharm": {
     "name": "#%% md\n"
    }
   },
   "source": [
    "### ISDA SIMM homogenity and differentiability\n",
    "\n",
    "The purpose of this notebook is to show case under which circumstance ISDA SIMM is a homogeneous and differentiable function.\n",
    "\n",
    "Structure:\n",
    "\n",
    "1. Discussion what characterizes a homogeneous function. Should be part of the Latex section on Euler allocation and not in this notebook.\n",
    "2."
   ]
  },
  {
   "cell_type": "code",
   "execution_count": 1,
   "outputs": [],
   "source": [
    "# import cell\n",
    "from numpy import arange\n",
    "from collateralAgreement.collateralAgreement import CollateralAgreement\n",
    "\n",
    "from instruments.interestRateInstrument.irs import IRS\n",
    "from jupyterUtils import exportPlotlyFigure\n",
    "from margining.simm import SIMM\n",
    "from marketdata.interestRateIndices import InterestRateIndex\n",
    "from sa_ccr.sa_ccr import SA_CCR\n",
    "from utilities.Enums import SwapDirection\n",
    "from marketdata import init_marketdata\n",
    "import QuantLib as ql\n",
    "import pandas as pd\n",
    "import plotly.express as px"
   ],
   "metadata": {
    "collapsed": false,
    "pycharm": {
     "name": "#%%\n"
    }
   }
  },
  {
   "cell_type": "markdown",
   "source": [
    "We create an USD IRS whose SIMM sensitivity is roughly at 2\\3rd of the ISDA SIMM Liq threshold which is 230Mn USD."
   ],
   "metadata": {
    "collapsed": false,
    "pycharm": {
     "name": "#%% md\n"
    }
   }
  },
  {
   "cell_type": "code",
   "execution_count": 2,
   "outputs": [
    {
     "data": {
      "text/plain": "177293785.5630342"
     },
     "execution_count": 2,
     "metadata": {},
     "output_type": "execute_result"
    }
   ],
   "source": [
    "notional = 200000000000\n",
    "\n",
    "irs = IRS(notional = notional,\n",
    "          timeToSwapStart=ql.Period(2, ql.Days),\n",
    "          timeToSwapEnd=ql.Period(10, ql.Years),\n",
    "          swapDirection=SwapDirection.PAYER,\n",
    "          index = InterestRateIndex.USDLIBOR3M)\n",
    "\n",
    "irs_off_market = IRS(notional = notional,\n",
    "          timeToSwapStart=ql.Period(2, ql.Days),\n",
    "          timeToSwapEnd=ql.Period(10, ql.Years),\n",
    "          swapDirection=SwapDirection.PAYER,\n",
    "          index = InterestRateIndex.USDLIBOR3M,\n",
    "          fixed_rate= 0.02)\n",
    "\n",
    "simm_sensis = irs.get_simm_sensis()\n",
    "\n",
    "sum([float(entry['amountUSD']) for entry in simm_sensis])"
   ],
   "metadata": {
    "collapsed": false,
    "pycharm": {
     "name": "#%%\n"
    }
   }
  },
  {
   "cell_type": "markdown",
   "source": [
    "We create a collateral agreement with associated ISDA SIMM and SA CCR model and load the irs in the portfolio."
   ],
   "metadata": {
    "collapsed": false,
    "pycharm": {
     "name": "#%% md\n"
    }
   }
  },
  {
   "cell_type": "code",
   "execution_count": 3,
   "outputs": [],
   "source": [
    "ca = CollateralAgreement(mta = 1000000000,\n",
    "                         threshold= 2000000000)\n",
    "ca.link_sa_ccr_instance(SA_CCR(collateralAgreement=ca))\n",
    "ca.add_trades(irs)\n",
    "\n",
    "ca2 = CollateralAgreement(mta = 1000000000,\n",
    "                         threshold= 2000000000)\n",
    "ca2.link_sa_ccr_instance(SA_CCR(collateralAgreement=ca2))\n",
    "ca2.add_trades(irs_off_market)"
   ],
   "metadata": {
    "collapsed": false,
    "pycharm": {
     "name": "#%%\n"
    }
   }
  },
  {
   "cell_type": "markdown",
   "source": [
    "And we query the model for initial margin receive calculated and collateral received"
   ],
   "metadata": {
    "collapsed": false,
    "pycharm": {
     "name": "#%% md\n"
    }
   }
  },
  {
   "cell_type": "code",
   "execution_count": 4,
   "outputs": [
    {
     "name": "stdout",
     "output_type": "stream",
     "text": [
      "IM receive is 9038157077.781643.2 USD\n",
      "VM balance is 0.233376.2 USD\n",
      "Collateral received is 9038157078.015018.2 USD\n"
     ]
    }
   ],
   "source": [
    "print('IM receive is %f.2 USD' %ca.get_im_model().get_risk_measure())\n",
    "print('VM balance is %f.2 USD' %ca.get_vm_model().get_risk_measure())\n",
    "print('Collateral received is %f.2 USD' %ca.get_C())"
   ],
   "metadata": {
    "collapsed": false,
    "pycharm": {
     "name": "#%%\n"
    }
   }
  },
  {
   "cell_type": "markdown",
   "source": [
    "We set this as the models starting collateral amount"
   ],
   "metadata": {
    "collapsed": false,
    "pycharm": {
     "name": "#%% md\n"
    }
   }
  },
  {
   "cell_type": "code",
   "execution_count": 5,
   "outputs": [
    {
     "data": {
      "text/plain": "0.024092650177355537"
     },
     "execution_count": 5,
     "metadata": {},
     "output_type": "execute_result"
    }
   ],
   "source": [
    "irs.get_fixed_rate()"
   ],
   "metadata": {
    "collapsed": false,
    "pycharm": {
     "name": "#%%\n"
    }
   }
  },
  {
   "cell_type": "code",
   "execution_count": 6,
   "outputs": [],
   "source": [
    "ca.set_start_collateral_amount(ca.get_C())\n",
    "ca2.set_start_collateral_amount(ca2.get_C())\n",
    "asdf =1"
   ],
   "metadata": {
    "collapsed": false,
    "pycharm": {
     "name": "#%%\n"
    }
   }
  },
  {
   "cell_type": "code",
   "source": [
    "bumps = arange(0,2.01,0.01)\n",
    "resultDataframe = pd.DataFrame(columns = ['USD','k','Legend'])"
   ],
   "metadata": {
    "collapsed": false,
    "pycharm": {
     "name": "#%%\n"
    }
   },
   "execution_count": 7,
   "outputs": []
  },
  {
   "cell_type": "code",
   "execution_count": null,
   "outputs": [],
   "source": [
    "def bump_and_get_results(bumpsize, trade, collateralagreement):\n",
    "    record = {}\n",
    "    record['Bumpsize']=bumpsize\n",
    "    bumped_copy = trade.get_bumped_copy(rel_bump_size=bumpsize-1)\n",
    "    collateralagreement.remove_all_trades()\n",
    "    collateralagreement.add_trades(bumped_copy)\n",
    "    record['IM'] = collateralagreement.get_im_model().get_risk_measure()\n",
    "    record['VM'] = collateralagreement.get_vm_model().get_risk_measure()\n",
    "    record['Collateral'] = collateralagreement.get_C()\n",
    "    collateralagreement.remove_all_trades()\n",
    "    collateralagreement.add_trades(trade)\n",
    "    return record\n",
    "\n",
    "for bump in bumps:\n",
    "    result = bump_and_get_results(bump, irs, ca)\n",
    "    im_record = {'X': result['Bumpsize'],\n",
    "                 'Y': result['IM'],\n",
    "                 'Legend': 'IM'}\n",
    "    im_shadow_record = {'X': result['Bumpsize'],\n",
    "                 'Y': result['IM'],\n",
    "                 'Legend': 'calculated IM at the money IRS'}\n",
    "    vm_record = {'X': result['Bumpsize'],\n",
    "                 'Y': result['VM'],\n",
    "                 'Legend': 'calculated VM at the money IRS'}\n",
    "    resultDataframe = resultDataframe.append(im_record, ignore_index=True)\n",
    "    resultDataframe = resultDataframe.append(im_shadow_record, ignore_index=True)\n",
    "    resultDataframe = resultDataframe.append(vm_record, ignore_index=True)\n",
    "    collateral_record = {'X': result['Bumpsize'],\n",
    "                 'Y': result['Collateral'],\n",
    "                 'Legend': 'C at par IRS'}\n",
    "    resultDataframe = resultDataframe.append(collateral_record, ignore_index=True)\n",
    "\n",
    "    result2 = bump_and_get_results(bump, irs_off_market, ca2)\n",
    "    collateral_record2 = {'X': result2['Bumpsize'],\n",
    "                 'Y': result2['Collateral'],\n",
    "                 'Legend': 'C in the money IRS'}\n",
    "    im_record2 = {'X': result2['Bumpsize'],\n",
    "                 'Y': result2['IM'],\n",
    "                 'Legend': 'calculated IM in the money IRS'}\n",
    "    vm_record2 = {'X': result2['Bumpsize'],\n",
    "                 'Y': result2['VM'],\n",
    "                 'Legend': 'calculated VM in the money IRS'}\n",
    "    resultDataframe = resultDataframe.append(collateral_record2, ignore_index=True)\n",
    "    resultDataframe = resultDataframe.append(im_record2, ignore_index=True)\n",
    "    resultDataframe = resultDataframe.append(vm_record2, ignore_index=True)"
   ],
   "metadata": {
    "collapsed": false,
    "pycharm": {
     "name": "#%%\n",
     "is_executing": true
    }
   }
  },
  {
   "cell_type": "code",
   "execution_count": null,
   "outputs": [],
   "source": [
    "fig = px.line(resultDataframe[resultDataframe.Legend == 'IM'], x='X', y='Y', color='Legend', line_dash='Legend')\n",
    "fig.update_layout(xaxis_title = 'a', yaxis_title = 'USD')\n",
    "fig.show()\n",
    "exportPlotlyFigure(fig, name='ISDA_SIMM_homogenity')"
   ],
   "metadata": {
    "collapsed": false,
    "pycharm": {
     "name": "#%%\n",
     "is_executing": true
    }
   }
  },
  {
   "cell_type": "code",
   "execution_count": null,
   "outputs": [],
   "source": [
    "fig = px.line(resultDataframe[~resultDataframe.Legend.isin(['IM', 'calculated IM at the money IRS', 'calculated VM at the money IRS'])], x='X', y='Y', color='Legend', line_dash='Legend')\n",
    "fig.update_layout(xaxis_title = 'a', yaxis_title = 'USD')\n",
    "fig.show()\n",
    "exportPlotlyFigure(fig, name='C_homogenity')"
   ],
   "metadata": {
    "collapsed": false,
    "pycharm": {
     "name": "#%%\n",
     "is_executing": true
    }
   }
  }
 ],
 "metadata": {
  "kernelspec": {
   "display_name": "Python 3",
   "language": "python",
   "name": "python3"
  },
  "language_info": {
   "codemirror_mode": {
    "name": "ipython",
    "version": 2
   },
   "file_extension": ".py",
   "mimetype": "text/x-python",
   "name": "python",
   "nbconvert_exporter": "python",
   "pygments_lexer": "ipython2",
   "version": "2.7.6"
  }
 },
 "nbformat": 4,
 "nbformat_minor": 0
}