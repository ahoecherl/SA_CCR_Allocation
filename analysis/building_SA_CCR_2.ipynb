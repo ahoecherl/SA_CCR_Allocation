{
 "cells": [
  {
   "cell_type": "markdown",
   "metadata": {
    "collapsed": true,
    "pycharm": {
     "name": "#%% md\n"
    }
   },
   "source": [
    "# AddOn calculation\n",
    "\n",
    "Most of the SA-CCR logic is hidden inside the AddOn calculation. At first it is important to define the following four data parameters:\n",
    "\n",
    "##### $M_i$\n",
    "> Maturity of the derivative contract. If the underlying of a derivative is another derivative - e.g. in the case of a swaption the maturity date of the underlying needs to be chosen.\n",
    "\n",
    "##### $S_i$\n",
    "\n",
    "> For interest rate and credit derivatives the start date of the time periodreferenced by an interst rate or credit contract. If the derivtives underlying is another interest rate or credit intsrument (eg swaption or bond option) $S_i$ is the start date of the underlying instead.\n",
    "\n",
    "##### $E_i$\n",
    "\n",
    "> Defined as $S_i$ but referencing the end date instead of the start date.\n",
    "\n",
    "##### $T_i$\n",
    "\n",
    "> For options across all asset classes this is the latest contractual exercise date."
   ]
  },
  {
   "cell_type": "code",
   "execution_count": 1,
   "metadata": {
    "pycharm": {
     "name": "#%%\n"
    },
    "tags": [
     "hide_cell",
     "remove_cell"
    ]
   },
   "outputs": [],
   "source": [
    "from math import log, sqrt\n",
    "import numpy\n",
    "from pandas import DataFrame\n",
    "from scipy import optimize\n",
    "from scipy.stats import norm\n",
    "from collateralAgreement import CollateralAgreement, Margining, Clearing, Tradecount, Dispute\n",
    "from instruments.equity_instruments.equityOption import EquityOption\n",
    "from IPython.display import display, Markdown, Latex\n",
    "from instruments.interestRateInstrument.irs import IRS\n",
    "from instruments.interestRateInstrument.ois import OIS\n",
    "from instruments.interestRateInstrument.swaption import Swaption\n",
    "from jupyterUtils import export\n",
    "import QuantLib as ql\n",
    "from marketdata import init_marketdata\n",
    "from marketdata.EquitySpot import EquitySpot\n",
    "from marketdata.fx_spot import FxSpot\n",
    "from marketdata.interestRateIndices import InterestRateIndex\n",
    "from sa_ccr.sa_ccr import SA_CCR\n",
    "from utilities.Enums import TradeType, TradeDirection, Stock, SwapDirection\n",
    "asdf =1\n"
   ]
  },
  {
   "cell_type": "markdown",
   "metadata": {
    "pycharm": {
     "name": "#%% md\n"
    }
   },
   "source": [
    "\n",
    "## Trade level adjusted notional\n",
    "\n",
    "Each trade $i$ has a trade level adjusted notional $d_i^a$ assigned to it. This is calculated differently for the different asset classes.\n",
    "\n",
    "#### Interest rate and credit derivatives\n",
    "\n",
    "The notional of the trade is usually a well defined value in domestic currency for interest rate and credit derivatives. It is multiplied by a supervisory duration factor. The basic idea is, that the value of the derivative can change more the longer the remaining\n",
    "\n",
    "\\begin{align*}\n",
    "d_i &= \\text{Notional}_i * SD_i \\\\\n",
    "\\\\\n",
    "\\text{where} \\qquad SD_i &=\\frac{\\exp\\left(-0.05 * S_i\\right)-\\exp\\left(-0.05 * E_i\\right)}{0.05}\n",
    "\\end{align*}\n",
    "\n",
    "#### FX derivatives\n",
    "\n",
    "While the wording in the BCBS paper is a bit more specific we will just assume that every FX traded derivative has a USD leg and set the notional equal the to USD notional.\n",
    "\n",
    "#### Equity and commodity derivatives\n",
    "\n",
    "The notional is defined as the price of the underlying. Therefore, it fluctuates over time.\n",
    "\n",
    "#### Notional of exotic derivatives\n",
    "\n",
    "For more exotic derivatives which do have adjustable notionals, resetting notionals etc. detailed handling of the notional is defined in paragraph 158.\n"
   ]
  },
  {
   "cell_type": "markdown",
   "metadata": {
    "pycharm": {
     "name": "#%% md\n"
    }
   },
   "source": [
    "Within this thesis we investigate only equity and interest rate derivatives. For these we can make a few exemplary calculations of the trade level adjusted notional.\n",
    "\n",
    "For equity trades determining the trade level adjusted notional is trivial as it always is the spot price of the underlying. As an example consider the two trades defined below:"
   ]
  },
  {
   "cell_type": "code",
   "execution_count": 2,
   "metadata": {
    "pycharm": {
     "name": "#%%\n"
    }
   },
   "outputs": [],
   "source": [
    "#When the strike is not set explicitly an at the money option is created with K = S(t0)\n",
    "eqOption1 = EquityOption(maturity = ql.Period(1, ql.Years),\n",
    "                         tradeType= TradeType.CALL,\n",
    "                         tradeDirection= TradeDirection.LONG,\n",
    "                         underlying= Stock.ADS)\n",
    "\n",
    "eqOption2 = EquityOption(maturity = ql.Period(1,   ql.Years),\n",
    "                         tradeType= TradeType.PUT,\n",
    "                         tradeDirection= TradeDirection.SHORT,\n",
    "                         underlying= Stock.ADS,\n",
    "                         strike = 60)"
   ]
  },
  {
   "cell_type": "code",
   "execution_count": 3,
   "metadata": {
    "pycharm": {
     "name": "#%%\n"
    },
    "tags": [
     "hide_input",
     "remove_input"
    ]
   },
   "outputs": [
    {
     "data": {
      "text/plain": "<IPython.core.display.Markdown object>",
      "text/markdown": "Let the spot price of Adidas stock be 42. Then, the adjusted notional of ``eqOption1``, an at the money call on Adidas, is 42 and the adjusted notional of ``eqOption2``, a short in the money put on Adidas, is also 42."
     },
     "metadata": {},
     "output_type": "display_data"
    }
   ],
   "source": [
    "display(Markdown('Let the spot price of Adidas stock be %d.' % EquitySpot.ADS.value.value() + ' Then, the adjusted notional of ``eqOption1``, an at the money call on Adidas, is %d' % SA_CCR.trade_level_adjusted_notional(eqOption1) + ' and the adjusted notional of ``eqOption2``, a short in the money put on Adidas, is also %d.' % SA_CCR.trade_level_adjusted_notional(eqOption2)))"
   ]
  },
  {
   "cell_type": "markdown",
   "metadata": {
    "pycharm": {
     "name": "#%% md\n"
    }
   },
   "source": [
    "For interest rate derivatives such as interest rate swaps or swaptions on the other hand, the notional is adjusted by the supervisory duration factor. As the supervisory duration depends on *S* and *E* it is important to understand how these are determined for the different interest rate derivatives.\n",
    "\n",
    "| Trade  Type              | *S*                               | *E*                                   |\n",
    "|--------------------------|-----------------------------------|---------------------------------------|\n",
    "| **Interest Rate Swap**   | Current date                      | Maturity date                         |\n",
    "| **Forward starting IRS** | Start date of the underlying swap | Maturity date  of the underlying swap |\n",
    "| **Swaption**             | Start date of the underlying swap | Maturity data of the underlying swap  |"
   ]
  },
  {
   "cell_type": "markdown",
   "metadata": {
    "pycharm": {
     "name": "#%% md\n"
    },
    "tags": [
     "hide_cell"
    ]
   },
   "source": [
    "Let's check if this relationship holds for the implementation"
   ]
  },
  {
   "cell_type": "code",
   "execution_count": 4,
   "metadata": {
    "pycharm": {
     "name": "#%%\n"
    },
    "tags": [
     "hide_cell"
    ]
   },
   "outputs": [
    {
     "name": "stdout",
     "output_type": "stream",
     "text": [
      "278.02856874767866\n",
      "278.02856874767866\n",
      "181.04289615131242\n",
      "181.04289615131242\n",
      "181.04289615131242\n",
      "189.76968552587525\n"
     ]
    }
   ],
   "source": [
    "testIRS = IRS(notional=100,\n",
    "               timeToSwapStart=ql.Period(2, ql.Days),\n",
    "               timeToSwapEnd=ql.Period(3, ql.Years),\n",
    "               swapDirection= SwapDirection.PAYER,\n",
    "               index = InterestRateIndex.EURIBOR6M\n",
    "               )\n",
    "\n",
    "testOIS = OIS(notional=100,\n",
    "              timeToSwapStart=ql.Period(2, ql.Days),\n",
    "              timeToSwapEnd=ql.Period(3, ql.Years),\n",
    "              swapDirection= SwapDirection.RECEIVER,\n",
    "              index = InterestRateIndex.FEDFUNDS\n",
    "              )\n",
    "\n",
    "testFWSIRS = IRS(notional=100,\n",
    "               timeToSwapStart=ql.Period(1, ql.Years),\n",
    "               timeToSwapEnd=ql.Period(3, ql.Years),\n",
    "               swapDirection= SwapDirection.PAYER,\n",
    "               index = InterestRateIndex.EURIBOR6M\n",
    "               )\n",
    "\n",
    "testFWSOIS = OIS(notional=100,\n",
    "              timeToSwapStart=ql.Period(1, ql.Years),\n",
    "              timeToSwapEnd=ql.Period(3, ql.Years),\n",
    "              swapDirection= SwapDirection.RECEIVER,\n",
    "              index = InterestRateIndex.FEDFUNDS\n",
    "              )\n",
    "\n",
    "testSwaption = Swaption(underlyingSwap=testFWSIRS,\n",
    "                        optionMaturity=ql.Period(1, ql.Years),\n",
    "                        tradeDirection=TradeDirection.LONG)\n",
    "\n",
    "testIRS2 = IRS(notional=100,\n",
    "               timeToSwapStart=ql.Period(2, ql.Days),\n",
    "               timeToSwapEnd=ql.Period(2, ql.Years),\n",
    "               swapDirection=SwapDirection.PAYER,\n",
    "               index = InterestRateIndex.EURIBOR6M)\n",
    "\n",
    "print(SA_CCR.trade_level_adjusted_notional(testIRS))\n",
    "print(SA_CCR.trade_level_adjusted_notional(testOIS))\n",
    "print(SA_CCR.trade_level_adjusted_notional(testFWSIRS))\n",
    "print(SA_CCR.trade_level_adjusted_notional(testFWSOIS))\n",
    "print(SA_CCR.trade_level_adjusted_notional(testSwaption))\n",
    "print(SA_CCR.trade_level_adjusted_notional(testIRS2))"
   ]
  },
  {
   "cell_type": "markdown",
   "metadata": {
    "pycharm": {
     "name": "#%% md\n"
    }
   },
   "source": [
    "## Supervisory delta adjustments: $\\delta_i$\n",
    "\n",
    "For linear derivatives $\\delta$ is 1 for long derivatives and -1 for short derivatives.\n",
    "\n",
    "For options $\\delta$ is defined as under Black-Scholes:\n",
    "\n",
    "\\begin{align*}\n",
    "\\delta_{\\text{long Call}} &= +\\Phi\\left(\\frac{\\ln\\left(P_i / K_i \\right) + 0.5 * \\sigma_i^2 * T_i}{\\sigma_i * \\sqrt{T_i}}\\right) \\\\\n",
    "\\\\\n",
    "\\text{where} \\qquad \\Phi &: \\text{standard normal cdf} \\\\\n",
    "\\sigma_i &: \\text{supervisory volatility as defined in Table 2 in paragraph 183}\n",
    "\\end{align*}\n",
    "\n",
    "This delta is multiplied by -1 in case of a long Put option or a short Call option. This formula is used for both, equity options and swaptions.\n",
    "\n",
    "No detail is given at this point on the delta calculation of CDO tranches as these are not in the scope of this thesis."
   ]
  },
  {
   "cell_type": "markdown",
   "metadata": {
    "pycharm": {
     "name": "#%% md\n"
    }
   },
   "source": [
    "In the case of an european equity option the parametrization is quite straight forward.\n",
    "\n",
    "$\\sigma_i$: 1.2 is the supervisory volatility for a single stock option\n",
    "\n",
    "$K_i$: The strike of the option\n",
    "\n",
    "$P_i$: The spot price of the underlying stock\n",
    "\n",
    "$T_i$: The maturity of the option\n",
    "\n",
    "A swaption on the other hand is parametrized as follows for calculation of its supervisory delta:\n",
    "\n",
    "$\\sigma_i$: 0.5 is the supervisory volatility for any interst rate option.\n",
    "\n",
    "$K_i$: The strike of the option is the fixed rate of the underlying swap\n",
    "\n",
    "$P_i$: Is the current par rate of the underlying (forward starting) swap\n",
    "\n",
    "$T_i$: The maturity of the option. Please note the difference to $E_i$ used for calculation of the adjusted notional, which is the maturity of the underlying swap.\n",
    "\n",
    "\n",
    "SA-CCR uses the same Black-Scholes based formula for Swaps as it uses for Equities. It differentiates options in two dimensions. Whether they are *bought* or *sold* and whether they are *Call* or *Put* options (Compare paragraph 159).\n",
    "\n",
    "SA-CCR defines an option as a call option if it rises in value as the underlying rises in value. A fixed payer swap rises in value as the underlying interest rate rises in value. Therefore, an option to buy a fixed payer swap at a predetermined strike also rises in value as the underlying interest rate rises in value. Therefore, a swaption on a payer swap is considered a *Call* under SA-CCR, while a swaption on a receiver swap is considered a *Put*.\n"
   ]
  },
  {
   "cell_type": "markdown",
   "metadata": {
    "pycharm": {
     "name": "#%% md\n"
    },
    "tags": [
     "hide_cell"
    ]
   },
   "source": [
    "Let's check, if we actually calculate delta correctly for our options."
   ]
  },
  {
   "cell_type": "code",
   "execution_count": 5,
   "metadata": {
    "pycharm": {
     "name": "#%%\n"
    },
    "tags": [
     "hide_cell"
    ]
   },
   "outputs": [
    {
     "name": "stdout",
     "output_type": "stream",
     "text": [
      "42.0\n",
      "1.0\n",
      "0.7257468822499265\n"
     ]
    }
   ],
   "source": [
    "#manual calculation yields\n",
    "p_eq = EquitySpot.ADS.value.value()\n",
    "K = eqOption1.K\n",
    "print(K)\n",
    "sigma = 1.2\n",
    "T = eqOption1.t\n",
    "print(T)\n",
    "\n",
    "def quick_calc(P, K, sigma, T):\n",
    "    return norm.cdf((log(P/K)+0.5*sigma**2*T)/(sigma*sqrt(T)))\n",
    "\n",
    "print(quick_calc(p_eq, K, sigma, T))"
   ]
  },
  {
   "cell_type": "code",
   "execution_count": 6,
   "metadata": {
    "pycharm": {
     "name": "#%%\n"
    },
    "tags": [
     "hide_cell"
    ]
   },
   "outputs": [
    {
     "name": "stdout",
     "output_type": "stream",
     "text": [
      "0.01901615980132947\n",
      "0.019016159801329445\n",
      "1.0\n",
      "0.5987063256829248\n"
     ]
    }
   ],
   "source": [
    "p_sw = testFWSOIS.get_par_rate()\n",
    "print(p_sw)\n",
    "K = testFWSOIS.get_fixed_rate()\n",
    "print(K)\n",
    "sigma = 0.5\n",
    "T = testSwaption.t\n",
    "print(T)\n",
    "\n",
    "print(quick_calc(p_sw, K, sigma, T))"
   ]
  },
  {
   "cell_type": "code",
   "execution_count": 7,
   "metadata": {
    "pycharm": {
     "name": "#%%\n"
    },
    "tags": [
     "hide_cell"
    ]
   },
   "outputs": [
    {
     "name": "stdout",
     "output_type": "stream",
     "text": [
      "-0.00113185568476534\n",
      "-0.0011318556847654294\n"
     ]
    }
   ],
   "source": [
    "#now for a swaption\n",
    "print(testSwaption.underlying_swap.ql_instrument.fairRate())\n",
    "P = testSwaption.underlying_swap.get_par_rate()\n",
    "print(testSwaption.underlying_swap.get_fixed_rate())\n",
    "K= testSwaption.underlying_swap.get_fixed_rate()\n"
   ]
  },
  {
   "cell_type": "code",
   "execution_count": 8,
   "metadata": {
    "tags": [
     "hide_input"
    ]
   },
   "outputs": [
    {
     "data": {
      "text/plain": "<IPython.core.display.Markdown object>",
      "text/markdown": "For the at the money option ``eqOption1`` that was set up above we yield a supervisory delta adjustment of 0.7257."
     },
     "metadata": {},
     "output_type": "display_data"
    }
   ],
   "source": [
    "display(Markdown('For the at the money option ``eqOption1`` that was set up above we yield a supervisory delta adjustment of %.4f.' % SA_CCR.calculate_sa_ccr_delta(eqOption1)))"
   ]
  },
  {
   "cell_type": "markdown",
   "metadata": {},
   "source": [
    "For an examplary short european swaption that has a par swap as underlying (i.e. the NPV of the swap is 0) that is set up as follows:"
   ]
  },
  {
   "cell_type": "code",
   "execution_count": 9,
   "metadata": {},
   "outputs": [
    {
     "data": {
      "text/plain": "-0.5987063256828626"
     },
     "execution_count": 9,
     "metadata": {},
     "output_type": "execute_result"
    }
   ],
   "source": [
    "swap = IRS(notional=100,\n",
    "           timeToSwapStart=ql.Period(1, ql.Years),\n",
    "           timeToSwapEnd=ql.Period(3, ql.Years),\n",
    "           swapDirection=SwapDirection.PAYER,\n",
    "           index=InterestRateIndex.EURIBOR6M\n",
    "          )\n",
    "\n",
    "swaption = Swaption(underlyingSwap=swap,\n",
    "                    optionMaturity=ql.Period(1, ql.Years),\n",
    "                    tradeDirection=TradeDirection.SHORT)\n",
    "\n",
    "SA_CCR.calculate_sa_ccr_delta(swaption)"
   ]
  },
  {
   "cell_type": "code",
   "execution_count": 10,
   "metadata": {
    "tags": [
     "hide_input"
    ]
   },
   "outputs": [
    {
     "data": {
      "text/plain": "<IPython.core.display.Markdown object>",
      "text/markdown": "we yield a regulatory delta of -0.5987."
     },
     "metadata": {},
     "output_type": "display_data"
    }
   ],
   "source": [
    "display(Markdown('we yield a regulatory delta of %.4f.' % SA_CCR.calculate_sa_ccr_delta(swaption)))\n"
   ]
  },
  {
   "cell_type": "code",
   "execution_count": 11,
   "metadata": {
    "pycharm": {
     "name": "#%%\n"
    },
    "tags": [
     "hide_cell"
    ]
   },
   "outputs": [
    {
     "name": "stdout",
     "output_type": "stream",
     "text": [
      "1\n",
      "0.7257468822499265\n",
      "0.5987063256828626\n"
     ]
    }
   ],
   "source": [
    "print(SA_CCR.calculate_sa_ccr_delta(testIRS))\n",
    "print(SA_CCR.calculate_sa_ccr_delta(eqOption1))\n",
    "print(SA_CCR.calculate_sa_ccr_delta(testSwaption))"
   ]
  },
  {
   "cell_type": "markdown",
   "metadata": {
    "pycharm": {
     "name": "#%% md\n"
    },
    "tags": [
     "hide_cell"
    ]
   },
   "source": [
    "Everything checks out. We can go ahead"
   ]
  },
  {
   "cell_type": "code",
   "execution_count": 13,
   "metadata": {
    "pycharm": {
     "name": "#%%\n"
    },
    "tags": [
     "hide_cell"
    ]
   },
   "outputs": [],
   "source": [
    "export(\"building_SA_CCR_2.ipynb\")"
   ]
  }
 ],
 "metadata": {
  "celltoolbar": "Tags",
  "kernelspec": {
   "display_name": "Python 3",
   "language": "python",
   "name": "python3"
  },
  "language_info": {
   "codemirror_mode": {
    "name": "ipython",
    "version": 3
   },
   "file_extension": ".py",
   "mimetype": "text/x-python",
   "name": "python",
   "nbconvert_exporter": "python",
   "pygments_lexer": "ipython3",
   "version": "3.8.2"
  }
 },
 "nbformat": 4,
 "nbformat_minor": 1
}