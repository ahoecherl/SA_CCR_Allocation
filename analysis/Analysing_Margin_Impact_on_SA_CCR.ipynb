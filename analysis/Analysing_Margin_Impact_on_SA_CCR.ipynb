{
 "cells": [
  {
   "cell_type": "code",
   "execution_count": 1,
   "metadata": {
    "collapsed": true,
    "pycharm": {
     "is_executing": false
    }
   },
   "outputs": [
    {
     "name": "stdout",
     "text": [
      "importing Jupyter notebook from SA_CCR_examplary_calculation.ipynb\n",
      "{'Instrument': 'EquityOption', 'TradeType': 'Call', 'TradeDirection': 'Long', 'Maturity': 2, 'Startdate': None, 'Notional': 20}\n",
      "{'Instrument': 'InterestRateSwap', 'TradeType': 'Linear', 'TradeDirection': 'Long', 'Maturity': 3, 'Startdate': 1, 'Notional': 1000000}\n",
      "{'Instrument': 'Swaption', 'TradeType': 'Call', 'TradeDirection': 'Short', 'Maturity': 3, 'Startdate': 1, 'Notional': 1000000}\n",
      "{'Instrument': 'EquityOption', 'TradeType': 'Call', 'TradeDirection': 'Long', 'Maturity': 2, 'Startdate': None, 'Notional': 20}\n",
      "{'Instrument': 'InterestRateSwap', 'TradeType': 'Linear', 'TradeDirection': 'Short', 'Maturity': 4, 'Startdate': 0, 'Notional': 2000000}\n",
      "{'Instrument': 'InterestRateSwap', 'TradeType': 'Linear', 'TradeDirection': 'Long', 'Maturity': 3, 'Startdate': 1, 'Notional': 1000000}\n",
      "{'Instrument': 'Swaption', 'TradeType': 'Call', 'TradeDirection': 'Short', 'Maturity': 3, 'Startdate': 1, 'Notional': 1000000}\n",
      "{'Instrument': 'EquityOption', 'TradeType': 'Call', 'TradeDirection': 'Long', 'Maturity': 0, 'Startdate': None, 'Notional': 20}\n",
      "{\n",
      "    \"margining\": \"Unmargined\",\n",
      "    \"clearing\": \"Non-centrally cleared derivatives\",\n",
      "    \"tradecount\": \"Under five thousand transactions between the counterparties\",\n",
      "    \"dispute\": \"No margining disputes are outstanding between the counterparties\",\n",
      "    \"threshold\": 0.0,\n",
      "    \"mta\": 0.0,\n",
      "    \"vm\": 0.0,\n",
      "    \"posted_im\": 0.0,\n",
      "    \"received_im\": 0.0,\n",
      "    \"unsegregated_overcollateraliziation_posted\": 0.0,\n",
      "    \"unsegregated_overcollateralization_received\": 0.0,\n",
      "    \"segregated_overcollateralization_posted\": 0.0,\n",
      "    \"segregated_overcollateralization_received\": 0.0\n",
      "}\n",
      "{\n",
      "    \"margining\": \"Margined\",\n",
      "    \"clearing\": \"Centrally cleared derivatives\",\n",
      "    \"tradecount\": \"Under five thousand transactions between the counterparties\",\n",
      "    \"dispute\": \"No margining disputes are outstanding between the counterparties\",\n",
      "    \"threshold\": 0.0,\n",
      "    \"mta\": 0.0,\n",
      "    \"vm\": -3000,\n",
      "    \"posted_im\": 1000,\n",
      "    \"received_im\": 1000,\n",
      "    \"unsegregated_overcollateraliziation_posted\": 0.0,\n",
      "    \"unsegregated_overcollateralization_received\": 0.0,\n",
      "    \"segregated_overcollateralization_posted\": 0.0,\n",
      "    \"segregated_overcollateralization_received\": 0.0\n",
      "}\n"
     ],
     "output_type": "stream"
    },
    {
     "name": "stderr",
     "text": [
      "SA_CCR_examplary_calculation.ipynb:25: RuntimeWarning: divide by zero encountered in double_scalars\n",
      "  ]\n"
     ],
     "output_type": "stream"
    },
    {
     "traceback": [
      "\u001b[1;31m---------------------------------------------------------------------------\u001b[0m",
      "\u001b[1;31mTypeError\u001b[0m                                 Traceback (most recent call last)",
      "\u001b[1;32m<ipython-input-1-a00e50ef2638>\u001b[0m in \u001b[0;36m<module>\u001b[1;34m\u001b[0m\n\u001b[0;32m      7\u001b[0m \u001b[0msys\u001b[0m\u001b[1;33m.\u001b[0m\u001b[0mmeta_path\u001b[0m\u001b[1;33m.\u001b[0m\u001b[0mappend\u001b[0m\u001b[1;33m(\u001b[0m\u001b[0mNotebookFinder\u001b[0m\u001b[1;33m(\u001b[0m\u001b[1;33m)\u001b[0m\u001b[1;33m)\u001b[0m\u001b[1;33m\u001b[0m\u001b[0m\n\u001b[0;32m      8\u001b[0m \u001b[1;33m\u001b[0m\u001b[0m\n\u001b[1;32m----> 9\u001b[1;33m \u001b[1;32mfrom\u001b[0m \u001b[0mSA_CCR_examplary_calculation\u001b[0m \u001b[1;32mimport\u001b[0m \u001b[0mmultiplier\u001b[0m\u001b[1;33m,\u001b[0m \u001b[0mcalculate_pfe\u001b[0m\u001b[1;33m,\u001b[0m \u001b[0mcalculate_rc\u001b[0m\u001b[1;33m,\u001b[0m \u001b[0mcalculate_sa_ccr_ead\u001b[0m\u001b[1;33m\u001b[0m\u001b[0m\n\u001b[0m\u001b[0;32m     10\u001b[0m \u001b[1;33m\u001b[0m\u001b[0m\n\u001b[0;32m     11\u001b[0m \u001b[0mtrade1\u001b[0m \u001b[1;33m=\u001b[0m \u001b[0mInterestRateSwap\u001b[0m\u001b[1;33m(\u001b[0m\u001b[0mnotional\u001b[0m \u001b[1;33m=\u001b[0m \u001b[1;36m10000000\u001b[0m\u001b[1;33m,\u001b[0m \u001b[0mcurrency\u001b[0m \u001b[1;33m=\u001b[0m \u001b[0mCurrency\u001b[0m\u001b[1;33m.\u001b[0m\u001b[0mUSD\u001b[0m\u001b[1;33m,\u001b[0m \u001b[0mtimeToSwapStart\u001b[0m\u001b[1;33m=\u001b[0m \u001b[1;36m0\u001b[0m\u001b[1;33m,\u001b[0m \u001b[0mtimeToSwapEnd\u001b[0m\u001b[1;33m=\u001b[0m\u001b[1;36m10\u001b[0m\u001b[1;33m,\u001b[0m \u001b[0mswapDirection\u001b[0m\u001b[1;33m=\u001b[0m\u001b[0mSwapDirection\u001b[0m\u001b[1;33m.\u001b[0m\u001b[0mPAYER\u001b[0m\u001b[1;33m)\u001b[0m\u001b[1;33m\u001b[0m\u001b[0m\n",
      "\u001b[1;32mC:\\Program Files\\Python36\\lib\\importlib\\_bootstrap.py\u001b[0m in \u001b[0;36m_find_and_load\u001b[1;34m(name, import_)\u001b[0m\n",
      "\u001b[1;32mC:\\Program Files\\Python36\\lib\\importlib\\_bootstrap.py\u001b[0m in \u001b[0;36m_find_and_load_unlocked\u001b[1;34m(name, import_)\u001b[0m\n",
      "\u001b[1;32mC:\\Program Files\\Python36\\lib\\importlib\\_bootstrap.py\u001b[0m in \u001b[0;36m_load_unlocked\u001b[1;34m(spec)\u001b[0m\n",
      "\u001b[1;32mC:\\Program Files\\Python36\\lib\\importlib\\_bootstrap.py\u001b[0m in \u001b[0;36m_load_backward_compatible\u001b[1;34m(spec)\u001b[0m\n",
      "\u001b[1;32mC:\\Oxford\\Master Thesis\\Allocation Thesis\\SA_CCR_Allocation\\src\\utilities\\import_jupyter.py\u001b[0m in \u001b[0;36mload_module\u001b[1;34m(self, fullname)\u001b[0m\n\u001b[0;32m     60\u001b[0m                 \u001b[0mcode\u001b[0m \u001b[1;33m=\u001b[0m \u001b[0mself\u001b[0m\u001b[1;33m.\u001b[0m\u001b[0mshell\u001b[0m\u001b[1;33m.\u001b[0m\u001b[0minput_transformer_manager\u001b[0m\u001b[1;33m.\u001b[0m\u001b[0mtransform_cell\u001b[0m\u001b[1;33m(\u001b[0m\u001b[0mcell\u001b[0m\u001b[1;33m.\u001b[0m\u001b[0msource\u001b[0m\u001b[1;33m)\u001b[0m\u001b[1;33m\u001b[0m\u001b[0m\n\u001b[0;32m     61\u001b[0m                 \u001b[1;31m# run the code in themodule\u001b[0m\u001b[1;33m\u001b[0m\u001b[1;33m\u001b[0m\u001b[0m\n\u001b[1;32m---> 62\u001b[1;33m                 \u001b[0mexec\u001b[0m\u001b[1;33m(\u001b[0m\u001b[0mcode\u001b[0m\u001b[1;33m,\u001b[0m \u001b[0mmod\u001b[0m\u001b[1;33m.\u001b[0m\u001b[0m__dict__\u001b[0m\u001b[1;33m)\u001b[0m\u001b[1;33m\u001b[0m\u001b[0m\n\u001b[0m\u001b[0;32m     63\u001b[0m         \u001b[1;32mfinally\u001b[0m\u001b[1;33m:\u001b[0m\u001b[1;33m\u001b[0m\u001b[0m\n\u001b[0;32m     64\u001b[0m             \u001b[0mself\u001b[0m\u001b[1;33m.\u001b[0m\u001b[0mshell\u001b[0m\u001b[1;33m.\u001b[0m\u001b[0muser_ns\u001b[0m \u001b[1;33m=\u001b[0m \u001b[0msave_user_ns\u001b[0m\u001b[1;33m\u001b[0m\u001b[0m\n",
      "\u001b[1;32mC:\\Oxford\\Master Thesis\\Allocation Thesis\\SA_CCR_Allocation\\analysis\\SA_CCR_examplary_calculation.ipynb\u001b[0m in \u001b[0;36m<module>\u001b[1;34m\u001b[0m\n",
      "\u001b[1;32mC:\\Oxford\\Master Thesis\\Allocation Thesis\\SA_CCR_Allocation\\src\\instruments\\interestRateInstrument\\interestRateSwap.py\u001b[0m in \u001b[0;36m__init__\u001b[1;34m(self, notional, currency, timeToSwapStart, timeToSwapEnd, swapDirection, fixed_rate, float_spread)\u001b[0m\n\u001b[0;32m     46\u001b[0m         )\n\u001b[0;32m     47\u001b[0m         \u001b[0msettle_date\u001b[0m \u001b[1;33m=\u001b[0m \u001b[0mswap_calendar\u001b[0m\u001b[1;33m.\u001b[0m\u001b[0madvance\u001b[0m\u001b[1;33m(\u001b[0m\u001b[0mutil\u001b[0m\u001b[1;33m.\u001b[0m\u001b[0mtoday\u001b[0m\u001b[1;33m,\u001b[0m \u001b[0mint\u001b[0m\u001b[1;33m(\u001b[0m\u001b[0mtimeToSwapStart\u001b[0m\u001b[1;33m*\u001b[0m\u001b[1;36m365\u001b[0m\u001b[1;33m)\u001b[0m\u001b[1;33m,\u001b[0m \u001b[0mql\u001b[0m\u001b[1;33m.\u001b[0m\u001b[0mDays\u001b[0m\u001b[1;33m)\u001b[0m\u001b[1;33m\u001b[0m\u001b[0m\n\u001b[1;32m---> 48\u001b[1;33m         \u001b[0mmaturity_date\u001b[0m \u001b[1;33m=\u001b[0m \u001b[0mswap_calendar\u001b[0m\u001b[1;33m.\u001b[0m\u001b[0madvance\u001b[0m\u001b[1;33m(\u001b[0m\u001b[0mutil\u001b[0m\u001b[1;33m.\u001b[0m\u001b[0mtoday\u001b[0m\u001b[1;33m,\u001b[0m \u001b[0mtimeToSwapEnd\u001b[0m\u001b[1;33m,\u001b[0m \u001b[0mql\u001b[0m\u001b[1;33m.\u001b[0m\u001b[0mYears\u001b[0m\u001b[1;33m)\u001b[0m\u001b[1;33m\u001b[0m\u001b[0m\n\u001b[0m\u001b[0;32m     49\u001b[0m         \u001b[0mfixed_schedule\u001b[0m \u001b[1;33m=\u001b[0m \u001b[0mql\u001b[0m\u001b[1;33m.\u001b[0m\u001b[0mSchedule\u001b[0m\u001b[1;33m(\u001b[0m\u001b[0msettle_date\u001b[0m\u001b[1;33m,\u001b[0m \u001b[0mmaturity_date\u001b[0m\u001b[1;33m,\u001b[0m \u001b[0mfixed_leg_tenor\u001b[0m\u001b[1;33m,\u001b[0m \u001b[0mswap_calendar\u001b[0m\u001b[1;33m,\u001b[0m \u001b[0mbusiness_day_convention\u001b[0m\u001b[1;33m,\u001b[0m \u001b[0mbusiness_day_convention\u001b[0m\u001b[1;33m,\u001b[0m \u001b[0mdate_generation\u001b[0m\u001b[1;33m,\u001b[0m \u001b[0mend_of_month\u001b[0m\u001b[1;33m)\u001b[0m\u001b[1;33m\u001b[0m\u001b[0m\n\u001b[0;32m     50\u001b[0m         \u001b[0mfloat_schedule\u001b[0m \u001b[1;33m=\u001b[0m \u001b[0mql\u001b[0m\u001b[1;33m.\u001b[0m\u001b[0mSchedule\u001b[0m\u001b[1;33m(\u001b[0m\u001b[0msettle_date\u001b[0m\u001b[1;33m,\u001b[0m \u001b[0mmaturity_date\u001b[0m\u001b[1;33m,\u001b[0m \u001b[0mfloat_leg_tenor\u001b[0m\u001b[1;33m,\u001b[0m \u001b[0mswap_calendar\u001b[0m\u001b[1;33m,\u001b[0m \u001b[0mbusiness_day_convention\u001b[0m\u001b[1;33m,\u001b[0m \u001b[0mbusiness_day_convention\u001b[0m\u001b[1;33m,\u001b[0m \u001b[0mdate_generation\u001b[0m\u001b[1;33m,\u001b[0m \u001b[0mend_of_month\u001b[0m\u001b[1;33m)\u001b[0m\u001b[1;33m\u001b[0m\u001b[0m\n",
      "\u001b[1;32mc:\\users\\d91097\\pythonvenvs\\sa_ccr_allocation\\lib\\site-packages\\QuantLib\\QuantLib.py\u001b[0m in \u001b[0;36madvance\u001b[1;34m(self, *args)\u001b[0m\n\u001b[0;32m   2698\u001b[0m \u001b[1;33m\u001b[0m\u001b[0m\n\u001b[0;32m   2699\u001b[0m     \u001b[1;32mdef\u001b[0m \u001b[0madvance\u001b[0m\u001b[1;33m(\u001b[0m\u001b[0mself\u001b[0m\u001b[1;33m,\u001b[0m \u001b[1;33m*\u001b[0m\u001b[0margs\u001b[0m\u001b[1;33m)\u001b[0m\u001b[1;33m:\u001b[0m\u001b[1;33m\u001b[0m\u001b[0m\n\u001b[1;32m-> 2700\u001b[1;33m         \u001b[1;32mreturn\u001b[0m \u001b[0m_QuantLib\u001b[0m\u001b[1;33m.\u001b[0m\u001b[0mCalendar_advance\u001b[0m\u001b[1;33m(\u001b[0m\u001b[0mself\u001b[0m\u001b[1;33m,\u001b[0m \u001b[1;33m*\u001b[0m\u001b[0margs\u001b[0m\u001b[1;33m)\u001b[0m\u001b[1;33m\u001b[0m\u001b[0m\n\u001b[0m\u001b[0;32m   2701\u001b[0m \u001b[1;33m\u001b[0m\u001b[0m\n\u001b[0;32m   2702\u001b[0m     \u001b[1;32mdef\u001b[0m \u001b[0mbusinessDaysBetween\u001b[0m\u001b[1;33m(\u001b[0m\u001b[0mself\u001b[0m\u001b[1;33m,\u001b[0m \u001b[0m_from\u001b[0m\u001b[1;33m,\u001b[0m \u001b[0mto\u001b[0m\u001b[1;33m,\u001b[0m \u001b[0mincludeFirst\u001b[0m\u001b[1;33m=\u001b[0m\u001b[1;32mTrue\u001b[0m\u001b[1;33m,\u001b[0m \u001b[0mincludeLast\u001b[0m\u001b[1;33m=\u001b[0m\u001b[1;32mFalse\u001b[0m\u001b[1;33m)\u001b[0m\u001b[1;33m:\u001b[0m\u001b[1;33m\u001b[0m\u001b[0m\n",
      "\u001b[1;31mTypeError\u001b[0m: Wrong number or type of arguments for overloaded function 'Calendar_advance'.\n  Possible C/C++ prototypes are:\n    Calendar::advance(Date const &,Integer,TimeUnit,BusinessDayConvention,bool)\n    Calendar::advance(Date const &,Integer,TimeUnit,BusinessDayConvention)\n    Calendar::advance(Date const &,Integer,TimeUnit)\n    Calendar::advance(Date const &,Period const &,BusinessDayConvention,bool)\n    Calendar::advance(Date const &,Period const &,BusinessDayConvention)\n    Calendar::advance(Date const &,Period const &)\n"
     ],
     "ename": "TypeError",
     "evalue": "Wrong number or type of arguments for overloaded function 'Calendar_advance'.\n  Possible C/C++ prototypes are:\n    Calendar::advance(Date const &,Integer,TimeUnit,BusinessDayConvention,bool)\n    Calendar::advance(Date const &,Integer,TimeUnit,BusinessDayConvention)\n    Calendar::advance(Date const &,Integer,TimeUnit)\n    Calendar::advance(Date const &,Period const &,BusinessDayConvention,bool)\n    Calendar::advance(Date const &,Period const &,BusinessDayConvention)\n    Calendar::advance(Date const &,Period const &)\n",
     "output_type": "error"
    }
   ],
   "source": [
    "import sys\n",
    "from utilities.Enums import Currency, SwapDirection, TradeDirection\n",
    "from collateralAgreement import CollateralAgreement, Margining\n",
    "from instruments.interestRateInstrument.interestRateSwap import InterestRateSwap\n",
    "from instruments.interestRateInstrument.swaption import Swaption\n",
    "from utilities.import_jupyter import NotebookFinder\n",
    "sys.meta_path.append(NotebookFinder())\n",
    "\n",
    "from SA_CCR_examplary_calculation import multiplier, calculate_pfe, calculate_rc, calculate_sa_ccr_ead\n",
    "\n",
    "trade1 = InterestRateSwap(notional = 10000000, currency = Currency.USD, timeToSwapStart= 0, timeToSwapEnd=10, swapDirection=SwapDirection.PAYER)\n",
    "trade2 = InterestRateSwap(notional=10000000, currency=Currency.USD, timeToSwapStart=0, timeToSwapEnd=4, swapDirection=SwapDirection.RECEIVER)\n",
    "trade3_ul = InterestRateSwap(notional = 5000000, currency = Currency.EUR, timeToSwapStart=1, timeToSwapEnd=11, swapDirection=SwapDirection.RECEIVER)\n",
    "trade3 = Swaption(underlyingSwap=trade3_ul, optionMaturity=1, tradeDirection=TradeDirection.LONG, strikeFixedRate=0.05, forwardParFixedRate=0.06)"
   ]
  },
  {
   "cell_type": "code",
   "execution_count": 2,
   "outputs": [],
   "source": [
    "noMargining = CollateralAgreement()"
   ],
   "metadata": {
    "collapsed": false,
    "pycharm": {
     "name": "#%%\n",
     "is_executing": false
    }
   }
  },
  {
   "cell_type": "code",
   "execution_count": 3,
   "outputs": [],
   "source": [
    "V = trade1.get_pricer().price(trade1)+trade2.get_pricer().price(trade2)+trade3.get_pricer().price(trade3)\n",
    "onlyVM = CollateralAgreement(margining = Margining.MARGINED,\n",
    "                             vm = V)\n",
    "VMandIM = CollateralAgreement(margining = Margining.MARGINED,\n",
    "                              vm = V,\n",
    "                              posted_im = V*0.05,\n",
    "                              received_im = V*0.05)"
   ],
   "metadata": {
    "collapsed": false,
    "pycharm": {
     "name": "#%%\n",
     "is_executing": false
    }
   }
  },
  {
   "cell_type": "code",
   "execution_count": 4,
   "outputs": [],
   "source": [
    "multiplier_unmargined = calculate_pfe([trade1, trade2, trade3], noMargining)['multiplier']\n",
    "multiplier_vm = calculate_pfe([trade1, trade2, trade3], onlyVM)['multiplier']\n",
    "multipler_vm_and_im = calculate_pfe([trade1, trade2, trade3], VMandIM)['multiplier']"
   ],
   "metadata": {
    "collapsed": false,
    "pycharm": {
     "name": "#%%\n",
     "is_executing": false
    }
   }
  },
  {
   "cell_type": "code",
   "execution_count": 5,
   "outputs": [
    {
     "data": {
      "text/plain": "1"
     },
     "metadata": {},
     "output_type": "execute_result",
     "execution_count": 5
    }
   ],
   "source": [
    "multiplier_unmargined"
   ],
   "metadata": {
    "collapsed": false,
    "pycharm": {
     "name": "#%%\n",
     "is_executing": false
    }
   }
  },
  {
   "cell_type": "code",
   "execution_count": 6,
   "outputs": [
    {
     "data": {
      "text/plain": "1"
     },
     "metadata": {},
     "output_type": "execute_result",
     "execution_count": 6
    }
   ],
   "source": [
    "multiplier_vm"
   ],
   "metadata": {
    "collapsed": false,
    "pycharm": {
     "name": "#%%\n",
     "is_executing": false
    }
   }
  },
  {
   "cell_type": "code",
   "execution_count": 7,
   "outputs": [
    {
     "data": {
      "text/plain": "0.9856898612628217"
     },
     "metadata": {},
     "output_type": "execute_result",
     "execution_count": 7
    }
   ],
   "source": [
    "multipler_vm_and_im"
   ],
   "metadata": {
    "collapsed": false,
    "pycharm": {
     "name": "#%%\n",
     "is_executing": false
    }
   }
  }
 ],
 "metadata": {
  "kernelspec": {
   "display_name": "Python 3",
   "language": "python",
   "name": "python3"
  },
  "language_info": {
   "codemirror_mode": {
    "name": "ipython",
    "version": 2
   },
   "file_extension": ".py",
   "mimetype": "text/x-python",
   "name": "python",
   "nbconvert_exporter": "python",
   "pygments_lexer": "ipython2",
   "version": "2.7.6"
  },
  "pycharm": {
   "stem_cell": {
    "cell_type": "raw",
    "source": [],
    "metadata": {
     "collapsed": false
    }
   }
  }
 },
 "nbformat": 4,
 "nbformat_minor": 0
}