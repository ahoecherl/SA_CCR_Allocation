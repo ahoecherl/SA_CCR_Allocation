{
 "cells": [
  {
   "cell_type": "code",
   "execution_count": 1,
   "metadata": {
    "collapsed": true,
    "pycharm": {
     "is_executing": false
    }
   },
   "outputs": [
    {
     "name": "stdout",
     "text": [
      "importing Jupyter notebook from SA_CCR_examplary_calculation.ipynb\n",
      "{'Instrument': 'EquityOption', 'TradeType': 'Call', 'TradeDirection': 'Long', 'Maturity': 2, 'Startdate': None, 'Notional': 20}\n",
      "{'Instrument': 'InterestRateSwap', 'TradeType': 'Linear', 'TradeDirection': 'Long', 'Maturity': 3, 'Startdate': 1, 'Notional': 1000000}\n",
      "{'Instrument': 'Swaption', 'TradeType': 'Call', 'TradeDirection': 'Short', 'Maturity': 3, 'Startdate': 1, 'Notional': 1000000}\n",
      "{'Instrument': 'EquityOption', 'TradeType': 'Call', 'TradeDirection': 'Long', 'Maturity': 2, 'Startdate': None, 'Notional': 20}\n",
      "{'Instrument': 'InterestRateSwap', 'TradeType': 'Linear', 'TradeDirection': 'Short', 'Maturity': 4, 'Startdate': 0, 'Notional': 2000000}\n",
      "{'Instrument': 'InterestRateSwap', 'TradeType': 'Linear', 'TradeDirection': 'Long', 'Maturity': 3, 'Startdate': 1, 'Notional': 1000000}\n",
      "{'Instrument': 'Swaption', 'TradeType': 'Call', 'TradeDirection': 'Short', 'Maturity': 3, 'Startdate': 1, 'Notional': 1000000}\n",
      "{'Instrument': 'EquityOption', 'TradeType': 'Call', 'TradeDirection': 'Long', 'Maturity': 1e-08, 'Startdate': None, 'Notional': 20}\n",
      "{\n",
      "    \"margining\": \"Unmargined\",\n",
      "    \"clearing\": \"Non-centrally cleared derivatives\",\n",
      "    \"tradecount\": \"Under five thousand transactions between the counterparties\",\n",
      "    \"dispute\": \"No margining disputes are outstanding between the counterparties\",\n",
      "    \"threshold\": 0.0,\n",
      "    \"mta\": 0.0,\n",
      "    \"vm\": 0.0,\n",
      "    \"posted_im\": 0.0,\n",
      "    \"received_im\": 0.0,\n",
      "    \"unsegregated_overcollateraliziation_posted\": 0.0,\n",
      "    \"unsegregated_overcollateralization_received\": 0.0,\n",
      "    \"segregated_overcollateralization_posted\": 0.0,\n",
      "    \"segregated_overcollateralization_received\": 0.0\n",
      "}\n",
      "{\n",
      "    \"margining\": \"Margined\",\n",
      "    \"clearing\": \"Centrally cleared derivatives\",\n",
      "    \"tradecount\": \"Under five thousand transactions between the counterparties\",\n",
      "    \"dispute\": \"No margining disputes are outstanding between the counterparties\",\n",
      "    \"threshold\": 0.0,\n",
      "    \"mta\": 0.0,\n",
      "    \"vm\": -3000,\n",
      "    \"posted_im\": 1000,\n",
      "    \"received_im\": 1000,\n",
      "    \"unsegregated_overcollateraliziation_posted\": 0.0,\n",
      "    \"unsegregated_overcollateralization_received\": 0.0,\n",
      "    \"segregated_overcollateralization_posted\": 0.0,\n",
      "    \"segregated_overcollateralization_received\": 0.0\n",
      "}\n"
     ],
     "output_type": "stream"
    }
   ],
   "source": [
    "import sys\n",
    "from Enums import Currency, SwapDirection, TradeDirection\n",
    "from collateralAgreement import CollateralAgreement, Margining\n",
    "from instruments.interestRateInstrument.interestRateSwap import InterestRateSwap\n",
    "from instruments.interestRateInstrument.swaption import Swaption\n",
    "from utilities.import_jupyter import NotebookFinder\n",
    "sys.meta_path.append(NotebookFinder())\n",
    "\n",
    "from SA_CCR_examplary_calculation import multiplier, calculate_pfe, calculate_rc, calculate_sa_ccr_ead\n",
    "\n",
    "trade1 = InterestRateSwap(notional = 10000000, currency = Currency.USD, timeToSwapStart= 0, timeToSwapEnd=10, swapDirection=SwapDirection.PAYER)\n",
    "trade2 = InterestRateSwap(notional=10000000, currency=Currency.USD, timeToSwapStart=0, timeToSwapEnd=4, swapDirection=SwapDirection.RECEIVER)\n",
    "trade3_ul = InterestRateSwap(notional = 5000000, currency = Currency.EUR, timeToSwapStart=1, timeToSwapEnd=11, swapDirection=SwapDirection.RECEIVER)\n",
    "trade3 = Swaption(underlyingSwap=trade3_ul, optionMaturity=1, tradeDirection=TradeDirection.LONG, strikeFixedRate=0.05, forwardParFixedRate=0.06)"
   ]
  },
  {
   "cell_type": "code",
   "execution_count": 2,
   "outputs": [],
   "source": [
    "noMargining = CollateralAgreement()"
   ],
   "metadata": {
    "collapsed": false,
    "pycharm": {
     "name": "#%%\n",
     "is_executing": false
    }
   }
  },
  {
   "cell_type": "code",
   "execution_count": 3,
   "outputs": [],
   "source": [
    "V = trade1.get_pricer().price(trade1)+trade2.get_pricer().price(trade2)+trade3.get_pricer().price(trade3)\n",
    "onlyVM = CollateralAgreement(margining = Margining.MARGINED,\n",
    "                             vm = V)\n",
    "VMandIM = CollateralAgreement(margining = Margining.MARGINED,\n",
    "                              vm = V,\n",
    "                              posted_im = V*0.05,\n",
    "                              received_im = V*0.05)"
   ],
   "metadata": {
    "collapsed": false,
    "pycharm": {
     "name": "#%%\n",
     "is_executing": false
    }
   }
  },
  {
   "cell_type": "code",
   "execution_count": 4,
   "outputs": [],
   "source": [
    "multiplier_unmargined = calculate_pfe([trade1, trade2, trade3], noMargining)['multiplier']\n",
    "multiplier_vm = calculate_pfe([trade1, trade2, trade3], onlyVM)['multiplier']\n",
    "multipler_vm_and_im = calculate_pfe([trade1, trade2, trade3], VMandIM)['multiplier']"
   ],
   "metadata": {
    "collapsed": false,
    "pycharm": {
     "name": "#%%\n",
     "is_executing": false
    }
   }
  },
  {
   "cell_type": "code",
   "execution_count": 5,
   "outputs": [
    {
     "data": {
      "text/plain": "1"
     },
     "metadata": {},
     "output_type": "execute_result",
     "execution_count": 5
    }
   ],
   "source": [
    "multiplier_unmargined"
   ],
   "metadata": {
    "collapsed": false,
    "pycharm": {
     "name": "#%%\n",
     "is_executing": false
    }
   }
  },
  {
   "cell_type": "code",
   "execution_count": 6,
   "outputs": [
    {
     "data": {
      "text/plain": "1"
     },
     "metadata": {},
     "output_type": "execute_result",
     "execution_count": 6
    }
   ],
   "source": [
    "multiplier_vm"
   ],
   "metadata": {
    "collapsed": false,
    "pycharm": {
     "name": "#%%\n",
     "is_executing": false
    }
   }
  },
  {
   "cell_type": "code",
   "execution_count": 7,
   "outputs": [
    {
     "data": {
      "text/plain": "0.9856898612628217"
     },
     "metadata": {},
     "output_type": "execute_result",
     "execution_count": 7
    }
   ],
   "source": [
    "multipler_vm_and_im"
   ],
   "metadata": {
    "collapsed": false,
    "pycharm": {
     "name": "#%%\n",
     "is_executing": false
    }
   }
  }
 ],
 "metadata": {
  "kernelspec": {
   "display_name": "Python 3",
   "language": "python",
   "name": "python3"
  },
  "language_info": {
   "codemirror_mode": {
    "name": "ipython",
    "version": 2
   },
   "file_extension": ".py",
   "mimetype": "text/x-python",
   "name": "python",
   "nbconvert_exporter": "python",
   "pygments_lexer": "ipython2",
   "version": "2.7.6"
  },
  "pycharm": {
   "stem_cell": {
    "cell_type": "raw",
    "source": [],
    "metadata": {
     "collapsed": false
    }
   }
  }
 },
 "nbformat": 4,
 "nbformat_minor": 0
}