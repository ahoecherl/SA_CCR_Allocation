{
 "cells": [
  {
   "cell_type": "code",
   "execution_count": 1,
   "metadata": {
    "pycharm": {
     "name": "#%%\n"
    },
    "tags": [
     "hide_cell"
    ]
   },
   "outputs": [],
   "source": [
    "#import cell\n",
    "import QuantLib as ql\n",
    "import numpy\n",
    "from collateralAgreement.collateralAgreement import CollateralAgreement, Margining, Clearing, Tradecount, Dispute, \\\n",
    "    InitialMargining\n",
    "from instruments.interestRateInstrument.irs import IRS\n",
    "from jupyterUtils import export\n",
    "from marketdata import init_marketdata\n",
    "from marketdata.interestRateIndices import InterestRateIndex\n",
    "from sa_ccr.sa_ccr import SA_CCR\n",
    "from utilities.Enums import SwapDirection\n",
    "asdf =1"
   ]
  },
  {
   "cell_type": "markdown",
   "metadata": {},
   "source": [
    "### Risk Horizon\n",
    "\n",
    "For unmargined transaction the margining factor is\n",
    "\n",
    "\n",
    "$$MF^{\\text{unmargined}}_i = \\sqrt{\\frac{\\min\\left(M_i;1\\text{ year}\\right)}{1\\text{ year}}}$$\n",
    "\n",
    "This factor can be used to scale down a risk weight calibrated for a 1 year horizon to a shorter period.\n",
    "\n",
    "With margining the margin period of risk (MPOR) is:\n",
    "\n",
    "* 10 business days for small, uncleared OTC portfolios\n",
    "* 5 business days for cleared derivatives\n",
    "* 20 business days for netting sets with more than 5000 transactions that are not with a central counterparty\n",
    "* and doubling this period for portfolios with outstanding disputes\n",
    "\n",
    "The margining factor is then\n",
    "\n",
    "$$ MF^{\\text{margined}}_i = \\frac{3}{2}\\sqrt{\\frac{MPOR_i}{1\\text{ year}}} $$\n",
    "\n",
    "At this point we need to introduce a collateral agreement object. For simplicities sake we will not differentiate between collateral and netting sets in this thesis. All trades that are covered by the same collateral agreement are also admissible for netting with each other. (Also refer to the introduction of close out netting above). To take into account the different parameters determining the risk horizon a couple of parameters are required to create a collateral agreement. As an example, below we are setting up a collateral agreement for uncleared derivatives without exchange of variation margin or initial margin.\n"
   ]
  },
  {
   "cell_type": "code",
   "execution_count": 2,
   "metadata": {
    "pycharm": {
     "name": "#%%\n"
    }
   },
   "outputs": [],
   "source": [
    "ca = CollateralAgreement(\n",
    "        margining=Margining.UNMARGINED,\n",
    "        clearing=Clearing.UNCLEARED,\n",
    "        initialMargining=InitialMargining.NO_IM,\n",
    "        tradecount=Tradecount.UNDER_FIVE_THOUSAND,\n",
    "        dispute=Dispute.NO_OUTSTANDING_DISPUTES,\n",
    "        threshold=0.0,      #Threshold to trigger a margin call\n",
    "        mta=0.0,            #received initial margin\n",
    "        )"
   ]
  },
  {
   "cell_type": "markdown",
   "metadata": {},
   "source": [
    "With this collateral set object we can define a function for calculation the margining factor:"
   ]
  },
  {
   "cell_type": "markdown",
   "metadata": {},
   "source": [
    "For trades of differing maturity let's compare the margining factor for the three most common scenarios:\n",
    "\n",
    "1. No margining\n",
    "2. Bilateral margining\n",
    "3. Centrally cleared"
   ]
  },
  {
   "cell_type": "code",
   "execution_count": 3,
   "metadata": {
    "pycharm": {
     "name": "#%%\n"
    },
    "tags": [
     "hide_cell"
    ]
   },
   "outputs": [],
   "source": [
    "\n",
    "three_day = IRS(notional = 1000000, timeToSwapStart=ql.Period(2, ql.Days), timeToSwapEnd=ql.Period(3, ql.Days), swapDirection=SwapDirection.PAYER, index=InterestRateIndex.EURIBOR6M)\n",
    "two_weeks = IRS(notional = 1000000, timeToSwapStart=ql.Period(2, ql.Days), timeToSwapEnd=ql.Period(2, ql.Weeks), swapDirection=SwapDirection.PAYER, index=InterestRateIndex.EURIBOR6M)\n",
    "six_months = IRS(notional = 1000000, timeToSwapStart=ql.Period(2, ql.Days), timeToSwapEnd=ql.Period(6, ql.Months), swapDirection=SwapDirection.PAYER, index=InterestRateIndex.EURIBOR6M)\n",
    "one_year = IRS(notional = 1000000, timeToSwapStart=ql.Period(2, ql.Days), timeToSwapEnd=ql.Period(1, ql.Years), swapDirection=SwapDirection.PAYER, index=InterestRateIndex.EURIBOR6M)\n",
    "ten_years = IRS(notional = 1000000, timeToSwapStart=ql.Period(2, ql.Days), timeToSwapEnd=ql.Period(10, ql.Years), swapDirection=SwapDirection.PAYER, index=InterestRateIndex.EURIBOR6M)\n",
    "\n",
    "no_margining = CollateralAgreement(margining=Margining.UNMARGINED, initialMargining=InitialMargining.NO_IM)\n",
    "bilateral_margining = CollateralAgreement(margining = Margining.MARGINED, initialMargining=InitialMargining.SIMM)\n",
    "central_clearing = CollateralAgreement(margining = Margining.MARGINED, clearing = Clearing.CLEARED, initialMargining=InitialMargining.CCPIMM)\n",
    "\n",
    "trades = [three_day, two_weeks, six_months, one_year, ten_years]\n",
    "cas = [no_margining, bilateral_margining, central_clearing]\n",
    "ar = numpy.empty([3,5])\n",
    "i = 0\n",
    "for t in trades:\n",
    "    j = 0\n",
    "    for ca in cas:\n",
    "        ar[j,i] = '%.4f' % SA_CCR.margining_factor(t,ca)\n",
    "        j += 1\n",
    "    i += 1"
   ]
  },
  {
   "cell_type": "code",
   "execution_count": 4,
   "metadata": {
    "pycharm": {
     "name": "#%%\n"
    },
    "tags": [
     "hide_input"
    ]
   },
   "outputs": [
    {
     "data": {
      "text/plain": "                     Three days  Two weeks  Six months  One year  Ten years\nNo margining             0.2000     0.2000      0.7071    1.0000     1.0000\nBilateral margining      0.3000     0.3000      0.3000    0.3000     0.3000\nCentrally cleared        0.2121     0.2121      0.2121    0.2121     0.2121",
      "text/html": "<div>\n<style scoped>\n    .dataframe tbody tr th:only-of-type {\n        vertical-align: middle;\n    }\n\n    .dataframe tbody tr th {\n        vertical-align: top;\n    }\n\n    .dataframe thead th {\n        text-align: right;\n    }\n</style>\n<table border=\"1\" class=\"dataframe\">\n  <thead>\n    <tr style=\"text-align: right;\">\n      <th></th>\n      <th>Three days</th>\n      <th>Two weeks</th>\n      <th>Six months</th>\n      <th>One year</th>\n      <th>Ten years</th>\n    </tr>\n  </thead>\n  <tbody>\n    <tr>\n      <th>No margining</th>\n      <td>0.2000</td>\n      <td>0.2000</td>\n      <td>0.7071</td>\n      <td>1.0000</td>\n      <td>1.0000</td>\n    </tr>\n    <tr>\n      <th>Bilateral margining</th>\n      <td>0.3000</td>\n      <td>0.3000</td>\n      <td>0.3000</td>\n      <td>0.3000</td>\n      <td>0.3000</td>\n    </tr>\n    <tr>\n      <th>Centrally cleared</th>\n      <td>0.2121</td>\n      <td>0.2121</td>\n      <td>0.2121</td>\n      <td>0.2121</td>\n      <td>0.2121</td>\n    </tr>\n  </tbody>\n</table>\n</div>",
      "text/latex": "\\centering{\\begin{tabular}{lrrrrr}\n\\toprule\n{} &  Three days &  Two weeks &  Six months &  One year &  Ten years \\\\\n\\midrule\nNo margining        &      0.2000 &     0.2000 &      0.7071 &    1.0000 &     1.0000 \\\\\nBilateral margining &      0.3000 &     0.3000 &      0.3000 &    0.3000 &     0.3000 \\\\\nCentrally cleared   &      0.2121 &     0.2121 &      0.2121 &    0.2121 &     0.2121 \\\\\n\\bottomrule\n\\end{tabular}\n}"
     },
     "execution_count": 4,
     "metadata": {},
     "output_type": "execute_result"
    }
   ],
   "source": [
    "# making a nice looking latex pandas dataframe out of it\n",
    "\n",
    "import pandas as pd\n",
    "\n",
    "pd.set_option('display.notebook_repr_html', True)\n",
    "\n",
    "def _repr_latex_(self):\n",
    "    return \"\\centering{%s}\" % self.to_latex()\n",
    "\n",
    "pd.DataFrame._repr_latex_ = _repr_latex_  # monkey patch pandas DataFrame\n",
    "\n",
    "pd.DataFrame(index=['No margining', 'Bilateral margining', 'Centrally cleared'],\n",
    "          columns=['Three days', 'Two weeks', 'Six months', 'One year', 'Ten years'],\n",
    "          data = ar)"
   ]
  },
  {
   "cell_type": "code",
   "execution_count": 5,
   "metadata": {
    "pycharm": {
     "name": "#%%\n"
    },
    "tags": [
     "hide_cell"
    ]
   },
   "outputs": [],
   "source": [
    "export(\"building_SA_CCR_risk_horizon.ipynb\")\n"
   ]
  }
 ],
 "metadata": {
  "celltoolbar": "Tags",
  "kernelspec": {
   "display_name": "Python 3",
   "language": "python",
   "name": "python3"
  },
  "language_info": {
   "codemirror_mode": {
    "name": "ipython",
    "version": 3
   },
   "file_extension": ".py",
   "mimetype": "text/x-python",
   "name": "python",
   "nbconvert_exporter": "python",
   "pygments_lexer": "ipython3",
   "version": "3.8.2"
  }
 },
 "nbformat": 4,
 "nbformat_minor": 1
}