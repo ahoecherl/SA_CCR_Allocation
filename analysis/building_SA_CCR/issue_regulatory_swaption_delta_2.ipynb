{
 "cells": [
  {
   "cell_type": "code",
   "execution_count": 1,
   "metadata": {
    "tags": [
     "hide_cell"
    ]
   },
   "outputs": [],
   "source": [
    "#import cell\n",
    "import QuantLib as ql\n",
    "from IPython.core.display import display, Markdown\n",
    "from instruments.interestRateInstrument.swaption import Swaption\n",
    "from jupyterUtils import export\n",
    "from marketdata import init_marketdata\n",
    "from marketdata.init_marketdata import today\n",
    "from instruments.interestRateInstrument.irs import IRS\n",
    "from marketdata.interestRateIndices import InterestRateIndex\n",
    "from sa_ccr.sa_ccr import SA_CCR\n",
    "from utilities.Enums import SwapDirection, TradeDirection\n",
    "asdf =1"
   ]
  },
  {
   "cell_type": "markdown",
   "metadata": {
    "pycharm": {
     "name": "#%% md\n"
    }
   },
   "source": [
    "To highlight the relationship between the 6M forward curve and the par rate $P_i$ of forward starting swap we can set up the following two swaps depicted below. Since the $EndDate-StartDate$ for these two swaps is six months their par rate or fair price can directly be read from the 6M Forward curve."
   ]
  },
  {
   "cell_type": "code",
   "execution_count": 2,
   "metadata": {
    "pycharm": {
     "name": "#%%\n"
    }
   },
   "outputs": [
    {
     "name": "stdout",
     "output_type": "stream",
     "text": [
      "StartDate: November 10th, 2021\n",
      "ParRate: -0.002346%\n"
     ]
    }
   ],
   "source": [
    "print('StartDate: ' + str(today+ql.Period(30,ql.Months)))\n",
    "swap1 = IRS(notional=100,\n",
    "            timeToSwapStart=ql.Period(30,ql.Months),\n",
    "            timeToSwapEnd=ql.Period(36,ql.Months),\n",
    "            swapDirection=SwapDirection.PAYER,\n",
    "            index=InterestRateIndex.EURIBOR6M,\n",
    "            fixed_rate=0.01\n",
    "           )\n",
    "print('ParRate: %.6f%%' % (swap1.get_par_rate()*100))"
   ]
  },
  {
   "cell_type": "code",
   "execution_count": 3,
   "metadata": {
    "pycharm": {
     "name": "#%%\n"
    }
   },
   "outputs": [
    {
     "name": "stdout",
     "output_type": "stream",
     "text": [
      "StartDate: December 10th, 2021\n",
      "ParRate: 0.011976%\n"
     ]
    }
   ],
   "source": [
    "print('StartDate: ' + str(today+ql.Period(31,ql.Months)))\n",
    "swap2 = IRS(notional=100,\n",
    "            timeToSwapStart=ql.Period(31,ql.Months),\n",
    "            timeToSwapEnd=ql.Period(37, ql.Months),\n",
    "            swapDirection=SwapDirection.PAYER,\n",
    "            index=InterestRateIndex.EURIBOR6M,\n",
    "            fixed_rate=0.01\n",
    "            )\n",
    "print('ParRate: %.6f%%' % (swap2.get_par_rate()*100))"
   ]
  },
  {
   "cell_type": "code",
   "execution_count": 4,
   "outputs": [],
   "source": [
    "swap3 = IRS(notional=100,\n",
    "            timeToSwapStart=ql.Period(30, ql.Months),\n",
    "            timeToSwapEnd=ql.Period(36, ql.Months),\n",
    "            swapDirection=SwapDirection.PAYER,\n",
    "            index=InterestRateIndex.EURIBOR6M,\n",
    "            fixed_rate=-0.01)"
   ],
   "metadata": {
    "collapsed": false,
    "pycharm": {
     "name": "#%%\n"
    }
   }
  },
  {
   "cell_type": "code",
   "execution_count": 5,
   "outputs": [
    {
     "data": {
      "text/plain": "0.004138768807253323"
     },
     "execution_count": 5,
     "metadata": {},
     "output_type": "execute_result"
    }
   ],
   "source": [
    "#calculatin SA_CCR delta for swaptions that convert into these swaps\n",
    "\n",
    "swaption1 = Swaption(underlyingSwap=swap1,\n",
    "                     optionMaturity=ql.Period(30, ql.Months),\n",
    "                     tradeDirection=TradeDirection.LONG)\n",
    "\n",
    "SA_CCR.calculate_sa_ccr_delta(swaption1)"
   ],
   "metadata": {
    "collapsed": false,
    "pycharm": {
     "name": "#%%\n"
    }
   }
  },
  {
   "cell_type": "code",
   "execution_count": 6,
   "outputs": [
    {
     "data": {
      "text/plain": "0.005109036476851662"
     },
     "execution_count": 6,
     "metadata": {},
     "output_type": "execute_result"
    }
   ],
   "source": [
    "swaption2 = Swaption(underlyingSwap=swap2,\n",
    "                     optionMaturity=ql.Period(31, ql.Months),\n",
    "                     tradeDirection=TradeDirection.LONG)\n",
    "\n",
    "SA_CCR.calculate_sa_ccr_delta(swaption2)"
   ],
   "metadata": {
    "collapsed": false,
    "pycharm": {
     "name": "#%%\n"
    }
   }
  },
  {
   "cell_type": "markdown",
   "source": [
    "The following is a very deep in the money swaption with negative strike and price. The delta should be close to 1. It is however close to zero without offsetting."
   ],
   "metadata": {
    "collapsed": false,
    "pycharm": {
     "name": "#%% md\n"
    }
   }
  },
  {
   "cell_type": "code",
   "execution_count": 7,
   "outputs": [
    {
     "data": {
      "text/plain": "0.9996934007461944"
     },
     "execution_count": 7,
     "metadata": {},
     "output_type": "execute_result"
    }
   ],
   "source": [
    "swaption3 = Swaption(underlyingSwap=swap3,\n",
    "                     optionMaturity=ql.Period(30, ql.Months),\n",
    "                     tradeDirection=TradeDirection.LONG)\n",
    "\n",
    "SA_CCR.calculate_sa_ccr_delta(swaption3)"
   ],
   "metadata": {
    "collapsed": false,
    "pycharm": {
     "name": "#%%\n"
    }
   }
  },
  {
   "cell_type": "code",
   "execution_count": 8,
   "outputs": [
    {
     "name": "stdout",
     "output_type": "stream",
     "text": [
      "4.875082678775719\n",
      "5.248490507272288\n"
     ]
    }
   ],
   "source": [
    "print(swaption1.get_delta())\n",
    "print(swaption2.get_delta())\n"
   ],
   "metadata": {
    "collapsed": false,
    "pycharm": {
     "name": "#%%\n"
    }
   }
  },
  {
   "cell_type": "code",
   "execution_count": null,
   "metadata": {
    "pycharm": {
     "name": "#%%\n"
    },
    "tags": [
     "hide_cell"
    ]
   },
   "outputs": [],
   "source": [
    "export('issue_regulatory_swaption_delta_2.ipynb')"
   ]
  }
 ],
 "metadata": {
  "celltoolbar": "Tags",
  "kernelspec": {
   "name": "conda-env-.conda-SACCRconda-py",
   "language": "python",
   "display_name": "Python [conda env:.conda-SACCRconda] *"
  },
  "language_info": {
   "codemirror_mode": {
    "name": "ipython",
    "version": 3
   },
   "file_extension": ".py",
   "mimetype": "text/x-python",
   "name": "python",
   "nbconvert_exporter": "python",
   "pygments_lexer": "ipython3",
   "version": "3.8.2"
  }
 },
 "nbformat": 4,
 "nbformat_minor": 1
}