{
 "cells": [
  {
   "cell_type": "code",
   "execution_count": 1,
   "metadata": {
    "tags": [
     "hide_cell"
    ]
   },
   "outputs": [],
   "source": [
    "# import cell\n",
    "import datetime\n",
    "\n",
    "import QuantLib as ql\n",
    "import plotly.express as px\n",
    "from pandas import DataFrame\n",
    "from jupyterUtils import export, exportPlotlyFigure\n",
    "from marketdata import init_marketdata\n",
    "from marketdata.init_marketdata import today\n",
    "from marketdata.interestRateCurves import LiborCurve\n",
    "from quantlibpythoncookbook_extras import utils\n",
    "asdf =1"
   ]
  },
  {
   "cell_type": "markdown",
   "metadata": {
    "pycharm": {
     "name": "#%% md\n"
    }
   },
   "source": [
    "However, the approach of SA-CCR to use the Black-Scholes for interest rate derivatives does have a significant flaw.\n",
    "\n",
    "Obviously, $\\ln\\left(P_i / K_i \\right)$ is not defined, if $P_i/K_i$ is negative. This has, however been very commonplace in recent years, especially for Euro swaptions. One can always set the fixed rate of the underlying swap and therefore $K_i$ as a negative value. But based on the market data of the 10th of May 2019 it is even possible to yield negative par rates for the underlying swap.\n",
    "\n",
    "As an example we are plotting the zero and the 6M forward curve for the EURIBOR 6M index below."
   ]
  },
  {
   "cell_type": "code",
   "execution_count": 2,
   "metadata": {
    "pycharm": {
     "name": "#%%\n"
    },
    "tags": [
     "hide_cell"
    ]
   },
   "outputs": [],
   "source": [
    "euribor_curve = LiborCurve.EURIBOR6M.value\n",
    "\n",
    "end= today+ql.Period(30, ql.Years)\n",
    "dates= [ql.Date(serial) for serial in range((today+ql.Period(4, ql.Days)).serialNumber(), end.serialNumber()+1)]\n",
    "forward_rates = [euribor_curve.forwardRate(d, ql.TARGET().advance(d,6,ql.Months), ql.Actual360(), ql.Simple).rate() for d in dates]\n",
    "zero_rates = [euribor_curve.zeroRate(d, ql.Actual360(), ql.Simple).rate() for d in dates]"
   ]
  },
  {
   "cell_type": "code",
   "execution_count": 3,
   "metadata": {
    "pycharm": {
     "name": "#%%\n"
    },
    "tags": [
     "hide_cell"
    ]
   },
   "outputs": [],
   "source": [
    "# _, ax = utils.plot()\n",
    "# utils.highlight_x_axis(ax)\n",
    "# utils.plot_curve(ax, dates, [(forward_rates, '-')], format_rates=True)\n",
    "# utils.plot_curve(ax, dates, [(zero_rates, '.')], format_rates=True)"
   ]
  },
  {
   "cell_type": "code",
   "execution_count": 4,
   "metadata": {
    "pycharm": {
     "name": "#%%\n"
    },
    "tags": [
     "hide_cell"
    ]
   },
   "outputs": [],
   "source": [
    "dates2 = []\n",
    "for date in dates:\n",
    "    dates2.append(datetime.datetime.strptime('%02d-%02d-%d' % (date.dayOfMonth(), date.month(), date.year()),'%d-%m-%Y'))\n",
    "\n",
    "#Trying to plot with plotly instead of matplotlib\n",
    "df1 = DataFrame(list(zip(dates2, forward_rates)), columns = ['date', 'rate'])\n",
    "df1['CurveType'] = '6M Forward Rate'\n",
    "df2 = DataFrame(list(zip(dates2, zero_rates)), columns = ['date', 'rate'])\n",
    "df2['CurveType'] = 'Zero Rate'\n",
    "df3 = df1.append(df2)"
   ]
  },
  {
   "cell_type": "code",
   "execution_count": 6,
   "metadata": {
    "pycharm": {
     "name": "#%%\n"
    },
    "tags": [
     "hide_cell"
    ]
   },
   "outputs": [],
   "source": [
    "fig = px.line(df3, x='date', y='rate', color='CurveType')\n",
    "fig.update_layout(legend_orientation=\"h\")\n",
    "\n",
    "exportPlotlyFigure(fig, name='euribor6m_termstructure')"
   ]
  },
  {
   "cell_type": "code",
   "execution_count": 7,
   "metadata": {
    "pycharm": {
     "name": "#%%\n"
    },
    "tags": [
     "hide_cell"
    ]
   },
   "outputs": [],
   "source": [
    "export('issue_regulatory_swaption_delta.ipynb')"
   ]
  }
 ],
 "metadata": {
  "celltoolbar": "Tags",
  "kernelspec": {
   "display_name": "Python 3",
   "language": "python",
   "name": "python3"
  },
  "language_info": {
   "codemirror_mode": {
    "name": "ipython",
    "version": 3
   },
   "file_extension": ".py",
   "mimetype": "text/x-python",
   "name": "python",
   "nbconvert_exporter": "python",
   "pygments_lexer": "ipython3",
   "version": "3.8.2"
  }
 },
 "nbformat": 4,
 "nbformat_minor": 1
}