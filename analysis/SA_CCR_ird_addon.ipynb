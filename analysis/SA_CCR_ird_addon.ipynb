{
 "cells": [
  {
   "cell_type": "code",
   "execution_count": 1,
   "outputs": [],
   "source": [
    "#import cell\n",
    "import QuantLib as ql\n",
    "from IPython.core.display import display, Markdown\n",
    "from scipy import optimize\n",
    "from collateralAgreement import CollateralAgreement\n",
    "from instruments.interestRateInstrument.irs import IRS\n",
    "from instruments.interestRateInstrument.swaption import Swaption\n",
    "from jupyterUtils import export\n",
    "from marketdata.fx_spot import FxSpot\n",
    "from marketdata.interestRateIndices import InterestRateIndex\n",
    "from sa_ccr.sa_ccr import SA_CCR\n",
    "from utilities.Enums import SwapDirection, TradeDirection\n",
    "asdf =1"
   ],
   "metadata": {
    "collapsed": false,
    "pycharm": {
     "name": "#%%\n"
    }
   }
  },
  {
   "cell_type": "markdown",
   "metadata": {
    "collapsed": true,
    "pycharm": {
     "name": "#%% md\n"
    }
   },
   "source": [
    "## AddOn for interest rate derivatives\n",
    "\n",
    "#### Step 1 - calculation of effective notional $D_{jk}^{IR}$\n",
    "\n",
    "\\begin{align*}\n",
    "D_{jk}^{IR} &= \\sum_{i\\in\\left\\{Ccy_j, MB_k\\right\\}}{\\delta_i*d_i^{IR}*MF_i}\n",
    "\\end{align*}\n",
    "\n",
    "Here, the notation $i\\in\\left\\{Ccy_j, MB_k\\right\\}$ refers to trades whose underlying is the interest rate of a common currency $j$ and which mature in a common maturity bucket $k$"
   ]
  },
  {
   "cell_type": "markdown",
   "source": [
    "We can test our implementation of the effective notional against a small exemplary portfolio in Annex 4a Example 1 of the SA_CCR paper. It consists of the following trades:\n",
    "\n",
    "| Trade # | Nature             | Residual Maturity | Base Ccy | Notional (tsd) | Pay Leg              | Receive Leg          | Market value (tsd)        |\n",
    "|---------|--------------------|-------------------|---------------|----------------------|----------------------|--------------------------|--------------------------|\n",
    "| 1       | Interest rate swap | 10 years          | USD           | 10000                | Fixed                | Floating                 | 30                       |\n",
    "| 2       | Interest rate swap | 4 years           | USD           | 10000                | Floating             | Fixed                    | -20                      |\n",
    "| 3       | European Swaption  | 1 into 10 years   | EUR           | 5000                 | Floating             | Fixed                    | 50                       |\n",
    "\n",
    "To set up this exemplary portfolio we need to find fixed rates for the swaps and underlying swaps to match the desired market values."
   ],
   "metadata": {
    "collapsed": false
   }
  },
  {
   "cell_type": "code",
   "execution_count": 2,
   "outputs": [],
   "source": [
    "def find_1(fixed_rate):\n",
    "    target_value = 30000\n",
    "    swap = IRS(notional = 10000000,\n",
    "               timeToSwapStart=ql.Period(2, ql.Days),\n",
    "               timeToSwapEnd=ql.Period(10, ql.Years),\n",
    "               swapDirection=SwapDirection.PAYER,\n",
    "               index = InterestRateIndex.USDLIBOR3M,\n",
    "               fixed_rate=fixed_rate[0]\n",
    "               )\n",
    "    return abs(swap.get_price()-target_value)\n",
    "\n",
    "def find_2(fixed_rate):\n",
    "    target_value = -20000\n",
    "    swap = IRS(notional = 10000000,\n",
    "               timeToSwapStart=ql.Period(2, ql.Days),\n",
    "               timeToSwapEnd=ql.Period(4, ql.Years),\n",
    "               swapDirection=SwapDirection.RECEIVER,\n",
    "               index = InterestRateIndex.USDLIBOR3M,\n",
    "               fixed_rate=fixed_rate[0]\n",
    "               )\n",
    "    return abs(swap.get_price()-target_value)\n",
    "\n",
    "def find_3(fixed_rate):\n",
    "    target_value = 50000\n",
    "    notional = 5000000*FxSpot.USDEUR.value\n",
    "    swap = IRS(notional = notional,\n",
    "               timeToSwapStart=ql.Period(1, ql.Years),\n",
    "               timeToSwapEnd=ql.Period(10, ql.Years),\n",
    "               swapDirection=SwapDirection.RECEIVER,\n",
    "               index = InterestRateIndex.EURIBOR6M,\n",
    "               fixed_rate=fixed_rate[0]\n",
    "               )\n",
    "    swaption = Swaption(underlyingSwap=swap,\n",
    "                        optionMaturity=ql.Period(1, ql.Years),\n",
    "                        tradeDirection=TradeDirection.LONG)\n",
    "    price = swaption.get_price()*FxSpot.EURUSD.value\n",
    "    return abs(price-target_value)\n",
    "\n",
    "def find_4(fixed_rate):\n",
    "    target_value = -0.27\n",
    "    notional = 5000000*FxSpot.USDEUR.value\n",
    "    swap = IRS(notional = notional,\n",
    "               timeToSwapStart=ql.Period(1, ql.Years),\n",
    "               timeToSwapEnd=ql.Period(10, ql.Years),\n",
    "               swapDirection=SwapDirection.RECEIVER,\n",
    "               index = InterestRateIndex.EURIBOR6M,\n",
    "               fixed_rate=fixed_rate[0]\n",
    "               )\n",
    "    swaption = Swaption(underlyingSwap=swap,\n",
    "                        optionMaturity=ql.Period(1, ql.Years),\n",
    "                        tradeDirection=TradeDirection.LONG)\n",
    "    delta = SA_CCR.calculate_sa_ccr_delta(swaption)\n",
    "    return abs(delta-target_value)\n",
    "\n",
    "result = optimize.minimize(find_1, x0=0.01, tol=0.0000000001)\n",
    "fixed_rate_trade_1 = result.x[0]\n",
    "result = optimize.minimize(find_2, x0=0.01, tol=0.0000000001)\n",
    "fixed_rate_trade_2 = result.x[0]\n",
    "result = optimize.minimize(find_3, x0=0.01, constraints={'type':'ineq','fun': lambda x: x[0]+0.02}, tol=0.0000000001)\n",
    "fixed_rate_trade_3 = result.x[0]\n",
    "result = optimize.minimize(find_4, x0=0.01, constraints={'type':'ineq','fun': lambda x: x[0]}, tol=0.0000000001)\n",
    "fixed_rate_trade_4 = result.x[0]"
   ],
   "metadata": {
    "collapsed": false,
    "pycharm": {
     "name": "#%%\n"
    }
   }
  },
  {
   "cell_type": "markdown",
   "source": [
    "Through optimization and using the market data of the 10th of May 2019 the fixed rates to match the market values in Example 1 were identified."
   ],
   "metadata": {
    "collapsed": false
   }
  },
  {
   "cell_type": "code",
   "execution_count": 3,
   "outputs": [],
   "source": [
    "trade_1 = IRS(notional = 10000000,\n",
    "             timeToSwapStart=ql.Period(2, ql.Days),\n",
    "             timeToSwapEnd=ql.Period(10, ql.Years),\n",
    "             swapDirection=SwapDirection.PAYER,\n",
    "             index = InterestRateIndex.USDLIBOR3M,\n",
    "             fixed_rate=fixed_rate_trade_1\n",
    "             )\n",
    "\n",
    "trade_2 = IRS(notional = 10000000,\n",
    "              timeToSwapStart=ql.Period(2, ql.Days),\n",
    "              timeToSwapEnd=ql.Period(4, ql.Years),\n",
    "              swapDirection=SwapDirection.RECEIVER,\n",
    "              index = InterestRateIndex.USDLIBOR3M,\n",
    "              fixed_rate=fixed_rate_trade_2\n",
    "              )\n",
    "\n",
    "notional = 5000000*FxSpot.USDEUR.value\n",
    "ul_swap = IRS(notional = notional,\n",
    "              timeToSwapStart=ql.Period(1, ql.Years),\n",
    "              timeToSwapEnd=ql.Period(10, ql.Years),\n",
    "              swapDirection=SwapDirection.RECEIVER,\n",
    "              index = InterestRateIndex.EURIBOR6M,\n",
    "              fixed_rate=fixed_rate_trade_3\n",
    "              )\n",
    "\n",
    "trade_3 = Swaption(underlyingSwap=ul_swap,\n",
    "                   optionMaturity=ql.Period(1, ql.Years),\n",
    "                   tradeDirection=TradeDirection.LONG)\n",
    "\n",
    "test_portfolio = [trade_1, trade_2, trade_3]"
   ],
   "metadata": {
    "collapsed": false,
    "pycharm": {
     "name": "#%%\n"
    }
   }
  },
  {
   "cell_type": "code",
   "execution_count": 4,
   "outputs": [
    {
     "data": {
      "text/plain": "<IPython.core.display.Markdown object>",
      "text/markdown": "For trade 1 the matching fixed rate is 2.3754%, for trade 1 it is 2.2108% and for the underlying swap of trade 3 it is 0.1610%"
     },
     "metadata": {},
     "output_type": "display_data"
    }
   ],
   "source": [
    "display(Markdown('For trade 1 the matching fixed rate is %.4f%%, for trade 1 it is %.4f%% and for the underlying swap of trade 3 it is %.4f%%' % ((fixed_rate_trade_1*100),(fixed_rate_trade_2*100),(fixed_rate_trade_3*100))))"
   ],
   "metadata": {
    "collapsed": false,
    "pycharm": {
     "name": "#%%\n"
    }
   }
  },
  {
   "cell_type": "code",
   "execution_count": 5,
   "outputs": [
    {
     "name": "stdout",
     "output_type": "stream",
     "text": [
      "1\n",
      "78638320.21725275\n",
      "-1\n",
      "36198301.54418307\n",
      "-0.00343382383244269\n",
      "31712286.360503413\n"
     ]
    },
    {
     "data": {
      "text/plain": "296732.72980308026"
     },
     "execution_count": 5,
     "metadata": {},
     "output_type": "execute_result"
    }
   ],
   "source": [
    "ca=CollateralAgreement()\n",
    "\n",
    "print(SA_CCR.calculate_sa_ccr_delta(trade_1))\n",
    "print(SA_CCR.trade_level_adjusted_notional(trade_1))\n",
    "print(SA_CCR.calculate_sa_ccr_delta(trade_2))\n",
    "print(SA_CCR.trade_level_adjusted_notional(trade_2))\n",
    "print(SA_CCR.calculate_sa_ccr_delta(trade_3))\n",
    "print(SA_CCR.trade_level_adjusted_notional(trade_3))\n",
    "\n",
    "SA_CCR.interest_rate_addOn(test_portfolio,ca)\n",
    "\n"
   ],
   "metadata": {
    "collapsed": false,
    "pycharm": {
     "name": "#%%\n"
    }
   }
  },
  {
   "cell_type": "code",
   "execution_count": 7,
   "outputs": [],
   "source": [
    "export(\"SA_CCR_ird_addon.ipynb\")"
   ],
   "metadata": {
    "collapsed": false,
    "pycharm": {
     "name": "#%%\n"
    }
   }
  }
 ],
 "metadata": {
  "kernelspec": {
   "display_name": "Python 3",
   "language": "python",
   "name": "python3"
  },
  "language_info": {
   "codemirror_mode": {
    "name": "ipython",
    "version": 2
   },
   "file_extension": ".py",
   "mimetype": "text/x-python",
   "name": "python",
   "nbconvert_exporter": "python",
   "pygments_lexer": "ipython2",
   "version": "2.7.6"
  }
 },
 "nbformat": 4,
 "nbformat_minor": 0
}