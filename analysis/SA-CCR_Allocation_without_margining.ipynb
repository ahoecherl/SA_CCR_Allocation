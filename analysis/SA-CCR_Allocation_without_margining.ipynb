{
 "cells": [
  {
   "cell_type": "markdown",
   "metadata": {
    "collapsed": true,
    "pycharm": {
     "name": "#%% md\n"
    }
   },
   "source": [
    "# SA-CCR Allocation without margining\n",
    "\n",
    "With no margin agreement in place RC is defined as:\n",
    "\n",
    "\\begin{align*}\n",
    "RC &= \\max\\{V-C;0\\} \\\\\n",
    "\\text{where} \\qquad V &= \\text{Value of the portfolio} \\\\\n",
    "C &= \\text{Net collateral held}\n",
    "\\end{align*}\n",
    "\n",
    "With no margin agreement in place it is most likely that $ C=0 $, which leaves us with $ RC=V $.\n"
   ]
  }
 ],
 "metadata": {
  "kernelspec": {
   "display_name": "Python 3",
   "language": "python",
   "name": "python3"
  },
  "language_info": {
   "codemirror_mode": {
    "name": "ipython",
    "version": 2
   },
   "file_extension": ".py",
   "mimetype": "text/x-python",
   "name": "python",
   "nbconvert_exporter": "python",
   "pygments_lexer": "ipython2",
   "version": "2.7.6"
  },
  "pycharm": {
   "stem_cell": {
    "cell_type": "raw",
    "source": [],
    "metadata": {
     "collapsed": false
    }
   }
  }
 },
 "nbformat": 4,
 "nbformat_minor": 0
}