{
 "cells": [
  {
   "cell_type": "code",
   "execution_count": 1,
   "outputs": [],
   "source": [
    "from math import log\n",
    "import QuantLib as ql\n",
    "from collateralAgreement.collateralAgreement import CollateralAgreement\n",
    "from instruments.interestRateInstrument.irs import IRS\n",
    "from instruments.interestRateInstrument.swaption import Swaption\n",
    "from sa_ccr.sa_ccr import SA_CCR\n",
    "from utilities.Enums import SwapDirection\n",
    "asdf=1\n"
   ],
   "metadata": {
    "collapsed": false,
    "pycharm": {
     "name": "#%%\n"
    }
   }
  },
  {
   "cell_type": "code",
   "execution_count": 2,
   "metadata": {
    "collapsed": true
   },
   "outputs": [],
   "source": [
    "ca_sync = CollateralAgreement()\n",
    "ca_sync.link_sa_ccr_instance(SA_CCR(ca_sync))\n",
    "trade1 = IRS(notional=100, fixed_rate=0.00)\n",
    "trade2 = Swaption(IRS(notional=1000, fixed_rate=0.00, swapDirection=SwapDirection.RECEIVER))\n",
    "ca_sync.add_trades([trade1, trade2])"
   ]
  },
  {
   "cell_type": "markdown",
   "source": [
    "Let's try if our function is homogenious with a constant k.\n",
    "\n",
    "We calculate our k as\n",
    "\n",
    "\\begin{align}\n",
    "f(\\alpha x) &= \\alpha^kf(x) \\\\\n",
    "\\ln\\left(\\frac{f(\\alpha x)}{f(x)}\\right) / \\ln(\\alpha) &= k\n",
    "\\end{align}\n",
    "\n",
    "with\n",
    "\n",
    "* $f(x)$: SA CCR EAD\n",
    "* $x$: Notional of the two swaps, i.e (100, 100)\n",
    "* $\\alpha$: 1.0001"
   ],
   "metadata": {
    "collapsed": false,
    "pycharm": {
     "name": "#%% md\n"
    }
   }
  },
  {
   "cell_type": "code",
   "execution_count": 3,
   "outputs": [
    {
     "name": "stdout",
     "output_type": "stream",
     "text": [
      "0.3645260771618179\n"
     ]
    }
   ],
   "source": [
    "alpha = 1.1\n",
    "f=ca_sync.sa_ccr_model.get_ead()\n",
    "alpha_trade1 = IRS(notional = 110, fixed_rate=0.00)\n",
    "alpha_trade2 = Swaption(IRS(notional=1100, fixed_rate=0.00, swapDirection=SwapDirection.RECEIVER))\n",
    "ca_sync.remove_all_trades()\n",
    "ca_sync.add_trades([alpha_trade1, alpha_trade2])\n",
    "f_alpha = ca_sync.sa_ccr_model.get_ead()\n",
    "print(f_alpha)\n",
    "\n",
    "k = log(f_alpha/f)/log(alpha)"
   ],
   "metadata": {
    "collapsed": false,
    "pycharm": {
     "name": "#%%\n"
    }
   }
  },
  {
   "cell_type": "markdown",
   "source": [
    "Now that we have a k let's try how well this works to approximate locally:"
   ],
   "metadata": {
    "collapsed": false,
    "pycharm": {
     "name": "#%% md\n"
    }
   }
  },
  {
   "cell_type": "code",
   "execution_count": 4,
   "outputs": [
    {
     "name": "stdout",
     "output_type": "stream",
     "text": [
      "Calculated f_alpha2: 0.6627746901 \n",
      "Approximated f_alpha2: 0.6627746721 \n"
     ]
    }
   ],
   "source": [
    "alpha_2 = 2\n",
    "alpha_2_trade1 = IRS(notional = 200, fixed_rate=0.00)\n",
    "alpha_2_trade2 = Swaption(IRS(notional=2000, fixed_rate=0.00, swapDirection=SwapDirection.RECEIVER))\n",
    "ca_sync.remove_all_trades()\n",
    "ca_sync.add_trades([alpha_2_trade1, alpha_2_trade2])\n",
    "print('Calculated f_alpha2: %.10f ' %ca_sync.get_sa_ccr_model().get_ead())\n",
    "print('Approximated f_alpha2: %.10f ' % (pow(alpha_2, k)*f))"
   ],
   "metadata": {
    "collapsed": false,
    "pycharm": {
     "name": "#%%\n"
    }
   }
  },
  {
   "cell_type": "markdown",
   "source": [
    "With syncing the formula appears to be locally homogeneous. Let's try the same without syncing"
   ],
   "metadata": {
    "collapsed": false,
    "pycharm": {
     "name": "#%% md\n"
    }
   }
  },
  {
   "cell_type": "code",
   "execution_count": 5,
   "outputs": [],
   "source": [
    "ca_desync = CollateralAgreement()\n",
    "ca_desync.link_sa_ccr_instance(SA_CCR(ca_desync))\n",
    "trade1 = IRS(notional=100, fixed_rate=0.00)\n",
    "trade2 = Swaption(IRS(notional=1000, fixed_rate=0.00, swapDirection=SwapDirection.RECEIVER))\n",
    "ca_desync.add_trades([trade1, trade2])\n",
    "ca_desync.sync_vm_model = False\n",
    "ca_desync.sync_im_model = False"
   ],
   "metadata": {
    "collapsed": false,
    "pycharm": {
     "name": "#%%\n"
    }
   }
  },
  {
   "cell_type": "code",
   "execution_count": 6,
   "outputs": [
    {
     "name": "stdout",
     "output_type": "stream",
     "text": [
      "0.4496475527062012\n"
     ]
    }
   ],
   "source": [
    "alpha = 1.1\n",
    "f=ca_desync.sa_ccr_model.get_ead()\n",
    "alpha_trade1 = IRS(notional = 110, fixed_rate=0.00)\n",
    "alpha_trade2 = Swaption(IRS(notional=1100, fixed_rate=0.00, swapDirection=SwapDirection.RECEIVER))\n",
    "ca_desync.remove_all_trades()\n",
    "ca_desync.add_trades([alpha_trade1, alpha_trade2])\n",
    "f_alpha = ca_desync.sa_ccr_model.get_ead()\n",
    "print(f_alpha)\n",
    "\n",
    "k = log(f_alpha/f)/log(alpha)"
   ],
   "metadata": {
    "collapsed": false,
    "pycharm": {
     "name": "#%%\n"
    }
   }
  },
  {
   "cell_type": "markdown",
   "source": [
    "Now that we have a k let's try how well this works to approximate locally:"
   ],
   "metadata": {
    "collapsed": false
   }
  },
  {
   "cell_type": "code",
   "execution_count": 7,
   "outputs": [
    {
     "name": "stdout",
     "output_type": "stream",
     "text": [
      "Calculated f_alpha2: 2.3804994374 \n",
      "Approximated f_alpha2: 3.0493810580 \n"
     ]
    }
   ],
   "source": [
    "alpha_2 = 2\n",
    "alpha_2_trade1 = IRS(notional = 200, fixed_rate=0.00)\n",
    "alpha_2_trade2 = Swaption(IRS(notional=2000, fixed_rate=0.00, swapDirection=SwapDirection.RECEIVER))\n",
    "ca_desync.remove_all_trades()\n",
    "ca_desync.add_trades([alpha_2_trade1, alpha_2_trade2])\n",
    "print('Calculated f_alpha2: %.10f ' %ca_desync.get_sa_ccr_model().get_ead())\n",
    "print('Approximated f_alpha2: %.10f ' % (pow(alpha_2, k)*f))"
   ],
   "metadata": {
    "collapsed": false,
    "pycharm": {
     "name": "#%%\n"
    }
   }
  },
  {
   "cell_type": "code",
   "execution_count": 8,
   "outputs": [
    {
     "name": "stdout",
     "output_type": "stream",
     "text": [
      "6.868626957525102\n",
      "0.7050815295151583\n",
      "13.737253887918328\n",
      "0.7050815295151583\n"
     ]
    }
   ],
   "source": [
    "print(ca_desync.get_C())\n",
    "print(ca_desync.sa_ccr_model.get_multiplier())\n",
    "print(ca_sync.get_C())\n",
    "print(ca_desync.sa_ccr_model.get_multiplier())"
   ],
   "metadata": {
    "collapsed": false,
    "pycharm": {
     "name": "#%%\n"
    }
   }
  },
  {
   "cell_type": "markdown",
   "source": [
    "Finally, let's see how a model performs that has adjusted VM but no adjusted IM."
   ],
   "metadata": {
    "collapsed": false,
    "pycharm": {
     "name": "#%% md\n"
    }
   }
  },
  {
   "cell_type": "code",
   "execution_count": 9,
   "outputs": [],
   "source": [
    "ca_only_vm = CollateralAgreement()\n",
    "ca_only_vm.link_sa_ccr_instance(SA_CCR(ca_only_vm))\n",
    "trade1 = IRS(notional=100, fixed_rate=0.00)\n",
    "trade2 = Swaption(IRS(notional=1000, fixed_rate=0.00, swapDirection=SwapDirection.RECEIVER))\n",
    "ca_only_vm.add_trades([trade1, trade2])\n",
    "ca_only_vm.sync_im_model = False"
   ],
   "metadata": {
    "collapsed": false,
    "pycharm": {
     "name": "#%%\n"
    }
   }
  },
  {
   "cell_type": "code",
   "execution_count": 10,
   "outputs": [
    {
     "name": "stdout",
     "output_type": "stream",
     "text": [
      "0.41489175746196183\n"
     ]
    }
   ],
   "source": [
    "alpha = 1.1\n",
    "f=ca_only_vm.sa_ccr_model.get_ead()\n",
    "alpha_trade1 = IRS(notional = 110, fixed_rate=0.00)\n",
    "alpha_trade2 = Swaption(IRS(notional=1100, fixed_rate=0.00, swapDirection=SwapDirection.RECEIVER))\n",
    "ca_only_vm.remove_all_trades()\n",
    "ca_only_vm.add_trades([alpha_trade1, alpha_trade2])\n",
    "f_alpha = ca_only_vm.sa_ccr_model.get_ead()\n",
    "print(f_alpha)\n",
    "\n",
    "k = log(f_alpha/f)/log(alpha)"
   ],
   "metadata": {
    "collapsed": false,
    "pycharm": {
     "name": "#%%\n"
    }
   }
  },
  {
   "cell_type": "markdown",
   "source": [
    "Now that we have a k let's try how well this works to approximate locally:"
   ],
   "metadata": {
    "collapsed": false
   }
  },
  {
   "cell_type": "code",
   "execution_count": 11,
   "outputs": [
    {
     "name": "stdout",
     "output_type": "stream",
     "text": [
      "Calculated f_alpha2: 1.4275154291 \n",
      "Approximated f_alpha2: 1.6987435888 \n"
     ]
    }
   ],
   "source": [
    "alpha_2 = 2\n",
    "alpha_2_trade1 = IRS(notional = 200, fixed_rate=0.00)\n",
    "alpha_2_trade2 = Swaption(IRS(notional=2000, fixed_rate=0.00, swapDirection=SwapDirection.RECEIVER))\n",
    "ca_only_vm.remove_all_trades()\n",
    "ca_only_vm.add_trades([alpha_2_trade1, alpha_2_trade2])\n",
    "print('Calculated f_alpha2: %.10f ' %ca_only_vm.get_sa_ccr_model().get_ead())\n",
    "print('Approximated f_alpha2: %.10f ' % (pow(alpha_2, k)*f))\n",
    "\n",
    "\n",
    "\n"
   ],
   "metadata": {
    "collapsed": false,
    "pycharm": {
     "name": "#%%\n"
    }
   }
  }
 ],
 "metadata": {
  "kernelspec": {
   "display_name": "Python 3",
   "language": "python",
   "name": "python3"
  },
  "language_info": {
   "codemirror_mode": {
    "name": "ipython",
    "version": 2
   },
   "file_extension": ".py",
   "mimetype": "text/x-python",
   "name": "python",
   "nbconvert_exporter": "python",
   "pygments_lexer": "ipython2",
   "version": "2.7.6"
  }
 },
 "nbformat": 4,
 "nbformat_minor": 0
}