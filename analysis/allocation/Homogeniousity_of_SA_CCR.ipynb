{
 "cells": [
  {
   "cell_type": "code",
   "execution_count": null,
   "metadata": {
    "collapsed": true
   },
   "outputs": [],
   "source": [
    "import QuantLib as ql\n",
    "asdf = 1"
   ]
  },
  {
   "cell_type": "markdown",
   "source": [
    "Euler allocation is based on Euler's theorem for homogeneous functions which states that if $f$ is an homogeneous function of order $k$ such that\n",
    "\n",
    "\\begin{align}\n",
    " f\\left(tx\\right)&=t^nf(x) \\\\\n",
    " x&=(x_1 \\dots x_n)^T\n",
    "\\end{align}\n",
    "\n",
    "then\n",
    "\n",
    "\\begin{align}\n",
    "\\sum_i{x_i\\frac{\\partial f}{\\partial x_i}} = nf(x)\n",
    "\\end{align}\n",
    "\n",
    "or $\\sum_i{x_i\\frac{\\partial f}{\\partial x_i}} = f(x)$ if $n=1$"
   ],
   "metadata": {
    "collapsed": false,
    "pycharm": {
     "name": "#%% md\n"
    }
   }
  }
 ],
 "metadata": {
  "kernelspec": {
   "display_name": "Python 3",
   "language": "python",
   "name": "python3"
  },
  "language_info": {
   "codemirror_mode": {
    "name": "ipython",
    "version": 2
   },
   "file_extension": ".py",
   "mimetype": "text/x-python",
   "name": "python",
   "nbconvert_exporter": "python",
   "pygments_lexer": "ipython2",
   "version": "2.7.6"
  }
 },
 "nbformat": 4,
 "nbformat_minor": 0
}