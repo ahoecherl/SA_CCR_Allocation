{
 "cells": [
  {
   "cell_type": "markdown",
   "metadata": {
    "collapsed": true,
    "pycharm": {
     "name": "#%% md\n"
    }
   },
   "source": [
    "## Exemplary SA-CCR allocation under consideration of an initial margin threshold\n",
    "\n",
    "Our goal is to perform an Euler allocation for the minimal example of a one trade portfolio.\n",
    "We use the same 200Bn IRS as in previous examples."
   ]
  },
  {
   "cell_type": "code",
   "execution_count": 1,
   "metadata": {
    "pycharm": {
     "name": "#%% import cell\n"
    },
    "tags": [
     "hide_cell"
    ]
   },
   "outputs": [],
   "source": [
    "import QuantLib as ql\n",
    "from IPython.core.display import display, Markdown\n",
    "from scipy import optimize\n",
    "from allocation.eulerAllocator import EulerAllocator\n",
    "from collateralAgreement.collateralAgreement import CollateralAgreement\n",
    "from instruments.equity_instruments.equityOption import EquityOption\n",
    "from instruments.interestRateInstrument.irs import IRS\n",
    "from jupyterUtils import export\n",
    "from marketdata.interestRateIndices import InterestRateIndex\n",
    "from marketdata import init_marketdata\n",
    "from sa_ccr.sa_ccr import SA_CCR\n",
    "from utilities.Enums import Stock, TradeType, TradeDirection\n",
    "asdf =1"
   ]
  },
  {
   "cell_type": "code",
   "execution_count": 2,
   "metadata": {
    "pycharm": {
     "name": "#%%\n"
    }
   },
   "outputs": [],
   "source": [
    "irs = IRS(notional=200000000000,\n",
    "          index=InterestRateIndex.USDLIBOR3M,\n",
    "          timeToSwapStart=ql.Period(2, ql.Days),\n",
    "          timeToSwapEnd=ql.Period(10, ql.Years))"
   ]
  },
  {
   "cell_type": "code",
   "execution_count": 3,
   "metadata": {
    "pycharm": {
     "name": "#%%\n"
    }
   },
   "outputs": [],
   "source": [
    "ca = CollateralAgreement(threshold=2000000000,\n",
    "                         mta=0)\n",
    "ca.link_sa_ccr_instance(SA_CCR(ca))\n",
    "ca.add_trades(irs)"
   ]
  },
  {
   "cell_type": "markdown",
   "metadata": {
    "pycharm": {
     "name": "#%% md\n"
    }
   },
   "source": [
    "The inclusion of the threshold raises the ead since it lowers the available overcollataralization."
   ]
  },
  {
   "cell_type": "code",
   "execution_count": 4,
   "metadata": {
    "pycharm": {
     "name": "#%%\n"
    }
   },
   "outputs": [
    {
     "name": "stdout",
     "output_type": "stream",
     "text": [
      "817798882.3982577\n",
      "582881953.4648591\n"
     ]
    }
   ],
   "source": [
    "ead_with_threshold = ca.get_sa_ccr_model().get_risk_measure()\n",
    "print(ead_with_threshold)\n",
    "ca.threshold = 0\n",
    "ead_no_threshold = ca.get_sa_ccr_model().get_risk_measure()\n",
    "print(ead_no_threshold)\n",
    "ca.threshold = 2000000000"
   ]
  },
  {
   "cell_type": "code",
   "execution_count": 5,
   "metadata": {
    "pycharm": {
     "name": "#%%\n"
    },
    "tags": [
     "hide_input"
    ]
   },
   "outputs": [
    {
     "data": {
      "text/plain": "<IPython.core.display.Markdown object>",
      "text/markdown": "The EAD with threshold is 817798882.40 while the EAD without threshold is 582881953.46"
     },
     "metadata": {},
     "output_type": "display_data"
    }
   ],
   "source": [
    "display(Markdown('The EAD with threshold is %.2f while the EAD without threshold is %.2f' %(ead_with_threshold, ead_no_threshold)))"
   ]
  },
  {
   "cell_type": "markdown",
   "metadata": {
    "pycharm": {
     "name": "#%% md\n"
    }
   },
   "source": [
    "When trying to allocate with threshold we realize that the allocation is not working due to the missing homogeneity of C."
   ]
  },
  {
   "cell_type": "code",
   "execution_count": 6,
   "metadata": {
    "pycharm": {
     "name": "#%%\n"
    }
   },
   "outputs": [
    {
     "name": "stdout",
     "output_type": "stream",
     "text": [
      "526604164.2713547\n"
     ]
    }
   ],
   "source": [
    "eulerAllocator = EulerAllocator(ca)\n",
    "allocated_value = eulerAllocator.allocate_ead()[irs]\n",
    "print(allocated_value)"
   ]
  },
  {
   "cell_type": "code",
   "execution_count": 7,
   "metadata": {
    "pycharm": {
     "name": "#%%\n"
    },
    "tags": [
     "hide_input"
    ]
   },
   "outputs": [
    {
     "data": {
      "text/plain": "<IPython.core.display.Markdown object>",
      "text/markdown": "The value of 526604164.27 that has been allocated to the single trade in the portfolio is far off from the portfolios EAD of 817798882.40"
     },
     "metadata": {},
     "output_type": "display_data"
    }
   ],
   "source": [
    "display(Markdown('The value of %.2f that has been allocated to the single trade in the portfolio is far off from the portfolios EAD of %.2f' % (allocated_value, ead_with_threshold)))"
   ]
  },
  {
   "cell_type": "markdown",
   "metadata": {
    "pycharm": {
     "name": "#%% md\n"
    }
   },
   "source": [
    "If we instead allocate without threshold, the allocation works."
   ]
  },
  {
   "cell_type": "code",
   "execution_count": 8,
   "metadata": {
    "pycharm": {
     "name": "#%%\n"
    }
   },
   "outputs": [
    {
     "name": "stdout",
     "output_type": "stream",
     "text": [
      "582887839.6499157\n"
     ]
    }
   ],
   "source": [
    "ca.threshold = 0\n",
    "allocated_value=eulerAllocator.allocate_ead()[irs]\n",
    "print(allocated_value)"
   ]
  },
  {
   "cell_type": "code",
   "execution_count": 9,
   "metadata": {
    "pycharm": {
     "name": "#%%\n"
    },
    "tags": [
     "hide_input"
    ]
   },
   "outputs": [
    {
     "data": {
      "text/plain": "<IPython.core.display.Markdown object>",
      "text/markdown": "The value of 582887839.65 that has been allocated to the single trade in the portfolio equals the portfolios EAD without threshold of 582881953.46"
     },
     "metadata": {},
     "output_type": "display_data"
    }
   ],
   "source": [
    "display(Markdown('The value of %.2f that has been allocated to the single trade in the portfolio equals the portfolios EAD without threshold of %.2f' % (allocated_value, ead_no_threshold)))"
   ]
  },
  {
   "cell_type": "markdown",
   "metadata": {
    "pycharm": {
     "name": "#%% md\n"
    }
   },
   "source": [
    "A reasonable approach to allocate an SA-CCR EAD under consideration of a threshold could be to allocate without threshold and then scale accordingly:\n",
    "\n",
    "\\begin{align}\n",
    "\\label{eq:C threshold scaling}\n",
    "    X_{t\\text{, TH}} = X_{t\\text{, no TH}} \\frac{EAD_{\\text{TH}}}{EAD_{\\text{no TH}}}\n",
    "\\end{align}"
   ]
  },
  {
   "cell_type": "code",
   "execution_count": 10,
   "metadata": {
    "pycharm": {
     "name": "#%%\n"
    }
   },
   "outputs": [
    {
     "name": "stdout",
     "output_type": "stream",
     "text": [
      "817807140.8724346\n"
     ]
    }
   ],
   "source": [
    "print(allocated_value * (ead_with_threshold/ead_no_threshold))\n"
   ]
  },
  {
   "cell_type": "markdown",
   "metadata": {
    "pycharm": {
     "name": "#%% md\n"
    }
   },
   "source": [
    "However, this approach does coincide with a loss of precision.\n",
    "If the $C_{calc}$ is below the threshold then $C$ is 0 and exhibits homogeneity, even when taking the threshold into account.\n",
    "We can construct an example that shows, that the approach in \\ref{eq:C threshold scaling} does not yield the correct allocation which can be calculated when taking the threshold into account since the IM is below the IM threshold.\n",
    "\n",
    "We set up an IRS and an Equity option that have a similar EAD on their own. Here we calculate with a threshold of 50Mn which is a common value as it is the maximum amount permitted by the regulator. \\todo{Cite source for this}"
   ]
  },
  {
   "cell_type": "code",
   "execution_count": 11,
   "metadata": {
    "pycharm": {
     "name": "#%%\n"
    }
   },
   "outputs": [],
   "source": [
    "irs = IRS(notional=100000000,\n",
    "          index = InterestRateIndex.USDLIBOR3M,\n",
    "          timeToSwapStart=ql.Period(2, ql.Days),\n",
    "          timeToSwapEnd=ql.Period(10, ql.Years))\n",
    "\n",
    "ca = CollateralAgreement(threshold=50000000)\n",
    "ca.link_sa_ccr_instance(SA_CCR(ca))\n",
    "ca.add_trades(irs)"
   ]
  },
  {
   "cell_type": "code",
   "execution_count": 12,
   "metadata": {
    "pycharm": {
     "name": "#%%\n"
    }
   },
   "outputs": [
    {
     "name": "stdout",
     "output_type": "stream",
     "text": [
      "4519078.535740282\n",
      "1651404.7245623078\n"
     ]
    }
   ],
   "source": [
    "print(ca.get_im_model().get_risk_measure())\n",
    "print(ca.get_sa_ccr_model().get_risk_measure())"
   ]
  },
  {
   "cell_type": "code",
   "execution_count": 13,
   "metadata": {
    "pycharm": {
     "name": "#%%\n"
    },
    "tags": [
     "hide_cell"
    ]
   },
   "outputs": [],
   "source": [
    "def find_notional_for_eq_ead(notional):\n",
    "   eqOpt = EquityOption(notional = notional)\n",
    "   global ca\n",
    "   ref_ead = ca.get_sa_ccr_model().get_risk_measure()\n",
    "   trades = ca.trades\n",
    "   ca.remove_all_trades()\n",
    "   ca.add_trades(eqOpt)\n",
    "   compare_ead = ca.get_sa_ccr_model().get_risk_measure()\n",
    "   ca.remove_all_trades()\n",
    "   ca.add_trades(trades)\n",
    "   return (ref_ead - compare_ead)**2\n",
    "\n",
    "eqOptNot = optimize.minimize(find_notional_for_eq_ead, x0=10000)"
   ]
  },
  {
   "cell_type": "code",
   "execution_count": 28,
   "metadata": {
    "pycharm": {
     "name": "#%%\n"
    },
    "tags": [
     "hide_input"
    ]
   },
   "outputs": [
    {
     "data": {
      "text/plain": "<IPython.core.display.Markdown object>",
      "text/markdown": "Through optimization it can be identified that for a one year long call option on Adidas an underlying stock count of 403106 stocks results in the same EAD as for the IRS above."
     },
     "metadata": {},
     "output_type": "display_data"
    }
   ],
   "source": [
    "display(Markdown('Through optimization it can be identified that for a one year long call option on Adidas an underlying stock count of %d stocks results in the same EAD as for the IRS above.' %eqOptNot.x[0]))"
   ]
  },
  {
   "cell_type": "code",
   "execution_count": 15,
   "metadata": {
    "pycharm": {
     "name": "#%%\n"
    }
   },
   "outputs": [],
   "source": [
    "eqOpt = EquityOption(notional = 403106,\n",
    "                     maturity = ql.Period(1, ql.Years),\n",
    "                     underlying = Stock.ADS,\n",
    "                     tradeType = TradeType.CALL,\n",
    "                     tradeDirection = TradeDirection.LONG)"
   ]
  },
  {
   "cell_type": "code",
   "execution_count": 16,
   "metadata": {
    "pycharm": {
     "name": "#%%\n"
    }
   },
   "outputs": [],
   "source": [
    "eqOpt = EquityOption(notional = eqOptNot.x[0])\n",
    "ca2 = CollateralAgreement(threshold = 50000000)\n",
    "ca2.link_sa_ccr_instance(SA_CCR(ca2))\n",
    "ca2.add_trades(eqOpt)"
   ]
  },
  {
   "cell_type": "markdown",
   "metadata": {
    "pycharm": {
     "name": "#%% md\n"
    }
   },
   "source": [
    "The initial margin of this single trade is also far below the 50Mn threshold but differs significantly from the IM of the IRS."
   ]
  },
  {
   "cell_type": "code",
   "execution_count": 32,
   "outputs": [
    {
     "name": "stdout",
     "output_type": "stream",
     "text": [
      "EAD: 1651404.7245622796\n",
      "IM:  2802685.461885011\n"
     ]
    }
   ],
   "source": [
    "print('EAD: ' + str(ca2.get_sa_ccr_model().get_risk_measure()))\n",
    "print('IM:  ' + str(ca2.get_im_model().get_risk_measure()))"
   ],
   "metadata": {
    "collapsed": false,
    "pycharm": {
     "name": "#%%\n"
    }
   }
  },
  {
   "cell_type": "code",
   "execution_count": 17,
   "metadata": {
    "pycharm": {
     "name": "#%%\n"
    },
    "tags": [
     "hide_input"
    ]
   },
   "outputs": [
    {
     "data": {
      "text/plain": "<IPython.core.display.Markdown object>",
      "text/markdown": "Given the market data, difference in model, risk horizon etc. the SA CCR EAD model calculates the same risk for the two trades when calculated individually, while the ISDA SIMM IM model evaluates the IRS to be 61% riskier."
     },
     "metadata": {},
     "output_type": "display_data"
    }
   ],
   "source": [
    "display(Markdown('Given the market data, difference in model, risk horizon etc. the SA CCR EAD model calculates the same risk for the two trades when calculated individually, while the ISDA SIMM IM model evaluates the IRS to be %d%% riskier.' %((ca.get_im_model().get_risk_measure()/ca2.get_im_model().get_risk_measure()-1)*100)))"
   ]
  },
  {
   "cell_type": "markdown",
   "metadata": {
    "pycharm": {
     "name": "#%% md\n"
    }
   },
   "source": [
    "When putting both trades in a common portfolio we observe, that the EAD and the IM of this joint portfolio is the sum of the two separate portfolios.\n",
    "This is not surprising since both, the SA CCR and ISDA SIMM model do not recognize any hedge effect between different asset classes."
   ]
  },
  {
   "cell_type": "code",
   "execution_count": 18,
   "metadata": {
    "pycharm": {
     "name": "#%%\n"
    }
   },
   "outputs": [],
   "source": [
    "ca3 = CollateralAgreement(threshold=50000000)\n",
    "ca3.link_sa_ccr_instance(SA_CCR(ca3))\n",
    "ca3.add_trades([irs, eqOpt])"
   ]
  },
  {
   "cell_type": "code",
   "execution_count": 19,
   "metadata": {
    "pycharm": {
     "name": "#%%\n"
    },
    "tags": [
     "hide_input"
    ]
   },
   "outputs": [
    {
     "data": {
      "text/plain": "<IPython.core.display.Markdown object>",
      "text/markdown": "The EAD of the combined portfolio is 3302809 USD. The calculated IM of the combined portfolio is 7321763 USD."
     },
     "metadata": {},
     "output_type": "display_data"
    }
   ],
   "source": [
    "display(Markdown(\n",
    "    'The EAD of the combined portfolio is %d USD.' %ca3.get_sa_ccr_model().get_risk_measure() +\\\n",
    "    ' The calculated IM of the combined portfolio is %d USD.' %ca3.get_im_model().get_risk_measure()\n",
    "))"
   ]
  },
  {
   "cell_type": "code",
   "execution_count": 20,
   "metadata": {
    "pycharm": {
     "name": "#%%\n"
    }
   },
   "outputs": [],
   "source": [
    "eulerAllocator = EulerAllocator(ca3)\n",
    "ca3.threshold = 50000000\n",
    "allocation = eulerAllocator.allocate_ead()"
   ]
  },
  {
   "cell_type": "code",
   "execution_count": 21,
   "metadata": {
    "pycharm": {
     "name": "#%%\n"
    },
    "tags": [
     "hide_input"
    ]
   },
   "outputs": [
    {
     "data": {
      "text/plain": "<IPython.core.display.Markdown object>",
      "text/markdown": "Euler allocation allocates 1651404 USD of the EAD to the IRS.Euler allocation allocates 1651404 USD of the EAD to the equity option.The sum of these two allocations is 3302809 USD, Which is close to the EAD calculated for the portfolio of 3302809 USD."
     },
     "metadata": {},
     "output_type": "display_data"
    }
   ],
   "source": [
    "display(Markdown(\n",
    "    'Euler allocation allocates %d USD of the EAD to the IRS.' %allocation[irs] +\\\n",
    "    'Euler allocation allocates %d USD of the EAD to the equity option.' %allocation[eqOpt] +\\\n",
    "    'The sum of these two allocations is %d USD, ' %sum([alloc for alloc in allocation.values()]) +\\\n",
    "    'Which is close to the EAD calculated for the portfolio of %d USD.' %ca3.get_sa_ccr_model().get_risk_measure()\n",
    "))"
   ]
  },
  {
   "cell_type": "markdown",
   "metadata": {
    "pycharm": {
     "name": "#%% md\n"
    }
   },
   "source": [
    "Due to the high threshold, no IM is exchanged. Only VM is exchanged which is not overcollateralization and therefore only reduces the $RC$ in formula \\todo{reference RC+PFE formula} to 0 but does not impact the $PFE$."
   ]
  },
  {
   "cell_type": "code",
   "execution_count": 22,
   "metadata": {
    "pycharm": {
     "name": "#%%\n"
    },
    "tags": [
     "hide_input"
    ]
   },
   "outputs": [
    {
     "data": {
      "text/plain": "<IPython.core.display.Markdown object>",
      "text/markdown": "The available collateral is 1450296 USD. Due to the hight threshold this consists only of the VM which is 1450296 USD."
     },
     "metadata": {},
     "output_type": "display_data"
    }
   ],
   "source": [
    "display(Markdown('The available collateral is %d USD. ' %ca3.get_C() + 'Due to the hight threshold this consists only of the VM which is %d USD.' %ca3.get_vm_model().get_vm()))"
   ]
  },
  {
   "cell_type": "markdown",
   "metadata": {
    "pycharm": {
     "name": "#%% md\n"
    }
   },
   "source": [
    "The 50/50 allocation is certainly the correct result since there are no hedge effects between the two trades and they both have the same stand alone EAD.\n",
    "However, when applying formula \\ref{eq:C threshold scaling} we yield a different result."
   ]
  },
  {
   "cell_type": "code",
   "execution_count": 23,
   "metadata": {
    "pycharm": {
     "name": "#%%\n"
    }
   },
   "outputs": [
    {
     "name": "stdout",
     "output_type": "stream",
     "text": [
      "1153317.0534241588\n"
     ]
    }
   ],
   "source": [
    "ead_with_threshold = ca3.get_sa_ccr_model().get_risk_measure()\n",
    "ca3.threshold=0\n",
    "ead_no_threshold = ca3.get_sa_ccr_model().get_risk_measure()\n",
    "allocation = eulerAllocator.allocate_ead()\n",
    "factor = ead_with_threshold/ead_no_threshold\n",
    "print(allocation[irs]*factor)\n",
    "ca3.threshold = 50000000"
   ]
  },
  {
   "cell_type": "code",
   "execution_count": 24,
   "metadata": {
    "pycharm": {
     "name": "#%%\n"
    },
    "tags": [
     "hide_input"
    ]
   },
   "outputs": [
    {
     "data": {
      "text/plain": "<IPython.core.display.Markdown object>",
      "text/markdown": "Euler allocation allocates 1153317 USD of the EAD to the IRS. Euler allocation allocates 2149501 USD of the EAD to the equity option. The sum of these two allocations is 3302819 USD, which is close to the EAD calculated for the portfolio of 3302809 USD."
     },
     "metadata": {},
     "output_type": "display_data"
    }
   ],
   "source": [
    "display(Markdown('Euler allocation allocates %d USD of the EAD to the IRS.' %(allocation[irs]*factor) + \\\n",
    "                 ' Euler allocation allocates %d USD of the EAD to the equity option.' %(allocation[eqOpt]*factor) + \\\n",
    "                 ' The sum of these two allocations is %d USD, ' %(sum([alloc for alloc in allocation.values()])*factor) + \\\n",
    "                 'which is close to the EAD calculated for the portfolio of %d USD.' %ca3.get_sa_ccr_model().get_risk_measure()))"
   ]
  },
  {
   "cell_type": "markdown",
   "metadata": {
    "pycharm": {
     "name": "#%% md\n"
    }
   },
   "source": [
    "Therefore, the approximation of \\ref{eq:C threshold scaling} should only be used if the $IM_{calc} > TH_{IM}$.\n"
   ]
  },
  {
   "cell_type": "code",
   "execution_count": 33,
   "metadata": {
    "pycharm": {
     "name": "#%%\n"
    },
    "tags": [
     "hide_cell"
    ]
   },
   "outputs": [],
   "source": [
    "export('Exemplary SA-CCR allocation considering an initial margin threshold.ipynb')"
   ]
  }
 ],
 "metadata": {
  "celltoolbar": "Tags",
  "kernelspec": {
   "display_name": "Python 3",
   "language": "python",
   "name": "python3"
  },
  "language_info": {
   "codemirror_mode": {
    "name": "ipython",
    "version": 3
   },
   "file_extension": ".py",
   "mimetype": "text/x-python",
   "name": "python",
   "nbconvert_exporter": "python",
   "pygments_lexer": "ipython3",
   "version": "3.8.2"
  }
 },
 "nbformat": 4,
 "nbformat_minor": 1
}