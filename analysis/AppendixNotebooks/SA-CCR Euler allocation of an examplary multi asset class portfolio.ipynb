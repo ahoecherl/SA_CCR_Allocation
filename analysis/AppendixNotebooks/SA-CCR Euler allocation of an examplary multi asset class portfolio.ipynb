{
 "cells": [
  {
   "cell_type": "markdown",
   "metadata": {
    "collapsed": true,
    "pycharm": {
     "name": "#%% md\n"
    }
   },
   "source": [
    "# SA-CCR Euler allocation of an exemplary multi asset class portfolio\n",
    "\n",
    "We want to show at an example, how the Euler allocation of trades can be summed up to subportfolios to still accurately represent the risk dynamics of the allocated risk measure.\n",
    "\n",
    "We combine the exemplary equity portfolio with the exemplary rates portfolio set up in the previous sections within a joint portfolio."
   ]
  },
  {
   "cell_type": "code",
   "execution_count": 1,
   "metadata": {
    "pycharm": {
     "name": "#%% import cell\n"
    },
    "tags": [
     "hide_cell"
    ]
   },
   "outputs": [],
   "source": [
    "import QuantLib as ql\n",
    "from allocation.Enums import FdApproach2\n",
    "from allocation.eulerAllocator import EulerAllocator\n",
    "from collateralAgreement.collateralAgreement import CollateralAgreement, InitialMargining, Margining\n",
    "from instruments.equity_instruments.equityOption import EquityOption\n",
    "from instruments.interestRateInstrument.irs import IRS\n",
    "from instruments.interestRateInstrument.swaption import Swaption\n",
    "from jupyterUtils import export\n",
    "from marketdata.interestRateIndices import InterestRateIndex\n",
    "from sa_ccr.sa_ccr import SA_CCR\n",
    "from utilities.Enums import SwapDirection, Stock, TradeType, TradeDirection, AssetClass\n",
    "import pandas as pd\n",
    "\n",
    "asdf =1"
   ]
  },
  {
   "cell_type": "code",
   "execution_count": 2,
   "metadata": {
    "pycharm": {
     "name": "#%%\n"
    },
    "tags": [
     "hide_cell"
    ]
   },
   "outputs": [],
   "source": [
    "eq_opt_ads_call = EquityOption(underlying=Stock.ADS,\n",
    "                               maturity=ql.Period(1, ql.Years),\n",
    "                               notional=2000000,\n",
    "                               tradeType=TradeType.CALL,\n",
    "                               tradeDirection=TradeDirection.LONG)\n",
    "\n",
    "eq_opt_ads_put = EquityOption(underlying=Stock.ADS,\n",
    "                              maturity=ql.Period(1, ql.Years),\n",
    "                              notional=3000000,\n",
    "                              tradeType=TradeType.PUT,\n",
    "                              tradeDirection=TradeDirection.LONG)\n",
    "\n",
    "eq_opt_dbk_call = EquityOption(underlying=Stock.DBK,\n",
    "                               maturity=ql.Period(1, ql.Years),\n",
    "                               notional = 10000000,\n",
    "                               tradeType=TradeType.CALL,\n",
    "                               tradeDirection=TradeDirection.LONG)\n",
    "\n",
    "payer_usd_6Y = IRS(notional = 1000000000,\n",
    "                   swapDirection=SwapDirection.PAYER,\n",
    "                   timeToSwapStart=ql.Period(2, ql.Days),\n",
    "                   timeToSwapEnd=ql.Period(6, ql.Years),\n",
    "                   index = InterestRateIndex.USDLIBOR3M)\n",
    "\n",
    "receiver_eur_6Y = IRS(notional=180000000,\n",
    "                      swapDirection=SwapDirection.RECEIVER,\n",
    "                      timeToSwapStart=ql.Period(2,ql.Days),\n",
    "                      timeToSwapEnd=ql.Period(6,ql.Years),\n",
    "                      index=InterestRateIndex.EURIBOR6M)\n",
    "\n",
    "ul_swap = IRS(notional=500000000,\n",
    "              swapDirection=SwapDirection.RECEIVER,\n",
    "              timeToSwapStart=ql.Period(1, ql.Years),\n",
    "              timeToSwapEnd=ql.Period(6, ql.Years),\n",
    "              index = InterestRateIndex.USDLIBOR3M)\n",
    "rec_swaption_1_6 = Swaption(underlyingSwap=ul_swap,\n",
    "                            optionMaturity=ql.Period(1, ql.Years))"
   ]
  },
  {
   "cell_type": "code",
   "execution_count": 3,
   "metadata": {
    "pycharm": {
     "name": "#%%\n"
    }
   },
   "outputs": [],
   "source": [
    "trades = [eq_opt_ads_call,\n",
    "          eq_opt_ads_put,\n",
    "          eq_opt_dbk_call,\n",
    "          payer_usd_6Y,\n",
    "          receiver_eur_6Y,\n",
    "          rec_swaption_1_6]\n",
    "\n",
    "joint_ca_vm_only = CollateralAgreement(margining=Margining.MARGINED,\n",
    "                                       initialMargining=InitialMargining.NO_IM)\n",
    "joint_ca_vm_only.link_sa_ccr_instance(SA_CCR(joint_ca_vm_only))\n",
    "joint_ca_vm_only.add_trades(trades)\n",
    "\n",
    "joint_ca_vm_and_im = CollateralAgreement(margining=Margining.MARGINED,\n",
    "                                         initialMargining=InitialMargining.SIMM)\n",
    "joint_ca_vm_and_im.link_sa_ccr_instance(SA_CCR(joint_ca_vm_and_im))\n",
    "joint_ca_vm_and_im.add_trades(trades)"
   ]
  },
  {
   "cell_type": "markdown",
   "metadata": {
    "pycharm": {
     "name": "#%% md\n"
    }
   },
   "source": [
    "And perform an Euler allocation using a central difference approach."
   ]
  },
  {
   "cell_type": "code",
   "execution_count": 4,
   "metadata": {
    "pycharm": {
     "name": "#%%\n"
    }
   },
   "outputs": [],
   "source": [
    "eulerAllocator_vm = EulerAllocator(joint_ca_vm_only)\n",
    "eulerAllocator_vm.fdApproach2 = FdApproach2.Central\n",
    "eulerAllocator_vm_and_im = EulerAllocator(joint_ca_vm_and_im)\n",
    "eulerAllocator_vm_and_im.fdApproach2 = FdApproach2.Central\n",
    "\n",
    "alloc_ead_under_vm = eulerAllocator_vm.allocate_ead()\n",
    "alloc_ead_under_vm_and_im = eulerAllocator_vm_and_im.allocate_ead()\n",
    "alloc_im = eulerAllocator_vm_and_im.allocate_im()"
   ]
  },
  {
   "cell_type": "markdown",
   "metadata": {
    "pycharm": {
     "name": "#%% md\n"
    }
   },
   "source": [
    "We then display the results on a trade level:"
   ]
  },
  {
   "cell_type": "code",
   "execution_count": 5,
   "metadata": {
    "pycharm": {
     "name": "#%%\n"
    },
    "tags": [
     "hide_cell"
    ]
   },
   "outputs": [],
   "source": [
    "def trrep(t):\n",
    "    import ast\n",
    "    if t.assetClass == AssetClass.IR:\n",
    "        dic = ast.literal_eval(str(t))\n",
    "        if dic['Instrument'] in ['IRS','OIS']:\n",
    "            return '{:.0f}Mn '.format(dic['Notional']/1000000)+t.index.name+' '+t.swapDirection.name+' '+dic['Instrument']+' '+str(t.ql_timeToSwapEnd)\n",
    "        else:\n",
    "            return '{:.0f}Mn '.format(t.underlying_swap.notional/1000000)+t.underlying_swap.index.name+' '+t.underlying_swap.swapDirection.name+' '+dic['Instrument']+' '+str(t.underlying_swap.ql_timeToSwapStart) + ' to ' + str(t.underlying_swap.ql_timeToSwapEnd)\n",
    "    else:\n",
    "        dic = ast.literal_eval(str(t))\n",
    "        return '{:.0f}Mn '.format(dic['Notional']/1000000)+t.underlying.name+' '+dic['TradeType']+' ' +str(t.ql_maturity)"
   ]
  },
  {
   "cell_type": "code",
   "execution_count": 6,
   "metadata": {
    "pycharm": {
     "name": "#%%\n"
    },
    "tags": [
     "hide_input"
    ]
   },
   "outputs": [
    {
     "data": {
      "text/plain": "                                             Allocated EAD VM only  \\\n2Mn ADS Call 1Y                                      4,567,360 USD   \n3Mn ADS Put 1Y                                      -2,602,617 USD   \n10Mn DBK Call 1Y                                     8,265,308 USD   \n180Mn EURIBOR6M RECEIVER IRS 6Y                      1,957,315 USD   \n1000Mn USDLIBOR3M PAYER IRS 6Y                      10,873,970 USD   \n500Mn USDLIBOR3M RECEIVER Swaption 1Y to 6Y         -1,773,170 USD   \nOverall Portfolio                                   21,288,165 USD   \n\n                                              Allocated IM  \\\n2Mn ADS Call 1Y                              4,197,013 USD   \n3Mn ADS Put 1Y                               5,969,992 USD   \n10Mn DBK Call 1Y                            17,384,508 USD   \n180Mn EURIBOR6M RECEIVER IRS 6Y                172,265 USD   \n1000Mn USDLIBOR3M PAYER IRS 6Y              27,859,887 USD   \n500Mn USDLIBOR3M RECEIVER Swaption 1Y to 6Y  6,763,936 USD   \nOverall Portfolio                           62,347,602 USD   \n\n                                             Allocated EAD VM + IM  \n2Mn ADS Call 1Y                                      1,472,268 USD  \n3Mn ADS Put 1Y                                      -1,515,288 USD  \n10Mn DBK Call 1Y                                     1,872,447 USD  \n180Mn EURIBOR6M RECEIVER IRS 6Y                        762,482 USD  \n1000Mn USDLIBOR3M PAYER IRS 6Y                       2,059,910 USD  \n500Mn USDLIBOR3M RECEIVER Swaption 1Y to 6Y         -1,250,488 USD  \nOverall Portfolio                                    3,401,332 USD  ",
      "text/html": "<div>\n<style scoped>\n    .dataframe tbody tr th:only-of-type {\n        vertical-align: middle;\n    }\n\n    .dataframe tbody tr th {\n        vertical-align: top;\n    }\n\n    .dataframe thead th {\n        text-align: right;\n    }\n</style>\n<table border=\"1\" class=\"dataframe\">\n  <thead>\n    <tr style=\"text-align: right;\">\n      <th></th>\n      <th>Allocated EAD VM only</th>\n      <th>Allocated IM</th>\n      <th>Allocated EAD VM + IM</th>\n    </tr>\n  </thead>\n  <tbody>\n    <tr>\n      <th>2Mn ADS Call 1Y</th>\n      <td>4,567,360 USD</td>\n      <td>4,197,013 USD</td>\n      <td>1,472,268 USD</td>\n    </tr>\n    <tr>\n      <th>3Mn ADS Put 1Y</th>\n      <td>-2,602,617 USD</td>\n      <td>5,969,992 USD</td>\n      <td>-1,515,288 USD</td>\n    </tr>\n    <tr>\n      <th>10Mn DBK Call 1Y</th>\n      <td>8,265,308 USD</td>\n      <td>17,384,508 USD</td>\n      <td>1,872,447 USD</td>\n    </tr>\n    <tr>\n      <th>180Mn EURIBOR6M RECEIVER IRS 6Y</th>\n      <td>1,957,315 USD</td>\n      <td>172,265 USD</td>\n      <td>762,482 USD</td>\n    </tr>\n    <tr>\n      <th>1000Mn USDLIBOR3M PAYER IRS 6Y</th>\n      <td>10,873,970 USD</td>\n      <td>27,859,887 USD</td>\n      <td>2,059,910 USD</td>\n    </tr>\n    <tr>\n      <th>500Mn USDLIBOR3M RECEIVER Swaption 1Y to 6Y</th>\n      <td>-1,773,170 USD</td>\n      <td>6,763,936 USD</td>\n      <td>-1,250,488 USD</td>\n    </tr>\n    <tr>\n      <th>Overall Portfolio</th>\n      <td>21,288,165 USD</td>\n      <td>62,347,602 USD</td>\n      <td>3,401,332 USD</td>\n    </tr>\n  </tbody>\n</table>\n</div>"
     },
     "execution_count": 6,
     "metadata": {},
     "output_type": "execute_result"
    }
   ],
   "source": [
    "pd.options.display.float_format = '{:,.0f} USD'.format\n",
    "data = {'Title':[trrep(eq_opt_ads_call),\n",
    "                 trrep(eq_opt_ads_put),\n",
    "                 trrep(eq_opt_dbk_call),\n",
    "                 trrep(receiver_eur_6Y),\n",
    "                 trrep(payer_usd_6Y),\n",
    "                 trrep(rec_swaption_1_6),\n",
    "                 'Overall Portfolio'],\n",
    "        'Allocated EAD VM only':[alloc_ead_under_vm[eq_opt_ads_call],\n",
    "                                 alloc_ead_under_vm[eq_opt_ads_put],\n",
    "                                 alloc_ead_under_vm[eq_opt_dbk_call],\n",
    "                                 alloc_ead_under_vm[receiver_eur_6Y],\n",
    "                                 alloc_ead_under_vm[payer_usd_6Y],\n",
    "                                 alloc_ead_under_vm[rec_swaption_1_6],\n",
    "                                 sum(alloc_ead_under_vm.values())],\n",
    "        'Allocated IM':[alloc_im[eq_opt_ads_call],\n",
    "                        alloc_im[eq_opt_ads_put],\n",
    "                        alloc_im[eq_opt_dbk_call],\n",
    "                        alloc_im[receiver_eur_6Y],\n",
    "                        alloc_im[payer_usd_6Y],\n",
    "                        alloc_im[rec_swaption_1_6],\n",
    "                        sum(alloc_im.values())],\n",
    "        'Allocated EAD VM + IM':[alloc_ead_under_vm_and_im[eq_opt_ads_call],\n",
    "                                 alloc_ead_under_vm_and_im[eq_opt_ads_put],\n",
    "                                 alloc_ead_under_vm_and_im[eq_opt_dbk_call],\n",
    "                                 alloc_ead_under_vm_and_im[receiver_eur_6Y],\n",
    "                                 alloc_ead_under_vm_and_im[payer_usd_6Y],\n",
    "                                 alloc_ead_under_vm_and_im[rec_swaption_1_6],\n",
    "                                 sum(alloc_ead_under_vm_and_im.values())]}\n",
    "df = pd.DataFrame.from_dict(data)\n",
    "df = df.set_index('Title')\n",
    "df.index.name = None\n",
    "df"
   ]
  },
  {
   "cell_type": "markdown",
   "metadata": {
    "pycharm": {
     "name": "#%% md\n"
    }
   },
   "source": [
    "We can aggregate the results across the asset classes."
   ]
  },
  {
   "cell_type": "code",
   "execution_count": 7,
   "metadata": {
    "pycharm": {
     "name": "#%%\n"
    },
    "tags": [
     "hide_cell"
    ]
   },
   "outputs": [
    {
     "data": {
      "text/plain": "10230051.00119859"
     },
     "execution_count": 7,
     "metadata": {},
     "output_type": "execute_result"
    }
   ],
   "source": [
    "sum([alloc_ead_under_vm[t] for t in alloc_ead_under_vm.keys() if t.assetClass == AssetClass.EQ])"
   ]
  },
  {
   "cell_type": "code",
   "execution_count": 8,
   "metadata": {
    "pycharm": {
     "name": "#%%\n"
    },
    "tags": [
     "hide_input"
    ]
   },
   "outputs": [
    {
     "data": {
      "text/plain": "                     Allocated EAD VM only   Allocated IM  \\\nEquity Subportfolio         10,230,051 USD 27,551,513 USD   \nRates Subportfolio          11,058,114 USD 34,796,088 USD   \n\n                     Allocated EAD VM + IM  \nEquity Subportfolio          1,829,428 USD  \nRates Subportfolio           1,571,904 USD  ",
      "text/html": "<div>\n<style scoped>\n    .dataframe tbody tr th:only-of-type {\n        vertical-align: middle;\n    }\n\n    .dataframe tbody tr th {\n        vertical-align: top;\n    }\n\n    .dataframe thead th {\n        text-align: right;\n    }\n</style>\n<table border=\"1\" class=\"dataframe\">\n  <thead>\n    <tr style=\"text-align: right;\">\n      <th></th>\n      <th>Allocated EAD VM only</th>\n      <th>Allocated IM</th>\n      <th>Allocated EAD VM + IM</th>\n    </tr>\n  </thead>\n  <tbody>\n    <tr>\n      <th>Equity Subportfolio</th>\n      <td>10,230,051 USD</td>\n      <td>27,551,513 USD</td>\n      <td>1,829,428 USD</td>\n    </tr>\n    <tr>\n      <th>Rates Subportfolio</th>\n      <td>11,058,114 USD</td>\n      <td>34,796,088 USD</td>\n      <td>1,571,904 USD</td>\n    </tr>\n  </tbody>\n</table>\n</div>"
     },
     "execution_count": 8,
     "metadata": {},
     "output_type": "execute_result"
    }
   ],
   "source": [
    "pd.options.display.float_format = '{:,.0f} USD'.format\n",
    "data = {'Title':['Equity Subportfolio',\n",
    "                 'Rates Subportfolio'],\n",
    "        'Allocated EAD VM only':[sum([alloc_ead_under_vm[t] for t in alloc_ead_under_vm.keys() if t.assetClass == AssetClass.EQ]),\n",
    "                                 sum([alloc_ead_under_vm[t] for t in alloc_ead_under_vm.keys() if t.assetClass == AssetClass.IR])],\n",
    "        'Allocated IM':[sum([alloc_im[t] for t in alloc_im.keys() if t.assetClass == AssetClass.EQ]),\n",
    "                        sum([alloc_im[t] for t in alloc_im.keys() if t.assetClass == AssetClass.IR])],\n",
    "        'Allocated EAD VM + IM':[sum([alloc_ead_under_vm_and_im[t] for t in alloc_ead_under_vm_and_im.keys() if t.assetClass == AssetClass.EQ]),\n",
    "                        sum([alloc_ead_under_vm_and_im[t] for t in alloc_ead_under_vm_and_im.keys() if t.assetClass == AssetClass.IR])]\n",
    "        }\n",
    "df = pd.DataFrame.from_dict(data)\n",
    "df = df.set_index('Title')\n",
    "df.index.name = None\n",
    "df"
   ]
  },
  {
   "cell_type": "markdown",
   "metadata": {
    "pycharm": {
     "name": "#%% md\n"
    }
   },
   "source": [
    "This result is discussed further in section \\todo{Reference required}."
   ]
  },
  {
   "cell_type": "markdown",
   "metadata": {
    "pycharm": {
     "name": "#%% md\n"
    },
    "tags": [
     "hide_cell"
    ]
   },
   "source": [
    "We can aggregate across the asset classes to confirm that no hedges between the asset classes take place as the results are the same as in sections \\ref{sa-ccr-euler-allocation-of-exemplary-equity-portfolio} and \\ref{euler-allocation-of-an-exemplary-rates-portfolio}."
   ]
  },
  {
   "cell_type": "code",
   "execution_count": 9,
   "metadata": {
    "pycharm": {
     "name": "#%%\n"
    },
    "tags": [
     "hide_cell"
    ]
   },
   "outputs": [],
   "source": [
    "export(\"SA-CCR Euler allocation of an examplary multi asset class portfolio.ipynb\")"
   ]
  }
 ],
 "metadata": {
  "celltoolbar": "Tags",
  "kernelspec": {
   "display_name": "Python 3",
   "language": "python",
   "name": "python3"
  },
  "language_info": {
   "codemirror_mode": {
    "name": "ipython",
    "version": 3
   },
   "file_extension": ".py",
   "mimetype": "text/x-python",
   "name": "python",
   "nbconvert_exporter": "python",
   "pygments_lexer": "ipython3",
   "version": "3.8.2"
  }
 },
 "nbformat": 4,
 "nbformat_minor": 1
}