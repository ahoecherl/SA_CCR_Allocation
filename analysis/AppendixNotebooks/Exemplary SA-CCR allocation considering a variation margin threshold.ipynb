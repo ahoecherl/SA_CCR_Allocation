{
 "cells": [
  {
   "cell_type": "markdown",
   "metadata": {
    "collapsed": true,
    "pycharm": {
     "name": "#%% md\n"
    }
   },
   "source": [
    "# EAD impact of a variation margin threshold\n",
    "\n",
    "We set up a single trade portfolio in a vm margined collateral agreement with a VM threshold:"
   ]
  },
  {
   "cell_type": "code",
   "execution_count": 1,
   "metadata": {
    "pycharm": {
     "name": "#%% import cell\n"
    },
    "tags": [
     "hide_cell"
    ]
   },
   "outputs": [],
   "source": [
    "import QuantLib as ql\n",
    "from collateralAgreement.collateralAgreement import CollateralAgreement, Margining, InitialMargining\n",
    "from jupyterUtils import export\n",
    "from marketdata import init_marketdata\n",
    "from instruments.interestRateInstrument.irs import IRS\n",
    "from marketdata.interestRateIndices import InterestRateIndex\n",
    "from sa_ccr.sa_ccr import SA_CCR\n",
    "asdf = 1"
   ]
  },
  {
   "cell_type": "code",
   "execution_count": 2,
   "metadata": {
    "pycharm": {
     "name": "#%%\n"
    }
   },
   "outputs": [
    {
     "data": {
      "text/plain": "1643257.9608547091"
     },
     "execution_count": 2,
     "metadata": {},
     "output_type": "execute_result"
    }
   ],
   "source": [
    "irs = IRS(notional=2000000000,\n",
    "          index=InterestRateIndex.USDLIBOR3M,\n",
    "          timeToSwapStart=ql.Period(2, ql.Days),\n",
    "          timeToSwapEnd=ql.Period(10, ql.Years),\n",
    "          fixed_rate=0.024)\n",
    "\n",
    "irs.get_price()"
   ]
  },
  {
   "cell_type": "code",
   "execution_count": 3,
   "metadata": {
    "pycharm": {
     "name": "#%%\n"
    }
   },
   "outputs": [],
   "source": [
    "ca_10mn = CollateralAgreement(margining=Margining.MARGINED,\n",
    "                              initialMargining=InitialMargining.NO_IM,\n",
    "                              threshold_vm=10000000)\n",
    "ca_10mn.link_sa_ccr_instance(SA_CCR(ca_10mn))\n",
    "ca_10mn.add_trades(irs)\n",
    "\n",
    "ca_1mn = CollateralAgreement(margining=Margining.MARGINED,\n",
    "                             initialMargining=InitialMargining.NO_IM,\n",
    "                             threshold_vm=1000000)\n",
    "ca_1mn.link_sa_ccr_instance(SA_CCR(ca_1mn))\n",
    "ca_1mn.add_trades(irs)\n",
    "\n",
    "ca_0 = CollateralAgreement(margining=Margining.MARGINED,\n",
    "                           initialMargining=InitialMargining.NO_IM,\n",
    "                           threshold_vm=0)\n",
    "ca_0.link_sa_ccr_instance(SA_CCR(ca_0))\n",
    "ca_0.add_trades(irs)\n"
   ]
  },
  {
   "cell_type": "markdown",
   "metadata": {
    "pycharm": {
     "name": "#%% md\n"
    }
   },
   "source": [
    "When calculating the EAD, PFE and RC of the three portfolios we can see that a VM threshold only impacts the RC and that inclusion of a variation margin threshold simply increases the EAD by $1.4*\\text{VM threshold}$."
   ]
  },
  {
   "cell_type": "code",
   "execution_count": 4,
   "metadata": {
    "pycharm": {
     "name": "#%%\n"
    }
   },
   "outputs": [
    {
     "name": "stdout",
     "output_type": "stream",
     "text": [
      "47028094.49124615\n",
      "34428094.49124615\n",
      "33028094.491246153\n"
     ]
    }
   ],
   "source": [
    "print(ca_10mn.get_sa_ccr_model().get_ead())\n",
    "print(ca_1mn.get_sa_ccr_model().get_ead())\n",
    "print(ca_0.get_sa_ccr_model().get_ead())"
   ]
  },
  {
   "cell_type": "code",
   "execution_count": 5,
   "metadata": {
    "pycharm": {
     "name": "#%%\n"
    }
   },
   "outputs": [
    {
     "name": "stdout",
     "output_type": "stream",
     "text": [
      "10000000.0\n",
      "1000000.0\n",
      "0.0\n"
     ]
    }
   ],
   "source": [
    "print(ca_10mn.get_sa_ccr_model().get_rc())\n",
    "print(ca_1mn.get_sa_ccr_model().get_rc())\n",
    "print(ca_0.get_sa_ccr_model().get_rc())"
   ]
  },
  {
   "cell_type": "code",
   "execution_count": 6,
   "metadata": {
    "pycharm": {
     "name": "#%%\n"
    }
   },
   "outputs": [
    {
     "name": "stdout",
     "output_type": "stream",
     "text": [
      "23591496.065175824\n",
      "23591496.065175824\n",
      "23591496.065175824\n"
     ]
    }
   ],
   "source": [
    "print(ca_10mn.get_sa_ccr_model().get_pfe())\n",
    "print(ca_1mn.get_sa_ccr_model().get_pfe())\n",
    "print(ca_0.get_sa_ccr_model().get_pfe())"
   ]
  },
  {
   "cell_type": "markdown",
   "metadata": {
    "pycharm": {
     "name": "#%% md\n"
    }
   },
   "source": [
    "This impact of the EAD even persists if the portfolio is empty."
   ]
  },
  {
   "cell_type": "code",
   "execution_count": 7,
   "metadata": {
    "pycharm": {
     "name": "#%%\n"
    }
   },
   "outputs": [
    {
     "data": {
      "text/plain": "14000000.0"
     },
     "execution_count": 7,
     "metadata": {},
     "output_type": "execute_result"
    }
   ],
   "source": [
    "ca_10mn.remove_all_trades()\n",
    "ca_10mn.get_sa_ccr_model().get_ead()"
   ]
  },
  {
   "cell_type": "code",
   "execution_count": 9,
   "metadata": {
    "pycharm": {
     "name": "#%%\n"
    },
    "tags": [
     "hide_cell"
    ]
   },
   "outputs": [],
   "source": [
    "export('Exemplary SA-CCR allocation considering a variation margin threshold.ipynb')"
   ]
  }
 ],
 "metadata": {
  "celltoolbar": "Tags",
  "kernelspec": {
   "display_name": "Python 3",
   "language": "python",
   "name": "python3"
  },
  "language_info": {
   "codemirror_mode": {
    "name": "ipython",
    "version": 3
   },
   "file_extension": ".py",
   "mimetype": "text/x-python",
   "name": "python",
   "nbconvert_exporter": "python",
   "pygments_lexer": "ipython3",
   "version": "3.8.2"
  }
 },
 "nbformat": 4,
 "nbformat_minor": 1
}