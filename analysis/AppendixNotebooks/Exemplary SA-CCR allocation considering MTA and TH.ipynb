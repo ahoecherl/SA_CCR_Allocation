{
 "cells": [
  {
   "cell_type": "markdown",
   "metadata": {
    "collapsed": true,
    "pycharm": {
     "name": "#%% md\n"
    }
   },
   "source": [
    "## Exemplary SA-CCR allocation considering TH and MTA\n",
    "\n",
    "Our goal is to perform an Euler allocation for the minimal example of a one trade portfolio.\n",
    "We use the same 200Bn IRS as in previous examples."
   ]
  },
  {
   "cell_type": "code",
   "execution_count": 1,
   "metadata": {
    "pycharm": {
     "name": "#%% import cell\n"
    },
    "tags": [
     "hide_cell"
    ]
   },
   "outputs": [],
   "source": [
    "import QuantLib as ql\n",
    "from IPython.core.display import display, Markdown\n",
    "from allocation.eulerAllocator import EulerAllocator\n",
    "from collateralAgreement.collateralAgreement import CollateralAgreement\n",
    "from instruments.interestRateInstrument.irs import IRS\n",
    "from jupyterUtils import export\n",
    "from marketdata.interestRateIndices import InterestRateIndex\n",
    "from marketdata import init_marketdata\n",
    "from sa_ccr.sa_ccr import SA_CCR\n",
    "asdf =1"
   ]
  },
  {
   "cell_type": "code",
   "execution_count": 2,
   "metadata": {
    "pycharm": {
     "name": "#%%\n"
    }
   },
   "outputs": [],
   "source": [
    "irs = IRS(notional=200000000000,\n",
    "          index=InterestRateIndex.USDLIBOR3M,\n",
    "          timeToSwapStart=ql.Period(2, ql.Days),\n",
    "          timeToSwapEnd=ql.Period(10, ql.Years))"
   ]
  },
  {
   "cell_type": "code",
   "execution_count": 3,
   "metadata": {
    "pycharm": {
     "name": "#%%\n"
    }
   },
   "outputs": [],
   "source": [
    "ca = CollateralAgreement(threshold=2000000000,\n",
    "                         mta=0)\n",
    "ca.link_sa_ccr_instance(SA_CCR(ca))\n",
    "ca.add_trades(irs)"
   ]
  },
  {
   "cell_type": "markdown",
   "metadata": {
    "pycharm": {
     "name": "#%% md\n"
    }
   },
   "source": [
    "The inclusion of the threshold raises the ead since it lowers the available overcollataralization."
   ]
  },
  {
   "cell_type": "code",
   "execution_count": 4,
   "metadata": {
    "pycharm": {
     "name": "#%%\n"
    }
   },
   "outputs": [
    {
     "name": "stdout",
     "output_type": "stream",
     "text": [
      "817798882.3982577\n",
      "582881953.4648591\n"
     ]
    }
   ],
   "source": [
    "ead_with_threshold = ca.get_sa_ccr_model().get_risk_measure()\n",
    "print(ead_with_threshold)\n",
    "ca.threshold = 0\n",
    "ead_no_threshold = ca.get_sa_ccr_model().get_risk_measure()\n",
    "print(ead_no_threshold)\n",
    "ca.threshold = 2000000000"
   ]
  },
  {
   "cell_type": "code",
   "execution_count": 5,
   "metadata": {
    "pycharm": {
     "name": "#%%\n"
    },
    "tags": [
     "hide_input"
    ]
   },
   "outputs": [
    {
     "data": {
      "text/plain": "<IPython.core.display.Markdown object>",
      "text/markdown": "The EAD with threshold is 817798882.40 while the EAD without threshold is 582881953.46"
     },
     "metadata": {},
     "output_type": "display_data"
    }
   ],
   "source": [
    "display(Markdown('The EAD with threshold is %.2f while the EAD without threshold is %.2f' %(ead_with_threshold, ead_no_threshold)))"
   ]
  },
  {
   "cell_type": "markdown",
   "metadata": {
    "pycharm": {
     "name": "#%% md\n"
    }
   },
   "source": [
    "When trying to allocate with threshold we realize that the allocation is not working due to the missing homogeneity of C."
   ]
  },
  {
   "cell_type": "code",
   "execution_count": 6,
   "metadata": {
    "pycharm": {
     "name": "#%%\n"
    }
   },
   "outputs": [
    {
     "name": "stdout",
     "output_type": "stream",
     "text": [
      "526604164.2713547\n"
     ]
    }
   ],
   "source": [
    "eulerAllocator = EulerAllocator(ca)\n",
    "allocated_value = eulerAllocator.allocate_ead()[irs]\n",
    "print(allocated_value)"
   ]
  },
  {
   "cell_type": "code",
   "execution_count": 7,
   "metadata": {
    "pycharm": {
     "name": "#%%\n"
    },
    "tags": [
     "hide_input"
    ]
   },
   "outputs": [
    {
     "data": {
      "text/plain": "<IPython.core.display.Markdown object>",
      "text/markdown": "The value of 526604164.27 that has been allocated to the single trade in the portfolio is far off from the portfolios EAD of 817798882.40"
     },
     "metadata": {},
     "output_type": "display_data"
    }
   ],
   "source": [
    "display(Markdown('The value of %.2f that has been allocated to the single trade in the portfolio is far off from the portfolios EAD of %.2f' % (allocated_value, ead_with_threshold)))"
   ]
  },
  {
   "cell_type": "markdown",
   "metadata": {
    "pycharm": {
     "name": "#%% md\n"
    }
   },
   "source": [
    "If we instead allocate without threshold, the allocation works."
   ]
  },
  {
   "cell_type": "code",
   "execution_count": 8,
   "metadata": {
    "pycharm": {
     "name": "#%%\n"
    }
   },
   "outputs": [
    {
     "name": "stdout",
     "output_type": "stream",
     "text": [
      "582887839.6499157\n"
     ]
    }
   ],
   "source": [
    "ca.threshold = 0\n",
    "allocated_value=eulerAllocator.allocate_ead()[irs]\n",
    "print(allocated_value)"
   ]
  },
  {
   "cell_type": "code",
   "execution_count": 9,
   "metadata": {
    "pycharm": {
     "name": "#%%\n"
    },
    "tags": [
     "hide_input"
    ]
   },
   "outputs": [
    {
     "data": {
      "text/plain": "<IPython.core.display.Markdown object>",
      "text/markdown": "The value of 582887839.65 that has been allocated to the single trade in the portfolio equals the portfolios EAD without threshold of 582881953.46"
     },
     "metadata": {},
     "output_type": "display_data"
    }
   ],
   "source": [
    "display(Markdown('The value of %.2f that has been allocated to the single trade in the portfolio equals the portfolios EAD without threshold of %.2f' % (allocated_value, ead_no_threshold)))"
   ]
  },
  {
   "cell_type": "markdown",
   "metadata": {
    "pycharm": {
     "name": "#%% md\n"
    }
   },
   "source": [
    "A reasonable approach to allocate an SA-CCR EAD under consideration of a threshold could be to allocate without threshold and then scale accordingly:\n",
    "\n",
    "\\begin{align*}\n",
    "    X_{t\\text{, TH}} = X_{t\\text{, no TH}} \\frac{EAD_{\\text{TH}}}{EAD_{\\text{no TH}}}\n",
    "\\end{align*}"
   ]
  },
  {
   "cell_type": "code",
   "execution_count": 10,
   "metadata": {
    "pycharm": {
     "name": "#%%\n"
    }
   },
   "outputs": [
    {
     "name": "stdout",
     "output_type": "stream",
     "text": [
      "817807140.8724346\n"
     ]
    }
   ],
   "source": [
    "print(allocated_value * (ead_with_threshold/ead_no_threshold))"
   ]
  },
  {
   "cell_type": "code",
   "execution_count": 13,
   "metadata": {
    "pycharm": {
     "name": "#%%\n"
    },
    "tags": [
     "hide_cell"
    ]
   },
   "outputs": [],
   "source": [
    "export('Exemplary SA-CCR allocation considering MTA and TH.ipynb')"
   ]
  }
 ],
 "metadata": {
  "celltoolbar": "Tags",
  "kernelspec": {
   "display_name": "Python 3",
   "language": "python",
   "name": "python3"
  },
  "language_info": {
   "codemirror_mode": {
    "name": "ipython",
    "version": 3
   },
   "file_extension": ".py",
   "mimetype": "text/x-python",
   "name": "python",
   "nbconvert_exporter": "python",
   "pygments_lexer": "ipython3",
   "version": "3.8.2"
  }
 },
 "nbformat": 4,
 "nbformat_minor": 1
}