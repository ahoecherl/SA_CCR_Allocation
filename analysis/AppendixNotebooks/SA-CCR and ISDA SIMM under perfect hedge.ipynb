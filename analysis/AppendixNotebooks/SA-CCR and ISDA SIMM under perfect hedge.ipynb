{
 "cells": [
  {
   "cell_type": "markdown",
   "metadata": {
    "collapsed": true,
    "pycharm": {
     "name": "#%% md\n"
    }
   },
   "source": [
    "## SA-CCR and ISDA SIMM Euler allocation under a perfect hedge\n",
    "\n",
    "The goal is to create a portfolio with a perfect hedge and see if and under which circumstances EAD allocation is still possible.\n",
    "We load two perfectly offsetting IRS (one payer, one receiver). To avoid the unrealistic case of a zero IM and EAD portfolio we add an unrelated equity option into the portfolio."
   ]
  },
  {
   "cell_type": "code",
   "execution_count": 1,
   "metadata": {
    "pycharm": {
     "name": "#%%\n"
    },
    "tags": [
     "hide_cell"
    ]
   },
   "outputs": [],
   "source": [
    "import QuantLib as ql\n",
    "from IPython.core.display import display, Markdown\n",
    "from allocation.Enums import FdApproach2\n",
    "from allocation.eulerAllocator import EulerAllocator\n",
    "from collateralAgreement.collateralAgreement import CollateralAgreement\n",
    "from instruments.equity_instruments.equityOption import EquityOption\n",
    "from instruments.interestRateInstrument.irs import IRS\n",
    "from jupyterUtils import export\n",
    "from marketdata import init_marketdata\n",
    "from marketdata.interestRateIndices import InterestRateIndex\n",
    "from sa_ccr.sa_ccr import SA_CCR\n",
    "from utilities.Enums import SwapDirection, Stock, TradeType, TradeDirection\n",
    "asdf =1"
   ]
  },
  {
   "cell_type": "code",
   "execution_count": 2,
   "metadata": {
    "pycharm": {
     "name": "#%%\n"
    }
   },
   "outputs": [],
   "source": [
    "IRS_pay = IRS(notional=100000000,\n",
    "              timeToSwapStart=ql.Period(2, ql.Days),\n",
    "              timeToSwapEnd=ql.Period(10, ql.Years),\n",
    "              swapDirection=SwapDirection.PAYER,\n",
    "              index=InterestRateIndex.USDLIBOR3M)\n",
    "\n",
    "IRS_rec = IRS(notional=100000000,\n",
    "              timeToSwapStart=ql.Period(2, ql.Days),\n",
    "              timeToSwapEnd=ql.Period(10, ql.Years),\n",
    "              swapDirection=SwapDirection.RECEIVER,\n",
    "              index=InterestRateIndex.USDLIBOR3M)\n",
    "\n",
    "eqOpt = EquityOption(notional = 1000000,\n",
    "                     underlying=Stock.ADS,\n",
    "                     tradeType = TradeType.CALL,\n",
    "                     tradeDirection = TradeDirection.LONG,\n",
    "                     maturity = ql.Period(1, ql.Years))\n",
    "\n",
    "ca = CollateralAgreement()\n",
    "ca.link_sa_ccr_instance(SA_CCR(ca))"
   ]
  },
  {
   "cell_type": "code",
   "execution_count": 3,
   "metadata": {
    "pycharm": {
     "name": "#%%\n"
    }
   },
   "outputs": [
    {
     "name": "stdout",
     "output_type": "stream",
     "text": [
      "1319277.1719911932\n",
      "6952717.387110085\n"
     ]
    }
   ],
   "source": [
    "ca.add_trades([IRS_pay, IRS_rec, eqOpt])\n",
    "print(ca.get_sa_ccr_model().get_risk_measure())\n",
    "print(ca.get_im_model().get_risk_measure())"
   ]
  },
  {
   "cell_type": "markdown",
   "metadata": {
    "pycharm": {
     "name": "#%% md\n"
    }
   },
   "source": [
    "We now create an Euler allocator which can be used to perform a numerical Euler allocation of the ISDA-SIMM IM or the SA-CCR EAD risk measure.\n",
    "The allocator can be set to use forward, backward or central differentiation.\n",
    "We will see that the differentiation approach makes a big difference for this perfectly hedged portfolio.h"
   ]
  },
  {
   "cell_type": "code",
   "execution_count": 4,
   "metadata": {
    "pycharm": {
     "name": "#%%\n"
    }
   },
   "outputs": [],
   "source": [
    "\n",
    "eulerAllocator = EulerAllocator(ca)\n",
    "im_alloc_forward = eulerAllocator.allocate_im()\n",
    "saccr_alloc_forward = eulerAllocator.allocate_ead()\n",
    "\n",
    "eulerAllocator.fdApproach2=FdApproach2.Central\n",
    "im_alloc_central = eulerAllocator.allocate_im()\n",
    "saccr_alloc_central = eulerAllocator.allocate_ead()\n",
    "\n",
    "eulerAllocator.fdApproach2=FdApproach2.Backward\n",
    "im_alloc_backward = eulerAllocator.allocate_im()\n",
    "saccr_alloc_backward = eulerAllocator.allocate_ead()"
   ]
  },
  {
   "cell_type": "code",
   "execution_count": 5,
   "metadata": {
    "pycharm": {
     "name": "#%%\n"
    },
    "tags": [
     "hide_cell"
    ]
   },
   "outputs": [],
   "source": [
    "def display_table(forward, central, backward):\n",
    "    import pandas as pd\n",
    "    import ast\n",
    "    df = pd.DataFrame()\n",
    "    for key, value in forward.items():\n",
    "        name = ast.literal_eval(str(key))['Instrument'] + '_' + ast.literal_eval(str(key))['TradeDirection']\n",
    "        df = df.append({'Trade':name,\n",
    "                   'Forward':value,\n",
    "                   'Central':central[key],\n",
    "                   'Backward':backward[key]},ignore_index=True)\n",
    "    df.set_index('Trade', inplace=True)\n",
    "    df.index.name = None\n",
    "    df.loc['Sum'] = df.sum()\n",
    "    return df"
   ]
  },
  {
   "cell_type": "code",
   "execution_count": 6,
   "metadata": {
    "pycharm": {
     "name": "#%%\n"
    },
    "tags": [
     "hide_input"
    ]
   },
   "outputs": [
    {
     "data": {
      "text/markdown": [
       "Below the resulting allocation for the IM is displayed. The allocation only exhibits nativ additivity when using the central difference appraoch since then the allocated values sum up to the IM value of 6952717.39 USD."
      ],
      "text/plain": [
       "<IPython.core.display.Markdown object>"
      ]
     },
     "metadata": {},
     "output_type": "display_data"
    }
   ],
   "source": [
    "display(Markdown('Below the resulting allocation for the IM is displayed. The allocation only exhibits nativ additivity when using the central difference appraoch since then the allocated values sum up to the IM value of %.2f USD.' %ca.get_im_model().get_risk_measure()))"
   ]
  },
  {
   "cell_type": "code",
   "execution_count": 7,
   "metadata": {
    "pycharm": {
     "name": "#%%\n"
    }
   },
   "outputs": [
    {
     "data": {
      "text/html": [
       "<div>\n",
       "<style scoped>\n",
       "    .dataframe tbody tr th:only-of-type {\n",
       "        vertical-align: middle;\n",
       "    }\n",
       "\n",
       "    .dataframe tbody tr th {\n",
       "        vertical-align: top;\n",
       "    }\n",
       "\n",
       "    .dataframe thead th {\n",
       "        text-align: right;\n",
       "    }\n",
       "</style>\n",
       "<table border=\"1\" class=\"dataframe\">\n",
       "  <thead>\n",
       "    <tr style=\"text-align: right;\">\n",
       "      <th></th>\n",
       "      <th>Backward</th>\n",
       "      <th>Central</th>\n",
       "      <th>Forward</th>\n",
       "    </tr>\n",
       "  </thead>\n",
       "  <tbody>\n",
       "    <tr>\n",
       "      <th>IRS_Long</th>\n",
       "      <td>-4.518969e+06</td>\n",
       "      <td>-2.421718e-01</td>\n",
       "      <td>4.518969e+06</td>\n",
       "    </tr>\n",
       "    <tr>\n",
       "      <th>IRS_Short</th>\n",
       "      <td>-4.519001e+06</td>\n",
       "      <td>-6.323463e+01</td>\n",
       "      <td>4.518937e+06</td>\n",
       "    </tr>\n",
       "    <tr>\n",
       "      <th>EquityOption_Long</th>\n",
       "      <td>6.952717e+06</td>\n",
       "      <td>6.952717e+06</td>\n",
       "      <td>6.952717e+06</td>\n",
       "    </tr>\n",
       "    <tr>\n",
       "      <th>Sum</th>\n",
       "      <td>-2.085253e+06</td>\n",
       "      <td>6.952654e+06</td>\n",
       "      <td>1.599062e+07</td>\n",
       "    </tr>\n",
       "  </tbody>\n",
       "</table>\n",
       "</div>"
      ],
      "text/plain": [
       "                       Backward       Central       Forward\n",
       "IRS_Long          -4.518969e+06 -2.421718e-01  4.518969e+06\n",
       "IRS_Short         -4.519001e+06 -6.323463e+01  4.518937e+06\n",
       "EquityOption_Long  6.952717e+06  6.952717e+06  6.952717e+06\n",
       "Sum               -2.085253e+06  6.952654e+06  1.599062e+07"
      ]
     },
     "execution_count": 7,
     "metadata": {},
     "output_type": "execute_result"
    }
   ],
   "source": [
    "display_table(im_alloc_forward, im_alloc_central, im_alloc_backward)"
   ]
  },
  {
   "cell_type": "code",
   "execution_count": 8,
   "metadata": {
    "pycharm": {
     "name": "#%%\n"
    },
    "tags": [
     "hide_input"
    ]
   },
   "outputs": [
    {
     "data": {
      "text/markdown": [
       "Below the resulting allocation for the EAD is displayed. The allocation only exhibits nativ additivity when using the central difference appraoch since then the allocated values sum up to the IM value of 1319277.17 USD."
      ],
      "text/plain": [
       "<IPython.core.display.Markdown object>"
      ]
     },
     "metadata": {},
     "output_type": "display_data"
    }
   ],
   "source": [
    "display(Markdown('Below the resulting allocation for the EAD is displayed. The allocation only exhibits nativ additivity when using the central difference appraoch since then the allocated values sum up to the IM value of %.2f USD.' %ca.get_sa_ccr_model().get_risk_measure()))"
   ]
  },
  {
   "cell_type": "code",
   "execution_count": 9,
   "metadata": {
    "pycharm": {
     "name": "#%%\n"
    }
   },
   "outputs": [
    {
     "data": {
      "text/html": [
       "<div>\n",
       "<style scoped>\n",
       "    .dataframe tbody tr th:only-of-type {\n",
       "        vertical-align: middle;\n",
       "    }\n",
       "\n",
       "    .dataframe tbody tr th {\n",
       "        vertical-align: top;\n",
       "    }\n",
       "\n",
       "    .dataframe thead th {\n",
       "        text-align: right;\n",
       "    }\n",
       "</style>\n",
       "<table border=\"1\" class=\"dataframe\">\n",
       "  <thead>\n",
       "    <tr style=\"text-align: right;\">\n",
       "      <th></th>\n",
       "      <th>Backward</th>\n",
       "      <th>Central</th>\n",
       "      <th>Forward</th>\n",
       "    </tr>\n",
       "  </thead>\n",
       "  <tbody>\n",
       "    <tr>\n",
       "      <th>IRS_Long</th>\n",
       "      <td>-1.877916e+05</td>\n",
       "      <td>4.854053e-02</td>\n",
       "      <td>1.877916e+05</td>\n",
       "    </tr>\n",
       "    <tr>\n",
       "      <th>IRS_Short</th>\n",
       "      <td>-1.877853e+05</td>\n",
       "      <td>1.267496e+01</td>\n",
       "      <td>1.877979e+05</td>\n",
       "    </tr>\n",
       "    <tr>\n",
       "      <th>EquityOption_Long</th>\n",
       "      <td>1.319277e+06</td>\n",
       "      <td>1.319277e+06</td>\n",
       "      <td>1.319277e+06</td>\n",
       "    </tr>\n",
       "    <tr>\n",
       "      <th>Sum</th>\n",
       "      <td>9.437004e+05</td>\n",
       "      <td>1.319290e+06</td>\n",
       "      <td>1.694867e+06</td>\n",
       "    </tr>\n",
       "  </tbody>\n",
       "</table>\n",
       "</div>"
      ],
      "text/plain": [
       "                       Backward       Central       Forward\n",
       "IRS_Long          -1.877916e+05  4.854053e-02  1.877916e+05\n",
       "IRS_Short         -1.877853e+05  1.267496e+01  1.877979e+05\n",
       "EquityOption_Long  1.319277e+06  1.319277e+06  1.319277e+06\n",
       "Sum                9.437004e+05  1.319290e+06  1.694867e+06"
      ]
     },
     "execution_count": 9,
     "metadata": {},
     "output_type": "execute_result"
    }
   ],
   "source": [
    "display_table(saccr_alloc_forward, saccr_alloc_central, saccr_alloc_backward)"
   ]
  },
  {
   "cell_type": "code",
   "execution_count": 10,
   "metadata": {
    "pycharm": {
     "name": "#%%\n"
    },
    "tags": [
     "hide_cell"
    ]
   },
   "outputs": [],
   "source": [
    "EAD_IRSpay_forward = saccr_alloc_forward[IRS_pay]\n",
    "EAD_IRSrec_forward = saccr_alloc_forward[IRS_rec]\n",
    "EAD_EqOpt_forward = saccr_alloc_forward[eqOpt]\n",
    "EAD_forward_sum = EAD_EqOpt_forward+EAD_IRSpay_forward+EAD_IRSrec_forward\n",
    "Delta_EAD_forward = ca.get_sa_ccr_model().get_risk_measure() - EAD_forward_sum\n",
    "\n",
    "EAD_IRSpay_central = saccr_alloc_central[IRS_pay]\n",
    "EAD_IRSrec_central = saccr_alloc_central[IRS_rec]\n",
    "EAD_EqOpt_central = saccr_alloc_central[eqOpt]\n",
    "EAD_central_sum = EAD_EqOpt_central+EAD_IRSpay_central+EAD_IRSrec_central\n",
    "Delta_EAD_central = ca.get_sa_ccr_model().get_risk_measure() - EAD_central_sum\n",
    "\n",
    "EAD_IRSpay_backward = saccr_alloc_backward[IRS_pay]\n",
    "EAD_IRSrec_backward = saccr_alloc_backward[IRS_rec]\n",
    "EAD_EqOpt_backward = saccr_alloc_backward[eqOpt]\n",
    "EAD_backward_sum = EAD_EqOpt_backward+EAD_IRSpay_backward+EAD_IRSrec_backward\n",
    "Delta_EAD_backward = ca.get_sa_ccr_model().get_risk_measure() - EAD_backward_sum\n",
    "\n",
    "IM_IRSpay_forward = im_alloc_forward[IRS_pay]\n",
    "IM_IRSrec_forward = im_alloc_forward[IRS_rec]\n",
    "IM_EqOpt_forward = im_alloc_forward[eqOpt]\n",
    "IM_forward_sum = IM_EqOpt_forward+IM_IRSpay_forward+IM_IRSrec_forward\n",
    "Delta_IM_forward = ca.get_sa_ccr_model().get_risk_measure() - IM_forward_sum\n",
    "\n",
    "IM_IRSpay_central = im_alloc_central[IRS_pay]\n",
    "IM_IRSrec_central = im_alloc_central[IRS_rec]\n",
    "IM_EqOpt_central = im_alloc_central[eqOpt]\n",
    "IM_central_sum = IM_EqOpt_central+IM_IRSpay_central+IM_IRSrec_central\n",
    "Delta_IM_central = ca.get_sa_ccr_model().get_risk_measure() - IM_central_sum\n",
    "\n",
    "IM_IRSpay_backward = im_alloc_backward[IRS_pay]\n",
    "IM_IRSrec_backward = im_alloc_backward[IRS_rec]\n",
    "IM_EqOpt_backward = im_alloc_backward[eqOpt]\n",
    "IM_backward_sum = IM_EqOpt_backward+IM_IRSpay_backward+IM_IRSrec_backward\n",
    "Delta_IM_backward = ca.get_im_model().get_risk_measure() - IM_backward_sum\n",
    "\n",
    "pf_ead = ca.get_sa_ccr_model().get_risk_measure()\n",
    "pf_im = ca.get_im_model().get_risk_measure()"
   ]
  },
  {
   "cell_type": "markdown",
   "metadata": {
    "pycharm": {
     "name": "#%% md\n"
    }
   },
   "source": [
    "The same phenomenon does not appear for if a hedge is not perfect i.e. if the hedge size can be increased to further diminish the risk metric."
   ]
  },
  {
   "cell_type": "code",
   "execution_count": 11,
   "metadata": {
    "pycharm": {
     "name": "#%%\n"
    }
   },
   "outputs": [],
   "source": [
    "IRS_pay = IRS(notional=200000000,\n",
    "              timeToSwapStart=ql.Period(2, ql.Days),\n",
    "              timeToSwapEnd=ql.Period(10, ql.Years),\n",
    "              swapDirection=SwapDirection.PAYER,\n",
    "              index=InterestRateIndex.USDLIBOR3M)\n",
    "\n",
    "IRS_rec = IRS(notional=100000000,\n",
    "              timeToSwapStart=ql.Period(2, ql.Days),\n",
    "              timeToSwapEnd=ql.Period(10, ql.Years),\n",
    "              swapDirection=SwapDirection.RECEIVER,\n",
    "              index=InterestRateIndex.USDLIBOR3M)\n",
    "\n",
    "eqOpt = EquityOption(notional = 1000000)"
   ]
  },
  {
   "cell_type": "code",
   "execution_count": 12,
   "metadata": {
    "pycharm": {
     "name": "#%%\n"
    },
    "tags": [
     "hide_cell"
    ]
   },
   "outputs": [],
   "source": [
    "ca = CollateralAgreement()\n",
    "ca.link_sa_ccr_instance(SA_CCR(ca))\n",
    "\n",
    "ca.add_trades([IRS_rec, IRS_pay, eqOpt])\n",
    "\n",
    "eulerAllocator = EulerAllocator(ca)\n",
    "im_alloc_forward = eulerAllocator.allocate_im()\n",
    "saccr_alloc_forward = eulerAllocator.allocate_ead()\n",
    "\n",
    "eulerAllocator.fdApproach2=FdApproach2.Central\n",
    "im_alloc_central = eulerAllocator.allocate_im()\n",
    "saccr_alloc_central = eulerAllocator.allocate_ead()\n",
    "\n",
    "eulerAllocator.fdApproach2=FdApproach2.Backward\n",
    "im_alloc_backward = eulerAllocator.allocate_im()\n",
    "saccr_alloc_backward = eulerAllocator.allocate_ead()"
   ]
  },
  {
   "cell_type": "code",
   "execution_count": 13,
   "metadata": {
    "pycharm": {
     "name": "#%%\n"
    },
    "tags": [
     "hide_input"
    ]
   },
   "outputs": [
    {
     "data": {
      "text/markdown": [
       "The IM for this portfolio is 11471795.91 USD and the EAD is 1542260.63 USD."
      ],
      "text/plain": [
       "<IPython.core.display.Markdown object>"
      ]
     },
     "metadata": {},
     "output_type": "display_data"
    }
   ],
   "source": [
    "display(Markdown('The IM for this portfolio is %.2f USD and the EAD is %.2f USD.' %(ca.get_im_model().get_risk_measure(), ca.get_sa_ccr_model().get_risk_measure())))"
   ]
  },
  {
   "cell_type": "markdown",
   "metadata": {
    "pycharm": {
     "name": "#%% md\n"
    }
   },
   "source": [
    "For the IM the allocation yields:"
   ]
  },
  {
   "cell_type": "code",
   "execution_count": 14,
   "metadata": {
    "pycharm": {
     "name": "#%%\n"
    },
    "tags": [
     "hide_input"
    ]
   },
   "outputs": [
    {
     "data": {
      "text/html": [
       "<div>\n",
       "<style scoped>\n",
       "    .dataframe tbody tr th:only-of-type {\n",
       "        vertical-align: middle;\n",
       "    }\n",
       "\n",
       "    .dataframe tbody tr th {\n",
       "        vertical-align: top;\n",
       "    }\n",
       "\n",
       "    .dataframe thead th {\n",
       "        text-align: right;\n",
       "    }\n",
       "</style>\n",
       "<table border=\"1\" class=\"dataframe\">\n",
       "  <thead>\n",
       "    <tr style=\"text-align: right;\">\n",
       "      <th></th>\n",
       "      <th>Backward</th>\n",
       "      <th>Central</th>\n",
       "      <th>Forward</th>\n",
       "    </tr>\n",
       "  </thead>\n",
       "  <tbody>\n",
       "    <tr>\n",
       "      <th>IRS_Short</th>\n",
       "      <td>-4.519079e+06</td>\n",
       "      <td>-4.519078e+06</td>\n",
       "      <td>-4.519079e+06</td>\n",
       "    </tr>\n",
       "    <tr>\n",
       "      <th>IRS_Long</th>\n",
       "      <td>9.038157e+06</td>\n",
       "      <td>9.038157e+06</td>\n",
       "      <td>9.038157e+06</td>\n",
       "    </tr>\n",
       "    <tr>\n",
       "      <th>EquityOption_Long</th>\n",
       "      <td>6.952717e+06</td>\n",
       "      <td>6.952717e+06</td>\n",
       "      <td>6.952717e+06</td>\n",
       "    </tr>\n",
       "    <tr>\n",
       "      <th>Sum</th>\n",
       "      <td>1.147180e+07</td>\n",
       "      <td>1.147180e+07</td>\n",
       "      <td>1.147180e+07</td>\n",
       "    </tr>\n",
       "  </tbody>\n",
       "</table>\n",
       "</div>"
      ],
      "text/plain": [
       "                       Backward       Central       Forward\n",
       "IRS_Short         -4.519079e+06 -4.519078e+06 -4.519079e+06\n",
       "IRS_Long           9.038157e+06  9.038157e+06  9.038157e+06\n",
       "EquityOption_Long  6.952717e+06  6.952717e+06  6.952717e+06\n",
       "Sum                1.147180e+07  1.147180e+07  1.147180e+07"
      ]
     },
     "execution_count": 14,
     "metadata": {},
     "output_type": "execute_result"
    }
   ],
   "source": [
    "display_table(im_alloc_forward, im_alloc_central, im_alloc_backward)"
   ]
  },
  {
   "cell_type": "markdown",
   "metadata": {
    "pycharm": {
     "name": "#%% md\n"
    }
   },
   "source": [
    "and for the EAD the different differentiation approaches yield:"
   ]
  },
  {
   "cell_type": "code",
   "execution_count": 20,
   "metadata": {
    "pycharm": {
     "name": "#%%\n"
    },
    "tags": [
     "hide_input"
    ]
   },
   "outputs": [
    {
     "data": {
      "text/html": [
       "<div>\n",
       "<style scoped>\n",
       "    .dataframe tbody tr th:only-of-type {\n",
       "        vertical-align: middle;\n",
       "    }\n",
       "\n",
       "    .dataframe tbody tr th {\n",
       "        vertical-align: top;\n",
       "    }\n",
       "\n",
       "    .dataframe thead th {\n",
       "        text-align: right;\n",
       "    }\n",
       "</style>\n",
       "<table border=\"1\" class=\"dataframe\">\n",
       "  <thead>\n",
       "    <tr style=\"text-align: right;\">\n",
       "      <th></th>\n",
       "      <th>Backward</th>\n",
       "      <th>Central</th>\n",
       "      <th>Forward</th>\n",
       "    </tr>\n",
       "  </thead>\n",
       "  <tbody>\n",
       "    <tr>\n",
       "      <th>IRS_Short</th>\n",
       "      <td>-2.463114e+05</td>\n",
       "      <td>-2.463099e+05</td>\n",
       "      <td>-2.463083e+05</td>\n",
       "    </tr>\n",
       "    <tr>\n",
       "      <th>IRS_Long</th>\n",
       "      <td>4.926136e+05</td>\n",
       "      <td>4.926198e+05</td>\n",
       "      <td>4.926259e+05</td>\n",
       "    </tr>\n",
       "    <tr>\n",
       "      <th>EquityOption_Long</th>\n",
       "      <td>1.295949e+06</td>\n",
       "      <td>1.295951e+06</td>\n",
       "      <td>1.295952e+06</td>\n",
       "    </tr>\n",
       "    <tr>\n",
       "      <th>Sum</th>\n",
       "      <td>1.542251e+06</td>\n",
       "      <td>1.542261e+06</td>\n",
       "      <td>1.542270e+06</td>\n",
       "    </tr>\n",
       "  </tbody>\n",
       "</table>\n",
       "</div>"
      ],
      "text/plain": [
       "                       Backward       Central       Forward\n",
       "IRS_Short         -2.463114e+05 -2.463099e+05 -2.463083e+05\n",
       "IRS_Long           4.926136e+05  4.926198e+05  4.926259e+05\n",
       "EquityOption_Long  1.295949e+06  1.295951e+06  1.295952e+06\n",
       "Sum                1.542251e+06  1.542261e+06  1.542270e+06"
      ]
     },
     "execution_count": 20,
     "metadata": {},
     "output_type": "execute_result"
    }
   ],
   "source": [
    "display_table(saccr_alloc_forward, saccr_alloc_central, saccr_alloc_backward)"
   ]
  },
  {
   "cell_type": "code",
   "execution_count": 22,
   "metadata": {
    "pycharm": {
     "name": "#%%\n"
    },
    "tags": [
     "hide_cell"
    ]
   },
   "outputs": [],
   "source": [
    "export('SA-CCR and ISDA SIMM under perfect hedge.ipynb')"
   ]
  }
 ],
 "metadata": {
  "celltoolbar": "Tags",
  "kernelspec": {
   "display_name": "Python 3",
   "language": "python",
   "name": "python3"
  },
  "language_info": {
   "codemirror_mode": {
    "name": "ipython",
    "version": 3
   },
   "file_extension": ".py",
   "mimetype": "text/x-python",
   "name": "python",
   "nbconvert_exporter": "python",
   "pygments_lexer": "ipython3",
   "version": "3.8.2"
  }
 },
 "nbformat": 4,
 "nbformat_minor": 1
}