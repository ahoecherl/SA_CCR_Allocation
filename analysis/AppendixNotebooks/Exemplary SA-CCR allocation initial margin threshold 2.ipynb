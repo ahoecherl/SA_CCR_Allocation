{
 "cells": [
  {
   "cell_type": "markdown",
   "metadata": {
    "collapsed": true,
    "pycharm": {
     "name": "#%% md\n"
    }
   },
   "source": [
    "# Exemplary SA-CCR allocation under consideration of an initial margin threshold\n",
    "\n",
    "We consider a portfolio of two trades, an IRS and an equity option."
   ]
  },
  {
   "cell_type": "code",
   "execution_count": 1,
   "metadata": {
    "pycharm": {
     "name": "#%% import cell\n"
    },
    "tags": [
     "hide_cell"
    ]
   },
   "outputs": [],
   "source": [
    "import QuantLib as ql\n",
    "from scipy import optimize\n",
    "from allocation.Enums import FdApproach2\n",
    "from allocation.eulerAllocator import EulerAllocator\n",
    "from collateralAgreement.collateralAgreement import CollateralAgreement, InitialMargining\n",
    "from instruments.equity_instruments.equityOption import EquityOption\n",
    "from instruments.interestRateInstrument.irs import IRS\n",
    "from jupyterUtils import export\n",
    "from margining.noimm import NOIMM\n",
    "from marketdata.interestRateIndices import InterestRateIndex\n",
    "from marketdata import init_marketdata\n",
    "from sa_ccr.sa_ccr import SA_CCR\n",
    "from utilities.Enums import Stock, TradeType, TradeDirection\n",
    "asdf = 1\n"
   ]
  },
  {
   "cell_type": "code",
   "execution_count": 2,
   "metadata": {
    "pycharm": {
     "name": "#%%\n"
    }
   },
   "outputs": [],
   "source": [
    "irs = IRS(notional=100000000,\n",
    "          index = InterestRateIndex.USDLIBOR3M,\n",
    "          timeToSwapStart=ql.Period(2, ql.Days),\n",
    "          timeToSwapEnd=ql.Period(10, ql.Years))\n",
    "\n",
    "ca_irs = CollateralAgreement(initialMargining=InitialMargining.NO_IM)\n",
    "ca_irs.link_sa_ccr_instance(SA_CCR(ca_irs))\n",
    "ca_irs.add_trades(irs)"
   ]
  },
  {
   "cell_type": "code",
   "execution_count": 3,
   "metadata": {
    "pycharm": {
     "name": "#%%\n"
    },
    "tags": [
     "hide_cell"
    ]
   },
   "outputs": [],
   "source": [
    "def find_notional_for_eq_ead(notional):\n",
    "   eqOpt = EquityOption(notional = notional)\n",
    "   global ca_irs\n",
    "   ref_ead = ca_irs.get_sa_ccr_model().get_risk_measure()\n",
    "   trades = ca_irs.trades\n",
    "   ca_irs.remove_all_trades()\n",
    "   ca_irs.add_trades(eqOpt)\n",
    "   compare_ead = ca_irs.get_sa_ccr_model().get_risk_measure()\n",
    "   ca_irs.remove_all_trades()\n",
    "   ca_irs.add_trades(trades)\n",
    "   return (ref_ead - compare_ead)**2\n",
    "\n",
    "eqOptNot = optimize.minimize(find_notional_for_eq_ead, x0=10000)"
   ]
  },
  {
   "cell_type": "code",
   "execution_count": 4,
   "metadata": {
    "pycharm": {
     "name": "#%%\n"
    }
   },
   "outputs": [],
   "source": [
    "eqOpt = EquityOption(notional = 403690.28,\n",
    "                     maturity = ql.Period(1, ql.Years),\n",
    "                     underlying = Stock.ADS,\n",
    "                     tradeType = TradeType.CALL,\n",
    "                     tradeDirection = TradeDirection.LONG)"
   ]
  },
  {
   "cell_type": "code",
   "execution_count": 5,
   "outputs": [],
   "source": [
    "ca_eqOpt = CollateralAgreement(initialMargining=InitialMargining.NO_IM)\n",
    "ca_eqOpt.link_sa_ccr_instance(SA_CCR(ca_eqOpt))\n",
    "ca_eqOpt.add_trades(eqOpt)"
   ],
   "metadata": {
    "collapsed": false,
    "pycharm": {
     "name": "#%%\n"
    }
   }
  },
  {
   "cell_type": "markdown",
   "metadata": {
    "pycharm": {
     "name": "#%% md\n"
    }
   },
   "source": [
    "These two trades happen to have the same EAD under VM only\n"
   ]
  },
  {
   "cell_type": "code",
   "execution_count": 6,
   "metadata": {
    "pycharm": {
     "name": "#%%\n"
    },
    "tags": [
     "hide_input"
    ]
   },
   "outputs": [
    {
     "data": {
      "text/plain": "'IRS EAD under VM: 1,651,405 USD'"
     },
     "execution_count": 6,
     "metadata": {},
     "output_type": "execute_result"
    }
   ],
   "source": [
    "f'IRS EAD under VM: {ca_irs.get_sa_ccr_model().get_ead():,.0f} USD'"
   ]
  },
  {
   "cell_type": "code",
   "execution_count": 7,
   "metadata": {
    "pycharm": {
     "name": "#%%\n"
    },
    "tags": [
     "hide_input"
    ]
   },
   "outputs": [
    {
     "data": {
      "text/plain": "'EQ EAD under VM: 1,651,405 USD'"
     },
     "execution_count": 7,
     "metadata": {},
     "output_type": "execute_result"
    }
   ],
   "source": [
    "f'EQ EAD under VM: {ca_eqOpt.get_sa_ccr_model().get_ead():,.0f} USD'"
   ]
  },
  {
   "cell_type": "markdown",
   "metadata": {
    "pycharm": {
     "name": "#%% md\n"
    }
   },
   "source": [
    "If they are put into a common portfolio under VM only this common portfolio just has the sum as EAD as no hedge effects take place."
   ]
  },
  {
   "cell_type": "code",
   "execution_count": 8,
   "metadata": {
    "pycharm": {
     "name": "#%%\n"
    }
   },
   "outputs": [],
   "source": [
    "ca_common = CollateralAgreement(\n",
    "    initialMargining=InitialMargining.NO_IM)\n",
    "ca_common.link_sa_ccr_instance(SA_CCR(ca_common))\n",
    "ca_common.add_trades([eqOpt,irs])"
   ]
  },
  {
   "cell_type": "code",
   "execution_count": 9,
   "metadata": {
    "pycharm": {
     "name": "#%%\n"
    },
    "tags": [
     "hide_input"
    ]
   },
   "outputs": [
    {
     "data": {
      "text/plain": "'Portfolio EAD under VM: 3,302,809 USD'"
     },
     "execution_count": 9,
     "metadata": {},
     "output_type": "execute_result"
    }
   ],
   "source": [
    "f'Portfolio EAD under VM: {ca_common.get_sa_ccr_model().get_ead():,.0f} USD'"
   ]
  },
  {
   "cell_type": "markdown",
   "metadata": {
    "pycharm": {
     "name": "#%% md\n"
    }
   },
   "source": [
    "However the IM and consequently the EAD under IM differ between the two trades."
   ]
  },
  {
   "cell_type": "code",
   "execution_count": 10,
   "metadata": {
    "pycharm": {
     "name": "#%%\n"
    }
   },
   "outputs": [],
   "source": [
    "ca_eqOpt.initialMargining = InitialMargining.SIMM\n",
    "ca_irs.initialMargining = InitialMargining.SIMM"
   ]
  },
  {
   "cell_type": "code",
   "execution_count": 11,
   "metadata": {
    "pycharm": {
     "name": "#%%\n"
    },
    "tags": [
     "hide_input"
    ]
   },
   "outputs": [
    {
     "data": {
      "text/plain": "'EQ IM: 2,806,744 USD'"
     },
     "execution_count": 11,
     "metadata": {},
     "output_type": "execute_result"
    }
   ],
   "source": [
    "f'EQ IM: {ca_eqOpt.get_im_model().get_risk_measure():,.0f} USD'"
   ]
  },
  {
   "cell_type": "code",
   "execution_count": 12,
   "metadata": {
    "pycharm": {
     "name": "#%%\n"
    },
    "tags": [
     "hide_input"
    ]
   },
   "outputs": [
    {
     "data": {
      "text/plain": "'IRS IM: 4,519,079 USD'"
     },
     "execution_count": 12,
     "metadata": {},
     "output_type": "execute_result"
    }
   ],
   "source": [
    "f'IRS IM: {ca_irs.get_im_model().get_risk_measure():,.0f} USD'"
   ]
  },
  {
   "cell_type": "code",
   "execution_count": 13,
   "metadata": {
    "pycharm": {
     "name": "#%%\n"
    },
    "tags": [
     "hide_input"
    ]
   },
   "outputs": [
    {
     "data": {
      "text/plain": "'EQ EAD under VM and IM: 530,996 USD'"
     },
     "execution_count": 13,
     "metadata": {},
     "output_type": "execute_result"
    }
   ],
   "source": [
    "f'EQ EAD under VM and IM: {ca_eqOpt.get_sa_ccr_model().get_ead():,.0f} USD'"
   ]
  },
  {
   "cell_type": "code",
   "execution_count": 14,
   "metadata": {
    "pycharm": {
     "name": "#%%\n"
    },
    "tags": [
     "hide_input"
    ]
   },
   "outputs": [
    {
     "data": {
      "text/plain": "'IRS EAD under VM and IM: 291,441 USD'"
     },
     "execution_count": 14,
     "metadata": {},
     "output_type": "execute_result"
    }
   ],
   "source": [
    "f'IRS EAD under VM and IM: {ca_irs.get_sa_ccr_model().get_ead():,.0f} USD'"
   ]
  },
  {
   "cell_type": "markdown",
   "metadata": {
    "pycharm": {
     "name": "#%% md\n"
    }
   },
   "source": [
    "The IM of the common portfolio is the sum of the individual portfolios while the EAD of the common portfolio is a bit smaller than the respective sum."
   ]
  },
  {
   "cell_type": "code",
   "execution_count": 15,
   "metadata": {
    "pycharm": {
     "name": "#%%\n"
    }
   },
   "outputs": [],
   "source": [
    "ca_common.initialMargining = InitialMargining.SIMM"
   ]
  },
  {
   "cell_type": "code",
   "execution_count": 16,
   "metadata": {
    "pycharm": {
     "name": "#%%\n"
    },
    "tags": [
     "hide_input"
    ]
   },
   "outputs": [
    {
     "data": {
      "text/plain": "'Portfolio IM: 7,325,823 USD'"
     },
     "execution_count": 16,
     "metadata": {},
     "output_type": "execute_result"
    }
   ],
   "source": [
    "f'Portfolio IM: {ca_common.get_im_model().get_risk_measure():,.0f} USD'"
   ]
  },
  {
   "cell_type": "code",
   "execution_count": 17,
   "metadata": {
    "pycharm": {
     "name": "#%%\n"
    },
    "tags": [
     "hide_input"
    ]
   },
   "outputs": [
    {
     "data": {
      "text/plain": "'Portfolio EAD under VM and IM: 777,229 USD'"
     },
     "execution_count": 17,
     "metadata": {},
     "output_type": "execute_result"
    }
   ],
   "source": [
    "f'Portfolio EAD under VM and IM: {ca_common.get_sa_ccr_model().get_ead():,.0f} USD'"
   ]
  },
  {
   "cell_type": "markdown",
   "metadata": {
    "pycharm": {
     "name": "#%% md\n"
    }
   },
   "source": [
    "We can compare the allocation of EAD with and without IM to see that with IM, less is attributed  to the IRS as it commands a higher margin."
   ]
  },
  {
   "cell_type": "code",
   "execution_count": 18,
   "metadata": {
    "pycharm": {
     "name": "#%%\n"
    }
   },
   "outputs": [
    {
     "data": {
      "text/plain": "{'EquityOption': '1,651,405 USD', 'IRS': '1,651,405 USD'}"
     },
     "execution_count": 18,
     "metadata": {},
     "output_type": "execute_result"
    }
   ],
   "source": [
    "eulerAllocator = EulerAllocator(ca_common)\n",
    "eulerAllocator.fdApproach2=FdApproach2.Central\n",
    "ca_common.initialMargining = InitialMargining.NO_IM\n",
    "{k.__class__.__name__: f'{v:,.0f} USD'\n",
    " for k, v in eulerAllocator.allocate_ead().items()}"
   ]
  },
  {
   "cell_type": "code",
   "execution_count": 19,
   "metadata": {
    "pycharm": {
     "name": "#%%\n"
    }
   },
   "outputs": [
    {
     "data": {
      "text/plain": "{'EquityOption': '505,528 USD', 'IRS': '271,701 USD'}"
     },
     "execution_count": 19,
     "metadata": {},
     "output_type": "execute_result"
    }
   ],
   "source": [
    "ca_common.initialMargining = InitialMargining.SIMM\n",
    "{k.__class__.__name__: f'{v:,.0f} USD'\n",
    " for k, v in eulerAllocator.allocate_ead().items()}"
   ]
  },
  {
   "cell_type": "markdown",
   "metadata": {
    "pycharm": {
     "name": "#%% md\n"
    }
   },
   "source": [
    "We introduce an initial margin threshold that is higher than the calculated IM and see that the resulting allocation is subadditive and the same as in the case without initial margin."
   ]
  },
  {
   "cell_type": "code",
   "execution_count": 20,
   "metadata": {
    "pycharm": {
     "name": "#%%\n"
    }
   },
   "outputs": [
    {
     "data": {
      "text/plain": "{'EquityOption': '1,651,405 USD', 'IRS': '1,651,405 USD'}"
     },
     "execution_count": 20,
     "metadata": {},
     "output_type": "execute_result"
    }
   ],
   "source": [
    "ca_common.threshold = 10000000\n",
    "{k.__class__.__name__: f'{v:,.0f} USD'\n",
    " for k, v in eulerAllocator.allocate_ead().items()}"
   ]
  },
  {
   "cell_type": "code",
   "execution_count": 21,
   "metadata": {
    "pycharm": {
     "name": "#%%\n"
    },
    "tags": [
     "hide_input"
    ]
   },
   "outputs": [
    {
     "data": {
      "text/plain": "'Portfolio EAD with 10Mn IM threshold: 3,302,809 USD'"
     },
     "execution_count": 21,
     "metadata": {},
     "output_type": "execute_result"
    }
   ],
   "source": [
    "f'Portfolio EAD with 10Mn IM threshold: {ca_common.get_sa_ccr_model().get_ead():,.0f} USD'"
   ]
  },
  {
   "cell_type": "markdown",
   "metadata": {
    "pycharm": {
     "name": "#%% md\n"
    }
   },
   "source": [
    "When we lower the threshold below the exchanged IM the allocation fails"
   ]
  },
  {
   "cell_type": "code",
   "execution_count": 22,
   "metadata": {
    "pycharm": {
     "name": "#%%\n"
    }
   },
   "outputs": [
    {
     "data": {
      "text/plain": "{'EquityOption': '331,448 USD', 'IRS': '-381,962 USD'}"
     },
     "execution_count": 22,
     "metadata": {},
     "output_type": "execute_result"
    }
   ],
   "source": [
    "ca_common.threshold = 5000000\n",
    "{k.__class__.__name__: f'{v:,.0f} USD'\n",
    " for k, v in eulerAllocator.allocate_ead().items()}"
   ]
  },
  {
   "cell_type": "code",
   "execution_count": 23,
   "metadata": {
    "pycharm": {
     "name": "#%%\n"
    },
    "tags": [
     "hide_input"
    ]
   },
   "outputs": [
    {
     "data": {
      "text/plain": "'Portfolio EAD with 10Mn IM threshold: 2,032,638 USD'"
     },
     "execution_count": 23,
     "metadata": {},
     "output_type": "execute_result"
    }
   ],
   "source": [
    "f'Portfolio EAD with 10Mn IM threshold: {ca_common.get_sa_ccr_model().get_ead():,.0f} USD'"
   ]
  },
  {
   "cell_type": "markdown",
   "metadata": {
    "pycharm": {
     "name": "#%% md\n"
    }
   },
   "source": [
    "Further discussion of these results in section \\ref{sec:Incorporation of an IM threshold}."
   ]
  },
  {
   "cell_type": "code",
   "execution_count": 25,
   "metadata": {
    "pycharm": {
     "name": "#%%\n"
    },
    "tags": [
     "hide_cell"
    ]
   },
   "outputs": [],
   "source": [
    "export(\"Exemplary SA-CCR allocation initial margin threshold 2.ipynb\")"
   ]
  }
 ],
 "metadata": {
  "celltoolbar": "Tags",
  "kernelspec": {
   "display_name": "Python 3",
   "language": "python",
   "name": "python3"
  },
  "language_info": {
   "codemirror_mode": {
    "name": "ipython",
    "version": 3
   },
   "file_extension": ".py",
   "mimetype": "text/x-python",
   "name": "python",
   "nbconvert_exporter": "python",
   "pygments_lexer": "ipython3",
   "version": "3.8.2"
  }
 },
 "nbformat": 4,
 "nbformat_minor": 1
}