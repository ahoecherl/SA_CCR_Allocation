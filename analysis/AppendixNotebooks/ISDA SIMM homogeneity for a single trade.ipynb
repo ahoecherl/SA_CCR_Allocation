{
 "cells": [
  {
   "cell_type": "markdown",
   "metadata": {
    "collapsed": true,
    "pycharm": {
     "name": "#%% md\n"
    }
   },
   "source": [
    "# ISDA SIMM homogeneity for portfolio of a single trade"
   ]
  },
  {
   "cell_type": "code",
   "execution_count": 1,
   "metadata": {
    "pycharm": {
     "name": "#%% import cell\n"
    },
    "tags": [
     "hide_cell"
    ]
   },
   "outputs": [],
   "source": [
    "import math\n",
    "import QuantLib as ql\n",
    "import scipy\n",
    "from IPython.core.display import display, Markdown, Image\n",
    "from numpy.core._multiarray_umath import arange\n",
    "from collateralAgreement.collateralAgreement import CollateralAgreement, InitialMargining\n",
    "from instruments.interestRateInstrument.irs import IRS\n",
    "from jupyterUtils import export\n",
    "from marketdata.interestRateIndices import InterestRateIndex\n",
    "from sa_ccr.sa_ccr import SA_CCR\n",
    "from utilities.Enums import SwapDirection, Currency\n",
    "from marketdata import init_marketdata\n",
    "import pandas as pd\n",
    "import plotly.express as px"
   ]
  },
  {
   "cell_type": "markdown",
   "metadata": {
    "pycharm": {
     "name": "#%% md\n"
    }
   },
   "source": [
    "We want to showcase that the concentration risk addOn breaks homogeneity of the ISDA SIMM risk measure. The concentration threshold for USD interest rate risk is 230Mn USD per Basis Point change.\n",
    "Considering that IRS trades roughly have a delta of one against the interest rate this means that a trade with a notional of $\\frac{230\\text{Mn}}{0.0001} = 2300\\text{Bn}$ and a maturity of 1 year would incur a risk above the threshold.\n",
    "If the maturity increases to 10 years a notional of roughly 230Bn should be enough to exceed the concentration threshold."
   ]
  },
  {
   "cell_type": "code",
   "execution_count": 2,
   "metadata": {
    "pycharm": {
     "name": "#%%\n"
    }
   },
   "outputs": [
    {
     "data": {
      "text/plain": "177293785.56303406"
     },
     "execution_count": 2,
     "metadata": {},
     "output_type": "execute_result"
    }
   ],
   "source": [
    "notional = 200000000000\n",
    "\n",
    "irs = IRS(notional = notional,\n",
    "          timeToSwapStart=ql.Period(2, ql.Days),\n",
    "          timeToSwapEnd=ql.Period(10, ql.Years),\n",
    "          swapDirection=SwapDirection.PAYER,\n",
    "          index = InterestRateIndex.USDLIBOR3M)\n",
    "\n",
    "simm_sensis = irs.get_simm_sensis()\n",
    "ir_delta = sum([float(entry['amountUSD']) for entry in simm_sensis if entry['riskType'] == 'Risk_IRCurve'])\n",
    "ir_delta"
   ]
  },
  {
   "cell_type": "code",
   "execution_count": 3,
   "metadata": {
    "pycharm": {
     "name": "#%%\n"
    },
    "tags": [
     "hide_input"
    ]
   },
   "outputs": [
    {
     "data": {
      "text/plain": "<IPython.core.display.Markdown object>",
      "text/markdown": "The trade has an aggregated delta sensitivity against a 1BP move of the USD interest rate of 177,293,786 USD. With the available market data the delta of the IRS appears to be slightly lower than one."
     },
     "metadata": {},
     "output_type": "display_data"
    }
   ],
   "source": [
    "display(Markdown('The trade has an aggregated delta sensitivity against a 1BP move of the USD interest rate of ' + '{:,.0f}'.format(ir_delta) +' USD. With the available market data the delta of the IRS appears to be slightly lower than one.'))"
   ]
  },
  {
   "cell_type": "markdown",
   "metadata": {
    "pycharm": {
     "name": "#%% md\n"
    }
   },
   "source": [
    "We create a collateral agreement with associated ISDA SIMM and SA CCR model and load the irs in the portfolio.\n",
    "The collateral agreement uses ISDA SIMM for IM calculation."
   ]
  },
  {
   "cell_type": "code",
   "execution_count": 4,
   "metadata": {
    "pycharm": {
     "name": "#%%\n"
    }
   },
   "outputs": [],
   "source": [
    "ca = CollateralAgreement(initialMargining=InitialMargining.SIMM,\n",
    "                         margin_currency=Currency.USD)\n",
    "ca.link_sa_ccr_instance(SA_CCR(ca))\n",
    "ca.add_trades(irs)"
   ]
  },
  {
   "cell_type": "markdown",
   "metadata": {
    "pycharm": {
     "name": "#%% md\n"
    }
   },
   "source": [
    "We now want to investigate if the ISDA SIMM exhibits homogeneity for this single trade portfolio.\n",
    "To do so we test if\n",
    "\n",
    "\\begin{align*}\n",
    "f\\left(\\alpha \\mathbf{x}\\right) = \\alpha^k f\\left(\\mathbf{x}\\right) \\\\\n",
    "        \\text{for } \\alpha >0\n",
    "\\end{align*}\n",
    "\n",
    " holds. We test for $0<\\alpha\\leq 2$ with an increment size of 0.01."
   ]
  },
  {
   "cell_type": "code",
   "execution_count": 5,
   "metadata": {
    "pycharm": {
     "name": "#%%\n"
    }
   },
   "outputs": [],
   "source": [
    "bumps = arange(0,2.01,0.01)\n",
    "resultDataframe = pd.DataFrame(columns = ['USD','k','Legend'])"
   ]
  },
  {
   "cell_type": "markdown",
   "metadata": {
    "pycharm": {
     "name": "#%% md\n"
    }
   },
   "source": [
    "We create a utility function that supports IM, VM and Collateral although we are just exploring IM right now."
   ]
  },
  {
   "cell_type": "code",
   "execution_count": 6,
   "metadata": {
    "pycharm": {
     "name": "#%%\n"
    }
   },
   "outputs": [],
   "source": [
    "def bump_and_get_results(bumpsize, trade, collateralagreement):\n",
    "    record = {}\n",
    "    record['Bumpsize']=bumpsize\n",
    "    bumped_copy = trade.get_bumped_copy(rel_bump_size=bumpsize-1)\n",
    "    collateralagreement.remove_all_trades()\n",
    "    collateralagreement.add_trades(bumped_copy)\n",
    "    record['IM'] = collateralagreement.get_im_model().get_risk_measure()\n",
    "    record['VM'] = collateralagreement.get_vm_model().get_risk_measure()\n",
    "    record['Collateral'] = collateralagreement.get_C()\n",
    "    collateralagreement.remove_all_trades()\n",
    "    collateralagreement.add_trades(trade)\n",
    "    return record"
   ]
  },
  {
   "cell_type": "code",
   "execution_count": 7,
   "metadata": {
    "pycharm": {
     "name": "#%%\n"
    }
   },
   "outputs": [],
   "source": [
    "for bump in bumps:\n",
    "    result = bump_and_get_results(bump, irs, ca)\n",
    "    im_record = {'X': result['Bumpsize'],\n",
    "                 'Y': result['IM'],\n",
    "                 'Legend': 'IM'}\n",
    "    resultDataframe = resultDataframe.append(im_record, ignore_index=True)"
   ]
  },
  {
   "cell_type": "code",
   "execution_count": 8,
   "metadata": {
    "pycharm": {
     "name": "#%%\n"
    }
   },
   "outputs": [
    {
     "data": {
      "image/jpeg": "[encoded data removed]",
      "text/plain": "<IPython.core.display.Image object>"
     },
     "execution_count": 8,
     "metadata": {},
     "output_type": "execute_result"
    }
   ],
   "source": [
    "fig = px.line(resultDataframe[resultDataframe.Legend == 'IM'], x='X', y='Y', color='Legend', line_dash='Legend')\n",
    "fig.update_layout(xaxis_title = 'a', yaxis_title = 'USD')\n",
    "img_bytes = fig.to_image(format='jpeg')\n",
    "Image(img_bytes)"
   ]
  },
  {
   "cell_type": "markdown",
   "metadata": {
    "pycharm": {
     "name": "#%% md\n"
    }
   },
   "source": [
    "As can be seen, ISDA SIMM does not exhibit homogeneity.\n",
    "We can find the notional at which the IR delta of the trade exceed 230Mn USD."
   ]
  },
  {
   "cell_type": "code",
   "execution_count": 9,
   "outputs": [
    {
     "data": {
      "text/plain": "'Notional: 259,456,358,913 USD'"
     },
     "execution_count": 9,
     "metadata": {},
     "output_type": "execute_result"
    }
   ],
   "source": [
    "def aggregate_usd_ir_by_notional(notional):\n",
    "    irs2 = IRS(notional = notional,\n",
    "           timeToSwapStart=ql.Period(2, ql.Days),\n",
    "           timeToSwapEnd=ql.Period(10, ql.Years),\n",
    "           swapDirection=SwapDirection.PAYER,\n",
    "           index = InterestRateIndex.USDLIBOR3M)\n",
    "    irs2.get_simm_sensis_ircurve()\n",
    "    delta = sum([float(k['amount']) for k in irs2.get_simm_sensis_ircurve()])\n",
    "    return (delta-230000000)**2\n",
    "\n",
    "res = scipy.optimize.minimize_scalar(\n",
    "    aggregate_usd_ir_by_notional,\n",
    "    bounds = (1, 10e12),\n",
    "    method = 'bounded')\n",
    "f'Notional: {res.x:,.0f} USD'"
   ],
   "metadata": {
    "collapsed": false,
    "pycharm": {
     "name": "#%%\n"
    }
   }
  },
  {
   "cell_type": "code",
   "execution_count": 10,
   "outputs": [
    {
     "data": {
      "text/plain": "'a: 1.30'"
     },
     "execution_count": 10,
     "metadata": {},
     "output_type": "execute_result"
    }
   ],
   "source": [
    "'a: %.2f'%(res.x / irs.notional)"
   ],
   "metadata": {
    "collapsed": false,
    "pycharm": {
     "name": "#%%\n"
    }
   }
  },
  {
   "cell_type": "markdown",
   "source": [
    "Further discussion of this in section \\ref{Allocation of initial margin}."
   ],
   "metadata": {
    "collapsed": false,
    "pycharm": {
     "name": "#%% md\n"
    }
   }
  },
  {
   "cell_type": "code",
   "execution_count": 12,
   "metadata": {
    "pycharm": {
     "name": "#%%\n"
    },
    "tags": [
     "hide_cell"
    ]
   },
   "outputs": [],
   "source": [
    "export('ISDA SIMM homogeneity for a single trade.ipynb')"
   ]
  }
 ],
 "metadata": {
  "celltoolbar": "Tags",
  "kernelspec": {
   "display_name": "Python 3",
   "language": "python",
   "name": "python3"
  },
  "language_info": {
   "codemirror_mode": {
    "name": "ipython",
    "version": 3
   },
   "file_extension": ".py",
   "mimetype": "text/x-python",
   "name": "python",
   "nbconvert_exporter": "python",
   "pygments_lexer": "ipython3",
   "version": "3.8.2"
  }
 },
 "nbformat": 4,
 "nbformat_minor": 1
}