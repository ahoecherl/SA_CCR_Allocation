{
 "cells": [
  {
   "cell_type": "markdown",
   "metadata": {
    "collapsed": true,
    "pycharm": {
     "name": "#%% md\n"
    }
   },
   "source": [
    "# Euler allocation of an exemplary rates portfolio"
   ]
  },
  {
   "cell_type": "code",
   "execution_count": 1,
   "metadata": {
    "pycharm": {
     "name": "#%% import cell\n"
    },
    "tags": [
     "hide_cell"
    ]
   },
   "outputs": [],
   "source": [
    "import QuantLib as ql\n",
    "from scipy import optimize\n",
    "from allocation.Enums import FdApproach2\n",
    "from allocation.eulerAllocator import EulerAllocator\n",
    "from collateralAgreement.collateralAgreement import CollateralAgreement, InitialMargining\n",
    "from instruments.equity_instruments.equityOption import EquityOption\n",
    "from instruments.interestRateInstrument.irs import IRS\n",
    "from instruments.interestRateInstrument.ois import OIS\n",
    "from instruments.interestRateInstrument.swaption import Swaption\n",
    "from jupyterUtils import export\n",
    "from marketdata.interestRateIndices import InterestRateIndex\n",
    "from sa_ccr.sa_ccr import SA_CCR\n",
    "from utilities.Enums import SwapDirection\n",
    "import pandas as pd\n",
    "asdf = 1"
   ]
  },
  {
   "cell_type": "markdown",
   "metadata": {
    "pycharm": {
     "name": "#%% md\n"
    }
   },
   "source": [
    "We create a portfolio consisting of a big USD payer swap and a smaller EUR receiver swap of same maturity."
   ]
  },
  {
   "cell_type": "code",
   "execution_count": 2,
   "metadata": {
    "pycharm": {
     "name": "#%%\n"
    }
   },
   "outputs": [],
   "source": [
    "payer_usd_6Y = IRS(notional = 1000000000,\n",
    "                   swapDirection=SwapDirection.PAYER,\n",
    "                   timeToSwapStart=ql.Period(2, ql.Days),\n",
    "                   timeToSwapEnd=ql.Period(6, ql.Years),\n",
    "                   index = InterestRateIndex.USDLIBOR3M)\n",
    "\n",
    "receiver_eur_6Y = IRS(notional=180000000,\n",
    "                      swapDirection=SwapDirection.RECEIVER,\n",
    "                      timeToSwapStart=ql.Period(2,ql.Days),\n",
    "                      timeToSwapEnd=ql.Period(6,ql.Years),\n",
    "                      index=InterestRateIndex.EURIBOR6M)"
   ]
  },
  {
   "cell_type": "markdown",
   "metadata": {},
   "source": [
    "We create three collateral agreements for which only VM but not IM is exchanged. The portfolios associated with the first two collateral agreements only consist of one of the two trades, while the portfolio associated with the third collateral agreement contains both trades."
   ]
  },
  {
   "cell_type": "code",
   "execution_count": 3,
   "metadata": {
    "pycharm": {
     "name": "#%%\n"
    }
   },
   "outputs": [],
   "source": [
    "ca_together_vm_only = CollateralAgreement(initialMargining = InitialMargining.NO_IM)\n",
    "ca_together_vm_only.link_sa_ccr_instance(SA_CCR(ca_together_vm_only))\n",
    "ca_together_vm_only.add_trades([payer_usd_6Y, receiver_eur_6Y])\n",
    "\n",
    "ca_usd_vm_only = CollateralAgreement(initialMargining = InitialMargining.NO_IM)\n",
    "ca_usd_vm_only.link_sa_ccr_instance(SA_CCR(ca_usd_vm_only))\n",
    "ca_usd_vm_only.add_trades(payer_usd_6Y)\n",
    "\n",
    "ca_eur_vm_only = CollateralAgreement(initialMargining = InitialMargining.NO_IM)\n",
    "ca_eur_vm_only.link_sa_ccr_instance(SA_CCR(ca_eur_vm_only))\n",
    "ca_eur_vm_only.add_trades(receiver_eur_6Y)"
   ]
  },
  {
   "cell_type": "markdown",
   "metadata": {
    "pycharm": {
     "name": "#%% md\n"
    }
   },
   "source": [
    "We allocate the EAD of the portfolio containing both trades to the two individual trades."
   ]
  },
  {
   "cell_type": "code",
   "execution_count": 4,
   "metadata": {
    "pycharm": {
     "name": "#%%\n"
    }
   },
   "outputs": [],
   "source": [
    "eulerAllocator = EulerAllocator(ca_together_vm_only)\n",
    "eulerAllocator.fdApproach2 = FdApproach2.Central\n",
    "alloc = eulerAllocator.allocate_ead()"
   ]
  },
  {
   "cell_type": "markdown",
   "metadata": {
    "pycharm": {
     "name": "#%% md\n"
    }
   },
   "source": [
    "We repeat the same process for collateral agreements for which VM and IM is exchanged. In this case, we also allocate the IM in addition to the EAD."
   ]
  },
  {
   "cell_type": "code",
   "execution_count": 6,
   "metadata": {
    "pycharm": {
     "name": "#%%\n"
    }
   },
   "outputs": [],
   "source": [
    "ca_together_vm_im = CollateralAgreement(initialMargining = InitialMargining.SIMM)\n",
    "ca_together_vm_im.link_sa_ccr_instance(SA_CCR(ca_together_vm_im))\n",
    "ca_together_vm_im.add_trades([payer_usd_6Y, receiver_eur_6Y])\n",
    "\n",
    "ca_usd_vm_im = CollateralAgreement(initialMargining = InitialMargining.SIMM)\n",
    "ca_usd_vm_im.link_sa_ccr_instance(SA_CCR(ca_usd_vm_im))\n",
    "ca_usd_vm_im.add_trades(payer_usd_6Y)\n",
    "\n",
    "ca_eur_vm_im = CollateralAgreement(initialMargining = InitialMargining.SIMM)\n",
    "ca_eur_vm_im.link_sa_ccr_instance(SA_CCR(ca_eur_vm_im))\n",
    "ca_eur_vm_im.add_trades(receiver_eur_6Y)\n",
    "\n",
    "eulerAllocator2 = EulerAllocator(ca_together_vm_im)\n",
    "eulerAllocator2.fdApproach2 = FdApproach2.Central\n",
    "alloc2 = eulerAllocator2.allocate_ead()\n",
    "\n",
    "alloc_im = eulerAllocator2.allocate_im()"
   ]
  },
  {
   "cell_type": "code",
   "execution_count": 6,
   "metadata": {
    "pycharm": {
     "name": "#%%\n"
    },
    "tags": [
     "hide_cell"
    ]
   },
   "outputs": [],
   "source": [
    "def trrep(t):\n",
    "    import ast\n",
    "    dic = ast.literal_eval(str(t))\n",
    "    if dic['Instrument'] in ['IRS','OIS']:\n",
    "        return '{:,.0f}Mn '.format(dic['Notional']/1000000)+t.index.name+' '+t.swapDirection.name+' '+dic['Instrument']+' '+str(t.ql_timeToSwapEnd)\n",
    "    else:\n",
    "        return '{:,d}'.format(t.underlying_swap.notional)+' '+t.underlying_swap.index.name+' '+t.underlying_swap.swapDirection.name+' '+dic['Instrument']+' '+str(t.underlying_swap.ql_timeToSwapStart) + ' to ' + str(t.underlying_swap.ql_timeToSwapEnd)"
   ]
  },
  {
   "cell_type": "markdown",
   "metadata": {},
   "source": [
    "This yields the following results for the calculated EADs and IMs:"
   ]
  },
  {
   "cell_type": "code",
   "execution_count": 7,
   "metadata": {
    "pycharm": {
     "name": "#%%\n"
    },
    "tags": [
     "hide_input"
    ]
   },
   "outputs": [
    {
     "data": {
      "text/plain": "                                 (Standalone) EAD VM only  (Standalone) IM  \\\n180Mn EURIBOR6M RECEIVER IRS 6Y             1,957,315 USD    6,079,460 USD   \n1,000Mn USDLIBOR3M PAYER IRS 6Y            10,873,970 USD   28,762,683 USD   \nPortfolio                                  12,831,284 USD   28,059,093 USD   \n\n                                 (Standalone) EAD VM + IM  \n180Mn EURIBOR6M RECEIVER IRS 6Y               286,420 USD  \n1,000Mn USDLIBOR3M PAYER IRS 6Y             2,014,873 USD  \nPortfolio                                   3,074,959 USD  ",
      "text/html": "<div>\n<style scoped>\n    .dataframe tbody tr th:only-of-type {\n        vertical-align: middle;\n    }\n\n    .dataframe tbody tr th {\n        vertical-align: top;\n    }\n\n    .dataframe thead th {\n        text-align: right;\n    }\n</style>\n<table border=\"1\" class=\"dataframe\">\n  <thead>\n    <tr style=\"text-align: right;\">\n      <th></th>\n      <th>(Standalone) EAD VM only</th>\n      <th>(Standalone) IM</th>\n      <th>(Standalone) EAD VM + IM</th>\n    </tr>\n  </thead>\n  <tbody>\n    <tr>\n      <th>180Mn EURIBOR6M RECEIVER IRS 6Y</th>\n      <td>1,957,315 USD</td>\n      <td>6,079,460 USD</td>\n      <td>286,420 USD</td>\n    </tr>\n    <tr>\n      <th>1,000Mn USDLIBOR3M PAYER IRS 6Y</th>\n      <td>10,873,970 USD</td>\n      <td>28,762,683 USD</td>\n      <td>2,014,873 USD</td>\n    </tr>\n    <tr>\n      <th>Portfolio</th>\n      <td>12,831,284 USD</td>\n      <td>28,059,093 USD</td>\n      <td>3,074,959 USD</td>\n    </tr>\n  </tbody>\n</table>\n</div>"
     },
     "execution_count": 7,
     "metadata": {},
     "output_type": "execute_result"
    }
   ],
   "source": [
    "pd.options.display.float_format = '{:,.0f} USD'.format\n",
    "data = {'Title':[trrep(receiver_eur_6Y),\n",
    "                 trrep(payer_usd_6Y),\n",
    "                 'Portfolio'],\n",
    "        '(Standalone) EAD VM only':[ca_eur_vm_only.get_sa_ccr_model().get_ead(),\n",
    "                                  ca_usd_vm_only.get_sa_ccr_model().get_ead(),\n",
    "                                  ca_together_vm_only.get_sa_ccr_model().get_ead()],\n",
    "        '(Standalone) EAD VM + IM':[ca_eur_vm_im.get_sa_ccr_model().get_ead(),\n",
    "                                  ca_usd_vm_im.get_sa_ccr_model().get_ead(),\n",
    "                                  ca_together_vm_im.get_sa_ccr_model().get_ead()],\n",
    "        '(Standalone) IM':[ca_eur_vm_im.get_im_model().get_risk_measure(),\n",
    "                         ca_usd_vm_im.get_im_model().get_risk_measure(),\n",
    "                         ca_together_vm_im.get_im_model().get_risk_measure()]}\n",
    "df = pd.DataFrame.from_dict(data)\n",
    "df = df.set_index('Title')\n",
    "df.index.name = None\n",
    "df[['(Standalone) EAD VM only','(Standalone) IM','(Standalone) EAD VM + IM']]"
   ]
  },
  {
   "cell_type": "markdown",
   "metadata": {},
   "source": [
    "And the following allocations of the risk measures:"
   ]
  },
  {
   "cell_type": "code",
   "execution_count": 8,
   "metadata": {
    "pycharm": {
     "name": "#%%\n"
    },
    "scrolled": true,
    "tags": [
     "hide_input"
    ]
   },
   "outputs": [
    {
     "data": {
      "text/plain": "                                 Allocated EAD VM only  Allocated IM  \\\n180Mn EURIBOR6M RECEIVER IRS 6Y                 15.25%        -0.19%   \n1,000Mn USDLIBOR3M PAYER IRS 6Y                 84.75%       100.19%   \n\n                                 Allocated EAD VM + IM  \n180Mn EURIBOR6M RECEIVER IRS 6Y                 34.95%  \n1,000Mn USDLIBOR3M PAYER IRS 6Y                 65.05%  ",
      "text/html": "<div>\n<style scoped>\n    .dataframe tbody tr th:only-of-type {\n        vertical-align: middle;\n    }\n\n    .dataframe tbody tr th {\n        vertical-align: top;\n    }\n\n    .dataframe thead th {\n        text-align: right;\n    }\n</style>\n<table border=\"1\" class=\"dataframe\">\n  <thead>\n    <tr style=\"text-align: right;\">\n      <th></th>\n      <th>Allocated EAD VM only</th>\n      <th>Allocated IM</th>\n      <th>Allocated EAD VM + IM</th>\n    </tr>\n  </thead>\n  <tbody>\n    <tr>\n      <th>180Mn EURIBOR6M RECEIVER IRS 6Y</th>\n      <td>15.25%</td>\n      <td>-0.19%</td>\n      <td>34.95%</td>\n    </tr>\n    <tr>\n      <th>1,000Mn USDLIBOR3M PAYER IRS 6Y</th>\n      <td>84.75%</td>\n      <td>100.19%</td>\n      <td>65.05%</td>\n    </tr>\n  </tbody>\n</table>\n</div>"
     },
     "execution_count": 8,
     "metadata": {},
     "output_type": "execute_result"
    }
   ],
   "source": [
    "pd.options.display.float_format = '{:.2%}'.format\n",
    "data = {'Title':[trrep(receiver_eur_6Y),\n",
    "                 trrep(payer_usd_6Y),\n",
    "                 'Portfolio'],\n",
    "        'Allocated EAD VM only':[alloc[receiver_eur_6Y]/sum(alloc.values()),\n",
    "                                 alloc[payer_usd_6Y]/sum(alloc.values()),\n",
    "                                 sum(alloc.values())],\n",
    "        'Allocated IM':[alloc_im[receiver_eur_6Y]/sum(alloc_im.values()),\n",
    "                        alloc_im[payer_usd_6Y]/sum(alloc_im.values()),\n",
    "                        sum(alloc_im.values())],\n",
    "        'Allocated EAD VM + IM':[alloc2[receiver_eur_6Y]/sum(alloc2.values()),\n",
    "                                 alloc2[payer_usd_6Y]/sum(alloc2.values()),\n",
    "                                 sum(alloc2.values())]}\n",
    "df = pd.DataFrame.from_dict(data)\n",
    "df = df.set_index('Title')\n",
    "df.index.name = None\n",
    "df = df.loc[~df.index.isin(['Portfolio'])]\n",
    "df"
   ]
  },
  {
   "cell_type": "markdown",
   "metadata": {},
   "source": [
    "As can be seen the EUR Receiver Swap is considered to increase risk for the EAD risk measure while the IM risk measure considers it to be a hedge position. Further discussion of this result in section \\todo{Reference required}. "
   ]
  },
  {
   "cell_type": "code",
   "execution_count": 9,
   "metadata": {
    "pycharm": {
     "name": "#%%\n"
    },
    "tags": [
     "hide_cell"
    ]
   },
   "outputs": [],
   "source": [
    "# pd.options.display.float_format = '{:,.2f} USD'.format\n",
    "# df = pd.DataFrame(df.loc['Portfolio']).transpose()\n",
    "# df.rename(columns = {'Allocated EAD VM only': 'EAD VM only',\n",
    "#                      'Allocated IM': 'IM',\n",
    "#                      'Allocated EAD VM + IM':'EAD VM + IM'})"
   ]
  },
  {
   "cell_type": "markdown",
   "metadata": {
    "pycharm": {
     "name": "#%% md\n"
    },
    "tags": [
     "hide_cell"
    ]
   },
   "source": [
    "Observations\n",
    "\n",
    "- EAD under consideration of VM and IM is not subadditive\n",
    "- EUR IRS is lowering IM but increasing EAD without IM, therefore significantly increasing EAD with VM and IM\n",
    "- Explaining very different allocations to the EUR IRS 15% of EAD without IM, 40% of EAD with IM, -0.5% of the IM\n",
    "- Since no hedge effect under SA-CCR between the two trades sum of standalone portfolios = Portfolio allocation and allocated value = standalone EAD"
   ]
  },
  {
   "cell_type": "markdown",
   "metadata": {
    "pycharm": {
     "name": "#%% md\n"
    },
    "tags": [
     "hide_cell"
    ]
   },
   "source": [
    "To make it a bit simpler to compare"
   ]
  },
  {
   "cell_type": "markdown",
   "metadata": {
    "pycharm": {
     "name": "#%% md\n"
    },
    "tags": [
     "hide_cell"
    ]
   },
   "source": [
    "I want to try to find the optimal hedge notional of the EUR trade to minimize ISDA SIMM"
   ]
  },
  {
   "cell_type": "code",
   "execution_count": 10,
   "metadata": {
    "pycharm": {
     "name": "#%%\n"
    },
    "tags": [
     "hide_cell"
    ]
   },
   "outputs": [
    {
     "data": {
      "text/plain": "     fun: 28212680.863763526\n message: 'Solution found.'\n    nfev: 37\n  status: 0\n success: True\n       x: 99999998.48791124"
     },
     "execution_count": 10,
     "metadata": {},
     "output_type": "execute_result"
    }
   ],
   "source": [
    "def find_notional_for_minimal_simm(notional):\n",
    "    eur_trade = IRS(notional=notional,\n",
    "                      swapDirection=SwapDirection.RECEIVER,\n",
    "                      timeToSwapStart=ql.Period(2,ql.Days),\n",
    "                      timeToSwapEnd=ql.Period(6,ql.Years),\n",
    "                      index=InterestRateIndex.EURIBOR6M)\n",
    "    ca_together_vm_im.replace_trade(receiver_eur_6Y, eur_trade)\n",
    "    result = ca_together_vm_im.get_im_model().get_risk_measure()\n",
    "    ca_together_vm_im.replace_trade(eur_trade, receiver_eur_6Y)\n",
    "    return result\n",
    "\n",
    "opt_notional = optimize.minimize_scalar(find_notional_for_minimal_simm,bounds=(5, 100000000), method='bounded')\n",
    "opt_notional"
   ]
  },
  {
   "cell_type": "markdown",
   "metadata": {
    "pycharm": {
     "name": "#%% md\n"
    }
   },
   "source": [
    "To further showcase the differences between the two risk measures and their potentially unexpected interaction we add another trade to the portfolio.\n",
    "\n",
    "For this we add a one year Swaption on a five year USD receiver swap to the portfolio and reallocate:"
   ]
  },
  {
   "cell_type": "code",
   "execution_count": 11,
   "metadata": {
    "pycharm": {
     "name": "#%%\n"
    },
    "tags": [
     "hide_cell"
    ]
   },
   "outputs": [],
   "source": [
    "# receiver_usd_30y = OIS(notional=3600000,\n",
    "#                        swapDirection=SwapDirection.RECEIVER,\n",
    "#                        timeToSwapStart=ql.Period(2, ql.Days),\n",
    "#                        timeToSwapEnd=ql.Period(30, ql.Years),\n",
    "#                        index=InterestRateIndex.FEDFUNDS)\n",
    "# ca_together_vm_im.add_trades(receiver_usd_30y)\n",
    "# ca_together_vm_only.add_trades(receiver_usd_30y)\n",
    "#\n",
    "# alloc = eulerAllocator.allocate_ead()\n",
    "# alloc2 = eulerAllocator2.allocate_ead()\n",
    "# alloc_im = eulerAllocator2.allocate_im()"
   ]
  },
  {
   "cell_type": "code",
   "execution_count": 12,
   "metadata": {
    "pycharm": {
     "name": "#%%\n"
    },
    "tags": [
     "hide_cell"
    ]
   },
   "outputs": [],
   "source": [
    "#\n",
    "# data = {'Title':[trrep(receiver_eur_6Y),\n",
    "#                  trrep(payer_usd_6Y),\n",
    "#                  trrep(receiver_usd_30y),\n",
    "#                  'Portfolio'],\n",
    "#         'Allocated EAD VM only':[alloc[receiver_eur_6Y]/sum(alloc.values()),\n",
    "#                                  alloc[payer_usd_6Y]/sum(alloc.values()),\n",
    "#                                  alloc[receiver_usd_30y]/sum(alloc.values()),\n",
    "#                                  sum(alloc.values())],\n",
    "#         'Allocated IM':[alloc_im[receiver_eur_6Y]/sum(alloc_im.values()),\n",
    "#                         alloc_im[payer_usd_6Y]/sum(alloc_im.values()),\n",
    "#                         alloc_im[receiver_usd_30y]/sum(alloc_im.values()),\n",
    "#                         sum(alloc_im.values())],\n",
    "#         'Allocated EAD VM + IM':[alloc2[receiver_eur_6Y]/sum(alloc2.values()),\n",
    "#                                  alloc2[payer_usd_6Y]/sum(alloc2.values()),\n",
    "#                                  alloc2[receiver_usd_30y]/sum(alloc2.values()),\n",
    "#                                  sum(alloc2.values())]}\n",
    "# df = pd.DataFrame.from_dict(data)\n",
    "# df = df.set_index('Title')\n",
    "# df.index.name = None\n",
    "# df"
   ]
  },
  {
   "cell_type": "code",
   "execution_count": 13,
   "metadata": {
    "pycharm": {
     "name": "#%%\n"
    }
   },
   "outputs": [],
   "source": [
    "ul_swap = IRS(notional=500000000,\n",
    "              swapDirection=SwapDirection.RECEIVER,\n",
    "              timeToSwapStart=ql.Period(1, ql.Years),\n",
    "              timeToSwapEnd=ql.Period(6, ql.Years),\n",
    "              index = InterestRateIndex.USDLIBOR3M)\n",
    "rec_swaption_1_6 = Swaption(underlyingSwap=ul_swap,\n",
    "                            optionMaturity=ql.Period(1, ql.Years))\n",
    "\n",
    "ca_together_vm_im.add_trades(rec_swaption_1_6)\n",
    "ca_together_vm_only.add_trades(rec_swaption_1_6)\n",
    "\n",
    "alloc = eulerAllocator.allocate_ead()\n",
    "alloc2 = eulerAllocator2.allocate_ead()\n",
    "alloc_im = eulerAllocator2.allocate_im()"
   ]
  },
  {
   "cell_type": "markdown",
   "metadata": {},
   "source": [
    "This yields the following results:"
   ]
  },
  {
   "cell_type": "code",
   "execution_count": 14,
   "metadata": {
    "pycharm": {
     "name": "#%%\n"
    },
    "tags": [
     "hide_input"
    ]
   },
   "outputs": [
    {
     "data": {
      "text/plain": "                                                   Allocated EAD VM only  \\\n180Mn EURIBOR6M RECEIVER IRS 6Y                                   17.70%   \n1,000Mn USDLIBOR3M PAYER IRS 6Y                                   98.33%   \n500,000,000 USDLIBOR3M RECEIVER Swaption 1Y to 6Y                -16.04%   \n\n                                                   Allocated IM  \\\n180Mn EURIBOR6M RECEIVER IRS 6Y                           0.50%   \n1,000Mn USDLIBOR3M PAYER IRS 6Y                          80.07%   \n500,000,000 USDLIBOR3M RECEIVER Swaption 1Y to 6Y        19.44%   \n\n                                                   Allocated EAD VM + IM  \n180Mn EURIBOR6M RECEIVER IRS 6Y                                   43.69%  \n1,000Mn USDLIBOR3M PAYER IRS 6Y                                  125.93%  \n500,000,000 USDLIBOR3M RECEIVER Swaption 1Y to 6Y                -69.62%  ",
      "text/html": "<div>\n<style scoped>\n    .dataframe tbody tr th:only-of-type {\n        vertical-align: middle;\n    }\n\n    .dataframe tbody tr th {\n        vertical-align: top;\n    }\n\n    .dataframe thead th {\n        text-align: right;\n    }\n</style>\n<table border=\"1\" class=\"dataframe\">\n  <thead>\n    <tr style=\"text-align: right;\">\n      <th></th>\n      <th>Allocated EAD VM only</th>\n      <th>Allocated IM</th>\n      <th>Allocated EAD VM + IM</th>\n    </tr>\n  </thead>\n  <tbody>\n    <tr>\n      <th>180Mn EURIBOR6M RECEIVER IRS 6Y</th>\n      <td>17.70%</td>\n      <td>0.50%</td>\n      <td>43.69%</td>\n    </tr>\n    <tr>\n      <th>1,000Mn USDLIBOR3M PAYER IRS 6Y</th>\n      <td>98.33%</td>\n      <td>80.07%</td>\n      <td>125.93%</td>\n    </tr>\n    <tr>\n      <th>500,000,000 USDLIBOR3M RECEIVER Swaption 1Y to 6Y</th>\n      <td>-16.04%</td>\n      <td>19.44%</td>\n      <td>-69.62%</td>\n    </tr>\n  </tbody>\n</table>\n</div>"
     },
     "execution_count": 14,
     "metadata": {},
     "output_type": "execute_result"
    }
   ],
   "source": [
    "pd.options.display.float_format = '{:.2%}'.format\n",
    "data = {'Title':[trrep(receiver_eur_6Y),\n",
    "                 trrep(payer_usd_6Y),\n",
    "                 # trrep(receiver_usd_30y),\n",
    "                 trrep(rec_swaption_1_6),\n",
    "                 'Portfolio'],\n",
    "        'Allocated EAD VM only':\n",
    "            [alloc[receiver_eur_6Y]/sum(alloc.values()),\n",
    "             alloc[payer_usd_6Y]/sum(alloc.values()),\n",
    "             alloc[rec_swaption_1_6]/sum(alloc.values()),\n",
    "             sum(alloc.values())],\n",
    "        'Allocated IM':\n",
    "            [alloc_im[receiver_eur_6Y]/sum(alloc_im.values()),\n",
    "             alloc_im[payer_usd_6Y]/sum(alloc_im.values()),\n",
    "             alloc_im[rec_swaption_1_6]/sum(alloc_im.values()),\n",
    "             sum(alloc_im.values())],\n",
    "        'Allocated EAD VM + IM':\n",
    "            [alloc2[receiver_eur_6Y]/sum(alloc2.values()),\n",
    "             alloc2[payer_usd_6Y]/sum(alloc2.values()),\n",
    "             alloc2[rec_swaption_1_6]/sum(alloc2.values()),\n",
    "             sum(alloc2.values())]}\n",
    "df = pd.DataFrame.from_dict(data)\n",
    "df = df.set_index('Title')\n",
    "df.index.name = None\n",
    "df.loc[~df.index.isin(['Portfolio'])]"
   ]
  },
  {
   "cell_type": "code",
   "execution_count": 15,
   "metadata": {
    "pycharm": {
     "name": "#%%\n"
    },
    "tags": [
     "hide_input"
    ]
   },
   "outputs": [
    {
     "data": {
      "text/plain": "             EAD VM only             IM   EAD VM + IM\nPortfolio 11,058,114 USD 34,796,088 USD 1,586,748 USD",
      "text/html": "<div>\n<style scoped>\n    .dataframe tbody tr th:only-of-type {\n        vertical-align: middle;\n    }\n\n    .dataframe tbody tr th {\n        vertical-align: top;\n    }\n\n    .dataframe thead th {\n        text-align: right;\n    }\n</style>\n<table border=\"1\" class=\"dataframe\">\n  <thead>\n    <tr style=\"text-align: right;\">\n      <th></th>\n      <th>EAD VM only</th>\n      <th>IM</th>\n      <th>EAD VM + IM</th>\n    </tr>\n  </thead>\n  <tbody>\n    <tr>\n      <th>Portfolio</th>\n      <td>11,058,114 USD</td>\n      <td>34,796,088 USD</td>\n      <td>1,586,748 USD</td>\n    </tr>\n  </tbody>\n</table>\n</div>"
     },
     "execution_count": 15,
     "metadata": {},
     "output_type": "execute_result"
    }
   ],
   "source": [
    "pd.options.display.float_format = '{:,.0f} USD'.format\n",
    "df = pd.DataFrame(df.loc['Portfolio']).transpose()\n",
    "df.rename(columns = {'Allocated EAD VM only': 'EAD VM only',\n",
    "                     'Allocated IM': 'IM',\n",
    "                     'Allocated EAD VM + IM':'EAD VM + IM'})"
   ]
  },
  {
   "cell_type": "markdown",
   "metadata": {
    "pycharm": {
     "name": "#%% md\n"
    }
   },
   "source": [
    "We observe that the Swaption is considered a hedge for the SA-CCR EAD risk measure while it increases risk under the ISDA-SIMM IM risk measure.\n",
    "The displayed results are discussed further in \\todo{Reference missing}"
   ]
  },
  {
   "cell_type": "markdown",
   "metadata": {
    "pycharm": {
     "name": "#%% md\n"
    },
    "tags": [
     "hide_cell"
    ]
   },
   "source": [
    "Observations:\n",
    "\n",
    "- Swaption is considered a hedge for EAD while it is increasing IM therefore very efficient in decreasing EAD. Opposite phenomenon"
   ]
  },
  {
   "cell_type": "code",
   "execution_count": 16,
   "metadata": {
    "pycharm": {
     "name": "#%%\n"
    },
    "tags": [
     "hide_cell"
    ]
   },
   "outputs": [],
   "source": [
    "export('SA-CCR Euler allocation of an exemplary rates portfolio.ipynb')"
   ]
  }
 ],
 "metadata": {
  "celltoolbar": "Tags",
  "kernelspec": {
   "display_name": "Python 3",
   "language": "python",
   "name": "python3"
  },
  "language_info": {
   "codemirror_mode": {
    "name": "ipython",
    "version": 3
   },
   "file_extension": ".py",
   "mimetype": "text/x-python",
   "name": "python",
   "nbconvert_exporter": "python",
   "pygments_lexer": "ipython3",
   "version": "3.8.2"
  }
 },
 "nbformat": 4,
 "nbformat_minor": 1
}