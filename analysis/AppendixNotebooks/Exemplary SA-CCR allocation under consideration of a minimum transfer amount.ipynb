{
 "cells": [
  {
   "cell_type": "markdown",
   "metadata": {
    "collapsed": true,
    "pycharm": {
     "name": "#%% md\n"
    }
   },
   "source": [
    "# Exemplary SA-CCR allocation under consideration of a minimum transfer amount."
   ]
  },
  {
   "cell_type": "code",
   "execution_count": 1,
   "metadata": {
    "pycharm": {
     "name": "#%% import cell\n"
    },
    "tags": [
     "hide_cell"
    ]
   },
   "outputs": [],
   "source": [
    "import QuantLib as ql\n",
    "from IPython.core.display import display, Markdown\n",
    "from scipy import optimize\n",
    "from allocation.eulerAllocator import EulerAllocator\n",
    "from collateralAgreement.collateralAgreement import CollateralAgreement\n",
    "from instruments.interestRateInstrument.irs import IRS\n",
    "from jupyterUtils import export\n",
    "from marketdata import init_marketdata\n",
    "from marketdata.interestRateIndices import InterestRateIndex\n",
    "from sa_ccr.sa_ccr import SA_CCR\n",
    "asdf = 1"
   ]
  },
  {
   "cell_type": "markdown",
   "metadata": {
    "pycharm": {
     "name": "#%% md\n"
    }
   },
   "source": [
    "The result of Appendix \\ref{homogeneity-of-c-for-a-single-trade-portfolio} shows, that inclusion of the MTA results in a local plateau of $C$.\n",
    "\n",
    "In this section we want to investigate if inclusion of the MTA breaks homogeneity of the SA-CCR EAD function and what can be done to mitigate this effect.\n",
    "\n",
    "We initialize a 200Bn IRS, a collateral agreement with a 0 threshold and a 1Bn MTA."
   ]
  },
  {
   "cell_type": "code",
   "execution_count": 2,
   "metadata": {
    "pycharm": {
     "name": "#%%\n"
    }
   },
   "outputs": [],
   "source": [
    "irs = IRS(notional = 200000000000,\n",
    "          timeToSwapStart=ql.Period(2, ql.Days),\n",
    "          timeToSwapEnd=ql.Period(10, ql.Years),\n",
    "          index = InterestRateIndex.USDLIBOR3M)\n",
    "ca = CollateralAgreement(threshold=0,\n",
    "                         mta=1000000000)\n",
    "ca.link_sa_ccr_instance(SA_CCR(ca))\n",
    "ca.add_trades(irs)\n",
    "\n",
    "ca.set_start_collateral_amount(ca.get_C())"
   ]
  },
  {
   "cell_type": "code",
   "execution_count": 3,
   "metadata": {
    "pycharm": {
     "name": "#%%\n"
    },
    "tags": [
     "hide_input"
    ]
   },
   "outputs": [
    {
     "data": {
      "text/plain": "<IPython.core.display.Markdown object>",
      "text/markdown": "The starting collateral $C_{t-1}$ is set to 9038157077 USD which is also the calculated IM since the VM of this par IRS is 0."
     },
     "metadata": {},
     "output_type": "display_data"
    }
   ],
   "source": [
    "display(Markdown('The starting collateral $C_{t-1}$ is set to %d USD which is also the calculated IM since the VM of this par IRS is %d.' %(ca.get_C(), ca.get_vm_model().get_vm())))"
   ]
  },
  {
   "cell_type": "markdown",
   "metadata": {
    "pycharm": {
     "name": "#%% md\n"
    }
   },
   "source": [
    "The EAD is:"
   ]
  },
  {
   "cell_type": "code",
   "execution_count": 4,
   "metadata": {
    "pycharm": {
     "name": "#%%\n"
    }
   },
   "outputs": [
    {
     "data": {
      "text/plain": "582881953.4866074"
     },
     "execution_count": 4,
     "metadata": {},
     "output_type": "execute_result"
    }
   ],
   "source": [
    "original_ead = ca.get_sa_ccr_model().get_risk_measure()\n",
    "original_ead"
   ]
  },
  {
   "cell_type": "markdown",
   "metadata": {
    "pycharm": {
     "name": "#%% md\n"
    }
   },
   "source": [
    "When bumping the notional of the irs by 0.01%, we can see that the collateral of the portfolio does not change due to the MTA."
   ]
  },
  {
   "cell_type": "code",
   "execution_count": 5,
   "metadata": {
    "pycharm": {
     "name": "#%%\n"
    }
   },
   "outputs": [
    {
     "name": "stdout",
     "output_type": "stream",
     "text": [
      "EAD:  583024482\n",
      "C:   9038157077\n"
     ]
    }
   ],
   "source": [
    "ca.remove_all_trades()\n",
    "ca.add_trades(irs.get_bumped_copy(rel_bump_size=0.0001))\n",
    "ead_bumped_mta = ca.get_sa_ccr_model().get_risk_measure()\n",
    "print('EAD:  %d' %ead_bumped_mta)\n",
    "print('C:   %d' %ca.get_C())"
   ]
  },
  {
   "cell_type": "code",
   "execution_count": 6,
   "metadata": {
    "pycharm": {
     "name": "#%%\n"
    }
   },
   "outputs": [],
   "source": [
    "ead_bumped_mta = ca.get_sa_ccr_model().get_risk_measure()"
   ]
  },
  {
   "cell_type": "markdown",
   "metadata": {
    "pycharm": {
     "name": "#%% md\n"
    }
   },
   "source": [
    "When temporarily disabling the MTA the resulting EAD and C differ."
   ]
  },
  {
   "cell_type": "code",
   "execution_count": 7,
   "metadata": {
    "pycharm": {
     "name": "#%%\n"
    }
   },
   "outputs": [
    {
     "name": "stdout",
     "output_type": "stream",
     "text": [
      "EAD:  582940242\n",
      "C:   9039060887\n"
     ]
    }
   ],
   "source": [
    "ca.mta = 0\n",
    "ead_bumped_no_mta = ca.get_sa_ccr_model().get_risk_measure()\n",
    "print('EAD:  %d' %ead_bumped_no_mta)\n",
    "print('C:   %d' %ca.get_C())"
   ]
  },
  {
   "cell_type": "markdown",
   "metadata": {
    "pycharm": {
     "name": "#%% md\n"
    }
   },
   "source": [
    "Calculating the forward difference in line with equation \\todo{reference forward dif eq} with and without consideration of the MTA yields"
   ]
  },
  {
   "cell_type": "code",
   "execution_count": 8,
   "metadata": {
    "pycharm": {
     "name": "#%%\n"
    }
   },
   "outputs": [
    {
     "name": "stdout",
     "output_type": "stream",
     "text": [
      "With MTA:    1425289375\n",
      "Without MTA:  582887602\n"
     ]
    }
   ],
   "source": [
    "print('With MTA:    %d' %((ead_bumped_mta-original_ead)/0.0001))\n",
    "print('Without MTA:  %d' %((ead_bumped_no_mta-original_ead)/0.0001))"
   ]
  },
  {
   "cell_type": "markdown",
   "metadata": {
    "pycharm": {
     "name": "#%% md\n"
    }
   },
   "source": [
    "### Impact of the minimum transfer amount on RC\n",
    "\n",
    "the MTA also impacts RC as displayed in table \\ref{tab:Margin in SA-CCR}. Since IM reduces the RC the most relevant case is when the calculated IM is below the threshold.\n",
    "\n",
    "In an example we try to allocate the EAD of a portfolio consisting of a single 100Mn IRS. The associated collateral agreement has a threshold of 50Mn and a minimum transfer amount of 2Mn."
   ]
  },
  {
   "cell_type": "code",
   "execution_count": 9,
   "metadata": {
    "pycharm": {
     "name": "#%%\n"
    }
   },
   "outputs": [
    {
     "name": "stdout",
     "output_type": "stream",
     "text": [
      "RC:      2000000 USD\n",
      "RC*1.4:  2800000 USD\n",
      "PFE:     1179574 USD\n",
      "PFE*1.4: 1651404 USD\n",
      "EAD:     4451404 USD\n"
     ]
    }
   ],
   "source": [
    "irs = IRS(notional=100000000,\n",
    "          timeToSwapStart=ql.Period(2, ql.Days),\n",
    "          timeToSwapEnd=ql.Period(10, ql.Years),\n",
    "          index=InterestRateIndex.USDLIBOR3M)\n",
    "\n",
    "ca = CollateralAgreement(threshold=50000000,\n",
    "                         mta = 2000000)\n",
    "ca.link_sa_ccr_instance(SA_CCR(ca))\n",
    "ca.add_trades(irs)\n",
    "\n",
    "print('RC:      %d USD' %ca.get_sa_ccr_model().get_rc())\n",
    "print('RC*1.4:  %d USD' %(ca.get_sa_ccr_model().get_rc()*1.4))\n",
    "print('PFE:     %d USD' %(ca.get_sa_ccr_model().get_pfe()))\n",
    "print('PFE*1.4: %d USD' %(ca.get_sa_ccr_model().get_pfe()*1.4))\n",
    "print('EAD:     %d USD' %ca.get_sa_ccr_model().get_risk_measure())"
   ]
  },
  {
   "cell_type": "markdown",
   "metadata": {
    "pycharm": {
     "name": "#%% md\n"
    }
   },
   "source": [
    "The EAD is the sum of the RC and the PFE component time the $\\alpha$ factor of 1.4.\n",
    "In all previous examples, the RC has always been floored at 0 since the received IM was higher than the MTA or since the MTA was 0.\n",
    "\n",
    "Again, Euler allocation is not possible, because the EAD is a sum of the PFE, which is a function of the portfolio notional and the RC which, at least locally, is a constant.\n",
    "Similar to the issue with threshold described in \\ref{exemplary-sa-ccr-allocation-under-consideration-of-an-initial-margin-threshold} one can only allocate without MTA and then allocate the remainder $EAD_{\\text{MTA}}-EAD_{\\text{no MTA}}$ according to some rule.\n",
    "\n",
    "Below, we allocate the ead assuming a mta of 0."
   ]
  },
  {
   "cell_type": "code",
   "execution_count": 10,
   "metadata": {
    "pycharm": {
     "name": "#%%\n"
    }
   },
   "outputs": [
    {
     "data": {
      "text/plain": "1651404.724563472"
     },
     "execution_count": 10,
     "metadata": {},
     "output_type": "execute_result"
    }
   ],
   "source": [
    "ca.mta = 0\n",
    "eulerAllocator = EulerAllocator(ca)\n",
    "allocation = eulerAllocator.allocate_ead()\n",
    "ca.mta = 2000000\n",
    "allocation[irs]"
   ]
  },
  {
   "cell_type": "markdown",
   "metadata": {
    "pycharm": {
     "name": "#%% md\n"
    }
   },
   "source": [
    "As we can see the result equals $PFE*1.4$ of the entire portfolio but the RC has not been allocated.\n",
    "\n",
    "The RC is also $>0$, if $TH < IM_{calc} < MTA$. Based on the available marketdata this is e.g. the case for an IRS with a notional of 1130Mn USD."
   ]
  },
  {
   "cell_type": "code",
   "execution_count": 11,
   "metadata": {
    "pycharm": {
     "name": "#%%\n"
    },
    "tags": [
     "hide_cell"
    ]
   },
   "outputs": [],
   "source": [
    "# In this case it is trivial to allocate the remainder of $EAD_{\\text{MTA}} - EAD_{\\text{no MTA}}$ to the single trade of the portfolio. Generally, however, no clear, risk-sensitive approach can be identified to allocate the remainder $EAD_{\\text{MTA}} - EAD_{\\text{no MTA}}$ on the trades of the portfolio after calculating the *'base allocation'* under the assumption of no MTA."
   ]
  },
  {
   "cell_type": "code",
   "execution_count": 12,
   "metadata": {
    "pycharm": {
     "name": "#%%\n"
    }
   },
   "outputs": [
    {
     "name": "stdout",
     "output_type": "stream",
     "text": [
      "RC:        934412 USD\n",
      "PFE:     13329195 USD\n",
      "EAD/1.4: 14263607 USD\n",
      "EAD:     19969050 USD\n"
     ]
    }
   ],
   "source": [
    "irs2 = IRS(notional=1130000000,\n",
    "          timeToSwapStart=ql.Period(2, ql.Days),\n",
    "          timeToSwapEnd=ql.Period(10, ql.Years),\n",
    "          index=InterestRateIndex.USDLIBOR3M)\n",
    "\n",
    "ca.remove_all_trades()\n",
    "ca.add_trades(irs2)\n",
    "\n",
    "print('RC:        %d USD' %ca.get_sa_ccr_model().get_rc())\n",
    "print('PFE:     %d USD' %(ca.get_sa_ccr_model().get_pfe()))\n",
    "print('EAD/1.4: %d USD' %(ca.get_sa_ccr_model().get_risk_measure()/1.4))\n",
    "print('EAD:     %d USD' %ca.get_sa_ccr_model().get_risk_measure())"
   ]
  },
  {
   "cell_type": "markdown",
   "metadata": {
    "pycharm": {
     "name": "#%% md\n"
    }
   },
   "source": [
    "This observation is discussed further in \\todo{Reference appropriate section in Results}.\n"
   ]
  },
  {
   "cell_type": "code",
   "execution_count": 14,
   "metadata": {
    "pycharm": {
     "name": "#%%\n"
    },
    "tags": [
     "hide_cell"
    ]
   },
   "outputs": [],
   "source": [
    "export('Exemplary SA-CCR allocation under consideration of a minimum transfer amount.ipynb')"
   ]
  }
 ],
 "metadata": {
  "celltoolbar": "Tags",
  "kernelspec": {
   "display_name": "Python 3",
   "language": "python",
   "name": "python3"
  },
  "language_info": {
   "codemirror_mode": {
    "name": "ipython",
    "version": 3
   },
   "file_extension": ".py",
   "mimetype": "text/x-python",
   "name": "python",
   "nbconvert_exporter": "python",
   "pygments_lexer": "ipython3",
   "version": "3.8.2"
  }
 },
 "nbformat": 4,
 "nbformat_minor": 1
}