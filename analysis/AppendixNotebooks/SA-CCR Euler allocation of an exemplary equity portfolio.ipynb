{
 "cells": [
  {
   "cell_type": "markdown",
   "metadata": {
    "collapsed": true,
    "pycharm": {
     "name": "#%% md\n"
    }
   },
   "source": [
    "# SA-CCR Euler allocation of exemplary equity portfolio\n",
    "\n",
    "We set up a collateral agreements with no thresholds or MTA and add two equity options to it.\n",
    "A big put option on Adidas and a smaller call option on Adidas.\n",
    "\n",
    "We consider three cases of margining\n",
    "\n",
    "1. No margining\n",
    "2. VM only\n",
    "3. VM and bilateral IM"
   ]
  },
  {
   "cell_type": "code",
   "execution_count": 1,
   "outputs": [],
   "source": [
    "import QuantLib as ql\n",
    "from allocation.eulerAllocator import EulerAllocator\n",
    "from collateralAgreement.collateralAgreement import CollateralAgreement, Margining, InitialMargining\n",
    "from instruments.equity_instruments.equityOption import EquityOption\n",
    "from sa_ccr.sa_ccr import SA_CCR\n",
    "from utilities.Enums import Stock, TradeType, TradeDirection\n",
    "from marketdata import init_marketdata\n",
    "asdf =1"
   ],
   "metadata": {
    "collapsed": false,
    "pycharm": {
     "name": "#%% import cell\n"
    }
   }
  },
  {
   "cell_type": "code",
   "execution_count": 2,
   "outputs": [],
   "source": [
    "ca = CollateralAgreement(threshold=0,\n",
    "                         threshold_vm=0,\n",
    "                         mta=0,\n",
    "                         margining=Margining.UNMARGINED,\n",
    "                         initialMargining=InitialMargining.NO_IM)\n",
    "ca.link_sa_ccr_instance(SA_CCR(ca))\n",
    "\n",
    "ca_vm = CollateralAgreement(threshold=0,\n",
    "                            threshold_vm=0,\n",
    "                            mta=0,\n",
    "                            margining=Margining.MARGINED,\n",
    "                            initialMargining=InitialMargining.NO_IM)\n",
    "ca_vm.link_sa_ccr_instance(SA_CCR(ca_vm))\n",
    "\n",
    "ca_im = CollateralAgreement(threshold=0,\n",
    "                            threshold_vm=0,\n",
    "                            mta=0,\n",
    "                            margining=Margining.MARGINED,\n",
    "                            initialMargining=InitialMargining.SIMM)\n",
    "ca_im.link_sa_ccr_instance(SA_CCR(ca_im))"
   ],
   "metadata": {
    "collapsed": false,
    "pycharm": {
     "name": "#%%\n"
    }
   }
  },
  {
   "cell_type": "code",
   "execution_count": 3,
   "outputs": [],
   "source": [
    "eq_opt_ads_call = EquityOption(underlying=Stock.ADS,\n",
    "                               maturity=ql.Period(1, ql.Years),\n",
    "                               notional=2000000,\n",
    "                               tradeType=TradeType.CALL,\n",
    "                               tradeDirection=TradeDirection.LONG)\n",
    "\n",
    "eq_opt_ads_put = EquityOption(underlying=Stock.ADS,\n",
    "                              maturity=ql.Period(1, ql.Years),\n",
    "                              notional=3000000,\n",
    "                              tradeType=TradeType.PUT,\n",
    "                              tradeDirection=TradeDirection.LONG)"
   ],
   "metadata": {
    "collapsed": false,
    "pycharm": {
     "name": "#%%\n"
    }
   }
  },
  {
   "cell_type": "markdown",
   "source": [
    "When putting these two trades in the portfolio and allocating them we yield the following:"
   ],
   "metadata": {
    "collapsed": false,
    "pycharm": {
     "name": "#%% md\n"
    }
   }
  },
  {
   "cell_type": "code",
   "execution_count": 4,
   "outputs": [],
   "source": [
    "ca.add_trades([eq_opt_ads_call, eq_opt_ads_put])\n",
    "ca_vm.add_trades([eq_opt_ads_call, eq_opt_ads_put])\n",
    "ca_im.add_trades([eq_opt_ads_call,eq_opt_ads_put])"
   ],
   "metadata": {
    "collapsed": false,
    "pycharm": {
     "name": "#%%\n"
    }
   }
  },
  {
   "cell_type": "code",
   "execution_count": 5,
   "outputs": [],
   "source": [
    "eulerAllocator = EulerAllocator(ca)\n",
    "allocation_no_margin = eulerAllocator.allocate_ead()\n",
    "eulerAllocator.ca=ca_vm\n",
    "allocation_with_vm = eulerAllocator.allocate_ead()\n",
    "eulerAllocator.ca = ca_im\n",
    "allocation_with_im_and_im = eulerAllocator.allocate_ead()\n",
    "allocation_im = eulerAllocator.allocate_im()"
   ],
   "metadata": {
    "collapsed": false,
    "pycharm": {
     "name": "#%%\n"
    }
   }
  }
 ],
 "metadata": {
  "kernelspec": {
   "display_name": "Python 3",
   "language": "python",
   "name": "python3"
  },
  "language_info": {
   "codemirror_mode": {
    "name": "ipython",
    "version": 2
   },
   "file_extension": ".py",
   "mimetype": "text/x-python",
   "name": "python",
   "nbconvert_exporter": "python",
   "pygments_lexer": "ipython2",
   "version": "2.7.6"
  }
 },
 "nbformat": 4,
 "nbformat_minor": 0
}