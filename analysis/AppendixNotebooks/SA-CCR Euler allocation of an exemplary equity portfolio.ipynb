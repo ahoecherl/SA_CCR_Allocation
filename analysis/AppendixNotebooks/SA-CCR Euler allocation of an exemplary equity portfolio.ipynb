{
 "cells": [
  {
   "cell_type": "markdown",
   "metadata": {
    "collapsed": true,
    "pycharm": {
     "name": "#%% md\n"
    }
   },
   "source": [
    "# SA-CCR Euler allocation of an exemplary equity portfolio\n",
    "\n",
    "We set up a collateral agreement with no thresholds or MTA and add two equity options to it.\n",
    "A big put option on an imagainary stock ADS and a smaller call option on the same stock. Both options are struck at the current market price $S(0)$.\n",
    "\n",
    "We consider three cases of margining\n",
    "\n",
    "1. No margining\n",
    "2. VM only\n",
    "3. VM and bilateral IM"
   ]
  },
  {
   "cell_type": "code",
   "execution_count": 1,
   "metadata": {
    "pycharm": {
     "name": "#%% import cell\n"
    },
    "tags": [
     "hide_cell"
    ]
   },
   "outputs": [],
   "source": [
    "import QuantLib as ql\n",
    "from IPython.core.display import display, Markdown, Image\n",
    "from allocation.Enums import FdApproach2\n",
    "from allocation.eulerAllocator import EulerAllocator\n",
    "from collateralAgreement.collateralAgreement import CollateralAgreement, Margining, InitialMargining\n",
    "from instruments.equity_instruments.equityOption import EquityOption\n",
    "from jupyterUtils import export\n",
    "from sa_ccr.sa_ccr import SA_CCR\n",
    "from utilities.Enums import Stock, TradeType, TradeDirection\n",
    "from marketdata import init_marketdata\n",
    "import pandas as pd\n",
    "asdf =1"
   ]
  },
  {
   "cell_type": "code",
   "execution_count": 2,
   "metadata": {
    "pycharm": {
     "name": "#%%\n"
    }
   },
   "outputs": [],
   "source": [
    "ca = CollateralAgreement(threshold=0,\n",
    "                         threshold_vm=0,\n",
    "                         mta=0,\n",
    "                         margining=Margining.UNMARGINED,\n",
    "                         initialMargining=InitialMargining.NO_IM)\n",
    "ca.link_sa_ccr_instance(SA_CCR(ca))\n",
    "\n",
    "ca_vm = CollateralAgreement(threshold=0,\n",
    "                            threshold_vm=0,\n",
    "                            mta=0,\n",
    "                            margining=Margining.MARGINED,\n",
    "                            initialMargining=InitialMargining.NO_IM)\n",
    "ca_vm.link_sa_ccr_instance(SA_CCR(ca_vm))\n",
    "\n",
    "ca_im = CollateralAgreement(threshold=0,\n",
    "                            threshold_vm=0,\n",
    "                            mta=0,\n",
    "                            margining=Margining.MARGINED,\n",
    "                            initialMargining=InitialMargining.SIMM)\n",
    "ca_im.link_sa_ccr_instance(SA_CCR(ca_im))"
   ]
  },
  {
   "cell_type": "code",
   "execution_count": 3,
   "metadata": {
    "pycharm": {
     "name": "#%%\n"
    }
   },
   "outputs": [],
   "source": [
    "eq_opt_ads_call = EquityOption(underlying=Stock.ADS,\n",
    "                               maturity=ql.Period(1, ql.Years),\n",
    "                               notional=2000000,\n",
    "                               tradeType=TradeType.CALL,\n",
    "                               tradeDirection=TradeDirection.LONG)\n",
    "\n",
    "eq_opt_ads_put = EquityOption(underlying=Stock.ADS,\n",
    "                              maturity=ql.Period(1, ql.Years),\n",
    "                              notional=3000000,\n",
    "                              tradeType=TradeType.PUT,\n",
    "                              tradeDirection=TradeDirection.LONG)"
   ]
  },
  {
   "cell_type": "code",
   "execution_count": 4,
   "metadata": {
    "pycharm": {
     "name": "#%%\n"
    },
    "tags": [
     "hide_input"
    ]
   },
   "outputs": [
    {
     "data": {
      "text/plain": "<IPython.core.display.Markdown object>",
      "text/markdown": "The current value of these trades is 6,601,467 EUR for the call option and 10,378,881 EUR for the put option."
     },
     "metadata": {},
     "output_type": "display_data"
    }
   ],
   "source": [
    "display(Markdown('The current value of these trades is {:,.0f} EUR for the call option and {:,.0f} EUR for the put option.'.format(eq_opt_ads_call.get_price(), eq_opt_ads_put.get_price())))"
   ]
  },
  {
   "cell_type": "markdown",
   "source": [
    "When putting these trades in the three portfolios we observe a high difference between the unmargined and VM margined EAD. This difference is primarily driven through the RC and therefore through the high positive PV."
   ],
   "metadata": {
    "collapsed": false
   }
  },
  {
   "cell_type": "code",
   "execution_count": 5,
   "outputs": [],
   "source": [
    "ca.add_trades([eq_opt_ads_call, eq_opt_ads_put])\n",
    "ca_vm.add_trades([eq_opt_ads_call, eq_opt_ads_put])\n",
    "ca_im.add_trades([eq_opt_ads_call,eq_opt_ads_put])"
   ],
   "metadata": {
    "collapsed": false,
    "pycharm": {
     "name": "#%%\n"
    }
   }
  },
  {
   "cell_type": "code",
   "execution_count": 6,
   "outputs": [
    {
     "name": "stdout",
     "output_type": "stream",
     "text": [
      "EAD with no margining: 37,643,536.02 USD\n",
      "EAD with VM margining: 3,519,457.62 USD\n",
      "RC with no margining: 18,508,579.01 USD\n",
      "RC with VM margining: 0.00 USD\n",
      "Portfolio PV: 18,508,579.01 USD\n"
     ]
    }
   ],
   "source": [
    "print('EAD with no margining: {:,.2f} USD'.format(ca.get_sa_ccr_model().get_ead()))\n",
    "print('EAD with VM margining: {:,.2f} USD'.format(ca_vm.get_sa_ccr_model().get_ead()))\n",
    "print('RC with no margining: {:,.2f} USD'.format(ca.get_sa_ccr_model().get_rc()))\n",
    "print('RC with VM margining: {:,.2f} USD'.format(ca_vm.get_sa_ccr_model().get_rc()))\n",
    "print('Portfolio PV: {:,.2f} USD'.format(ca.get_V()))\n"
   ],
   "metadata": {
    "collapsed": false,
    "pycharm": {
     "name": "#%%\n"
    }
   }
  },
  {
   "cell_type": "markdown",
   "metadata": {
    "pycharm": {
     "name": "#%% md\n"
    }
   },
   "source": [
    "Next, we perform an Euler allocation:"
   ]
  },
  {
   "cell_type": "code",
   "execution_count": 7,
   "metadata": {
    "pycharm": {
     "name": "#%%\n"
    }
   },
   "outputs": [],
   "source": [
    "eulerAllocator1 = EulerAllocator(ca)\n",
    "eulerAllocator2 = EulerAllocator(ca_vm)\n",
    "eulerAllocator3 = EulerAllocator(ca_im)\n",
    "allocation_no_margin = eulerAllocator1.allocate_ead()\n",
    "allocation_with_vm = eulerAllocator2.allocate_ead()\n",
    "allocation_with_im_and_im = eulerAllocator3.allocate_ead()\n",
    "allocation_im = eulerAllocator3.allocate_im()"
   ]
  },
  {
   "cell_type": "markdown",
   "metadata": {
    "pycharm": {
     "name": "#%% md\n"
    }
   },
   "source": [
    "we can calculate how far the sum of the allocated values deviates from the risk measure:"
   ]
  },
  {
   "cell_type": "code",
   "execution_count": 8,
   "metadata": {
    "pycharm": {
     "name": "#%%\n"
    },
    "tags": [
     "hide_cell"
    ]
   },
   "outputs": [],
   "source": [
    "delta_no_margin = abs(ca.get_sa_ccr_model().get_risk_measure()-sum([allocation_no_margin[t] for t in ca.trades]))\n",
    "delta_vm = abs(ca_vm.get_sa_ccr_model().get_risk_measure()-sum([allocation_with_vm[t] for t in ca_vm.trades]))\n",
    "delta_im_calc = abs(ca_im.get_im_model().get_risk_measure()-sum([allocation_im[t] for t in ca_im.trades]))\n",
    "delta_vm_and_im = abs(ca_im.get_sa_ccr_model().get_risk_measure()-sum([allocation_with_im_and_im[t] for t in ca_im.trades]))"
   ]
  },
  {
   "cell_type": "code",
   "execution_count": 9,
   "metadata": {
    "pycharm": {
     "name": "#%%\n"
    },
    "tags": [
     "hide_input"
    ]
   },
   "outputs": [
    {
     "name": "stdout",
     "output_type": "stream",
     "text": [
      "Diff EAD no margin:    0.00 EUR\n",
      "Diff EAD only VM:      0.00 EUR\n",
      "Diff EAD VM + IM:   1068.64 EUR\n",
      "Diff calculated IM:    6.74 EUR\n"
     ]
    }
   ],
   "source": [
    "print('Diff EAD no margin:    %.2f EUR' %(delta_no_margin))\n",
    "print('Diff EAD only VM:      %.2f EUR' %(delta_vm))\n",
    "print('Diff EAD VM + IM:   %.2f EUR' %(delta_vm_and_im))\n",
    "print('Diff calculated IM:    %.2f EUR' %(delta_im_calc))"
   ]
  },
  {
   "cell_type": "code",
   "execution_count": 10,
   "metadata": {
    "pycharm": {
     "name": "#%%\n"
    },
    "tags": [
     "hide_input"
    ]
   },
   "outputs": [
    {
     "data": {
      "text/plain": "<IPython.core.display.Markdown object>",
      "text/markdown": "In relation to the EAD of 345,874 EUR the deviation of the allocated EAD under VM and IM of 1,068.64 EUR is not large but can be improved nevertheless."
     },
     "metadata": {},
     "output_type": "display_data"
    }
   ],
   "source": [
    "display(Markdown('In relation to the EAD of {:,.0f} EUR the deviation of the allocated EAD under VM and IM of {:,.2f} EUR is not large but can be improved nevertheless.'.format(ca_im.get_sa_ccr_model().get_risk_measure(), delta_vm_and_im)))"
   ]
  },
  {
   "cell_type": "markdown",
   "metadata": {
    "pycharm": {
     "name": "#%% md\n"
    }
   },
   "source": [
    "By, default the implemented Euler allocation class uses a forward difference approach. If we switch over to a central difference approach the deviation shrinks significantly."
   ]
  },
  {
   "cell_type": "code",
   "execution_count": 11,
   "metadata": {
    "pycharm": {
     "name": "#%%\n"
    }
   },
   "outputs": [],
   "source": [
    "eulerAllocator3.fdApproach2 = FdApproach2.Central\n",
    "allocation_im = eulerAllocator3.allocate_im()\n",
    "allocation_with_im_and_im = eulerAllocator3.allocate_ead()"
   ]
  },
  {
   "cell_type": "code",
   "execution_count": 12,
   "metadata": {
    "pycharm": {
     "name": "#%%\n"
    },
    "tags": [
     "hide_cell"
    ]
   },
   "outputs": [],
   "source": [
    "delta_vm_and_im = abs(ca_im.get_sa_ccr_model().get_risk_measure()-sum([allocation_with_im_and_im[t] for t in ca_im.trades]))\n",
    "delta_im_calc = abs(ca_im.get_im_model().get_risk_measure()-sum([allocation_im[t] for t in ca_im.trades]))"
   ]
  },
  {
   "cell_type": "code",
   "execution_count": 13,
   "metadata": {
    "pycharm": {
     "name": "#%%\n"
    },
    "tags": [
     "hide_input"
    ]
   },
   "outputs": [
    {
     "name": "stdout",
     "output_type": "stream",
     "text": [
      "Diff EAD VM + IM:   0.01 EUR\n",
      "Diff calculated IM: 0.00 EUR\n"
     ]
    }
   ],
   "source": [
    "print('Diff EAD VM + IM:   %.2f EUR' %(delta_vm_and_im))\n",
    "print('Diff calculated IM: %.2f EUR' %(delta_im_calc))"
   ]
  },
  {
   "cell_type": "markdown",
   "metadata": {
    "pycharm": {
     "name": "#%% md\n"
    }
   },
   "source": [
    "Displaying the allocation results"
   ]
  },
  {
   "cell_type": "code",
   "execution_count": 14,
   "metadata": {
    "pycharm": {
     "name": "#%%\n"
    },
    "tags": [
     "hide_input"
    ]
   },
   "outputs": [
    {
     "data": {
      "text/plain": "          2Mn ADS Call 3Mn ADS Put Portfolio Risk Measure\nSIMM           -33.75%     133.75%         14,231,564 USD\nNo margin       99.21%       0.79%         37,643,536 USD\nVM only        232.47%    -132.47%          3,519,458 USD\nVM+IM          622.10%    -522.10%            345,874 USD",
      "text/html": "<div>\n<style scoped>\n    .dataframe tbody tr th:only-of-type {\n        vertical-align: middle;\n    }\n\n    .dataframe tbody tr th {\n        vertical-align: top;\n    }\n\n    .dataframe thead th {\n        text-align: right;\n    }\n</style>\n<table border=\"1\" class=\"dataframe\">\n  <thead>\n    <tr style=\"text-align: right;\">\n      <th></th>\n      <th>2Mn ADS Call</th>\n      <th>3Mn ADS Put</th>\n      <th>Portfolio Risk Measure</th>\n    </tr>\n  </thead>\n  <tbody>\n    <tr>\n      <th>SIMM</th>\n      <td>-33.75%</td>\n      <td>133.75%</td>\n      <td>14,231,564 USD</td>\n    </tr>\n    <tr>\n      <th>No margin</th>\n      <td>99.21%</td>\n      <td>0.79%</td>\n      <td>37,643,536 USD</td>\n    </tr>\n    <tr>\n      <th>VM only</th>\n      <td>232.47%</td>\n      <td>-132.47%</td>\n      <td>3,519,458 USD</td>\n    </tr>\n    <tr>\n      <th>VM+IM</th>\n      <td>622.10%</td>\n      <td>-522.10%</td>\n      <td>345,874 USD</td>\n    </tr>\n  </tbody>\n</table>\n</div>"
     },
     "execution_count": 14,
     "metadata": {},
     "output_type": "execute_result"
    }
   ],
   "source": [
    "def trrep(trade):\n",
    "    import ast\n",
    "    dic = ast.literal_eval(str(trade))\n",
    "    return '{:.0f}Mn '.format(dic['Notional']/1000000)+trade.underlying.name+' '+dic['TradeType']\n",
    "\n",
    "simm_entry = pd.Series({'Title':'SIMM',\n",
    "                         trrep(eq_opt_ads_call):allocation_im[eq_opt_ads_call]/ca_im.get_im_model().get_risk_measure(),\n",
    "                         trrep(eq_opt_ads_put):allocation_im[eq_opt_ads_put]/ca_im.get_im_model().get_risk_measure(),\n",
    "                         'Portfolio Risk Measure':ca_im.get_im_model().get_risk_measure()})\n",
    "\n",
    "result_df = pd.DataFrame().append(simm_entry, ignore_index=True)\n",
    "\n",
    "ead_no_margin_entry = pd.Series({'Title':'No margin',\n",
    "                         trrep(eq_opt_ads_call):allocation_no_margin[eq_opt_ads_call]/ca.get_sa_ccr_model().get_risk_measure(),\n",
    "                         trrep(eq_opt_ads_put):allocation_no_margin[eq_opt_ads_put]/ca.get_sa_ccr_model().get_risk_measure(),\n",
    "                         'Portfolio Risk Measure':ca.get_sa_ccr_model().get_risk_measure()})\n",
    "\n",
    "result_df = result_df.append(ead_no_margin_entry, ignore_index=True)\n",
    "\n",
    "\n",
    "ead_vm_only_entry = pd.Series({'Title':'VM only',\n",
    "                         trrep(eq_opt_ads_call):allocation_with_vm[eq_opt_ads_call]/ca_vm.get_sa_ccr_model().get_risk_measure(),\n",
    "                         trrep(eq_opt_ads_put):allocation_with_vm[eq_opt_ads_put]/ca_vm.get_sa_ccr_model().get_risk_measure(),\n",
    "                         'Portfolio Risk Measure':ca_vm.get_sa_ccr_model().get_risk_measure()})\n",
    "\n",
    "result_df = result_df.append(ead_vm_only_entry, ignore_index=True)\n",
    "\n",
    "ead_vm_im_entry = pd.Series({'Title':'VM+IM',\n",
    "                         trrep(eq_opt_ads_call):allocation_with_im_and_im[eq_opt_ads_call]/ca_im.get_sa_ccr_model().get_risk_measure(),\n",
    "                         trrep(eq_opt_ads_put):allocation_with_im_and_im[eq_opt_ads_put]/ca_im.get_sa_ccr_model().get_risk_measure(),\n",
    "                         'Portfolio Risk Measure':ca_im.get_sa_ccr_model().get_risk_measure()})\n",
    "\n",
    "result_df = result_df.append(ead_vm_im_entry, ignore_index=True)\n",
    "\n",
    "result_df.set_index('Title', inplace=True)\n",
    "result_df.index.name = None\n",
    "\n",
    "result_df[trrep(eq_opt_ads_call)] = result_df[trrep(eq_opt_ads_call)].apply(lambda s:'{:.2%}'.format(s))\n",
    "result_df[trrep(eq_opt_ads_put)] = result_df[trrep(eq_opt_ads_put)].apply(lambda s:'{:.2%}'.format(s))\n",
    "result_df['Portfolio Risk Measure'] = result_df['Portfolio Risk Measure'].apply(lambda s:'{:,.0f} USD'.format(s))\n",
    "result_df"
   ]
  },
  {
   "cell_type": "markdown",
   "metadata": {
    "pycharm": {
     "name": "#%% md\n"
    }
   },
   "source": [
    "For SIMM the Put has the higher risk and the Call is considered a hedge trade while for SA-CCR with only VM, the Call has the higher risk and the Put is considered a hedge trade.\n",
    "\n",
    "The reason for this are the different holding periods between the two models. If we lower the maturity of the trades to 10 days instead, we can see that for SA-CCR with only VM the call is considered the hedge trade.\n",
    "\n"
   ]
  },
  {
   "cell_type": "code",
   "execution_count": 15,
   "metadata": {
    "pycharm": {
     "name": "#%%\n"
    }
   },
   "outputs": [],
   "source": [
    "eq_opt_ads_call_10d = EquityOption(underlying=Stock.ADS,\n",
    "                               maturity=ql.Period(10, ql.Days),\n",
    "                               notional=2000000,\n",
    "                               tradeType=TradeType.CALL,\n",
    "                               tradeDirection=TradeDirection.LONG)\n",
    "\n",
    "eq_opt_ads_put_10d = EquityOption(underlying=Stock.ADS,\n",
    "                              maturity=ql.Period(10, ql.Days),\n",
    "                              notional=3000000,\n",
    "                              tradeType=TradeType.PUT,\n",
    "                              tradeDirection=TradeDirection.LONG)"
   ]
  },
  {
   "cell_type": "code",
   "execution_count": 16,
   "metadata": {
    "pycharm": {
     "name": "#%%\n"
    }
   },
   "outputs": [],
   "source": [
    "ca_vm.remove_all_trades()\n",
    "ca_vm.add_trades([eq_opt_ads_call_10d,eq_opt_ads_put_10d])"
   ]
  },
  {
   "cell_type": "code",
   "execution_count": 17,
   "metadata": {
    "pycharm": {
     "name": "#%%\n"
    }
   },
   "outputs": [],
   "source": [
    "allocation_with_vm = eulerAllocator2.allocate_ead()"
   ]
  },
  {
   "cell_type": "code",
   "execution_count": 18,
   "metadata": {
    "pycharm": {
     "name": "#%%\n"
    },
    "tags": [
     "hide_cell"
    ]
   },
   "outputs": [],
   "source": [
    "def trrep2(trade):\n",
    "    import ast\n",
    "    dic = ast.literal_eval(str(trade))\n",
    "    return '{:.0f}Mn '.format(dic['Notional']/1000000)+trade.underlying.name+' '+dic['TradeType']+' ' +str(trade.ql_maturity)"
   ]
  },
  {
   "cell_type": "code",
   "execution_count": 19,
   "metadata": {
    "pycharm": {
     "name": "#%%\n"
    },
    "tags": [
     "hide_input"
    ]
   },
   "outputs": [
    {
     "data": {
      "text/plain": "        2Mn ADS Call 1W3D 3Mn ADS Put 1W3D Portfolio Risk Measure\nVM only          -358.06%          458.06%          1,701,707 USD",
      "text/html": "<div>\n<style scoped>\n    .dataframe tbody tr th:only-of-type {\n        vertical-align: middle;\n    }\n\n    .dataframe tbody tr th {\n        vertical-align: top;\n    }\n\n    .dataframe thead th {\n        text-align: right;\n    }\n</style>\n<table border=\"1\" class=\"dataframe\">\n  <thead>\n    <tr style=\"text-align: right;\">\n      <th></th>\n      <th>2Mn ADS Call 1W3D</th>\n      <th>3Mn ADS Put 1W3D</th>\n      <th>Portfolio Risk Measure</th>\n    </tr>\n  </thead>\n  <tbody>\n    <tr>\n      <th>VM only</th>\n      <td>-358.06%</td>\n      <td>458.06%</td>\n      <td>1,701,707 USD</td>\n    </tr>\n  </tbody>\n</table>\n</div>"
     },
     "execution_count": 19,
     "metadata": {},
     "output_type": "execute_result"
    }
   ],
   "source": [
    "ead_vm_only_entry = pd.Series({'Title':'VM only',\n",
    "    trrep2(eq_opt_ads_call_10d):allocation_with_vm[eq_opt_ads_call_10d]/ca_vm.get_sa_ccr_model().get_risk_measure(),\n",
    "    trrep2(eq_opt_ads_put_10d):allocation_with_vm[eq_opt_ads_put_10d]/ca_vm.get_sa_ccr_model().get_risk_measure(),\n",
    "    'Portfolio Risk Measure':ca_vm.get_sa_ccr_model().get_risk_measure()})\n",
    "\n",
    "result_df = pd.DataFrame().append(ead_vm_only_entry, ignore_index=True)\n",
    "\n",
    "result_df.set_index('Title', inplace=True)\n",
    "result_df.index.name = None\n",
    "\n",
    "result_df[trrep2(eq_opt_ads_call_10d)] = result_df[trrep2(eq_opt_ads_call_10d)].apply(lambda s:'{:.2%}'.format(s))\n",
    "result_df[trrep2(eq_opt_ads_put_10d)] = result_df[trrep2(eq_opt_ads_put_10d)].apply(lambda s:'{:.2%}'.format(s))\n",
    "result_df['Portfolio Risk Measure'] = result_df['Portfolio Risk Measure'].apply(lambda s:'{:,.0f} USD'.format(s))\n",
    "result_df"
   ]
  },
  {
   "cell_type": "markdown",
   "metadata": {
    "pycharm": {
     "name": "#%% md\n"
    }
   },
   "source": [
    "Going back to 1Y maturity equity options we can see that the allocations of the preexisting trades can change significantly, when we add another equity option to the portfolio. We choose a position of 10Mn call options on an imaginary DBK stock."
   ]
  },
  {
   "cell_type": "code",
   "execution_count": 20,
   "metadata": {
    "pycharm": {
     "name": "#%%\n"
    }
   },
   "outputs": [],
   "source": [
    "eq_opt_dbk_call = EquityOption(underlying=Stock.DBK,\n",
    "                               maturity=ql.Period(1, ql.Years),\n",
    "                               notional = 10000000,\n",
    "                               tradeType=TradeType.CALL,\n",
    "                               tradeDirection=TradeDirection.LONG)\n",
    "\n",
    "ca.remove_all_trades()\n",
    "ca.add_trades([eq_opt_ads_call,eq_opt_ads_put,eq_opt_dbk_call])\n",
    "ca_vm.remove_all_trades()\n",
    "ca_vm.add_trades([eq_opt_ads_call,eq_opt_ads_put,eq_opt_dbk_call])\n",
    "ca_im.remove_all_trades()\n",
    "ca_im.add_trades([eq_opt_ads_call,eq_opt_ads_put,eq_opt_dbk_call])"
   ]
  },
  {
   "cell_type": "code",
   "execution_count": 21,
   "metadata": {
    "pycharm": {
     "name": "#%%\n"
    }
   },
   "outputs": [],
   "source": [
    "allocation_no_margin = eulerAllocator1.allocate_ead()\n",
    "allocation_with_vm = eulerAllocator2.allocate_ead()\n",
    "allocation_with_im_and_im = eulerAllocator3.allocate_ead()\n",
    "allocation_im = eulerAllocator3.allocate_im()"
   ]
  },
  {
   "cell_type": "code",
   "execution_count": 22,
   "metadata": {
    "pycharm": {
     "name": "#%%\n"
    },
    "tags": [
     "hide_input"
    ]
   },
   "outputs": [
    {
     "data": {
      "text/plain": "          10Mn DBK Call 2Mn ADS Call 3Mn ADS Put PF Risk Measure\nSIMM             63.10%       15.23%      21.67%  27,551,513 USD\nNo margin        57.45%       33.16%       9.39%  76,295,560 USD\nVM only          80.79%       44.65%     -25.44%  10,230,051 USD\nVM+IM           106.19%       86.85%     -93.04%   1,847,365 USD",
      "text/html": "<div>\n<style scoped>\n    .dataframe tbody tr th:only-of-type {\n        vertical-align: middle;\n    }\n\n    .dataframe tbody tr th {\n        vertical-align: top;\n    }\n\n    .dataframe thead th {\n        text-align: right;\n    }\n</style>\n<table border=\"1\" class=\"dataframe\">\n  <thead>\n    <tr style=\"text-align: right;\">\n      <th></th>\n      <th>10Mn DBK Call</th>\n      <th>2Mn ADS Call</th>\n      <th>3Mn ADS Put</th>\n      <th>PF Risk Measure</th>\n    </tr>\n  </thead>\n  <tbody>\n    <tr>\n      <th>SIMM</th>\n      <td>63.10%</td>\n      <td>15.23%</td>\n      <td>21.67%</td>\n      <td>27,551,513 USD</td>\n    </tr>\n    <tr>\n      <th>No margin</th>\n      <td>57.45%</td>\n      <td>33.16%</td>\n      <td>9.39%</td>\n      <td>76,295,560 USD</td>\n    </tr>\n    <tr>\n      <th>VM only</th>\n      <td>80.79%</td>\n      <td>44.65%</td>\n      <td>-25.44%</td>\n      <td>10,230,051 USD</td>\n    </tr>\n    <tr>\n      <th>VM+IM</th>\n      <td>106.19%</td>\n      <td>86.85%</td>\n      <td>-93.04%</td>\n      <td>1,847,365 USD</td>\n    </tr>\n  </tbody>\n</table>\n</div>"
     },
     "execution_count": 22,
     "metadata": {},
     "output_type": "execute_result"
    }
   ],
   "source": [
    "simm_entry = pd.Series({'Title':'SIMM',\n",
    "    trrep(eq_opt_ads_call):allocation_im[eq_opt_ads_call]/ca_im.get_im_model().get_risk_measure(),\n",
    "    trrep(eq_opt_ads_put):allocation_im[eq_opt_ads_put]/ca_im.get_im_model().get_risk_measure(),\n",
    "    trrep(eq_opt_dbk_call):allocation_im[eq_opt_dbk_call]/ca_im.get_im_model().get_risk_measure(),\n",
    "    'PF Risk Measure':ca_im.get_im_model().get_risk_measure()})\n",
    "\n",
    "result_df = pd.DataFrame().append(simm_entry, ignore_index=True)\n",
    "\n",
    "ead_no_margin_entry = pd.Series({'Title':'No margin',\n",
    "    trrep(eq_opt_ads_call):allocation_no_margin[eq_opt_ads_call]/ca.get_sa_ccr_model().get_risk_measure(),\n",
    "    trrep(eq_opt_ads_put):allocation_no_margin[eq_opt_ads_put]/ca.get_sa_ccr_model().get_risk_measure(),\n",
    "    trrep(eq_opt_dbk_call):allocation_no_margin[eq_opt_dbk_call]/ca.get_sa_ccr_model().get_risk_measure(),\n",
    "    'PF Risk Measure':ca.get_sa_ccr_model().get_risk_measure()})\n",
    "\n",
    "result_df = result_df.append(ead_no_margin_entry, ignore_index=True)\n",
    "\n",
    "\n",
    "ead_vm_only_entry = pd.Series({'Title':'VM only',\n",
    "    trrep(eq_opt_ads_call):allocation_with_vm[eq_opt_ads_call]/ca_vm.get_sa_ccr_model().get_risk_measure(),\n",
    "    trrep(eq_opt_ads_put):allocation_with_vm[eq_opt_ads_put]/ca_vm.get_sa_ccr_model().get_risk_measure(),\n",
    "    trrep(eq_opt_dbk_call):allocation_with_vm[eq_opt_dbk_call]/ca_vm.get_sa_ccr_model().get_risk_measure(),\n",
    "    'PF Risk Measure':ca_vm.get_sa_ccr_model().get_risk_measure()})\n",
    "\n",
    "result_df = result_df.append(ead_vm_only_entry, ignore_index=True)\n",
    "\n",
    "ead_vm_im_entry = pd.Series({'Title':'VM+IM',\n",
    "    trrep(eq_opt_ads_call):allocation_with_im_and_im[eq_opt_ads_call]/ca_im.get_sa_ccr_model().get_risk_measure(),\n",
    "    trrep(eq_opt_ads_put):allocation_with_im_and_im[eq_opt_ads_put]/ca_im.get_sa_ccr_model().get_risk_measure(),\n",
    "    trrep(eq_opt_dbk_call):allocation_with_im_and_im[eq_opt_dbk_call]/ca_im.get_sa_ccr_model().get_risk_measure(),\n",
    "    'PF Risk Measure':ca_im.get_sa_ccr_model().get_risk_measure()})\n",
    "\n",
    "result_df = result_df.append(ead_vm_im_entry, ignore_index=True)\n",
    "\n",
    "result_df.set_index('Title', inplace=True)\n",
    "result_df.index.name = None\n",
    "result_df[trrep(eq_opt_ads_call)] = result_df[trrep(eq_opt_ads_call)].apply(lambda s:'{:.2%}'.format(s))\n",
    "result_df[trrep(eq_opt_ads_put)] = result_df[trrep(eq_opt_ads_put)].apply(lambda s:'{:.2%}'.format(s))\n",
    "result_df[trrep(eq_opt_dbk_call)] = result_df[trrep(eq_opt_dbk_call)].apply(lambda s:'{:.2%}'.format(s))\n",
    "result_df['PF Risk Measure'] = result_df['PF Risk Measure'].apply(lambda s:'{:,.0f} USD'.format(s))\n",
    "result_df\n",
    "#\n",
    "# result_df.style.format({trrep(eq_opt_ads_call):'{:.2%}',\n",
    "#                         trrep(eq_opt_ads_put):'{:.2%}',\n",
    "#                         trrep(eq_opt_dbk_call):'{:.2%}',\n",
    "#                         'Portfolio Risk Measure':'{:,.0f} USD'})"
   ]
  },
  {
   "cell_type": "markdown",
   "metadata": {
    "pycharm": {
     "name": "#%% md\n"
    }
   },
   "source": [
    "Further analysis of the results shown above may be found in section \\ref{sec:Exemplary Euler allocation of SA-CCR under consideration of margining}"
   ]
  },
  {
   "cell_type": "code",
   "execution_count": 26,
   "metadata": {
    "pycharm": {
     "name": "#%%\n"
    },
    "tags": [
     "hide_cell"
    ]
   },
   "outputs": [],
   "source": [
    "export('SA-CCR Euler allocation of an exemplary equity portfolio.ipynb')"
   ]
  }
 ],
 "metadata": {
  "celltoolbar": "Tags",
  "kernelspec": {
   "display_name": "Python 3",
   "language": "python",
   "name": "python3"
  },
  "language_info": {
   "codemirror_mode": {
    "name": "ipython",
    "version": 3
   },
   "file_extension": ".py",
   "mimetype": "text/x-python",
   "name": "python",
   "nbconvert_exporter": "python",
   "pygments_lexer": "ipython3",
   "version": "3.8.2"
  }
 },
 "nbformat": 4,
 "nbformat_minor": 1
}