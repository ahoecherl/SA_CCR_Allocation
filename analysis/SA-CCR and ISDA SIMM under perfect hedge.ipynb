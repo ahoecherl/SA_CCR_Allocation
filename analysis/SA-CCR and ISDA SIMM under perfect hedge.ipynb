{
 "cells": [
  {
   "cell_type": "markdown",
   "metadata": {
    "collapsed": true,
    "pycharm": {
     "name": "#%% md\n"
    }
   },
   "source": [
    "The goal is to create a portfolio with a perfect hedge and see how the EAD is distributed.\n",
    "We load two perfectly offsetting IRS (one payer, one receiver). Just to not stumble over small epsilons we add an equity option to put it all a bit into proportion."
   ]
  },
  {
   "cell_type": "code",
   "execution_count": 1,
   "outputs": [],
   "source": [
    "import QuantLib as ql\n",
    "from allocation.Enums import FdApproach2\n",
    "from allocation.eulerAllocator import EulerAllocator\n",
    "from collateralAgreement.collateralAgreement import CollateralAgreement\n",
    "from instruments.equity_instruments.equityOption import EquityOption\n",
    "from instruments.interestRateInstrument.irs import IRS\n",
    "from marketdata import init_marketdata"
   ],
   "metadata": {
    "collapsed": false,
    "pycharm": {
     "name": "#%%\n"
    }
   }
  },
  {
   "cell_type": "code",
   "execution_count": 2,
   "outputs": [],
   "source": [
    "from marketdata.interestRateIndices import InterestRateIndex\n",
    "from sa_ccr.sa_ccr import SA_CCR\n",
    "from utilities.Enums import SwapDirection\n",
    "IRS_pay = IRS(notional=100000000,\n",
    "              timeToSwapStart=ql.Period(2, ql.Days),\n",
    "              timeToSwapEnd=ql.Period(10, ql.Years),\n",
    "              swapDirection=SwapDirection.PAYER,\n",
    "              index=InterestRateIndex.USDLIBOR3M)\n",
    "\n",
    "IRS_rec = IRS(notional=100000000,\n",
    "              timeToSwapStart=ql.Period(2, ql.Days),\n",
    "              timeToSwapEnd=ql.Period(10, ql.Years),\n",
    "              swapDirection=SwapDirection.RECEIVER,\n",
    "              index=InterestRateIndex.USDLIBOR3M)\n",
    "\n",
    "eqOpt = EquityOption(notional = 1000000)\n",
    "\n",
    "ca = CollateralAgreement()\n",
    "ca.link_sa_ccr_instance(SA_CCR(ca))"
   ],
   "metadata": {
    "collapsed": false,
    "pycharm": {
     "name": "#%%\n"
    }
   }
  },
  {
   "cell_type": "code",
   "execution_count": 3,
   "outputs": [
    {
     "name": "stdout",
     "output_type": "stream",
     "text": [
      "1319277.1719911932\n",
      "6952717.387110085\n"
     ]
    }
   ],
   "source": [
    "ca.add_trades([IRS_pay, IRS_rec, eqOpt])\n",
    "print(ca.get_sa_ccr_model().get_risk_measure())\n",
    "print(ca.get_im_model().get_risk_measure())"
   ],
   "metadata": {
    "collapsed": false,
    "pycharm": {
     "name": "#%%\n"
    }
   }
  },
  {
   "cell_type": "code",
   "execution_count": 4,
   "outputs": [],
   "source": [
    "\n",
    "eulerAllocator = EulerAllocator(ca)\n",
    "im_alloc_forward = eulerAllocator.allocate_im()\n",
    "saccr_alloc_forward = eulerAllocator.allocate_ead()\n",
    "\n",
    "eulerAllocator.fdApproach2=FdApproach2.Central\n",
    "im_alloc_central = eulerAllocator.allocate_im()\n",
    "saccr_alloc_central = eulerAllocator.allocate_ead()\n",
    "\n",
    "eulerAllocator.fdApproach2=FdApproach2.Backward\n",
    "im_alloc_backward = eulerAllocator.allocate_im()\n",
    "saccr_alloc_backward = eulerAllocator.allocate_ead()"
   ],
   "metadata": {
    "collapsed": false,
    "pycharm": {
     "name": "#%%\n"
    }
   }
  },
  {
   "cell_type": "code",
   "execution_count": 5,
   "outputs": [],
   "source": [
    "EAD_IRSpay_forward = saccr_alloc_forward[IRS_pay]\n",
    "EAD_IRSrec_forward = saccr_alloc_forward[IRS_rec]\n",
    "EAD_EqOpt_forward = saccr_alloc_forward[eqOpt]\n",
    "EAD_forward_sum = EAD_EqOpt_forward+EAD_IRSpay_forward+EAD_IRSrec_forward\n",
    "Delta_EAD_forward = ca.get_sa_ccr_model().get_risk_measure() - EAD_forward_sum\n",
    "\n",
    "EAD_IRSpay_central = saccr_alloc_central[IRS_pay]\n",
    "EAD_IRSrec_central = saccr_alloc_central[IRS_rec]\n",
    "EAD_EqOpt_central = saccr_alloc_central[eqOpt]\n",
    "EAD_central_sum = EAD_EqOpt_central+EAD_IRSpay_central+EAD_IRSrec_central\n",
    "Delta_EAD_central = ca.get_sa_ccr_model().get_risk_measure() - EAD_central_sum\n",
    "\n",
    "EAD_IRSpay_backward = saccr_alloc_backward[IRS_pay]\n",
    "EAD_IRSrec_backward = saccr_alloc_backward[IRS_rec]\n",
    "EAD_EqOpt_backward = saccr_alloc_backward[eqOpt]\n",
    "EAD_backward_sum = EAD_EqOpt_backward+EAD_IRSpay_backward+EAD_IRSrec_backward\n",
    "Delta_EAD_backward = ca.get_sa_ccr_model().get_risk_measure() - EAD_backward_sum\n",
    "\n",
    "IM_IRSpay_forward = im_alloc_forward[IRS_pay]\n",
    "IM_IRSrec_forward = im_alloc_forward[IRS_rec]\n",
    "IM_EqOpt_forward = im_alloc_forward[eqOpt]\n",
    "IM_forward_sum = IM_EqOpt_forward+IM_IRSpay_forward+IM_IRSrec_forward\n",
    "Delta_IM_forward = ca.get_sa_ccr_model().get_risk_measure() - IM_forward_sum\n",
    "\n",
    "IM_IRSpay_central = im_alloc_central[IRS_pay]\n",
    "IM_IRSrec_central = im_alloc_central[IRS_rec]\n",
    "IM_EqOpt_central = im_alloc_central[eqOpt]\n",
    "IM_central_sum = IM_EqOpt_central+IM_IRSpay_central+IM_IRSrec_central\n",
    "Delta_IM_central = ca.get_sa_ccr_model().get_risk_measure() - IM_central_sum\n",
    "\n",
    "IM_IRSpay_backward = im_alloc_backward[IRS_pay]\n",
    "IM_IRSrec_backward = im_alloc_backward[IRS_rec]\n",
    "IM_EqOpt_backward = im_alloc_backward[eqOpt]\n",
    "IM_backward_sum = IM_EqOpt_backward+IM_IRSpay_backward+IM_IRSrec_backward\n",
    "Delta_IM_backward = ca.get_im_model().get_risk_measure() - IM_backward_sum\n",
    "\n",
    "pf_ead = ca.get_sa_ccr_model().get_risk_measure()\n",
    "pf_im = ca.get_im_model().get_risk_measure()"
   ],
   "metadata": {
    "collapsed": false,
    "pycharm": {
     "name": "#%%\n"
    }
   }
  },
  {
   "cell_type": "markdown",
   "source": [
    "For reference a not perfectly hedged portfolio"
   ],
   "metadata": {
    "collapsed": false,
    "pycharm": {
     "name": "#%% md\n"
    }
   }
  },
  {
   "cell_type": "code",
   "execution_count": 6,
   "outputs": [],
   "source": [
    "IRS_pay = IRS(notional=200000000,\n",
    "              timeToSwapStart=ql.Period(2, ql.Days),\n",
    "              timeToSwapEnd=ql.Period(10, ql.Years),\n",
    "              swapDirection=SwapDirection.PAYER,\n",
    "              index=InterestRateIndex.USDLIBOR3M)\n",
    "\n",
    "IRS_rec = IRS(notional=100000000,\n",
    "              timeToSwapStart=ql.Period(2, ql.Days),\n",
    "              timeToSwapEnd=ql.Period(10, ql.Years),\n",
    "              swapDirection=SwapDirection.RECEIVER,\n",
    "              index=InterestRateIndex.USDLIBOR3M)\n",
    "\n",
    "eqOpt = EquityOption(notional = 1000000)\n",
    "\n",
    "ca = CollateralAgreement()\n",
    "ca.link_sa_ccr_instance(SA_CCR(ca))\n",
    "\n",
    "ca.add_trades([IRS_rec, IRS_pay, eqOpt])\n",
    "\n",
    "eulerAllocator = EulerAllocator(ca)\n",
    "ead_alloc = eulerAllocator.allocate_ead()\n",
    "im_alloc = eulerAllocator.allocate_im()\n",
    "\n",
    "ead = ca.get_sa_ccr_model().get_risk_measure()\n",
    "im = ca.get_im_model().get_risk_measure()\n",
    "\n",
    "sum_ead_alloc = sum([v for v in ead_alloc.values()])\n",
    "sum_im_alloc = sum([v for v in im_alloc.values()])"
   ],
   "metadata": {
    "collapsed": false,
    "pycharm": {
     "name": "#%%\n"
    }
   }
  }
 ],
 "metadata": {
  "kernelspec": {
   "display_name": "Python 3",
   "language": "python",
   "name": "python3"
  },
  "language_info": {
   "codemirror_mode": {
    "name": "ipython",
    "version": 2
   },
   "file_extension": ".py",
   "mimetype": "text/x-python",
   "name": "python",
   "nbconvert_exporter": "python",
   "pygments_lexer": "ipython2",
   "version": "2.7.6"
  }
 },
 "nbformat": 4,
 "nbformat_minor": 0
}