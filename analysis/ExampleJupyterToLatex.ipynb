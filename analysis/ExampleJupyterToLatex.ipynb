{
 "cells": [
  {
   "cell_type": "markdown",
   "metadata": {
    "collapsed": true,
    "pycharm": {
     "name": "#%% md\n"
    },
    "tags": [
     "remove_cell"
    ]
   },
   "source": [
    "## Markdown Cell"
   ]
  },
  {
   "cell_type": "markdown",
   "metadata": {},
   "source": [
    "Next, we are setting up a function to calculate the $AddOn$ for derivatives from the FX asset class. The approach is a little simpler than that for the IR asset class as no differentiaten between time buckets is necessary. All derivatives on a common currency pair can be set off against each other.\n",
    "\n",
    "\\begin{align*}\n",
    "AddOn^{FX} &= \\sum_j{AddOn_{HS_j}^{FX}} \\\\\n",
    "AddOn^{FX}_{HS_j} &= SF_j^{FX} * | \\text{EffectiveNotional}_j^{FX} | \\\\\n",
    "\\text{EffectiveNotional}_j^{FX} &= \\sum_{i \\in HS_j}{\\delta_i * d_i^{FX} * MF_i^{type}}\n",
    "\\end{align*}\n",
    "\n",
    "With the hedging sets $i \\in HS$ referencing all derivatives on a common currency pair."
   ]
  },
  {
   "cell_type": "code",
   "execution_count": 1,
   "metadata": {
    "pycharm": {
     "name": "#%%\n"
    },
    "tags": [
     "remove_cell"
    ]
   },
   "outputs": [],
   "source": [
    "from instruments.interestRateInstrument.irs import IRS\n",
    "import QuantLib as ql\n",
    "from instruments.interestRateInstrument.ois import OIS\n",
    "from jupyterUtils import export\n",
    "from marketdata.interestRateIndices import InterestRateIndex\n",
    "from utilities.Enums import SwapDirection\n",
    "import marketdata.init_marketdata\n",
    "\n",
    "asdf=1"
   ]
  },
  {
   "cell_type": "markdown",
   "metadata": {
    "pycharm": {
     "name": "#%% md\n"
    }
   },
   "source": [
    "In the following example we will create a swap and display its price.\n"
   ]
  },
  {
   "cell_type": "code",
   "execution_count": 2,
   "metadata": {
    "pycharm": {
     "name": "#%%\n"
    }
   },
   "outputs": [
    {
     "data": {
      "text/plain": "-15.11727999472697"
     },
     "execution_count": 2,
     "metadata": {},
     "output_type": "execute_result"
    }
   ],
   "source": [
    "# Creating a swap\n",
    "\n",
    "\n",
    "irs = IRS(notional = 100,\n",
    "    timeToSwapStart=ql.Period(2, ql.Days),\n",
    "    timeToSwapEnd=ql.Period(10, ql.Years),\n",
    "    swapDirection=SwapDirection.PAYER,\n",
    "    index=InterestRateIndex.EURIBOR6M,\n",
    "    fixed_rate=0.02\n",
    "    )\n",
    "\n",
    "irs.get_price()"
   ]
  },
  {
   "cell_type": "code",
   "execution_count": 3,
   "outputs": [
    {
     "data": {
      "text/plain": "-165.77717223100274"
     },
     "execution_count": 3,
     "metadata": {},
     "output_type": "execute_result"
    }
   ],
   "source": [
    "# Let us also create an OIS\n",
    "\n",
    "ois = OIS(notional = 1000,\n",
    "          timeToSwapStart=ql.Period(2, ql.Days),\n",
    "          timeToSwapEnd=ql.Period(10, ql.Years),\n",
    "          swapDirection=SwapDirection.PAYER,\n",
    "          index=InterestRateIndex.FEDFUNDS,\n",
    "          fixed_rate=0.04)\n",
    "\n",
    "ois.get_price()\n"
   ],
   "metadata": {
    "collapsed": false,
    "pycharm": {
     "name": "#%%\n"
    }
   }
  },
  {
   "cell_type": "code",
   "execution_count": 4,
   "metadata": {
    "pycharm": {
     "name": "#%%\n"
    },
    "tags": [
     "remove_cell"
    ]
   },
   "outputs": [],
   "source": [
    "export('ExampleJupyterToLatex.ipynb')"
   ]
  }
 ],
 "metadata": {
  "celltoolbar": "Tags",
  "kernelspec": {
   "display_name": "Python 3",
   "language": "python",
   "name": "python3"
  },
  "language_info": {
   "codemirror_mode": {
    "name": "ipython",
    "version": 3
   },
   "file_extension": ".py",
   "mimetype": "text/x-python",
   "name": "python",
   "nbconvert_exporter": "python",
   "pygments_lexer": "ipython3",
   "version": "3.6.5"
  }
 },
 "nbformat": 4,
 "nbformat_minor": 1
}