{
 "cells": [
  {
   "cell_type": "markdown",
   "metadata": {
    "collapsed": true,
    "pycharm": {
     "name": "#%% md\n"
    }
   },
   "source": [
    "## Interacting with SIMM Rest API\n",
    "\n",
    "We have created a Rest API for Acadiasofts simm library. With this we want to interact with python.\n",
    "\n",
    "As a first step we want to check weather the API is up and running.\n",
    "If the cell below throws an error the server is down. If it prints"
   ]
  },
  {
   "cell_type": "code",
   "execution_count": 13,
   "outputs": [],
   "source": [
    "import requests\n",
    "import json"
   ],
   "metadata": {
    "collapsed": false,
    "pycharm": {
     "name": "#%%\n"
    }
   }
  },
  {
   "cell_type": "code",
   "execution_count": null,
   "outputs": [],
   "source": [
    "r=requests.get('http://localhost:8080/v2/api-docs')\n",
    "\n",
    "print(r.status_code)"
   ],
   "metadata": {
    "collapsed": false,
    "pycharm": {
     "name": "#%%\n"
    }
   }
  },
  {
   "cell_type": "code",
   "execution_count": 9,
   "outputs": [],
   "source": [
    "home = 'http://localhost:8080/'\n",
    "\n",
    "r = requests.get(home+'crifs')\n",
    "\n"
   ],
   "metadata": {
    "collapsed": false,
    "pycharm": {
     "name": "#%%\n"
    }
   }
  },
  {
   "cell_type": "code",
   "execution_count": 14,
   "outputs": [],
   "source": [
    "test_crif_dict = {\n",
    "\t\"tradeId\" : \"TestTrade1\",\n",
    "\t\"valuationDate\" : \"2019-10-22\",\n",
    "\t\"endDate\" : \"\",\n",
    "\t\"notional\" : \"\",\n",
    "\t\"notionalCurrency\" : \"\",\n",
    "\t\"imModel\" : \"SIMM\",\n",
    "\t\"productClass\" : \"RatexFx\",\n",
    "\t\"riskType\" : \"Risk_FX\",\n",
    "\t\"qualifier\" : \"CHF\",\n",
    "\t\"bucket\" : \"\",\n",
    "\t\"label1\" : \"\",\n",
    "\t\"label2\" : \"\",\n",
    "\t\"amount\" : \"200\",\n",
    "\t\"amountCurrency\" : \"EUR\",\n",
    "\t\"amountUSD\" : \"220\",\n",
    "\t\"postRegulation\" : \"\",\n",
    "\t\"collectRegulation\" : \"\"\n",
    "}\n",
    "\n",
    "r = requests.post(home+'crifs', data=json.dumps(test_crif_dict))"
   ],
   "metadata": {
    "collapsed": false,
    "pycharm": {
     "name": "#%%\n"
    }
   }
  },
  {
   "cell_type": "code",
   "execution_count": 18,
   "outputs": [],
   "source": [
    "r = requests.get(home+'crifs/0')"
   ],
   "metadata": {
    "collapsed": false,
    "pycharm": {
     "name": "#%%\n"
    }
   }
  },
  {
   "cell_type": "code",
   "execution_count": 17,
   "outputs": [
    {
     "ename": "SyntaxError",
     "evalue": "invalid syntax (<ipython-input-17-a38460e0c5a8>, line 1)",
     "output_type": "error",
     "traceback": [
      "\u001B[1;36m  File \u001B[1;32m\"<ipython-input-17-a38460e0c5a8>\"\u001B[1;36m, line \u001B[1;32m1\u001B[0m\n\u001B[1;33m    payload =\u001B[0m\n\u001B[1;37m              ^\u001B[0m\n\u001B[1;31mSyntaxError\u001B[0m\u001B[1;31m:\u001B[0m invalid syntax\n"
     ]
    }
   ],
   "source": [
    "payload =\n",
    "    {\n",
    "        \"tradeId\": \"TestTrade2\",\n",
    "        \"imModel\": \"SIMM\",\n",
    "        \"productClass\": \"RatesFx\",\n",
    "        \"riskType\": \"Risk_FX\",\n",
    "        \"qualifier\": \"CLP\",\n",
    "        \"bucket\": \"\",\n",
    "        \"label1\": \"\",\n",
    "        \"label2\": \"\",\n",
    "        \"amount\": \"100\",\n",
    "        \"amountCurrency\": \"EUR\",\n",
    "        \"amountUSD\": \"110\",\n",
    "        \"postRegulation\": \"\",\n",
    "        \"collectRegulation\": \"\",\n",
    "        \"valuationDate\": \"2019-10-22\",\n",
    "        \"endDate\": \"\",\n",
    "        \"notional\": \"\",\n",
    "        \"notionalCurrency\": \"\",\n",
    "        \"notionalString\": \"\"\n",
    "    }\n",
    "\n",
    "r = requests.post(home+'crifs', json=payload)"
   ],
   "metadata": {
    "collapsed": false,
    "pycharm": {
     "name": "#%%\n"
    }
   }
  }
 ],
 "metadata": {
  "kernelspec": {
   "display_name": "Python 3",
   "language": "python",
   "name": "python3"
  },
  "language_info": {
   "codemirror_mode": {
    "name": "ipython",
    "version": 2
   },
   "file_extension": ".py",
   "mimetype": "text/x-python",
   "name": "python",
   "nbconvert_exporter": "python",
   "pygments_lexer": "ipython2",
   "version": "2.7.6"
  }
 },
 "nbformat": 4,
 "nbformat_minor": 0
}