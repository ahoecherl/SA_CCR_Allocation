{
 "cells": [
  {
   "cell_type": "code",
   "execution_count": 1,
   "metadata": {
    "collapsed": true
   },
   "outputs": [
    {
     "name": "stdout",
     "output_type": "stream",
     "text": [
      "8.0\n",
      "2.5\n"
     ]
    }
   ],
   "source": [
    "from marketdata.fxConverter import fxConvert\n",
    "from utilities.Enums import Currency\n",
    "\n",
    "euro = 10\n",
    "\n",
    "usd = fxConvert(Currency.EUR, Currency.USD, euro)\n",
    "print(usd)\n",
    "\n",
    "usd = fxConvert(Currency.KRW, Currency.USD, 3000)\n",
    "print(usd)"
   ]
  }
 ],
 "metadata": {
  "kernelspec": {
   "display_name": "Python 3",
   "language": "python",
   "name": "python3"
  },
  "language_info": {
   "codemirror_mode": {
    "name": "ipython",
    "version": 2
   },
   "file_extension": ".py",
   "mimetype": "text/x-python",
   "name": "python",
   "nbconvert_exporter": "python",
   "pygments_lexer": "ipython2",
   "version": "2.7.6"
  }
 },
 "nbformat": 4,
 "nbformat_minor": 0
}