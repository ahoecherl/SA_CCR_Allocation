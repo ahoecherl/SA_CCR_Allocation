{
 "cells": [
  {
   "cell_type": "markdown",
   "metadata": {},
   "source": [
    "# SA-CCR"
   ]
  },
  {
   "cell_type": "markdown",
   "metadata": {},
   "source": [
    "When using *SA-CCR* the exposure at default (EAD) has to be calculated as: \n",
    "\n",
    "\\begin{align*}\n",
    "EAD &= \\alpha * (RC + PFE)\\\\\n",
    "\\\\\n",
    "\\text{where} \\qquad \\alpha&=1.4 \\\\\n",
    "RC&: \\text{Replacement Cost} \\\\\n",
    "PFE&: \\text{Potential Future Exposure}\n",
    "\\end{align*}\n",
    "\n",
    "Let's set this relationship up in Python"
   ]
  },
  {
   "cell_type": "code",
   "execution_count": 1,
   "metadata": {
    "pycharm": {
     "is_executing": false
    }
   },
   "outputs": [
    {
     "data": {
      "text/plain": "35.0"
     },
     "metadata": {},
     "output_type": "execute_result",
     "execution_count": 1
    }
   ],
   "source": [
    "# Imports\n",
    "from datetime import datetime, timedelta\n",
    "from enum import Enum\n",
    "from math import exp, log, sqrt\n",
    "from typing import List\n",
    "import numpy\n",
    "from pandas import read_csv, DataFrame, Series\n",
    "from scipy.stats import norm\n",
    "from Enums import TradeType, TradeDirection, SwapDirection, AssetClass, MaturityBucket, SubClass, CreditSubClass, \\\n",
    "    EquitySubClass, Currency, CurrencyPair, Stock\n",
    "from collateralAgreement import CollateralAgreement, Margining, Clearing, Tradecount, Dispute\n",
    "from instruments.Trade import Trade\n",
    "from instruments.equity_instruments.equityForward import EquityForward\n",
    "from instruments.fx_instruments.fxForward import FxForward\n",
    "from instruments.fx_instruments.fxOption import FxOption\n",
    "\n",
    "def calculate_sa_ccr_ead(rc:float , pfe: float) -> float:\n",
    "    \"\"\"\n",
    "    Calculate EAD of SA-CCR as defined in paragraph 186.\n",
    "               \n",
    "    :param rc: Replacement Cost\n",
    "    :param pfe: Potential Future Exposure\n",
    "    :return: Exposure at default according to SA-CCR\n",
    "    \"\"\"\n",
    "\n",
    "    alpha = 1.4 #Carried over from alpha used for IMM\n",
    "    return alpha*(rc+pfe)\n",
    "\n",
    "calculate_sa_ccr_ead(10.0,15.0)"
   ]
  },
  {
   "cell_type": "markdown",
   "metadata": {},
   "source": [
    "SA-CCR differentiates between the following asset classes:\n",
    "\n",
    "* Interest rate derivatives\n",
    "* Foreign exchange derivatives\n",
    "* Credit derivatives\n",
    "* Equity derivatives\n",
    "* Commodity derivatives\n",
    "\n",
    "Each of these asset classes is differentiated again into different hedging sets - Netting of expsoure is only possible within a common hedging set. The definition of a hedging set depends on the asset class. For FX derivatives derivatives based on the same currency pair form a hedging set. For Equity derivatives on the other hand all trades are in a common hedging set. For all asset classes, derivatives that have a basis as an underlying and volatility derivatives form two seperate hedging sets."
   ]
  },
  {
   "cell_type": "markdown",
   "metadata": {},
   "source": [
    "### Relation of RC and PFE\n",
    "The purpose of the RC is to assess the imidiate loss suffered by the default of a counterparty. It is based on the current MtM of the derivative less the accessible collateral. If a bank has posted collateral to non-segregated accounts of a counterparty this collateral is also assumed to be lost in case of a default which increases the replacement cost.\n",
    "\n",
    "The potential future exposure (PFE) on the other hand assesses how the RC might develop in the future. The future being defined as during the next year. If the RC today is 0 but is likely to be larger than 0 in the near future the estimated EAD should take this expected increase in RC into account.\n",
    "\n",
    "See also Paragraph 130 and 131 of BCBS(2014):\n",
    "\n",
    "Paragraph 130 - case without margining:\n",
    "\n",
    "> For unmargined transactions, the *RC* intends to caputre the loss that would occur if a counterparty were to default and were closed out of its transactions immediately. The *PFE* add-on represents a potential conversative increase in expousre over a one-year time horizon from the present date (i.e. the calculation date).\n",
    "\n",
    "Paragraph 131 - case with margining:\n",
    "\n",
    "> For margined trades, the *RC* intends to capture the loss that would occur if a counterparty were to default at the present or at a future time, assuming that the closeout and replacement of transactions occur instantaneously. However, there may be a period (the margin period of risk) between the last exchange of collateral before default and replacement of the trades in the market. The *PFE* add-on represents the potential change in value of the trades during this time period."
   ]
  },
  {
   "cell_type": "markdown",
   "metadata": {},
   "source": [
    "## Definition of Potential Future Exposure (PFE)\n",
    "\n",
    "\\begin{align*}\n",
    "PFE &= \\text{multiplier} * AddOn^{\\text{aggregate}} \\\\\n",
    "\\\\\n",
    "\\text{where} \\qquad AddOn^{\\text{aggregate}} &: \\text{aggregate add-on component} \\\\\n",
    "\\text{multiplier} &: f(V,C,AddOn^{\\text{aggregate}})\n",
    "\\end{align*}\n",
    "\n",
    "$AddOn$ is calculated differently for each asset $a$ class. Since no netting is allowed between asset classes the aggregate is calculated as:\n",
    "\n",
    "$$AddOn^{\\text{aggregate}} = \\sum_{a}AddOn^{a}$$\n",
    "\n",
    "Collateralization is taken into account of the PFE calculation through the multiplier that uses the collateral held as an input. As overcollateralization e.g. through IM increases, the multiplier decreases. However, the multiplier is floored at 5%.\n",
    "\n",
    "\\begin{align*}\n",
    "\\text{multiplier} &= \\min \\left\\{ 1; Floor + (1-Floor) \\exp\\left(\\frac{V-C}{2(1-Floor)AddOn^{\\text{aggregate}}}\\right) \\right\\} \\\\\n",
    "\\text{where} \\qquad Floor &= 5\\%\n",
    "\\end{align*}"
   ]
  },
  {
   "cell_type": "code",
   "execution_count": 2,
   "metadata": {
    "pycharm": {
     "is_executing": false
    }
   },
   "outputs": [],
   "source": [
    "def multiplier(v:float,c:float, addOn_aggregate:float, floor:float = 0.05) -> float:\n",
    "    \"\"\"\n",
    "    Multiplier calculation for SA-CCR\n",
    "    \n",
    "    :param v: Current value of the derivative transactions in the netting set\n",
    "    :param c: Haircut value of the net collateral held\n",
    "    :param addOn_aggregate: Aggregated (summed up) AddOn over all asset classes\n",
    "    :param floor: Regulatory floor for the multiplier. Set to 5% in paragraph 149\n",
    "    :return: Multiplier for PFE calculation according to SA-CCR\n",
    "    \"\"\"\n",
    "    \n",
    "    return min(1, floor+(1-floor)*exp((v-c)/(2*(1-floor)*addOn_aggregate)))"
   ]
  },
  {
   "cell_type": "markdown",
   "metadata": {},
   "source": [
    "# AddOn calculation\n",
    "\n",
    "Most of the SA-CCR logic is hidden inside the AddOn calculation. At first it is important to define the following four data parameters:\n",
    "\n",
    "#### $M_i$ \n",
    "> Maturity of the derivative contract. If the underlying of a derivative is another derivative - e.g. in the case of a swaption the maturity date of the underlying needs to be chosen.\n",
    "\n",
    "#### $S_i$\n",
    "\n",
    "> For interest rate and credit derivatives the start date of the time periodreferenced by an interst rate or credit contract. If the derivtives underlying is another interest rate or credit intsrument (eg swaption or bond option) $S_i$ is the start date of the underlying instead.\n",
    "\n",
    "#### $E_i$\n",
    "\n",
    "> Defined as $S_i$ but referencing the end date instead of the start date.\n",
    "\n",
    "#### $T_i$\n",
    "\n",
    "> For options across all asset classes this is the latest contractual exercise date."
   ]
  },
  {
   "cell_type": "markdown",
   "metadata": {
    "pycharm": {
     "name": "#%% md\n"
    }
   },
   "source": [
    "Let's set up some trades at this point:\n",
    "\n",
    "* An Equity Option that is defined by a strike, maturity and current value of the underlying. Additional characteristics e.g. if it is an american or european option are irrelevant for SA-CCR calculations\n",
    "* A running intere rate swap\n",
    "* A forward starting interest rate swap\n",
    "* A swaption with the previous swap as underlying"
   ]
  },
  {
   "cell_type": "code",
   "execution_count": 3,
   "metadata": {
    "pycharm": {
     "is_executing": false,
     "name": "#%%\n"
    }
   },
   "outputs": [
    {
     "name": "stdout",
     "text": [
      "{'Instrument': 'EquityOption', 'TradeType': 'Call', 'TradeDirection': 'Long', 'Maturity': 2, 'Startdate': None, 'Notional': 20}\n",
      "{'Instrument': 'InterestRateSwap', 'TradeType': 'Linear', 'TradeDirection': 'Long', 'Maturity': 3, 'Startdate': 1, 'Notional': 1000000}\n",
      "{'Instrument': 'Swaption', 'TradeType': 'Call', 'TradeDirection': 'Short', 'Maturity': 3, 'Startdate': 1, 'Notional': 1000000}\n"
     ],
     "output_type": "stream"
    }
   ],
   "source": [
    "from instruments.equity_instruments.equityOption import EquityOption\n",
    "from instruments.interestRateInstrument.interestRateSwap import InterestRateSwap\n",
    "from instruments.interestRateInstrument.swaption import Swaption\n",
    "\n",
    "eq_option = EquityOption(notional=20, S=35, K=35, m=2)\n",
    "print(str(eq_option))\n",
    "\n",
    "swap = InterestRateSwap(notional = 2000000, currency = Currency.EUR, timeToSwapStart=0, timeToSwapEnd=4, swapDirection=SwapDirection.RECEIVER)\n",
    "\n",
    "fw_swap = InterestRateSwap(notional = 1000000,currency = Currency.USD, timeToSwapStart=1, timeToSwapEnd=3, swapDirection = SwapDirection.PAYER)\n",
    "print(fw_swap)\n",
    "\n",
    "swaption = Swaption(underlyingSwap=fw_swap,\n",
    "                    optionMaturity=1,\n",
    "                    tradeDirection = TradeDirection.SHORT,\n",
    "                    strikeFixedRate = 0.014,\n",
    "                    forwardParFixedRate = 0.01)\n",
    "print(swaption)"
   ]
  },
  {
   "cell_type": "markdown",
   "metadata": {},
   "source": [
    "## Trade level adjusted notional\n",
    "\n",
    "Each trade $i$ has a trade level adjusted notional $d_i^a$ assigned to it. This is calculated differently for the different asset classes.\n",
    "\n",
    "#### Interest rate and credit derivatives\n",
    "\n",
    "The notional of the trade is usually a well defined value in domestic currency for interest rate and credit derivatives. It is multiplied by a supervisory duration factor. The basic idea is, that the value of the derivative can change more the longer the remaining \n",
    "\n",
    "\\begin{align*}\n",
    "d_i &= \\text{Notional}_i * SD_i \\\\\n",
    "\\\\\n",
    "\\text{where} \\qquad SD_i &=\\frac{\\exp\\left(-0.05 * S_i\\right)-\\exp\\left(-0.05 * E_i\\right)}{0.05}\n",
    "\\end{align*}\n",
    "\n",
    "#### FX derivatives\n",
    "\n",
    "While the wording in the BCBS paper is a bit more specific we will just assume that every FX traded derivative has a USD leg and set the notional equal the to USD notional.\n",
    "\n",
    "#### Equity and commodity derivatives\n",
    "\n",
    "The notional is defined as the price of the underlying. Therefore, it fluctuates over time.\n",
    "\n",
    "#### Notional of exotic derivatives\n",
    "\n",
    "For more exotic derivatives which do have adjustable notionals, resetting notionals etc. detailed handling of the notional is defined in paragraph 158."
   ]
  },
  {
   "cell_type": "code",
   "execution_count": 4,
   "metadata": {
    "pycharm": {
     "is_executing": false
    }
   },
   "outputs": [],
   "source": [
    "def trade_level_adjusted_notional(trade: Trade):\n",
    "    \"\"\"\n",
    "    Calculates the trade level adjusted notional as defined in paragraph 157\n",
    "    \n",
    "    :param trade: Trade object for which the adjusted notional should be calculated\n",
    "    :param underlying_price: \n",
    "        required for FX trades (exchange rate to domestic currency)\n",
    "        required for EQ trades (current price of one share)\n",
    "        required for CO trades (current price of fone unit of commodity)\n",
    "        not required for IR trades and CR trades\n",
    "    \n",
    "    :return: adjusted notional as defined in paragraph 157\n",
    "    \"\"\"\n",
    "    \n",
    "    if trade.assetClass in (AssetClass.IR, AssetClass.CR):\n",
    "        sd = (exp(-0.05*trade.s)-exp(-0.05*trade.e))/0.05\n",
    "        return trade.notional*sd\n",
    "    \n",
    "    # This assumes that trade.Notional is defined as quantity of underlying shares for equity and foreign currency notional for FX\n",
    "    if trade.assetClass == AssetClass.EQ:\n",
    "        return trade.notional*trade.S\n",
    "    \n",
    "    if trade.assetClass == AssetClass.FX:\n",
    "        return trade.notional"
   ]
  },
  {
   "cell_type": "markdown",
   "metadata": {},
   "source": [
    "## Supervisory delta adjustments: $\\delta_i$\n",
    "\n",
    "For linear derivatives $\\delta$ is 1 for long derivatives and -1 for short derivatives.\n",
    "\n",
    "For options $\\delta$ is defined as under Black-Scholes:\n",
    "\n",
    "\\begin{align*}\n",
    "\\delta_{\\text{long Call}} &= +\\Phi\\left(\\frac{\\ln\\left(P_i / K_i \\right) + 0.5 * \\sigma_i^2 * T_i}{\\sigma_i * \\sqrt{T_i}}\\right) \\\\\n",
    "\\\\\n",
    "\\text{where} \\qquad \\Phi &: \\text{standard normal cdf} \\\\\n",
    "\\sigma_i &: \\text{supervisory volatility as defined in Table 2 in paragraph 183}\n",
    "\\end{align*}\n",
    "\n",
    "This delta is multiplied by -1 in case of a long Put option or a short Call option.\n",
    "\n",
    "No detail is given at this point on the delta calculation of CDO tranches as these are not in the scope of this thesis."
   ]
  },
  {
   "cell_type": "code",
   "execution_count": 5,
   "metadata": {
    "pycharm": {
     "is_executing": false,
     "name": "#%%\n"
    }
   },
   "outputs": [],
   "source": [
    "def get_supervisory_volatility(trade: Trade) -> float:\n",
    "    supervisory_parameter = read_csv('supervisory_parameters.csv')\n",
    "    sigma = None\n",
    "    if trade.subClass is None:\n",
    "        sigma = supervisory_parameter[(supervisory_parameter.AssetClass == trade.assetClass.value)]['SupervisoryOptionVolatility'].iloc[0]\n",
    "    elif trade.subClass is not None:\n",
    "        sigma = supervisory_parameter[(supervisory_parameter.AssetClass == trade.assetClass.value) & (supervisory_parameter.SubClass == trade.subClass.value)]['SupervisoryOptionVolatility'].iloc[0]\n",
    "    return sigma\n",
    "\n",
    "def calculate_sa_ccr_delta(trade) -> float:\n",
    "    if (trade.tradeType == TradeType.LINEAR) and (trade.tradeDirection == TradeDirection.LONG):\n",
    "        return 1\n",
    "    elif (trade.tradeType == TradeType.LINEAR) and (trade.tradeDirection == TradeDirection.SHORT):\n",
    "        return -1\n",
    "    elif trade.tradeType in (TradeType.CALL, TradeType.PUT):\n",
    "        d1_mult = +1 if trade.tradeType == TradeType.CALL else -1\n",
    "        \n",
    "        if trade.tradeType == TradeType.CALL and trade.tradeDirection == TradeDirection.LONG: n_mult = 1\n",
    "        elif trade.tradeType == TradeType.CALL and trade.tradeDirection == TradeDirection.SHORT: n_mult = -1\n",
    "        elif trade.tradeType == TradeType.PUT and trade.tradeDirection == TradeDirection.LONG: n_mult = -1\n",
    "        else: n_mult = +1\n",
    "        \n",
    "        sigma = get_supervisory_volatility(trade)\n",
    "        \n",
    "        d1 = (log(trade.S/trade.K) + 0.5 * sigma**2 * trade.t)/(sigma*sqrt(trade.t))\n",
    "        \n",
    "        delta = n_mult*norm.cdf(d1_mult*d1)\n",
    "        return delta"
   ]
  },
  {
   "cell_type": "markdown",
   "metadata": {
    "pycharm": {
     "name": "#%% md\n"
    }
   },
   "source": [
    "Let's try if our delta function works for the different trade types we have set up.\n",
    "\n",
    "1. An equity option\n",
    "2. An interest rate swap\n",
    "3. A forward starting interest rate swap\n",
    "4. A swaption"
   ]
  },
  {
   "cell_type": "code",
   "execution_count": 6,
   "metadata": {
    "pycharm": {
     "is_executing": false,
     "name": "#%%\n"
    }
   },
   "outputs": [
    {
     "name": "stdout",
     "text": [
      "{'Instrument': 'EquityOption', 'TradeType': 'Call', 'TradeDirection': 'Long', 'Maturity': 2, 'Startdate': None, 'Notional': 20}\n"
     ],
     "output_type": "stream"
    },
    {
     "data": {
      "text/plain": "0.801928045423963"
     },
     "metadata": {},
     "output_type": "execute_result",
     "execution_count": 6
    }
   ],
   "source": [
    "print(eq_option)\n",
    "calculate_sa_ccr_delta(eq_option)"
   ]
  },
  {
   "cell_type": "code",
   "execution_count": 7,
   "metadata": {
    "pycharm": {
     "is_executing": false,
     "name": "#%%\n"
    }
   },
   "outputs": [
    {
     "name": "stdout",
     "text": [
      "{'Instrument': 'InterestRateSwap', 'TradeType': 'Linear', 'TradeDirection': 'Short', 'Maturity': 4, 'Startdate': 0, 'Notional': 2000000}\n"
     ],
     "output_type": "stream"
    },
    {
     "data": {
      "text/plain": "-1"
     },
     "metadata": {},
     "output_type": "execute_result",
     "execution_count": 7
    }
   ],
   "source": [
    "print(swap)\n",
    "calculate_sa_ccr_delta(swap)"
   ]
  },
  {
   "cell_type": "code",
   "execution_count": 8,
   "metadata": {
    "pycharm": {
     "is_executing": false,
     "name": "#%%\n"
    }
   },
   "outputs": [
    {
     "name": "stdout",
     "text": [
      "{'Instrument': 'InterestRateSwap', 'TradeType': 'Linear', 'TradeDirection': 'Long', 'Maturity': 3, 'Startdate': 1, 'Notional': 1000000}\n"
     ],
     "output_type": "stream"
    },
    {
     "data": {
      "text/plain": "1"
     },
     "metadata": {},
     "output_type": "execute_result",
     "execution_count": 8
    }
   ],
   "source": [
    "print(fw_swap)\n",
    "calculate_sa_ccr_delta(fw_swap)"
   ]
  },
  {
   "cell_type": "code",
   "execution_count": 9,
   "metadata": {
    "pycharm": {
     "is_executing": false,
     "name": "#%%\n"
    }
   },
   "outputs": [
    {
     "name": "stdout",
     "text": [
      "{'Instrument': 'Swaption', 'TradeType': 'Call', 'TradeDirection': 'Short', 'Maturity': 3, 'Startdate': 1, 'Notional': 1000000}\n"
     ],
     "output_type": "stream"
    },
    {
     "data": {
      "text/plain": "-0.33616788698866606"
     },
     "metadata": {},
     "output_type": "execute_result",
     "execution_count": 9
    }
   ],
   "source": [
    "print(swaption)\n",
    "calculate_sa_ccr_delta(swaption)\n"
   ]
  },
  {
   "cell_type": "markdown",
   "metadata": {
    "pycharm": {
     "name": "#%% md\n"
    }
   },
   "source": [
    "The formula used for the regulatory delta is equivalent to the Black-Scholes formula for delta under the assumption of a risk free rate of 0. As a sanity check we can check if the Delta of a long call is about 0.5 if the call is just about to mature."
   ]
  },
  {
   "cell_type": "code",
   "execution_count": 10,
   "metadata": {
    "pycharm": {
     "is_executing": false,
     "name": "#%%\n"
    }
   },
   "outputs": [
    {
     "name": "stdout",
     "text": [
      "{'Instrument': 'EquityOption', 'TradeType': 'Call', 'TradeDirection': 'Long', 'Maturity': 1e-08, 'Startdate': None, 'Notional': 20}\n"
     ],
     "output_type": "stream"
    },
    {
     "data": {
      "text/plain": "0.5000239365368098"
     },
     "metadata": {},
     "output_type": "execute_result",
     "execution_count": 10
    }
   ],
   "source": [
    "eq_option2 = EquityOption(notional = 20, S = 35, K = 35, m = 0.00000001, tradeType=TradeType.CALL, tradeDirection=TradeDirection.LONG)\n",
    "print(eq_option2)\n",
    "calculate_sa_ccr_delta(eq_option2)"
   ]
  },
  {
   "cell_type": "markdown",
   "metadata": {
    "pycharm": {
     "name": "#%% md\n"
    }
   },
   "source": [
    "Trying to validate methodology by replicating Example 1 of Annex 4a. Setting up trades:"
   ]
  },
  {
   "cell_type": "code",
   "execution_count": 11,
   "metadata": {
    "pycharm": {
     "is_executing": false,
     "name": "#%%\n"
    }
   },
   "outputs": [],
   "source": [
    "trade1 = InterestRateSwap(notional = 10000000, currency=Currency.USD, timeToSwapStart=0, timeToSwapEnd=10, swapDirection=SwapDirection.PAYER)\n",
    "trade2 = InterestRateSwap(notional = 10000000, currency=Currency.USD, timeToSwapStart=0, timeToSwapEnd=4, swapDirection=SwapDirection.RECEIVER)\n",
    "trade3_ul = InterestRateSwap(notional = 5000000, currency=Currency.EUR, timeToSwapStart=1, timeToSwapEnd=11, swapDirection=SwapDirection.RECEIVER)\n",
    "trade3 = Swaption(underlyingSwap=trade3_ul, optionMaturity=1, tradeDirection=TradeDirection.LONG, strikeFixedRate=0.05, forwardParFixedRate=0.06)"
   ]
  },
  {
   "cell_type": "markdown",
   "metadata": {
    "pycharm": {
     "name": "#%% md\n"
    }
   },
   "source": [
    "Calculating trade level adjusted notional and supervisory delta. Should be the following:\n",
    "\n",
    "| Trade   | Adjusted notional (thousands) | Supervisory delta |\n",
    "|---------|-------------------------------|-------------------|\n",
    "| Trade 1 | 78694                         | 1                 |\n",
    "| Trade 2 | 36254                         | -1                |\n",
    "| Trade 3 | 37428                         | -0.27             |"
   ]
  },
  {
   "cell_type": "code",
   "execution_count": 12,
   "metadata": {
    "pycharm": {
     "is_executing": false,
     "name": "#%%\n"
    }
   },
   "outputs": [
    {
     "data": {
      "text/plain": "         Adjusted notional (thousands)  Supervisory delta\nTrade 1                          78694               1.00\nTrade 2                          36254              -1.00\nTrade 3                          37428              -0.27",
      "text/html": "<div>\n<style scoped>\n    .dataframe tbody tr th:only-of-type {\n        vertical-align: middle;\n    }\n\n    .dataframe tbody tr th {\n        vertical-align: top;\n    }\n\n    .dataframe thead th {\n        text-align: right;\n    }\n</style>\n<table border=\"1\" class=\"dataframe\">\n  <thead>\n    <tr style=\"text-align: right;\">\n      <th></th>\n      <th>Adjusted notional (thousands)</th>\n      <th>Supervisory delta</th>\n    </tr>\n  </thead>\n  <tbody>\n    <tr>\n      <th>Trade 1</th>\n      <td>78694</td>\n      <td>1.00</td>\n    </tr>\n    <tr>\n      <th>Trade 2</th>\n      <td>36254</td>\n      <td>-1.00</td>\n    </tr>\n    <tr>\n      <th>Trade 3</th>\n      <td>37428</td>\n      <td>-0.27</td>\n    </tr>\n  </tbody>\n</table>\n</div>"
     },
     "metadata": {},
     "output_type": "execute_result",
     "execution_count": 12
    }
   ],
   "source": [
    "ind = ['Trade 1', 'Trade 2', 'Trade 3']\n",
    "data = {'Adjusted notional (thousands)': [round(trade_level_adjusted_notional(trade1)/1000),\n",
    "                                          round(trade_level_adjusted_notional(trade2)/1000),\n",
    "                                          round(trade_level_adjusted_notional(trade3)/1000)],\n",
    "        'Supervisory delta': [round(calculate_sa_ccr_delta(trade1)),\n",
    "                              round(calculate_sa_ccr_delta(trade2)),\n",
    "                              round(calculate_sa_ccr_delta(trade3),2)]}\n",
    "df = DataFrame(data = data, index = ind)\n",
    "df"
   ]
  },
  {
   "cell_type": "markdown",
   "metadata": {
    "pycharm": {
     "name": "#%% md\n"
    }
   },
   "source": [
    "The implemented formulas correctly replicate the results given in the first Example of Annex 4a."
   ]
  },
  {
   "cell_type": "markdown",
   "metadata": {
    "pycharm": {
     "name": "#%% md\n"
    }
   },
   "source": [
    "SA-CCR uses the same Black-Scholes based formula for Swaps as it uses for Equities. It differentiates options in two dimensions. Whether they are *bought* or *sold* and whether they are *Call* or *Put* options (Compare paragraph 159).\n",
    "\n",
    "SA-CCR defines an option as a call option if it rises in value as the underlying rises in value. A fixed payer swap rises in value as the underlying interest rate rises in value. Therefore, an option to buy a fixed payer swap at a predetermined strike also rises in value as the underlying interest rate rises in value. Therefore, a swaption on a payer swap is considered a *Call* under SA-CCR, while a swaption on a receiver swap is considered a *Put*. "
   ]
  },
  {
   "cell_type": "markdown",
   "metadata": {},
   "source": [
    "## Risk horizon\n",
    "\n",
    "For unmargined transaction the margining factor is\n",
    "\n",
    "\n",
    "$$MF^{\\text{unmargined}}_i = \\sqrt{\\frac{\\min\\left(M_i;1\\text{ year}\\right)}{1\\text{ year}}}$$\n",
    "\n",
    "This factor can be used to scale down a risk weight calibrated for a 1 year horizon to a shorter period.\n",
    "\n",
    "With margining the margin period of risk (MPOR) is:\n",
    "\n",
    "* 10 business days for small, uncleared OTC portfolios\n",
    "* 5 business days for cleared derivatives\n",
    "* 20 business days for netting sets with more than 5000 transactions that are not with a central counterparty\n",
    "* and doubling this period for portfolios with outstanding disputes\n",
    "\n",
    "The margining factor is then\n",
    "\n",
    "$$ MF^{\\text{margined}}_i = \\frac{3}{2}\\sqrt{\\frac{MPOR_i}{1\\text{ year}}} $$"
   ]
  },
  {
   "cell_type": "markdown",
   "metadata": {
    "pycharm": {
     "name": "#%% md\n"
    }
   },
   "source": [
    "At this point we need to introduce a collateral agreement object. For simplicities sake we will not differentiate between collateral and netting sets in this thesis. All trades that are covered by the same collateral agreement are also admissible for netting with each other. (Also refer to the introduction of close out netting above)\n",
    "\n",
    "The default properties of a collateral agreement are displayed below:"
   ]
  },
  {
   "cell_type": "code",
   "execution_count": 13,
   "metadata": {
    "pycharm": {
     "is_executing": false,
     "name": "#%%\n"
    }
   },
   "outputs": [
    {
     "name": "stdout",
     "text": [
      "{\n",
      "    \"margining\": \"Unmargined\",\n",
      "    \"clearing\": \"Non-centrally cleared derivatives\",\n",
      "    \"tradecount\": \"Under five thousand transactions between the counterparties\",\n",
      "    \"dispute\": \"No margining disputes are outstanding between the counterparties\",\n",
      "    \"threshold\": 0.0,\n",
      "    \"mta\": 0.0,\n",
      "    \"vm\": 0.0,\n",
      "    \"posted_im\": 0.0,\n",
      "    \"received_im\": 0.0,\n",
      "    \"unsegregated_overcollateraliziation_posted\": 0.0,\n",
      "    \"unsegregated_overcollateralization_received\": 0.0,\n",
      "    \"segregated_overcollateralization_posted\": 0.0,\n",
      "    \"segregated_overcollateralization_received\": 0.0\n",
      "}\n"
     ],
     "output_type": "stream"
    }
   ],
   "source": [
    "ca = CollateralAgreement()\n",
    "print(ca)"
   ]
  },
  {
   "cell_type": "markdown",
   "metadata": {
    "pycharm": {
     "name": "#%% md\n"
    }
   },
   "source": [
    "And they may be changed at the initialization of the collateral agreement or afterwards. The latter case is displayed in the next cell:"
   ]
  },
  {
   "cell_type": "code",
   "execution_count": 14,
   "metadata": {
    "pycharm": {
     "is_executing": false,
     "name": "#%%\n"
    }
   },
   "outputs": [
    {
     "name": "stdout",
     "text": [
      "{\n",
      "    \"margining\": \"Margined\",\n",
      "    \"clearing\": \"Centrally cleared derivatives\",\n",
      "    \"tradecount\": \"Under five thousand transactions between the counterparties\",\n",
      "    \"dispute\": \"No margining disputes are outstanding between the counterparties\",\n",
      "    \"threshold\": 0.0,\n",
      "    \"mta\": 0.0,\n",
      "    \"vm\": -3000,\n",
      "    \"posted_im\": 1000,\n",
      "    \"received_im\": 1000,\n",
      "    \"unsegregated_overcollateraliziation_posted\": 0.0,\n",
      "    \"unsegregated_overcollateralization_received\": 0.0,\n",
      "    \"segregated_overcollateralization_posted\": 0.0,\n",
      "    \"segregated_overcollateralization_received\": 0.0\n",
      "}\n"
     ],
     "output_type": "stream"
    }
   ],
   "source": [
    "ca.margining= Margining.MARGINED\n",
    "ca.clearing= Clearing.CLEARED\n",
    "ca.vm = -3000\n",
    "ca.posted_im = 1000\n",
    "ca.received_im = 1000\n",
    "\n",
    "print(ca)"
   ]
  },
  {
   "cell_type": "markdown",
   "metadata": {
    "pycharm": {
     "name": "#%% md\n"
    }
   },
   "source": [
    "With this collateral set object we can define a function for calculation the margining factor:"
   ]
  },
  {
   "cell_type": "code",
   "execution_count": 15,
   "metadata": {
    "pycharm": {
     "is_executing": false,
     "name": "#%% \n"
    }
   },
   "outputs": [],
   "source": [
    "def margining_factor(trade : Trade, ca : CollateralAgreement) -> float:\n",
    "    if ca.margining == Margining.UNMARGINED:\n",
    "        floored_maturity = max(10/250, trade.m) #as Everything is measured in years 10/250 is equal to 10 business days.\n",
    "        mf_unmargined = sqrt(min(floored_maturity, 1)/1)\n",
    "        return mf_unmargined\n",
    "    if ca.margining == Margining.MARGINED:\n",
    "        # Compare paragraph 164 to see how MPOR needs to be set for margined trades.\n",
    "        if ca.clearing==Clearing.CLEARED:\n",
    "            MPOR = 5\n",
    "        elif ca.tradecount==Tradecount.OVER_FIVE_THOUSAND:\n",
    "            MPOR = 20\n",
    "        else: MPOR = 10\n",
    "        if ca.dispute == Dispute.OUTSTANDING_DISPUTES:\n",
    "            MPOR = MPOR*2\n",
    "        \n",
    "        mf_margined = 3/2 * sqrt(MPOR/250) #Since MPOR above is defined in Business days and not year fractions division by 250 is necessary.\n",
    "        return mf_margined"
   ]
  },
  {
   "cell_type": "markdown",
   "metadata": {
    "pycharm": {
     "name": "#%% md\n"
    }
   },
   "source": [
    "For trades of differing maturity let's compare the margining factor for the three most common scenarios:\n",
    "\n",
    "1. No margining\n",
    "2. Bilateral uncleared\n",
    "3. Centrally cleared"
   ]
  },
  {
   "cell_type": "code",
   "execution_count": 16,
   "metadata": {
    "pycharm": {
     "is_executing": false,
     "name": "#%%\n"
    }
   },
   "outputs": [
    {
     "data": {
      "text/plain": "                      One day  Two weeks  Six months  One year  Ten years\nNo margining         0.200000   0.200000    0.707107  1.000000   1.000000\nBilateral uncleared  0.300000   0.300000    0.300000  0.300000   0.300000\nCentrally cleared    0.212132   0.212132    0.212132  0.212132   0.212132",
      "text/html": "<div>\n<style scoped>\n    .dataframe tbody tr th:only-of-type {\n        vertical-align: middle;\n    }\n\n    .dataframe tbody tr th {\n        vertical-align: top;\n    }\n\n    .dataframe thead th {\n        text-align: right;\n    }\n</style>\n<table border=\"1\" class=\"dataframe\">\n  <thead>\n    <tr style=\"text-align: right;\">\n      <th></th>\n      <th>One day</th>\n      <th>Two weeks</th>\n      <th>Six months</th>\n      <th>One year</th>\n      <th>Ten years</th>\n    </tr>\n  </thead>\n  <tbody>\n    <tr>\n      <th>No margining</th>\n      <td>0.200000</td>\n      <td>0.200000</td>\n      <td>0.707107</td>\n      <td>1.000000</td>\n      <td>1.000000</td>\n    </tr>\n    <tr>\n      <th>Bilateral uncleared</th>\n      <td>0.300000</td>\n      <td>0.300000</td>\n      <td>0.300000</td>\n      <td>0.300000</td>\n      <td>0.300000</td>\n    </tr>\n    <tr>\n      <th>Centrally cleared</th>\n      <td>0.212132</td>\n      <td>0.212132</td>\n      <td>0.212132</td>\n      <td>0.212132</td>\n      <td>0.212132</td>\n    </tr>\n  </tbody>\n</table>\n</div>"
     },
     "metadata": {},
     "output_type": "execute_result",
     "execution_count": 16
    }
   ],
   "source": [
    "one_day = InterestRateSwap(notional = 1000000, currency = Currency.USD, timeToSwapStart=0, timeToSwapEnd=1/250, swapDirection=SwapDirection.PAYER)\n",
    "two_weeks = InterestRateSwap(notional = 1000000, currency = Currency.USD, timeToSwapStart=0, timeToSwapEnd=10/250, swapDirection=SwapDirection.PAYER)\n",
    "six_months = InterestRateSwap(notional = 1000000, currency = Currency.USD, timeToSwapStart=0, timeToSwapEnd=125/250, swapDirection=SwapDirection.PAYER)\n",
    "one_year = InterestRateSwap(notional = 1000000, currency = Currency.USD, timeToSwapStart=0, timeToSwapEnd=250/250, swapDirection=SwapDirection.PAYER)\n",
    "ten_years = InterestRateSwap(notional = 1000000, currency = Currency.USD, timeToSwapStart=0, timeToSwapEnd=2500/250, swapDirection=SwapDirection.PAYER)\n",
    "\n",
    "no_margining = CollateralAgreement()\n",
    "bilateral_margining = CollateralAgreement(margining = Margining.MARGINED)\n",
    "central_clearing = CollateralAgreement(margining = Margining.MARGINED, clearing = Clearing.CLEARED)\n",
    "\n",
    "trades = [one_day, two_weeks, six_months, one_year, ten_years]\n",
    "cas = [no_margining, bilateral_margining, central_clearing]\n",
    "ar = numpy.empty([3,5])\n",
    "i = 0\n",
    "for t in trades:\n",
    "    j = 0\n",
    "    for ca in cas:\n",
    "        ar[j,i] = margining_factor(t,ca)\n",
    "        j += 1\n",
    "    i += 1\n",
    "\n",
    "DataFrame(index=['No margining', 'Bilateral uncleared', 'Centrally cleared'],\n",
    "          columns=['One day', 'Two weeks', 'Six months', 'One year', 'Ten years'],\n",
    "          data = ar)"
   ]
  },
  {
   "cell_type": "markdown",
   "metadata": {},
   "source": [
    "## AddOn for interest rate derivatives\n",
    "\n",
    "#### Step 1 - calculation of effective notional $D_{jk}^{IR}$\n",
    "\n",
    "\\begin{align*}\n",
    "D_{jk}^{IR} &= \\sum_{i\\in\\left\\{Ccy_j, MB_k\\right\\}}{\\delta_i*d_i^{IR}*MF_i}\n",
    "\\end{align*}\n",
    "\n",
    "Here, the notation $i\\in\\left\\{Ccy_j, MB_k\\right\\}$ refers to trades whose underlying is the interest rate of a common currency $j$ and which mature in a common maturity bucket $k$"
   ]
  },
  {
   "cell_type": "code",
   "execution_count": 17,
   "metadata": {
    "pycharm": {
     "is_executing": false,
     "name": "#%%\n"
    }
   },
   "outputs": [],
   "source": [
    "def get_supervisory_factor(assetClass: AssetClass, subClass: SubClass = None) -> float:\n",
    "    supervisory_parameter = read_csv('supervisory_parameters.csv')\n",
    "    sf = None\n",
    "    if subClass is None:\n",
    "        sf = supervisory_parameter[(supervisory_parameter.AssetClass == assetClass.value)]['Supervisory factor'].iloc[0]\n",
    "    elif subClass is not None:\n",
    "        sf = supervisory_parameter[(supervisory_parameter.AssetClass == assetClass.value) & (supervisory_parameter.SubClass == subClass.value)]['Supervisory factor'].iloc[0]\n",
    "    return sf\n",
    "\n",
    "def interest_rate_addOn(trades: List[Trade], ca: CollateralAgreement) -> float:\n",
    "    bucketed_trades = {}\n",
    "    en_cur_mat = {}\n",
    "    add_on_cur = Series()\n",
    "    currencies = set()\n",
    "    \n",
    "    for t in trades:\n",
    "        key = (t.currency, t.get_maturity_bucket())\n",
    "        currencies.add(t.currency)\n",
    "        if key in bucketed_trades:\n",
    "            bucketed_trades[key].append(t)\n",
    "        else:\n",
    "            bucketed_trades[key] = [t]\n",
    "    \n",
    "    for key, trades in bucketed_trades.items():\n",
    "        effective_notional = 0\n",
    "        for t in trades:\n",
    "            effective_notional += calculate_sa_ccr_delta(t) * trade_level_adjusted_notional(t) * margining_factor(t, ca)\n",
    "        en_cur_mat[key] = effective_notional\n",
    "        \n",
    "    for cur in currencies:\n",
    "        d_1 = en_cur_mat.get((cur, MaturityBucket.ONE),0)\n",
    "        d_2 = en_cur_mat.get((cur, MaturityBucket.TWO),0)\n",
    "        d_3 = en_cur_mat.get((cur, MaturityBucket.THREE),0)\n",
    "        \n",
    "        en_cur = sqrt(d_1**2 + d_2**2 + d_3**2 + 1.4*d_1 *d_2 + 1.4*d_2*d_3 + 0.6*d_1*d_3)\n",
    "        \n",
    "        add_on_cur[cur] = get_supervisory_factor(assetClass = AssetClass.IR) * en_cur\n",
    "\n",
    "    return add_on_cur.sum()"
   ]
  },
  {
   "cell_type": "markdown",
   "metadata": {
    "pycharm": {
     "name": "#%% md\n"
    }
   },
   "source": [
    "For a quick sanity check we can again check against the example 1 in Appendix 4a. The $AddOn_{IR}$ should be 347 thousand USD."
   ]
  },
  {
   "cell_type": "code",
   "execution_count": 18,
   "metadata": {
    "pycharm": {
     "is_executing": false,
     "name": "#%%\n"
    }
   },
   "outputs": [
    {
     "data": {
      "text/plain": "347.0"
     },
     "metadata": {},
     "output_type": "execute_result",
     "execution_count": 18
    }
   ],
   "source": [
    "round(interest_rate_addOn([trade1, trade2, trade3], CollateralAgreement())/1000)"
   ]
  },
  {
   "cell_type": "markdown",
   "metadata": {
    "pycharm": {
     "name": "#%% md\n"
    }
   },
   "source": [
    "Next, we are setting up a function to calculate the $AddOn$ for derivatives from the FX asset class. The approach is a little simpler than that for the IR asset class as no differentiaten between time buckets is necessary. All derivatives on a common currency pair can be set off against each other.\n",
    "\n",
    "\\begin{align*}\n",
    "AddOn^{FX} &= \\sum_j{AddOn_{HS_j}^{FX}} \\\\\n",
    "AddOn^{FX}_{HS_j} &= SF_j^{FX} * | \\text{EffectiveNotional}_j^{FX} | \\\\\n",
    "\\text{EffectiveNotional}_j^{FX} &= \\sum_{i \\in HS_j}{\\delta_i * d_i^{FX} * MF_i^{type}}\n",
    "\\end{align*}\n",
    "\n",
    "With the hedging sets $i \\in HS$ referencing all derivatives on a common currency pair."
   ]
  },
  {
   "cell_type": "code",
   "execution_count": 19,
   "metadata": {
    "pycharm": {
     "is_executing": false,
     "name": "#%%\n"
    }
   },
   "outputs": [
    {
     "data": {
      "text/plain": "774.974578003427"
     },
     "metadata": {},
     "output_type": "execute_result",
     "execution_count": 19
    }
   ],
   "source": [
    "def fx_addOn(trades: List[Trade], ca: CollateralAgreement) -> float:\n",
    "    bucketed_trades = {}\n",
    "    en_cur = {}\n",
    "    add_on_cur = Series()\n",
    "    currencyPairs = set()\n",
    "    \n",
    "    for t in trades:\n",
    "        key = (t.currencyPair)\n",
    "        currencyPairs.add(t.currencyPair)\n",
    "        if key in bucketed_trades:\n",
    "            bucketed_trades[key].append(t)\n",
    "        else:\n",
    "            bucketed_trades[key] = [t]\n",
    "            \n",
    "    for key, trades in bucketed_trades.items():\n",
    "        effective_notional = 0\n",
    "        for t in trades:\n",
    "            effective_notional += calculate_sa_ccr_delta(t) * trade_level_adjusted_notional(t) * margining_factor(t, ca)\n",
    "        en_cur[key] = effective_notional\n",
    "        \n",
    "    for cur in currencyPairs:\n",
    "        \n",
    "        add_on_cur[cur] = get_supervisory_factor(assetClass = AssetClass.FX) * abs(en_cur[cur])\n",
    "        \n",
    "    return add_on_cur.sum()\n",
    "\n",
    "fx_trade1 = FxForward(notional = 1000000, currencyPair = CurrencyPair.GBPUSD, tradeDirection = TradeDirection.LONG, m=3)\n",
    "fx_trade2 = FxOption(notional= 2000000, currencyPair = CurrencyPair.GBPUSD, tradeDirection = TradeDirection.LONG, tradeType = TradeType.PUT, m = 2, strike = 1.1, currentForwardFxRate=1.07)\n",
    "\n",
    "fx_addOn([fx_trade1, fx_trade2], CollateralAgreement())"
   ]
  },
  {
   "cell_type": "markdown",
   "metadata": {
    "pycharm": {
     "name": "#%% md\n"
    }
   },
   "source": [
    "Since credit and commodity derivatives will not be regarded in this thesis the final $AddOn$ component that we will set up is for the equity asset class. The formula is somwhat simplified since we're only considering single stock options and no index options. With this assumption we can always use the same correlation factor."
   ]
  },
  {
   "cell_type": "code",
   "execution_count": 20,
   "metadata": {
    "pycharm": {
     "is_executing": false,
     "name": "#%%\n"
    }
   },
   "outputs": [],
   "source": [
    "def equity_addOn(trades: List[Trade], ca: CollateralAgreement):\n",
    "    bucketed_trades = {}\n",
    "    en_eq = {}\n",
    "    add_on_eq = Series()\n",
    "    equities = set()\n",
    "    \n",
    "    for t in trades:\n",
    "        key = (t.underlying)\n",
    "        equities.add(t.underlying)\n",
    "        if key in bucketed_trades:\n",
    "            bucketed_trades[key].append(t)\n",
    "        else:\n",
    "            bucketed_trades[key] = [t]\n",
    "            \n",
    "    for key, trades in bucketed_trades.items():\n",
    "        effective_notional = 0\n",
    "        for t in trades:\n",
    "            effective_notional += calculate_sa_ccr_delta(t) * trade_level_adjusted_notional(t) * margining_factor(t, ca)\n",
    "        en_eq[key] = effective_notional\n",
    "        \n",
    "    for eq in equities:\n",
    "        \n",
    "        add_on_eq[eq] = get_supervisory_factor(assetClass = AssetClass.EQ, subClass = EquitySubClass.SINGLE_NAME) * en_eq[eq]\n",
    "    \n",
    "    add_on_aggr = sqrt( (0.5*add_on_eq.sum())**2 + (0.75*add_on_eq**2).sum())\n",
    "    return add_on_aggr\n",
    "\n",
    "# eq_trade_1 = EquityOption(notional = 20, S = 20 , K =18, m=3)\n",
    "# eq_trade_2 = EquityOption(notional = 30, S = 18, K = 19, m=3, underlying = Stock.DBK, tradeType=TradeType.PUT)\n",
    "\n",
    "# equity_addOn([eq_trade_1, eq_trade_2], CollateralAgreement())"
   ]
  },
  {
   "cell_type": "markdown",
   "metadata": {
    "pycharm": {
     "name": "#%% md\n"
    }
   },
   "source": [
    "Equity add on calculation is validation with one example set in ``test/equity_addOn_validation.xlsx``. The result in the excel is 444.13 USD. Which as can be seen below is in line with the output of the function."
   ]
  },
  {
   "cell_type": "code",
   "execution_count": 21,
   "metadata": {
    "pycharm": {
     "is_executing": false,
     "name": "#%%\n"
    }
   },
   "outputs": [
    {
     "data": {
      "text/plain": "444.13789284343505"
     },
     "metadata": {},
     "output_type": "execute_result",
     "execution_count": 21
    }
   ],
   "source": [
    "eq_trade1 = EquityOption(notional = 20, S=88, K=91, m=2, tradeDirection= TradeDirection.SHORT, underlying= Stock.ADS)\n",
    "eq_trade2 = EquityOption(notional = 30, S=28, K=35, m=2, tradeType = TradeType.PUT, tradeDirection = TradeDirection.LONG, underlying = Stock.DBK)\n",
    "eq_trade3 = EquityForward(notional = 30, m=1.5, S=28, tradeDirection = TradeDirection.LONG, underlying = Stock.DBK)\n",
    "\n",
    "equity_addOn([eq_trade1, eq_trade2, eq_trade3], CollateralAgreement())"
   ]
  },
  {
   "cell_type": "markdown",
   "metadata": {
    "pycharm": {
     "name": "#%% md\n"
    }
   },
   "source": [
    "Finally we are able to define a function for the PFE that consumes trades and a collateral agreement."
   ]
  },
  {
   "cell_type": "code",
   "execution_count": 22,
   "metadata": {
    "pycharm": {
     "is_executing": false,
     "name": "#%%\n"
    }
   },
   "outputs": [
    {
     "data": {
      "text/plain": "346764.3863838184"
     },
     "metadata": {},
     "output_type": "execute_result",
     "execution_count": 22
    }
   ],
   "source": [
    "def calculate_pfe(trades: List[Trade], ca : CollateralAgreement):\n",
    "    ac_bucketing = {}\n",
    "    addOns = Series()\n",
    "    V = 0\n",
    "    for t in trades:\n",
    "        if t.assetClass in ac_bucketing:\n",
    "            ac_bucketing[t.assetClass].append(t)\n",
    "        else:\n",
    "            ac_bucketing[t.assetClass] = [t]\n",
    "    for ac, ac_trades in ac_bucketing.items():\n",
    "        if ac == AssetClass.EQ:\n",
    "            addOns[ac] = equity_addOn(ac_trades, ca)\n",
    "        elif ac == AssetClass.IR:\n",
    "            addOns[ac] = interest_rate_addOn(ac_trades, ca)\n",
    "        elif ac == AssetClass.FX:\n",
    "            addOns[ac] = fx_addOn(ac_trades, ca)\n",
    "\n",
    "    for t in trades:\n",
    "        pricer_class = t.get_pricer()\n",
    "        V += pricer_class.price(t)\n",
    "    \n",
    "    C = ca.get_C()\n",
    "    aggregate_addOn = addOns.sum()\n",
    "    multiplier_var = multiplier(V, C, aggregate_addOn)\n",
    "    \n",
    "    PFE = multiplier_var*aggregate_addOn\n",
    "    return PFE\n",
    "\n",
    "calculate_pfe([eq_trade1], CollateralAgreement())\n",
    "calculate_pfe([trade1, trade2, trade3], CollateralAgreement())"
   ]
  },
  {
   "cell_type": "markdown",
   "metadata": {},
   "source": [
    "## Definition of Replacement Cost (RC)\n",
    "\n",
    "The replacement cost for unmargined trades is defined as \n",
    "\n",
    "\\begin{align*}\n",
    "RC &= \\max\\{V-C;0\\} \\\\\n",
    "\\\\\n",
    "\\text{where} \\qquad V&: \\text{Value of derivative transactions} \\\\\n",
    "C&: \\text{Net collateral held according to NICA methodology}\n",
    "\\end{align*}\n",
    "\n",
    "### RC under margining\n",
    "To consider margining RC is adjusted to be\n",
    "\n",
    "\\begin{align*}\n",
    "RC &= \\max\\{V-C; TH+MTA-NICA;0\\} \\\\\n",
    "\\\\\n",
    "\\text{where} \\qquad TH&: \\text{Threshold} \\\\\n",
    "MTA&: \\text{Minimum Transfer Amount} \\\\\n",
    "NICA&: \\text{Net Independent Collateral Amount}\n",
    "\\end{align*}\n",
    "\n",
    "Here, the term $TH+MTA-NICA$ represents the maximum exposure that does not trigger a new variation margin call.\n",
    "\n",
    "While threshold and the minimum transfer amount are well established parameters of a collateral agreement (compare e.g. Gregory - The XVA Challenge) the net independent collateral amount is a term coined for SA-CCR. \n",
    "\n",
    "### Net independendent margin amount - NICA\n",
    "\n",
    "Independent margin is margin that exceeds the current Variation Margin of the portfolio - this could be a voluntary or accidental overcollateralization or a mandated initial margin amount. If margin is posted to segregated accounts NICA can only become positive.\n",
    "\n",
    "Margin on a segregated account can surely be recovered if the counterparty to which the margin has been pledged defaults. Therefore this margin can not be lost through a default of the counterparty and can only be used by the counterparty to which it has been plegded in case of a default of the pledgor. Generally speaking VM is transferred to non-segregated accounts while IM is transferred to segregated accounts. It is important to note that over-collateralization or initial margin, sometimes also referred to as *independent amount* that are deposited on an unsegregated account of the counterparty have to be deducted from the NICA.\n",
    "\n",
    "For bilateral initial margin calculation the regulator requires, that initial margin is payed to segregated accounts. In the case of a bilateral initial margin agreement the NICA would therefore be equal the the IM received from the counterparty i.e. $NICA = IM_{received from Counterparty}$.\n",
    "\n",
    "On the other hand, there can also be voluntary, one-sided initial margin agreements in place between counterparties that differ drastically in size and default probability. Large investment banks can for example require hedge funds to post initial margin to an unsegregated account of the investment bank to reduce the counterparty credit risk from the investement banks point of view. In this case the NICA would be calculated as $NICA_{\\text{Investment Bank}} = IM_{\\text{posted by Hedge Fund}}$ while the NICA of the hedge fund would be calculated as $NICA_{\\text{Hedge Fund}} = - IM_{\\text{posted by Hedge Fund}} $.\n",
    "\n",
    "If the hedge fund would instead post the IM on a segregated account the NICA of the investment bank remains unchanged while the NICA of the hedge fund would increase to 0. "
   ]
  },
  {
   "cell_type": "markdown",
   "metadata": {},
   "source": [
    "Finally, let's set RC up in Python:"
   ]
  },
  {
   "cell_type": "code",
   "execution_count": 23,
   "metadata": {
    "pycharm": {
     "name": "#%%\n",
     "is_executing": false
    }
   },
   "outputs": [
    {
     "data": {
      "text/plain": "60000.0"
     },
     "metadata": {},
     "output_type": "execute_result",
     "execution_count": 23
    }
   ],
   "source": [
    "def calculate_rc(trades: List[Trade], ca: CollateralAgreement) -> float:\n",
    "    \"\"\"\n",
    "    \n",
    "    :param v: Current value of the derivative transactions in the netting set\n",
    "    :param c: Haircut value of the net collateral held\n",
    "    :param th: Threshold set in the collateral agreement\n",
    "    :param mta: Minimum transfer amount set in the collateral agreement\n",
    "    :param nica: Current net independent collateral amount (compare paragraph 143)\n",
    "    :return: Replacement Cost as defined in paragraph 144\n",
    "    \"\"\"\n",
    "    v = 0\n",
    "    for t in trades:\n",
    "        v += t.get_pricer().price(t)\n",
    "    c = ca.get_C()\n",
    "    th = ca.threshold\n",
    "    mta = ca.mta\n",
    "    nica = ca.get_nica()\n",
    "    result = max(v-c, th+mta-nica, 0)\n",
    "    return result\n",
    "\n",
    "calculate_rc([trade1, trade2, trade3], CollateralAgreement())"
   ]
  },
  {
   "cell_type": "markdown",
   "metadata": {},
   "source": [
    "With all pieces in place we are now able to calculate the EAD according to SA-CCR given a list of trades and a collateral agreement that they are netted and margined under."
   ]
  },
  {
   "cell_type": "code",
   "execution_count": 24,
   "metadata": {
    "pycharm": {
     "is_executing": false
    }
   },
   "outputs": [
    {
     "data": {
      "text/plain": "569470.1409373457"
     },
     "metadata": {},
     "output_type": "execute_result",
     "execution_count": 24
    }
   ],
   "source": [
    "trades = [trade1, trade2, trade3]\n",
    "ca = CollateralAgreement()\n",
    "calculate_sa_ccr_ead(rc = calculate_rc(trades, ca), pfe = calculate_pfe(trades, ca))"
   ]
  }
 ],
 "metadata": {
  "kernelspec": {
   "display_name": "Python 3",
   "language": "python",
   "name": "python3"
  },
  "language_info": {
   "codemirror_mode": {
    "name": "ipython",
    "version": 3
   },
   "file_extension": ".py",
   "mimetype": "text/x-python",
   "name": "python",
   "nbconvert_exporter": "python",
   "pygments_lexer": "ipython3",
   "version": "3.6.5"
  },
  "pycharm": {
   "stem_cell": {
    "cell_type": "raw",
    "metadata": {
     "collapsed": false
    },
    "source": []
   }
  }
 },
 "nbformat": 4,
 "nbformat_minor": 2
}