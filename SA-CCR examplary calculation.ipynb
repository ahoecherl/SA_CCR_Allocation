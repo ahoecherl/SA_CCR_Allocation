{
 "cells": [
  {
   "cell_type": "markdown",
   "metadata": {},
   "source": [
    "# SA-CCR"
   ]
  },
  {
   "cell_type": "markdown",
   "metadata": {},
   "source": [
    "When using *SA-CCR* the exposure at default (EAD) has to be calculated as: \n",
    "\n",
    "\\begin{align*}\n",
    "EAD &= \\alpha * (RC + PFE)\\\\\n",
    "\\\\\n",
    "\\text{where} \\qquad \\alpha&=1.4 \\\\\n",
    "RC&: \\text{Replacement Cost} \\\\\n",
    "PFE&: \\text{Potential Future Exposure}\n",
    "\\end{align*}\n",
    "\n",
    "Let's set this relationship up in Python"
   ]
  },
  {
   "cell_type": "code",
   "execution_count": 1,
   "metadata": {
    "pycharm": {
     "is_executing": false
    }
   },
   "outputs": [
    {
     "data": {
      "text/plain": "35.0"
     },
     "metadata": {},
     "output_type": "execute_result",
     "execution_count": 1
    }
   ],
   "source": [
    "# Imports\n",
    "from datetime import datetime, timedelta\n",
    "from enum import Enum\n",
    "from math import exp\n",
    "from scipy.stats import norm\n",
    "\n",
    "def calculate_sa_ccr_ead(rc:float , pfe: float) -> float:\n",
    "    \"\"\"\n",
    "    Calculate EAD of SA-CCR as defined in paragraph 186.\n",
    "    \n",
    "    :param rc: Replacement Cost\n",
    "    :param pfe: Potential Future Exposure\n",
    "    :return: Exposure at default according to SA-CCR\n",
    "    \"\"\"\n",
    "\n",
    "    alpha = 1.4 #Carried over from alpha used for IMM\n",
    "    return alpha*(rc+pfe)\n",
    "\n",
    "calculate_sa_ccr_ead(10.0,15.0)"
   ]
  },
  {
   "cell_type": "markdown",
   "metadata": {},
   "source": [
    "SA-CCR differentiates between the following asset classes:\n",
    "\n",
    "* Interest rate derivatives\n",
    "* Foreign exchange derivatives\n",
    "* Credit derivatives\n",
    "* Equity derivatives\n",
    "* Commodity derivatives\n",
    "\n",
    "Each of these asset classes is differentiated again into different hedging sets - Netting of expsoure is only possible within a common hedging set. The definition of a hedging set depends on the asset class. For FX derivatives derivatives based on the same currency pair form a hedging set. For Equity derivatives on the other hand all trades are in a common hedging set. For all asset classes, derivatives that have a basis as an underlying and volatility derivatives form two seperate hedging sets."
   ]
  },
  {
   "cell_type": "code",
   "execution_count": 2,
   "outputs": [],
   "source": [
    "class AssetClass(Enum):\n",
    "    \"\"\"\n",
    "    Enum for the five asset classes defined in SA-CCR. \n",
    "    \"\"\"\n",
    "    IR = 'Interest Rate'\n",
    "    EQ = 'Equity'\n",
    "    CR = 'Credit'\n",
    "    CO = 'Commodity'\n",
    "    FX = 'Foreign Exchange'\n",
    "    "
   ],
   "metadata": {
    "collapsed": false,
    "pycharm": {
     "name": "#%%\n",
     "is_executing": false
    }
   }
  },
  {
   "cell_type": "markdown",
   "metadata": {},
   "source": [
    "### Relation of RC and PFE\n",
    "The purpose of the RC is to assess the imidiate loss suffered by the default of a counterparty. It is based on the current MtM of the derivative less the accessible collateral. If a bank has posted collateral to non-segregated accounts of a counterparty this collateral is also assumed to be lost in case of a default which increases the replacement cost.\n",
    "\n",
    "The potential future exposure (PFE) on the other hand assesses how the RC might develop in the future. The future being defined as during the next year. If the RC today is 0 but is likely to be larger than 0 in the near future the estimated EAD should take this expected increase in RC into account.\n",
    "\n",
    "See also Paragraph 130 and 131 of BCBS(2014):\n",
    "\n",
    "Paragraph 130 - case without margining:\n",
    "\n",
    "> For unmargined transactions, the *RC* intends to caputre the loss that would occur if a counterparty were to default and were closed out of its transactions immediately. The *PFE* add-on represents a potential conversative increase in expousre over a one-year time horizon from the present date (i.e. the calculation date).\n",
    "\n",
    "Paragraph 131 - case with margining:\n",
    "\n",
    "> For margined trades, the *RC* intends to capture the loss that would occur if a counterparty were to default at the present or at a future time, assuming that the closeout and replacement of transactions occur instantaneously. However, there may be a period (the margin period of risk) between the last exchange of collateral before default and replacement of the trades in the market. The *PFE* add-on represents the potential change in value of the trades during this time period."
   ]
  },
  {
   "cell_type": "markdown",
   "metadata": {},
   "source": [
    "## Definition of Replacement Cost (RC)\n",
    "\n",
    "The replacement cost for unmargined trades is defined as \n",
    "\n",
    "\\begin{align}\n",
    "RC &= \\max\\{V-C;0\\} \\\\\n",
    "\\\\\n",
    "\\text{where} \\qquad V&: \\text{Value of derivative transactions} \\\\\n",
    "C&: \\text{Net collateral held according to NICA methodology}\n",
    "\\end{align}\n",
    "\n",
    "### Net independendent margin amount - NICA\n",
    "\n",
    "Independent margin is margin that exceeds the current *MtM* (i.e. the Variation Margin) of the portfolio - this could be a voluntary or accidental overcollateralization or a mantated initial margin amount. If margin is posted to segregated accounts[<sup>1</sup>](#fn1) NICA can only become positive.\n",
    "\n",
    "<span id=\"fn1\"><sup>1</sup> Margin on a segregated account can surely be recovered if the counterparty to which the margin has been pledged defaults. Therefore this margin can not be lost through a default of the counterparty and can only be used by the counterparty to which it has been plegded in case of a default of the pledgor. Generally speaking VM is transferred to non-segregated accounts while IM is transferred to segregated accounts.</span>\n",
    "\n",
    "### RC under margining\n",
    "To consider margining RC is adjusted to be\n",
    "\n",
    "\\begin{align}\n",
    "RC &= \\max\\{V-C; TH+MTA-NICA;0\\} \\\\\n",
    "\\\\\n",
    "\\text{where} \\qquad TH&: \\text{Threshold} \\\\\n",
    "MTA&: \\text{Minimum Transfer Amount} \\\\\n",
    "NICA&: \\text{Net Independent Collateral Amount}\n",
    "\\end{align}\n",
    "\n",
    "Here, the term $TH+MTA-NICA$ represents the maximum exposure that does not trigger a new variation margin call."
   ]
  },
  {
   "cell_type": "markdown",
   "metadata": {},
   "source": [
    "Finally, let's set RC up in Python:"
   ]
  },
  {
   "cell_type": "code",
   "execution_count": 3,
   "metadata": {
    "pycharm": {
     "is_executing": false
    }
   },
   "outputs": [
    {
     "data": {
      "text/plain": "3.0"
     },
     "metadata": {},
     "output_type": "execute_result",
     "execution_count": 3
    }
   ],
   "source": [
    "def calculate_rc(v: float, c: float, th:float , mta:float, nica:float) -> float:\n",
    "    \"\"\"\n",
    "    \n",
    "    :param v: Current value of the derivative transactions in the netting set\n",
    "    :param c: Haircut value of the net collateral held\n",
    "    :param th: Threshold set in the collateral agreement\n",
    "    :param mta: Minimum transfer amount set in the collateral agreement\n",
    "    :param nica: Current net independent collateral amount (compare paragraph 143)\n",
    "    :return: Replacement Cost as defined in paragraph 144\n",
    "    \"\"\"\n",
    "    result = max(v-c, th+mta-nica, 0)\n",
    "    return result\n",
    "\n",
    "calculate_rc(2.0,3.0,4.0,5.0,6.0)"
   ]
  },
  {
   "cell_type": "markdown",
   "metadata": {},
   "source": [
    "## Definition of Potential Future Exposure (PFE)\n",
    "\n",
    "\\begin{align}\n",
    "PFE &= \\text{multiplier} * AddOn^{\\text{aggregate}} \\\\\n",
    "\\\\\n",
    "\\text{where} \\qquad AddOn^{\\text{aggregate}} &: \\text{aggregate add-on component} \\\\\n",
    "\\text{multiplier} &: f(V,C,AddOn^{\\text{aggregate}})\n",
    "\\end{align}\n",
    "\n",
    "$AddOn$ is calculated differently for each asset $a$ class. Since no netting is allowed between asset classes the aggregate is calculated as:\n",
    "\n",
    "$$AddOn^{\\text{aggregate}} = \\sum_{a}AddOn^{a}$$\n",
    "\n",
    "Collateralization is taken into account of the PFE calculation through the multiplier that uses the collateral held as an input. As overcollateralization e.g. through IM increases, the multiplier decreases. However, the multiplier is floored at 5%.\n",
    "\n",
    "\\begin{align}\n",
    "\\text{multiplier} &= \\min \\left\\{ 1; Floor + (1-Floor) \\exp\\left(\\frac{V-C}{2(1-Floor)AddOn^{\\text{aggregate}}}\\right) \\right\\} \\\\\n",
    "\\text{where} \\qquad Floor &= 5\\%\n",
    "\\end{align}"
   ]
  },
  {
   "cell_type": "code",
   "execution_count": 4,
   "metadata": {
    "pycharm": {
     "is_executing": false
    }
   },
   "outputs": [],
   "source": [
    "def multiplier(v:float,c:float, addOn_aggregate:float, floor:float = 0.05) -> float:\n",
    "    \"\"\"\n",
    "    Multiplier calculation for SA-CCR\n",
    "    \n",
    "    :param v: Current value of the derivative transactions in the netting set\n",
    "    :param c: Haircut value of the net collateral held\n",
    "    :param addOn_aggregate: Aggregated (summed up) AddOn over all asset classes\n",
    "    :param floor: Regulatory floor for the multiplier. Set to 5% in paragraph 149\n",
    "    :return: Multiplier for PFE calculation according to SA-CCR\n",
    "    \"\"\"\n",
    "    \n",
    "    return min(1, floor+(1-floor)*exp((v-c)/2*(1-floor)*addOn_aggregate))"
   ]
  },
  {
   "cell_type": "markdown",
   "metadata": {},
   "source": [
    "# AddOn calculation\n",
    "\n",
    "Most of the SA-CCR logic is hidden inside the AddOn calculation. At first it is important to define the following four data parameters:\n",
    "\n",
    "#### $M_i$ \n",
    "> Maturity of the derivative contract. If the underlying of a derivative is another derivative - e.g. in the case of a swaption the maturity date of the underlying needs to be chosen.\n",
    "\n",
    "#### $S_i$\n",
    "\n",
    "> For interest rate and credit derivatives the start date of the time periodreferenced by an interst rate or credit contract. If the derivtives underlying is another interest rate or credit intsrument (eg swaption or bond option) $S_i$ is the start date of the underlying instead.\n",
    "\n",
    "#### $E_i$\n",
    "\n",
    "> Defined as $S_i$ but referencing the end date instead of the start date.\n",
    "\n",
    "#### $T_i$\n",
    "\n",
    "> For options across all asset classes this is the latest contractual exercise date."
   ]
  },
  {
   "cell_type": "markdown",
   "source": [
    "Let's include a basic Python class for a trade at this point."
   ],
   "metadata": {
    "collapsed": false,
    "pycharm": {
     "name": "#%% md\n"
    }
   }
  },
  {
   "cell_type": "code",
   "execution_count": 5,
   "outputs": [
    {
     "name": "stdout",
     "text": [
      "{'Asset Class': 'Interest Rate', 'Trade Type': 'Linear', 'Trade Direction': 'Long', 'Start Date': '0', 'End Date': '2', 'Notional': 'None'}\n"
     ],
     "output_type": "stream"
    }
   ],
   "source": [
    "class TradeType(Enum):\n",
    "    PUT = 'Put'\n",
    "    CALL = 'Call'\n",
    "    LINEAR = 'Linear'\n",
    "    \n",
    "class TradeDirection(Enum):\n",
    "    SHORT = 'Short' # A short trade looses value as the underlying rises in value\n",
    "    LONG = 'Long' # A long trade rises in value as the underlying rises in value\n",
    "\n",
    "class Trade:\n",
    "    \n",
    "    def __init__(self, \n",
    "                 assetClass: AssetClass,\n",
    "                 tradeType: TradeType = TradeType.LINEAR,\n",
    "                 tradeDirection: TradeDirection = TradeDirection.LONG,\n",
    "                 m: float = None, \n",
    "                 s: float = None, \n",
    "                 e: float = None,\n",
    "                 t: float = None,\n",
    "                 notional: float = None):\n",
    "        \n",
    "        \"\"\"\n",
    "        Trade object for SA-CCR calculation. \n",
    "        \n",
    "        :param assetClass: Asset Class. Refer to Asset Class Enum\n",
    "        :param tradeType: Trade Type. Can be Put, Call or Linear\n",
    "        :param tradeDirection: Trade Direction. Can be long or short\n",
    "        :param m: residual maturity in years\n",
    "        :param s: time until start date of underlying in years (0 if it has already started)\n",
    "        :param e: time until end date of underlying in years\n",
    "        :param t: time until final latest contractual \n",
    "        :param notional: notional of the trade. Denoted in domestic currency for FX trades share or commodity count for EQ and CO asset classes\n",
    "        \"\"\"\n",
    "        \n",
    "        self.assetClass = assetClass\n",
    "        self.tradeType = tradeType\n",
    "        self.tradeDirection = tradeDirection\n",
    "        self.m = m\n",
    "        self.s = s\n",
    "        self.e = e\n",
    "        self.t = t\n",
    "        self.notional = notional\n",
    "        \n",
    "    def __str__(self):\n",
    "        dict = {'Asset Class': self.assetClass.value,\n",
    "                'Trade Type' : self.tradeType.value,\n",
    "                'Trade Direction' : self.tradeDirection.value,\n",
    "                'Start Date' : str(self.s),\n",
    "                'End Date': str(self.e),\n",
    "                'Notional': str(self.notional)}\n",
    "        return str(dict)\n",
    "\n",
    "t = Trade(assetClass = AssetClass.IR, s=0, e=2)\n",
    "print(t)\n",
    "del t"
   ],
   "metadata": {
    "collapsed": false,
    "pycharm": {
     "name": "#%%\n",
     "is_executing": false
    }
   }
  },
  {
   "cell_type": "markdown",
   "metadata": {},
   "source": [
    "## Trade level adjusted notional\n",
    "\n",
    "Each trade $i$ has a trade level adjusted notional $d_i^a$ assigned to it. This is calculated differently for the different asset classes.\n",
    "\n",
    "#### Interest rate and credit derivatives\n",
    "\n",
    "The notional of the trade is usually a well defined value in domestic currency for interest rate and credit derivatives. It is multiplied by a supervisory duration factor. The basic idea is, that the value of the derivative can change more the longer the remaining \n",
    "\n",
    "\\begin{align}\n",
    "d_i &= \\text{Notional}_i * SD_i \\\\\n",
    "\\\\\n",
    "\\text{where} \\qquad SD_i &=\\frac{\\exp\\left(-0.05 * S_i\\right)-\\exp\\left(-0.05 * E_i\\right)}{0.05}\n",
    "\\end{align}\n",
    "\n",
    "#### FX derivatives\n",
    "\n",
    "The notional is the current value of the foreign leg in domestic currency. Therefore it fluctuates over time with the exchange rate.\n",
    "\n",
    "#### Equity and commodity derivatives\n",
    "\n",
    "The notional is defined as the price of the underlying. Therfore, it fluctuates over time.\n",
    "\n",
    "#### Notional of exotic derivatives\n",
    "\n",
    "For more exotic derivatives which do have adjustable notionals, resetting notionals etc. detailed handling of the notional is defined in paragraph 158."
   ]
  },
  {
   "cell_type": "code",
   "execution_count": 6,
   "metadata": {
    "pycharm": {
     "is_executing": false
    }
   },
   "outputs": [
    {
     "name": "stdout",
     "text": [
      "{'Asset Class': 'Interest Rate', 'Trade Type': 'Linear', 'Trade Direction': 'Long', 'Start Date': '2.0', 'End Date': '4.0', 'Notional': '100000'}\n",
      "172213.3299159554\n",
      "{'Asset Class': 'Equity', 'Trade Type': 'Linear', 'Trade Direction': 'Long', 'Start Date': '2.0', 'End Date': '4.0', 'Notional': '20'}\n",
      "600\n"
     ],
     "output_type": "stream"
    }
   ],
   "source": [
    "def trade_level_adjusted_notional(trade: Trade, underlying_price: float = None):\n",
    "    \"\"\"\n",
    "    Calculates the trade level adjusted notional as defined in paragraph 157\n",
    "    \n",
    "    :param trade: Trade object for which the adjusted notional should be calculated\n",
    "    :param underlying_price: \n",
    "        required for FX trades (exchange rate to domestic currency)\n",
    "        required for EQ trades (current price of one share)\n",
    "        required for CO trades (current price of one unit of commodity)\n",
    "        not required for IR trades and CR trades\n",
    "    \n",
    "    :return: adjusted notional as defined in paragraph 157\n",
    "    \"\"\"\n",
    "    \n",
    "    if trade.assetClass in (AssetClass.IR, AssetClass.CR):\n",
    "        sd = (exp(-0.05*trade.s)-exp(-0.05*trade.e))/0.05\n",
    "        return trade.notional*sd\n",
    "    \n",
    "    # This assumes that trade.Notional is defined as quantity of underlying shares for equity and foreign currency notional for FX\n",
    "    if trade.assetClass in (AssetClass.EQ, AssetClass.FX):\n",
    "        return trade.notional*underlying_price\n",
    "\n",
    "s = 2.0\n",
    "e = 4.0\n",
    "ir_t = Trade(AssetClass.IR, s=s, e=e, notional=100000)\n",
    "print(ir_t)\n",
    "print(trade_level_adjusted_notional(ir_t))\n",
    "\n",
    "eq_t = Trade(AssetClass.EQ, s=s, e=e, notional=20)\n",
    "print(eq_t)\n",
    "print(trade_level_adjusted_notional(eq_t, underlying_price=30))"
   ]
  },
  {
   "cell_type": "markdown",
   "metadata": {},
   "source": [
    "## Supervisory delta adjustments: $\\delta_i$\n",
    "\n",
    "For linear derivatives $\\delta$ is 1 for long derivatives and -1 for short derivatives.\n",
    "\n",
    "For options $\\delta$ is defined as under Black-Scholes:\n",
    "\n",
    "\\begin{align}\n",
    "\\delta_{\\text{long Call}} &= +\\Phi\\left(\\frac{\\ln\\left(P_i / K_i \\right) + 0.5 * \\sigma_i^2 * T_i}{\\sigma_i * \\sqrt{T_i}}\\right) \\\\\n",
    "\\\\\n",
    "\\text{where} \\qquad \\Phi &: \\text{standard normal cdf} \\\\\n",
    "\\sigma_i &: \\text{supervisory volatility as defined in Table 2 in paragraph 183}\n",
    "\\end{align}\n",
    "\n",
    "This delta is multiplied by -1 in case of a long Put option or a short Call option.\n",
    "\n",
    "No detail is given at this point on the delta calculation of CDO tranches as these are not in the scope of this thesis."
   ]
  },
  {
   "cell_type": "code",
   "execution_count": 7,
   "outputs": [
    {
     "traceback": [
      "\u001b[1;36m  File \u001b[1;32m\"<ipython-input-7-48813ec166aa>\"\u001b[1;36m, line \u001b[1;32m12\u001b[0m\n\u001b[1;33m    \u001b[0m\n\u001b[1;37m    ^\u001b[0m\n\u001b[1;31mSyntaxError\u001b[0m\u001b[1;31m:\u001b[0m unexpected EOF while parsing\n"
     ],
     "ename": "SyntaxError",
     "evalue": "unexpected EOF while parsing (<ipython-input-7-48813ec166aa>, line 12)",
     "output_type": "error"
    }
   ],
   "source": [
    "def get_supervisory_volatility(trade: Trade) -> float:\n",
    "    pass\n",
    "\n",
    "def calculate_sa_ccr_delta(trade) -> float:\n",
    "    if (trade.tradeType == TradeType.LINEAR) and (trade.tradeDirection == TradeDirection.LONG):\n",
    "        return 1\n",
    "    elif (trade.tradeType == TradeType.LINEAR) and (trade.tradeDirection == TradeDirection.SHORT):\n",
    "        return -1\n",
    "    elif trade.tradeType in (TradeType.CALL, TradeType.PUT):\n",
    "        \n",
    "        "
   ],
   "metadata": {
    "collapsed": false,
    "pycharm": {
     "name": "#%%\n",
     "is_executing": false
    }
   }
  },
  {
   "cell_type": "markdown",
   "metadata": {},
   "source": [
    "## Risk horizon\n",
    "\n",
    "For unmargined transaction the margining factor is\n",
    "\n",
    "\n",
    "$$MF^{\\text{unmargined}}_i = \\sqrt{\\frac{\\min\\left(M_i;1\\text{ year}\\right)}{1\\text{ year}}}$$\n",
    "\n",
    "This factor can be used to scale down a risk weight calibrated for a 1 year horizon to a shorter period.\n",
    "\n",
    "With margining the margin period of risk (MPOR) is:\n",
    "\n",
    "* 10 business days for small, uncleared OTC portfolios\n",
    "* 5 business days for cleared derivatives\n",
    "* 20 business days for netting sets with more than 5000 transactions that are not with a central counterparty\n",
    "* and doubling this period for portfolios with outstanding disputes\n",
    "\n",
    "The margining factor is then\n",
    "\n",
    "$$ MF^{\\text{margined}}_i = \\frac{3}{2}\\sqrt{\\frac{MPOR_i}{1\\text{ year}}} $$"
   ]
  },
  {
   "cell_type": "markdown",
   "metadata": {},
   "source": [
    "## AddOn for interest rate derivatives\n",
    "\n",
    "#### Step 1 - calculation of effective notional $D_{jk}^{IR}$\n",
    "\n",
    "\\begin{align}\n",
    "D_{jk}^{IR} &= \\sum_{i\\in\\left\\{Ccy_j, MB_k\\right\\}}{\\delta_i*d_i^{IR}*MF_i}\n",
    "\\end{align}\n",
    "\n",
    "Here, the notation $i\\in\\left\\{Ccy_j, MB_k\\right\\}$ refers to trades whose underlying is the interest rate of a common currency $j$ and which mature in a common maturity bucket $k$"
   ]
  },
  {
   "cell_type": "code",
   "execution_count": null,
   "metadata": {
    "pycharm": {
     "is_executing": false,
     "name": "#%%\n"
    }
   },
   "outputs": [],
   "source": [
    "def interest_rate_addOn(trades):\n",
    "    interest_rate_addOns = {}\n",
    "    bucketed_trades = {}\n",
    "    \n",
    "    for t in trades:\n",
    "        key = (t.currency, t.get_maturity_bucket())\n",
    "        bucketed_trades[key].add(t)\n",
    "    \n",
    "    for key, trades in bucketed_trades.items():\n",
    "        pass"
   ]
  }
 ],
 "metadata": {
  "kernelspec": {
   "display_name": "Python 3",
   "language": "python",
   "name": "python3"
  },
  "language_info": {
   "codemirror_mode": {
    "name": "ipython",
    "version": 3
   },
   "file_extension": ".py",
   "mimetype": "text/x-python",
   "name": "python",
   "nbconvert_exporter": "python",
   "pygments_lexer": "ipython3",
   "version": "3.6.5"
  },
  "pycharm": {
   "stem_cell": {
    "cell_type": "raw",
    "source": [],
    "metadata": {
     "collapsed": false
    }
   }
  }
 },
 "nbformat": 4,
 "nbformat_minor": 2
}